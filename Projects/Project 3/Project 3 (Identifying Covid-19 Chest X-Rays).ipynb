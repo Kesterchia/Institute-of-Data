{
 "cells": [
  {
   "cell_type": "markdown",
   "metadata": {
    "id": "-hKrf47mcnFT"
   },
   "source": [
    "# About this project:\n",
    "\n",
    "This project aims to train a neural network model to identify the presence of COVID-19 from images of Chest X-Rays. A model that works well would be useful for accelerating the identification of infected individuals, especially in countries where hospitals are overwhelmed and lacking trained doctors to make diagnoses.\n",
    "\n",
    "\n",
    "## Dataset information:\n",
    "\n",
    "\n",
    "The dataset was downloaded from Kaggle: https://www.kaggle.com/praveengovi/coronahack-chest-xraydataset\n",
    "\n",
    "\n",
    "## Content\n",
    "\n",
    "The dataset contains ~5800 jpeg images of Chest X-Rays of Healthy patients, as well as patients affected with Pneumonia. The pneumonia X-Rays contain cases of bacterial infections as well as viral infections, such as SARS (Severe Acute Respiratory Syndrome ) ,Streptococcus & ARDS (Acute Respiratory Distress Syndrome).\n",
    "\n",
    "\n",
    "## Acknowledgements\n",
    "\n",
    "This analysis is made possible by the dataset compiled by Joseph Paul Cohen. Postdoctoral Fellow, Mila, University of Montreal.\n",
    "\n",
    "Original Source :- https://github.com/ieee8023/covid-chestxray-dataset"
   ]
  },
  {
   "cell_type": "code",
   "execution_count": 1,
   "metadata": {
    "executionInfo": {
     "elapsed": 1322,
     "status": "ok",
     "timestamp": 1605000336755,
     "user": {
      "displayName": "Kester Chia",
      "photoUrl": "",
      "userId": "11724789364306848164"
     },
     "user_tz": -480
    },
    "id": "nbbCuIWccnFU"
   },
   "outputs": [],
   "source": [
    "import numpy as np\n",
    "import pandas as pd\n",
    "import matplotlib.pyplot as plt\n",
    "import seaborn as sns\n",
    "\n",
    "#For organizing image folders\n",
    "import shutil\n",
    "import os\n",
    "\n",
    "from sklearn.model_selection import train_test_split\n",
    "\n",
    "import tensorflow as tf\n",
    "from tensorflow import keras\n",
    "from tensorflow.keras import layers\n",
    "from keras import Sequential\n",
    "from keras.layers import Dense, Conv2D, Flatten, BatchNormalization"
   ]
  },
  {
   "cell_type": "markdown",
   "metadata": {
    "id": "tkqw82S_cnFX"
   },
   "source": [
    "# Import data"
   ]
  },
  {
   "cell_type": "code",
   "execution_count": 4,
   "metadata": {},
   "outputs": [],
   "source": [
    "os.mkdir('./Data/')"
   ]
  },
  {
   "cell_type": "code",
   "execution_count": null,
   "metadata": {},
   "outputs": [],
   "source": [
    "os.move()"
   ]
  },
  {
   "cell_type": "code",
   "execution_count": 2,
   "metadata": {
    "executionInfo": {
     "elapsed": 2013,
     "status": "ok",
     "timestamp": 1605000337453,
     "user": {
      "displayName": "Kester Chia",
      "photoUrl": "",
      "userId": "11724789364306848164"
     },
     "user_tz": -480
    },
    "id": "m45rgHNncnFX"
   },
   "outputs": [
    {
     "name": "stdout",
     "output_type": "stream",
     "text": [
      "Training data shape: (5286, 5)\n",
      "Testing data shape: (624, 5)\n"
     ]
    }
   ],
   "source": [
    "df = pd.read_csv('https://raw.githubusercontent.com/Kesterchia/Institute-of-Data/master/Projects/Project%203/Chest_xray_Corona_Metadata.csv', index_col = 0)\n",
    "\n",
    "df_train = df[df['Dataset_type'] == 'TRAIN']\n",
    "df_test = df[df['Dataset_type'] == 'TEST']\n",
    "\n",
    "print('Training data shape:', df_train.shape)\n",
    "print('Testing data shape:', df_test.shape)"
   ]
  },
  {
   "cell_type": "code",
   "execution_count": 3,
   "metadata": {
    "colab": {
     "base_uri": "https://localhost:8080/",
     "height": 195
    },
    "executionInfo": {
     "elapsed": 2002,
     "status": "ok",
     "timestamp": 1605000337454,
     "user": {
      "displayName": "Kester Chia",
      "photoUrl": "",
      "userId": "11724789364306848164"
     },
     "user_tz": -480
    },
    "id": "wsDvILRvcnFc",
    "outputId": "51b42fa2-6d11-461d-d1a6-a6c23c4b2273"
   },
   "outputs": [
    {
     "data": {
      "text/html": [
       "<div>\n",
       "<style scoped>\n",
       "    .dataframe tbody tr th:only-of-type {\n",
       "        vertical-align: middle;\n",
       "    }\n",
       "\n",
       "    .dataframe tbody tr th {\n",
       "        vertical-align: top;\n",
       "    }\n",
       "\n",
       "    .dataframe thead th {\n",
       "        text-align: right;\n",
       "    }\n",
       "</style>\n",
       "<table border=\"1\" class=\"dataframe\">\n",
       "  <thead>\n",
       "    <tr style=\"text-align: right;\">\n",
       "      <th></th>\n",
       "      <th>X_ray_image_name</th>\n",
       "      <th>Label</th>\n",
       "      <th>Dataset_type</th>\n",
       "      <th>Label_2_Virus_category</th>\n",
       "      <th>Label_1_Virus_category</th>\n",
       "    </tr>\n",
       "  </thead>\n",
       "  <tbody>\n",
       "    <tr>\n",
       "      <th>0</th>\n",
       "      <td>IM-0128-0001.jpeg</td>\n",
       "      <td>Normal</td>\n",
       "      <td>TRAIN</td>\n",
       "      <td>NaN</td>\n",
       "      <td>NaN</td>\n",
       "    </tr>\n",
       "    <tr>\n",
       "      <th>1</th>\n",
       "      <td>IM-0127-0001.jpeg</td>\n",
       "      <td>Normal</td>\n",
       "      <td>TRAIN</td>\n",
       "      <td>NaN</td>\n",
       "      <td>NaN</td>\n",
       "    </tr>\n",
       "    <tr>\n",
       "      <th>2</th>\n",
       "      <td>IM-0125-0001.jpeg</td>\n",
       "      <td>Normal</td>\n",
       "      <td>TRAIN</td>\n",
       "      <td>NaN</td>\n",
       "      <td>NaN</td>\n",
       "    </tr>\n",
       "    <tr>\n",
       "      <th>3</th>\n",
       "      <td>IM-0122-0001.jpeg</td>\n",
       "      <td>Normal</td>\n",
       "      <td>TRAIN</td>\n",
       "      <td>NaN</td>\n",
       "      <td>NaN</td>\n",
       "    </tr>\n",
       "    <tr>\n",
       "      <th>4</th>\n",
       "      <td>IM-0119-0001.jpeg</td>\n",
       "      <td>Normal</td>\n",
       "      <td>TRAIN</td>\n",
       "      <td>NaN</td>\n",
       "      <td>NaN</td>\n",
       "    </tr>\n",
       "  </tbody>\n",
       "</table>\n",
       "</div>"
      ],
      "text/plain": [
       "    X_ray_image_name   Label Dataset_type Label_2_Virus_category  \\\n",
       "0  IM-0128-0001.jpeg  Normal        TRAIN                    NaN   \n",
       "1  IM-0127-0001.jpeg  Normal        TRAIN                    NaN   \n",
       "2  IM-0125-0001.jpeg  Normal        TRAIN                    NaN   \n",
       "3  IM-0122-0001.jpeg  Normal        TRAIN                    NaN   \n",
       "4  IM-0119-0001.jpeg  Normal        TRAIN                    NaN   \n",
       "\n",
       "  Label_1_Virus_category  \n",
       "0                    NaN  \n",
       "1                    NaN  \n",
       "2                    NaN  \n",
       "3                    NaN  \n",
       "4                    NaN  "
      ]
     },
     "execution_count": 3,
     "metadata": {},
     "output_type": "execute_result"
    }
   ],
   "source": [
    "#Looking at metadata:\n",
    "\n",
    "df_train.head()"
   ]
  },
  {
   "cell_type": "code",
   "execution_count": null,
   "metadata": {
    "colab": {
     "base_uri": "https://localhost:8080/",
     "height": 254
    },
    "executionInfo": {
     "elapsed": 1997,
     "status": "ok",
     "timestamp": 1605000337455,
     "user": {
      "displayName": "Kester Chia",
      "photoUrl": "",
      "userId": "11724789364306848164"
     },
     "user_tz": -480
    },
    "id": "QLsiIMDqcnFf",
    "outputId": "c60fd587-20ba-45a1-c9a5-cf787443ecee"
   },
   "outputs": [],
   "source": [
    "#The dataset also contains a csv file of the summary counts:\n",
    "\n",
    "summary = pd.read_csv('https://raw.githubusercontent.com/Kesterchia/Institute-of-Data/master/Projects/Project%203/Chest_xray_Corona_dataset_Summary.csv', index_col = 0)\n",
    "\n",
    "summary"
   ]
  },
  {
   "cell_type": "markdown",
   "metadata": {
    "id": "Zs7irBbMcnFh"
   },
   "source": [
    "All the images will be used for analysis except the non-viral, Stress-Smoking images, as there are only 2 of those."
   ]
  },
  {
   "cell_type": "markdown",
   "metadata": {},
   "source": [
    "# Preparing the image data by rearranging the directories:"
   ]
  },
  {
   "cell_type": "markdown",
   "metadata": {
    "id": "49zXRgKycnFh"
   },
   "source": [
    "### Making new folders for Healthy (Pneumonia-free) X-Rays:"
   ]
  },
  {
   "cell_type": "code",
   "execution_count": null,
   "metadata": {
    "colab": {
     "base_uri": "https://localhost:8080/"
    },
    "executionInfo": {
     "elapsed": 1990,
     "status": "ok",
     "timestamp": 1605000337456,
     "user": {
      "displayName": "Kester Chia",
      "photoUrl": "",
      "userId": "11724789364306848164"
     },
     "user_tz": -480
    },
    "id": "BiSdxwg2cnFh",
    "outputId": "235b04ea-5995-429f-ef8f-55a6c0773a32"
   },
   "outputs": [],
   "source": [
    "#Get list of all filenames\n",
    "\n",
    "all_filenames_test = os.listdir('./Pictures/test')\n",
    "all_filenames_train = os.listdir('./Pictures/train')\n",
    "\n",
    "#Get list of filenames for the 'Normal' or healthy X-rays\n",
    "\n",
    "normal_filenames_test = list(df_test[df_test['Label'] == 'Normal']['X_ray_image_name'])\n",
    "normal_filenames_train = list(df_train[df_train['Label'] == 'Normal']['X_ray_image_name'])\n",
    "\n",
    "print('No. of Normal X-rays (training):',len(normal_filenames_train))\n",
    "print('No. of Normal X-rays (testing):',len(normal_filenames_test))"
   ]
  },
  {
   "cell_type": "code",
   "execution_count": null,
   "metadata": {
    "colab": {
     "base_uri": "https://localhost:8080/",
     "height": 52
    },
    "executionInfo": {
     "elapsed": 1985,
     "status": "ok",
     "timestamp": 1605000337457,
     "user": {
      "displayName": "Kester Chia",
      "photoUrl": "",
      "userId": "11724789364306848164"
     },
     "user_tz": -480
    },
    "id": "NxbiATcGcnFk",
    "outputId": "1f112c91-d6d8-4efc-934b-e4441b11ea19"
   },
   "outputs": [],
   "source": [
    "#Moving normal x-ray files to new folders:\n",
    "\n",
    "\n",
    "\n",
    "\n",
    "#Move files into new folder (testing)\n",
    "'''\n",
    "\n",
    "#os.makedirs('./Pictures/test/normal')\n",
    "\n",
    "\n",
    "for filename in normal_filenames_test:\n",
    "    shutil.move(src = './Pictures/test/{}'.format(filename),\n",
    "                dst = './Pictures/test/normal/{}'.format(filename)\n",
    "               )\n",
    "'''\n",
    "    \n",
    "#Move files into new folder (training)\n",
    "\n",
    "'''\n",
    "os.makedirs('./Pictures/train/normal')\n",
    "\n",
    "for filename in normal_filenames_train:\n",
    "    shutil.move(src = './Pictures/train/{}'.format(filename),\n",
    "                dst = './Pictures/train/normal/{}'.format(filename)\n",
    "               )\n",
    "               \n",
    "'''"
   ]
  },
  {
   "cell_type": "markdown",
   "metadata": {
    "id": "4aMJER8RcnFm"
   },
   "source": [
    "### Making new folders for Pneumonia (bacterial) infections:"
   ]
  },
  {
   "cell_type": "code",
   "execution_count": null,
   "metadata": {
    "colab": {
     "base_uri": "https://localhost:8080/"
    },
    "executionInfo": {
     "elapsed": 1982,
     "status": "ok",
     "timestamp": 1605000337458,
     "user": {
      "displayName": "Kester Chia",
      "photoUrl": "",
      "userId": "11724789364306848164"
     },
     "user_tz": -480
    },
    "id": "Xv8f0YpLcnFm",
    "outputId": "8858467a-9793-40e6-a4b0-e2be9a3321f3"
   },
   "outputs": [],
   "source": [
    "\n",
    "#Get list of filenames for the bacterial infection X-rays\n",
    "\n",
    "bacteria_filenames_test = list(df_test[df_test['Label_1_Virus_category'] == 'bacteria']['X_ray_image_name'])\n",
    "bacteria_filenames_train = list(df_train[df_train['Label_1_Virus_category'] == 'bacteria']['X_ray_image_name'])\n",
    "\n",
    "print('No. of Bacterial Infection X-rays (training):',len(bacteria_filenames_train))\n",
    "print('No. of Bacterial Infection X-rays (testing):',len(bacteria_filenames_test))"
   ]
  },
  {
   "cell_type": "code",
   "execution_count": null,
   "metadata": {
    "colab": {
     "base_uri": "https://localhost:8080/",
     "height": 52
    },
    "executionInfo": {
     "elapsed": 1977,
     "status": "ok",
     "timestamp": 1605000337458,
     "user": {
      "displayName": "Kester Chia",
      "photoUrl": "",
      "userId": "11724789364306848164"
     },
     "user_tz": -480
    },
    "id": "w7xXdzzzcnFo",
    "outputId": "b9bc65ea-e3bd-4cd3-a757-0b505882f59f"
   },
   "outputs": [],
   "source": [
    "#Moving bacteria x-ray files to new folders:\n",
    "\n",
    "\n",
    "\n",
    "#Move files into new folder (testing)\n",
    "\n",
    "'''\n",
    "os.makedirs('./Pictures/test/bacteria')\n",
    "\n",
    "\n",
    "for filename in bacteria_filenames_test:\n",
    "    shutil.move(src = './Pictures/test/{}'.format(filename),\n",
    "                dst = './Pictures/test/bacteria/{}'.format(filename)\n",
    "               )\n",
    "\n",
    "'''\n",
    "\n",
    "\n",
    "#Move files into new folder (training)\n",
    "\n",
    "'''\n",
    "os.makedirs('./Pictures/train/bacteria')\n",
    "\n",
    "for filename in bacteria_filenames_train:\n",
    "    shutil.move(src = './Pictures/train/{}'.format(filename),\n",
    "                dst = './Pictures/train/bacteria/{}'.format(filename)\n",
    "               )         \n",
    "'''"
   ]
  },
  {
   "cell_type": "markdown",
   "metadata": {
    "id": "6aGypVNccnFq"
   },
   "source": [
    "### Making new folder for Pneumonia (Viral, COVID-19) infections:"
   ]
  },
  {
   "cell_type": "code",
   "execution_count": null,
   "metadata": {
    "colab": {
     "base_uri": "https://localhost:8080/"
    },
    "executionInfo": {
     "elapsed": 1974,
     "status": "ok",
     "timestamp": 1605000337459,
     "user": {
      "displayName": "Kester Chia",
      "photoUrl": "",
      "userId": "11724789364306848164"
     },
     "user_tz": -480
    },
    "id": "YO8vMX41cnFq",
    "outputId": "633d56b9-2706-47ec-d88a-84f56f13313c"
   },
   "outputs": [],
   "source": [
    "\n",
    "#Get list of filenames for the bacterial infection X-rays\n",
    "\n",
    "covid_filenames_test = list(df_test[df_test['Label_2_Virus_category'] == 'COVID-19']['X_ray_image_name'])\n",
    "covid_filenames_train = list(df_train[df_train['Label_2_Virus_category'] == 'COVID-19']['X_ray_image_name'])\n",
    "\n",
    "print('No. of COVID-19 Infection X-rays (training):',len(covid_filenames_train))\n",
    "print('No. of COVID-19 Infection X-rays (testing):',len(covid_filenames_test))\n"
   ]
  },
  {
   "cell_type": "markdown",
   "metadata": {
    "id": "8Hk2cgiDcnFs"
   },
   "source": [
    "### There are no COVID-19 X-rays in the testing folder, so we will move some there"
   ]
  },
  {
   "cell_type": "code",
   "execution_count": null,
   "metadata": {
    "colab": {
     "base_uri": "https://localhost:8080/",
     "height": 35
    },
    "executionInfo": {
     "elapsed": 1969,
     "status": "ok",
     "timestamp": 1605000337459,
     "user": {
      "displayName": "Kester Chia",
      "photoUrl": "",
      "userId": "11724789364306848164"
     },
     "user_tz": -480
    },
    "id": "n8ZRRn-7cnFt",
    "outputId": "b6537b7c-3635-4c66-c71f-ae2bf5258f05"
   },
   "outputs": [],
   "source": [
    "#Moving covid-19 x-ray files to new folders:\n",
    "\n",
    "\n",
    "\n",
    "#Move files into new folder (testing)\n",
    "\n",
    "'''\n",
    "# os.makedirs('./Pictures/test/covid-19')\n",
    "\n",
    "for filename in covid_filenames_train[:8]:\n",
    "    shutil.move(src = './Pictures/train/{}'.format(filename),\n",
    "                dst = './Pictures/test/covid-19/'\n",
    "               )\n",
    "'''\n",
    "\n",
    "\n",
    "\n",
    "#Move files into new folder (training)\n",
    "\n",
    "'''\n",
    "os.makedirs('./Pictures/train/covid-19')\n",
    "\n",
    "for filename in covid_filenames_train[8:]:\n",
    "    shutil.move(src = './Pictures/train/{}'.format(filename),\n",
    "                dst = './Pictures/train/covid-19/'\n",
    "               )         \n",
    "'''"
   ]
  },
  {
   "cell_type": "markdown",
   "metadata": {
    "id": "J3bBgHFocnFu"
   },
   "source": [
    "### Making new folder for Pneumonia (Viral, non-COVID) infections:"
   ]
  },
  {
   "cell_type": "code",
   "execution_count": null,
   "metadata": {
    "colab": {
     "base_uri": "https://localhost:8080/"
    },
    "executionInfo": {
     "elapsed": 1966,
     "status": "ok",
     "timestamp": 1605000337460,
     "user": {
      "displayName": "Kester Chia",
      "photoUrl": "",
      "userId": "11724789364306848164"
     },
     "user_tz": -480
    },
    "id": "uEuSWsZtcnFv",
    "outputId": "e69ea866-69f8-4bf6-8371-6a75b57bf886"
   },
   "outputs": [],
   "source": [
    "#Get list of filenames for the bacterial infection X-rays\n",
    "\n",
    "virus_noncovid_filenames_test = list(df_test.loc[(df_test['Label_2_Virus_category'] != 'COVID-19' )\n",
    "                                        & \n",
    "                                        (df_test['Label_1_Virus_category'] == 'Virus')\n",
    "                                        ]['X_ray_image_name']\n",
    "                           )\n",
    "\n",
    "virus_noncovid_filenames_train = list(df_train.loc[(df_train['Label_2_Virus_category'] != 'COVID-19' )\n",
    "                                        & \n",
    "                                        (df_train['Label_1_Virus_category'] == 'Virus')\n",
    "                                        ]['X_ray_image_name']\n",
    "                           )\n",
    "\n",
    "print('No. of COVID-19 Infection X-rays (training):',len(virus_noncovid_filenames_train))\n",
    "print('No. of COVID-19 Infection X-rays (testing):',len(virus_noncovid_filenames_test))\n"
   ]
  },
  {
   "cell_type": "code",
   "execution_count": null,
   "metadata": {
    "colab": {
     "base_uri": "https://localhost:8080/",
     "height": 52
    },
    "executionInfo": {
     "elapsed": 1961,
     "status": "ok",
     "timestamp": 1605000337460,
     "user": {
      "displayName": "Kester Chia",
      "photoUrl": "",
      "userId": "11724789364306848164"
     },
     "user_tz": -480
    },
    "id": "1WQARgL2cnFx",
    "outputId": "9e5fb694-2b09-41a5-f370-e7c348d70462"
   },
   "outputs": [],
   "source": [
    "#Moving viral (non-covid) x-ray files to new folders:\n",
    "\n",
    "\n",
    "\n",
    "#Move files into new folder (testing)\n",
    "\n",
    "'''\n",
    "os.makedirs('./Pictures/test/virus(non-covid)')\n",
    "\n",
    "for filename in virus_noncovid_filenames_test:\n",
    "    shutil.move(src = './Pictures/test/{}'.format(filename),\n",
    "                dst = './Pictures/test/virus(non-covid)/'\n",
    "               )\n",
    "'''\n",
    "\n",
    "#Move files into new folder (training)\n",
    "\n",
    "\n",
    "'''\n",
    "os.makedirs('./Pictures/train/virus(non-covid)')\n",
    "\n",
    "for filename in virus_noncovid_filenames_train:\n",
    "    shutil.move(src = './Pictures/train/{}'.format(filename),\n",
    "                dst = './Pictures/train/virus(non-covid)/'\n",
    "               )         \n",
    "'''"
   ]
  },
  {
   "cell_type": "markdown",
   "metadata": {
    "id": "QeYUs2UDcnFz"
   },
   "source": [
    "This is what the data folder structure for the pictures looks like now:"
   ]
  },
  {
   "cell_type": "code",
   "execution_count": null,
   "metadata": {
    "executionInfo": {
     "elapsed": 1018,
     "status": "ok",
     "timestamp": 1605000348344,
     "user": {
      "displayName": "Kester Chia",
      "photoUrl": "",
      "userId": "11724789364306848164"
     },
     "user_tz": -480
    },
    "id": "4OgFR48bcnFz"
   },
   "outputs": [],
   "source": [
    "#Visualize the picture folder\n",
    "\n",
    "def list_files(startpath):\n",
    "    for root, dirs, files in os.walk(startpath):\n",
    "        level = root.replace(startpath, '').count(os.sep)\n",
    "        indent = ' ' * 4 * (level)\n",
    "        print('{}{}/'.format(indent, os.path.basename(root)))\n",
    "        subindent = ' ' * 4 * (level + 1)\n",
    "        \n",
    "            \n",
    "list_files('./Pictures')"
   ]
  },
  {
   "cell_type": "code",
   "execution_count": null,
   "metadata": {
    "executionInfo": {
     "elapsed": 3672,
     "status": "aborted",
     "timestamp": 1604999889279,
     "user": {
      "displayName": "Kester Chia",
      "photoUrl": "",
      "userId": "11724789364306848164"
     },
     "user_tz": -480
    },
    "id": "uMa_Ze2ucnF1"
   },
   "outputs": [],
   "source": [
    "#Note: There were 25 images in the training set with no metadata. They were deleted from the folder."
   ]
  },
  {
   "cell_type": "markdown",
   "metadata": {
    "id": "TGuOdXHpcnF3"
   },
   "source": [
    "# Loading an example image"
   ]
  },
  {
   "cell_type": "code",
   "execution_count": null,
   "metadata": {
    "executionInfo": {
     "elapsed": 3671,
     "status": "aborted",
     "timestamp": 1604999889280,
     "user": {
      "displayName": "Kester Chia",
      "photoUrl": "",
      "userId": "11724789364306848164"
     },
     "user_tz": -480
    },
    "id": "h-Gj7oV2cnF3"
   },
   "outputs": [],
   "source": [
    "from keras.preprocessing.image import load_img\n",
    "from keras.preprocessing.image import img_to_array\n",
    "from keras.preprocessing.image import array_to_img"
   ]
  },
  {
   "cell_type": "code",
   "execution_count": null,
   "metadata": {
    "executionInfo": {
     "elapsed": 3663,
     "status": "aborted",
     "timestamp": 1604999889280,
     "user": {
      "displayName": "Kester Chia",
      "photoUrl": "",
      "userId": "11724789364306848164"
     },
     "user_tz": -480
    },
    "id": "tAzF-Hz0cnF5"
   },
   "outputs": [],
   "source": [
    "summary"
   ]
  },
  {
   "cell_type": "markdown",
   "metadata": {
    "id": "ajgjY_EFcnF7"
   },
   "source": [
    "### Seeing some example images:"
   ]
  },
  {
   "cell_type": "code",
   "execution_count": null,
   "metadata": {
    "executionInfo": {
     "elapsed": 3656,
     "status": "aborted",
     "timestamp": 1604999889281,
     "user": {
      "displayName": "Kester Chia",
      "photoUrl": "",
      "userId": "11724789364306848164"
     },
     "user_tz": -480
    },
    "id": "8VJtVqgBcnF7"
   },
   "outputs": [],
   "source": [
    "#Getting some sample images\n",
    "\n",
    "normal = df_train[df_train['Label'] == 'Normal']['X_ray_image_name'].iloc[0]\n",
    "bacteria = df_train[df_train['Label_1_Virus_category'] == 'bacteria']['X_ray_image_name'].iloc[0]\n",
    "virus_covid = df_train[df_train['Label_2_Virus_category'] == 'COVID-19']['X_ray_image_name'].iloc[10]\n",
    "virus_noncovid = df_train[(df_train['Label_2_Virus_category'] != 'COVID-19')\n",
    "                          &\n",
    "                          (df_train['Label_1_Virus_category'] == 'Virus')]['X_ray_image_name'].iloc[0]\n",
    "\n",
    "\n",
    "covid_img = load_img('./Pictures/train/covid-19/{}'.format(virus_covid))\n",
    "virus_noncovid_img = load_img('./Pictures/train/virus(non-covid)/{}'.format(virus_noncovid))\n",
    "bacteria_img = load_img('./Pictures/train/bacteria/{}'.format(bacteria))\n",
    "normal_img = load_img('./Pictures/train/normal/{}'.format(normal))\n",
    "\n",
    "\n",
    "\n",
    "#Plotting the images\n",
    "\n",
    "fig, ax = plt.subplots(nrows = 2, ncols = 2, figsize = (14,14))\n",
    "\n",
    "\n",
    "\n",
    "ax[0][0].imshow(covid_img)\n",
    "ax[0][0].set_title('Viral infection (Covid-19)')\n",
    "\n",
    "ax[0][1].imshow(virus_noncovid_img)\n",
    "ax[0][1].set_title('Viral infection (Non-covid)')\n",
    "\n",
    "ax[1][0].imshow(bacteria_img)\n",
    "ax[1][0].set_title('Bacterial infection')\n",
    "\n",
    "ax[1][1].imshow(normal_img)\n",
    "ax[1][1].set_title('Healthy')\n",
    "\n",
    "\n",
    "plt.show()"
   ]
  },
  {
   "cell_type": "markdown",
   "metadata": {},
   "source": [
    "# Doing image augmentation"
   ]
  },
  {
   "cell_type": "markdown",
   "metadata": {},
   "source": [
    "Here we will try to artificially generate images so we can have a larger training dataset. First we decide what kind of image transformations will be appropriate, and then proceed with the generation."
   ]
  },
  {
   "cell_type": "code",
   "execution_count": null,
   "metadata": {},
   "outputs": [],
   "source": [
    "#Import libraries\n",
    "\n",
    "from keras.preprocessing.image import ImageDataGenerator\n",
    "from keras.preprocessing.image import img_to_array, array_to_img"
   ]
  },
  {
   "cell_type": "markdown",
   "metadata": {},
   "source": [
    "### Horizontal image shifting"
   ]
  },
  {
   "cell_type": "code",
   "execution_count": null,
   "metadata": {},
   "outputs": [],
   "source": [
    "img_array = img_to_array(covid_img)\n",
    "\n",
    "img_array.shape"
   ]
  },
  {
   "cell_type": "code",
   "execution_count": null,
   "metadata": {},
   "outputs": [],
   "source": [
    "img_array_exp = np.expand_dims(img_array, 0)\n",
    "\n",
    "img_array_exp.shape"
   ]
  },
  {
   "cell_type": "code",
   "execution_count": null,
   "metadata": {},
   "outputs": [],
   "source": [
    "imagegen = ImageDataGenerator(width_shift_range = 0.2)\n",
    "\n",
    "iterator = imagegen.flow(img_array_exp)"
   ]
  },
  {
   "cell_type": "code",
   "execution_count": null,
   "metadata": {},
   "outputs": [],
   "source": [
    "#Plotting a few example images of horizontal shifting\n",
    "\n",
    "fig, ax = plt.subplots(nrows = 1, ncols =4, \n",
    "                           figsize = (20,5))\n",
    "\n",
    "for i in range(4):\n",
    "\n",
    "    ax[i].imshow(array_to_img(x = iterator.next()[0],\n",
    "                             scale = False),\n",
    "                 aspect = 'auto')"
   ]
  },
  {
   "cell_type": "markdown",
   "metadata": {
    "id": "KRniY6mycnF9"
   },
   "source": [
    "# Load images into keras dataset object"
   ]
  },
  {
   "cell_type": "code",
   "execution_count": null,
   "metadata": {
    "executionInfo": {
     "elapsed": 3648,
     "status": "aborted",
     "timestamp": 1604999889281,
     "user": {
      "displayName": "Kester Chia",
      "photoUrl": "",
      "userId": "11724789364306848164"
     },
     "user_tz": -480
    },
    "id": "Wbl6LqDJcnF9"
   },
   "outputs": [],
   "source": [
    "from keras.preprocessing import image_dataset_from_directory\n",
    "\n",
    "training_ds = image_dataset_from_directory(directory = './Pictures/train',\n",
    "                                           label_mode = 'categorical',\n",
    "                                           color_mode = 'grayscale')\n",
    "testing_ds = image_dataset_from_directory(directory = './Pictures/test',\n",
    "                                           label_mode = 'categorical',\n",
    "                                           color_mode = 'grayscale')"
   ]
  },
  {
   "cell_type": "code",
   "execution_count": 19,
   "metadata": {
    "executionInfo": {
     "elapsed": 3642,
     "status": "aborted",
     "timestamp": 1604999889282,
     "user": {
      "displayName": "Kester Chia",
      "photoUrl": "",
      "userId": "11724789364306848164"
     },
     "user_tz": -480
    },
    "id": "Dnhhn_pfcnF_"
   },
   "outputs": [
    {
     "data": {
      "text/plain": [
       "['bacteria', 'covid-19', 'normal', 'virus(non-covid)']"
      ]
     },
     "execution_count": 19,
     "metadata": {},
     "output_type": "execute_result"
    }
   ],
   "source": [
    "testing_ds.class_names"
   ]
  },
  {
   "cell_type": "markdown",
   "metadata": {
    "id": "EpeCfftYcnGB"
   },
   "source": [
    "### Make model"
   ]
  },
  {
   "cell_type": "code",
   "execution_count": 42,
   "metadata": {
    "executionInfo": {
     "elapsed": 3640,
     "status": "aborted",
     "timestamp": 1604999889282,
     "user": {
      "displayName": "Kester Chia",
      "photoUrl": "",
      "userId": "11724789364306848164"
     },
     "user_tz": -480
    },
    "id": "EJHBn3sjcnGB"
   },
   "outputs": [],
   "source": [
    "from keras.layers import Conv2D, Dense, Flatten, Dropout, BatchNormalization, MaxPool2D\n",
    "from keras.models import Sequential, load_model\n",
    "from keras.metrics import AUC, Precision, Recall"
   ]
  },
  {
   "cell_type": "code",
   "execution_count": 139,
   "metadata": {},
   "outputs": [],
   "source": [
    "model = load_model('./Models/Model_three_no_augmentation')"
   ]
  },
  {
   "cell_type": "code",
   "execution_count": 43,
   "metadata": {
    "executionInfo": {
     "elapsed": 3640,
     "status": "aborted",
     "timestamp": 1604999889283,
     "user": {
      "displayName": "Kester Chia",
      "photoUrl": "",
      "userId": "11724789364306848164"
     },
     "user_tz": -480
    },
    "id": "XBq804uGcnGC"
   },
   "outputs": [],
   "source": [
    "'''\n",
    "model = Sequential()\n",
    "\n",
    "model.add(Conv2D(filters = 60, kernel_size = (2,2), \n",
    "                 input_shape = (256,256,1), #Provide input shape for first layer!\n",
    "                 kernel_regularizer=keras.regularizers.l1(0.01),\n",
    "                 activation = 'relu')) \n",
    "model.add(MaxPool2D(pool_size = (2,2))) #Pooling to accelerate learning\n",
    "model.add(Dropout(0.4)) #Dropout to prevent overfitting\n",
    "\n",
    "\n",
    "model.add(Conv2D(filters = 30, kernel_size = (2,2), \n",
    "                 kernel_regularizer=keras.regularizers.l1(0.01),\n",
    "                 activation = 'relu'))\n",
    "model.add(MaxPool2D(pool_size = (2,2))) \n",
    "model.add(Dropout(0.4)) \n",
    "\n",
    "\n",
    "model.add(Conv2D(filters = 10, kernel_size = (2,2), activation = 'relu'))\n",
    "model.add(MaxPool2D(pool_size = (2,2))) \n",
    "model.add(Dropout(0.4))\n",
    "\n",
    "#Flatten outputs before dense layer\n",
    "model.add(Dropout(0.2))\n",
    "model.add(Flatten())\n",
    "\n",
    "#Dense layer for decision output\n",
    "model.add(Dense(4, activation = 'softmax'))\n",
    "'''"
   ]
  },
  {
   "cell_type": "code",
   "execution_count": 44,
   "metadata": {
    "executionInfo": {
     "elapsed": 3638,
     "status": "aborted",
     "timestamp": 1604999889284,
     "user": {
      "displayName": "Kester Chia",
      "photoUrl": "",
      "userId": "11724789364306848164"
     },
     "user_tz": -480
    },
    "id": "Kg4tmaPecnGE"
   },
   "outputs": [],
   "source": [
    "#model.compile(optimizer = 'adam',\n",
    "#              loss = tf.keras.losses.CategoricalCrossentropy(),\n",
    "#              metrics = ['accuracy', AUC(), Precision(), Recall()])"
   ]
  },
  {
   "cell_type": "code",
   "execution_count": 44,
   "metadata": {},
   "outputs": [
    {
     "name": "stdout",
     "output_type": "stream",
     "text": [
      "Model: \"sequential_3\"\n",
      "_________________________________________________________________\n",
      "Layer (type)                 Output Shape              Param #   \n",
      "=================================================================\n",
      "conv2d_6 (Conv2D)            (None, 255, 255, 60)      300       \n",
      "_________________________________________________________________\n",
      "max_pooling2d_6 (MaxPooling2 (None, 127, 127, 60)      0         \n",
      "_________________________________________________________________\n",
      "dropout_9 (Dropout)          (None, 127, 127, 60)      0         \n",
      "_________________________________________________________________\n",
      "conv2d_7 (Conv2D)            (None, 126, 126, 30)      7230      \n",
      "_________________________________________________________________\n",
      "max_pooling2d_7 (MaxPooling2 (None, 63, 63, 30)        0         \n",
      "_________________________________________________________________\n",
      "dropout_10 (Dropout)         (None, 63, 63, 30)        0         \n",
      "_________________________________________________________________\n",
      "conv2d_8 (Conv2D)            (None, 62, 62, 10)        1210      \n",
      "_________________________________________________________________\n",
      "max_pooling2d_8 (MaxPooling2 (None, 31, 31, 10)        0         \n",
      "_________________________________________________________________\n",
      "dropout_11 (Dropout)         (None, 31, 31, 10)        0         \n",
      "_________________________________________________________________\n",
      "dropout_12 (Dropout)         (None, 31, 31, 10)        0         \n",
      "_________________________________________________________________\n",
      "flatten_3 (Flatten)          (None, 9610)              0         \n",
      "_________________________________________________________________\n",
      "dense_3 (Dense)              (None, 4)                 38444     \n",
      "=================================================================\n",
      "Total params: 47,184\n",
      "Trainable params: 47,184\n",
      "Non-trainable params: 0\n",
      "_________________________________________________________________\n"
     ]
    }
   ],
   "source": [
    "model.summary()"
   ]
  },
  {
   "cell_type": "code",
   "execution_count": 109,
   "metadata": {
    "executionInfo": {
     "elapsed": 3624,
     "status": "aborted",
     "timestamp": 1604999889285,
     "user": {
      "displayName": "Kester Chia",
      "photoUrl": "",
      "userId": "11724789364306848164"
     },
     "user_tz": -480
    },
    "id": "9AV-24nAcnGI"
   },
   "outputs": [
    {
     "name": "stdout",
     "output_type": "stream",
     "text": [
      "Epoch 1/10\n",
      "165/165 [==============================] - 261s 2s/step - loss: 0.6326 - accuracy: 0.7727 - auc_1: 0.9483 - precision_1: 0.7909 - recall_1: 0.7504\n",
      "Epoch 2/10\n",
      "165/165 [==============================] - 260s 2s/step - loss: 0.6150 - accuracy: 0.7769 - auc_1: 0.9499 - precision_1: 0.7955 - recall_1: 0.7504\n",
      "Epoch 3/10\n",
      "165/165 [==============================] - 260s 2s/step - loss: 0.6047 - accuracy: 0.7775 - auc_1: 0.9510 - precision_1: 0.7946 - recall_1: 0.7568\n",
      "Epoch 4/10\n",
      "165/165 [==============================] - 267s 2s/step - loss: 0.5831 - accuracy: 0.7839 - auc_1: 0.9527 - precision_1: 0.8020 - recall_1: 0.7608\n",
      "Epoch 5/10\n",
      "165/165 [==============================] - 287s 2s/step - loss: 0.5688 - accuracy: 0.7839 - auc_1: 0.9534 - precision_1: 0.7991 - recall_1: 0.7616\n",
      "Epoch 6/10\n",
      "165/165 [==============================] - 273s 2s/step - loss: 0.5623 - accuracy: 0.7890 - auc_1: 0.9534 - precision_1: 0.8035 - recall_1: 0.7659\n",
      "Epoch 7/10\n",
      "165/165 [==============================] - 278s 2s/step - loss: 0.5729 - accuracy: 0.7811 - auc_1: 0.9519 - precision_1: 0.7966 - recall_1: 0.7585\n",
      "Epoch 8/10\n",
      "165/165 [==============================] - 274s 2s/step - loss: 0.5464 - accuracy: 0.7930 - auc_1: 0.9555 - precision_1: 0.8069 - recall_1: 0.7720\n",
      "Epoch 9/10\n",
      "165/165 [==============================] - 273s 2s/step - loss: 0.5525 - accuracy: 0.7858 - auc_1: 0.9536 - precision_1: 0.8012 - recall_1: 0.7652\n",
      "Epoch 10/10\n",
      "165/165 [==============================] - 274s 2s/step - loss: 0.5376 - accuracy: 0.7911 - auc_1: 0.9554 - precision_1: 0.8068 - recall_1: 0.7739\n"
     ]
    }
   ],
   "source": [
    "# history = model.fit(training_ds, epochs = 10)"
   ]
  },
  {
   "cell_type": "code",
   "execution_count": 110,
   "metadata": {},
   "outputs": [
    {
     "name": "stdout",
     "output_type": "stream",
     "text": [
      "20/20 [==============================] - 7s 352ms/step - loss: 1.4211 - accuracy: 0.5886 - auc_1: 0.8040 - precision_1: 0.6515 - recall_1: 0.5680\n"
     ]
    },
    {
     "data": {
      "text/plain": [
       "[1.4210865497589111,\n",
       " 0.5886076092720032,\n",
       " 0.8039718866348267,\n",
       " 0.6515426635742188,\n",
       " 0.5680379867553711]"
      ]
     },
     "execution_count": 110,
     "metadata": {},
     "output_type": "execute_result"
    }
   ],
   "source": [
    "model.evaluate(testing_ds)"
   ]
  },
  {
   "cell_type": "code",
   "execution_count": 111,
   "metadata": {},
   "outputs": [],
   "source": [
    "#Load main epoch history\n",
    "\n",
    "with open('./Models/Model_three_no_augmentation/history.p', 'rb') as readingfile:\n",
    "    mainhistory = pickle.load(readingfile)"
   ]
  },
  {
   "cell_type": "code",
   "execution_count": 112,
   "metadata": {},
   "outputs": [
    {
     "name": "stdout",
     "output_type": "stream",
     "text": [
      "10 new entries added to main history dictionary\n"
     ]
    }
   ],
   "source": [
    "#Unlock this cell when training the model\n",
    "\n",
    "'''\n",
    "#Update main history dictionary with new batch\n",
    "\n",
    "for key in history.history.keys():\n",
    "    mainhistory[key].extend(history.history[key])\n",
    "    \n",
    "print('{} new entries added to main history dictionary'.format(len(history.history['loss'])))\n",
    "'''"
   ]
  },
  {
   "cell_type": "code",
   "execution_count": 113,
   "metadata": {},
   "outputs": [],
   "source": [
    "#Save main dictionary:\n",
    "\n",
    "'''\n",
    "import pickle\n",
    "\n",
    "with open('./Models/Model_three/history.p', 'wb') as outfile:\n",
    "    pickle.dump(mainhistory, outfile)\n",
    "'''"
   ]
  },
  {
   "cell_type": "code",
   "execution_count": 119,
   "metadata": {},
   "outputs": [
    {
     "data": {
      "text/plain": [
       "Text(0, 0.5, 'Loss (Categorical Cross-entropy)')"
      ]
     },
     "execution_count": 119,
     "metadata": {},
     "output_type": "execute_result"
    },
    {
     "data": {
      "image/png": "[encoded data removed]",
      "text/plain": [
       "<Figure size 1080x504 with 1 Axes>"
      ]
     },
     "metadata": {
      "needs_background": "light"
     },
     "output_type": "display_data"
    }
   ],
   "source": [
    "#Plot loss over time:\n",
    "\n",
    "fig, ax = plt.subplots(nrows = 1, ncols = 1,\n",
    "                       figsize = (15,7))\n",
    "\n",
    "ax.plot(mainhistory['loss'])\n",
    "\n",
    "ax.set_title('Losses over epochs')\n",
    "\n",
    "ax.set_xlabel('Epochs')\n",
    "\n",
    "ax.set_ylabel('Loss (Categorical Cross-entropy)')\n",
    "\n"
   ]
  },
  {
   "cell_type": "code",
   "execution_count": 137,
   "metadata": {},
   "outputs": [
    {
     "name": "stdout",
     "output_type": "stream",
     "text": [
      "Model: \"sequential_3\"\n",
      "_________________________________________________________________\n",
      "Layer (type)                 Output Shape              Param #   \n",
      "=================================================================\n",
      "conv2d_6 (Conv2D)            (None, 255, 255, 60)      300       \n",
      "_________________________________________________________________\n",
      "max_pooling2d_6 (MaxPooling2 (None, 127, 127, 60)      0         \n",
      "_________________________________________________________________\n",
      "dropout_9 (Dropout)          (None, 127, 127, 60)      0         \n",
      "_________________________________________________________________\n",
      "conv2d_7 (Conv2D)            (None, 126, 126, 30)      7230      \n",
      "_________________________________________________________________\n",
      "max_pooling2d_7 (MaxPooling2 (None, 63, 63, 30)        0         \n",
      "_________________________________________________________________\n",
      "dropout_10 (Dropout)         (None, 63, 63, 30)        0         \n",
      "_________________________________________________________________\n",
      "conv2d_8 (Conv2D)            (None, 62, 62, 10)        1210      \n",
      "_________________________________________________________________\n",
      "max_pooling2d_8 (MaxPooling2 (None, 31, 31, 10)        0         \n",
      "_________________________________________________________________\n",
      "dropout_11 (Dropout)         (None, 31, 31, 10)        0         \n",
      "_________________________________________________________________\n",
      "dropout_12 (Dropout)         (None, 31, 31, 10)        0         \n",
      "_________________________________________________________________\n",
      "flatten_3 (Flatten)          (None, 9610)              0         \n",
      "_________________________________________________________________\n",
      "dense_3 (Dense)              (None, 4)                 38444     \n",
      "=================================================================\n",
      "Total params: 47,184\n",
      "Trainable params: 47,184\n",
      "Non-trainable params: 0\n",
      "_________________________________________________________________\n"
     ]
    }
   ],
   "source": [
    "model.summary()"
   ]
  },
  {
   "cell_type": "code",
   "execution_count": 138,
   "metadata": {},
   "outputs": [
    {
     "name": "stdout",
     "output_type": "stream",
     "text": [
      "WARNING:tensorflow:From D:\\Tools\\Anaconda\\lib\\site-packages\\tensorflow\\python\\training\\tracking\\tracking.py:111: Model.state_updates (from tensorflow.python.keras.engine.training) is deprecated and will be removed in a future version.\n",
      "Instructions for updating:\n",
      "This property should not be used in TensorFlow 2.0, as updates are applied automatically.\n",
      "WARNING:tensorflow:From D:\\Tools\\Anaconda\\lib\\site-packages\\tensorflow\\python\\training\\tracking\\tracking.py:111: Layer.updates (from tensorflow.python.keras.engine.base_layer) is deprecated and will be removed in a future version.\n",
      "Instructions for updating:\n",
      "This property should not be used in TensorFlow 2.0, as updates are applied automatically.\n",
      "INFO:tensorflow:Assets written to: ./Models/Model_three_no_augmentation/assets\n"
     ]
    }
   ],
   "source": [
    "#Save model\n",
    "\n",
    "model.save('./Models/Model_three_no_augmentation/', overwrite = False)"
   ]
  }
 ],
 "metadata": {
  "colab": {
   "name": "Project 3 (Identifying Covid-19 Chest X-Rays).ipynb",
   "provenance": []
  },
  "kernelspec": {
   "display_name": "Python 3",
   "language": "python",
   "name": "python3"
  },
  "language_info": {
   "codemirror_mode": {
    "name": "ipython",
    "version": 3
   },
   "file_extension": ".py",
   "mimetype": "text/x-python",
   "name": "python",
   "nbconvert_exporter": "python",
   "pygments_lexer": "ipython3",
   "version": "3.8.3"
  }
 },
 "nbformat": 4,
 "nbformat_minor": 1
}
