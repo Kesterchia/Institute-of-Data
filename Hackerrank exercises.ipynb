{
 "cells": [
  {
   "cell_type": "markdown",
   "metadata": {},
   "source": [
    "### Merge the tools"
   ]
  },
  {
   "cell_type": "code",
   "execution_count": null,
   "metadata": {},
   "outputs": [],
   "source": [
    "import pandas as pd\n",
    "import numpy as np\n",
    "import math"
   ]
  },
  {
   "cell_type": "code",
   "execution_count": null,
   "metadata": {},
   "outputs": [],
   "source": [
    "samp = 'aljkfjwl0w12'\n",
    "cutoff = np.linspace(0,len(samp),4)\n",
    "np.linspace(0,11,4)"
   ]
  },
  {
   "cell_type": "code",
   "execution_count": null,
   "metadata": {},
   "outputs": [],
   "source": [
    "def merging(string,k):\n",
    "    n = len(string)\n",
    "    cutoff_points = np.linspace(0,n,k+1)\n",
    "    for i in range(0,len(cutoff_points)):\n",
    "        if i < (len(cutoff_points)-1):\n",
    "            firstcut_loc = math.ceil(cutoff_points[(i)])\n",
    "            secondcut_loc = math.ceil(cutoff_points[i+1])\n",
    "            slice = string[firstcut_loc:secondcut_loc]\n",
    "            newlist = ''\n",
    "            for e in slice:\n",
    "                if e not in newlist:\n",
    "                    newlist = newlist + str(e)\n",
    "            print(newlist + '\\n')\n",
    "    print(cutoff_points)"
   ]
  },
  {
   "cell_type": "code",
   "execution_count": null,
   "metadata": {},
   "outputs": [],
   "source": [
    "merging('AABCUDHEKFIU',4)"
   ]
  },
  {
   "cell_type": "markdown",
   "metadata": {},
   "source": [
    "## Permutations"
   ]
  },
  {
   "cell_type": "code",
   "execution_count": null,
   "metadata": {},
   "outputs": [],
   "source": [
    "x = 1\n",
    "y = 1 \n",
    "z = 1\n",
    "n = 2\n",
    "from itertools import permutations, combinations\n",
    "comblist = list(combinations([1,1,1,0,0,0], 3))\n",
    "less3 = [e for e in comblist if sum(e) < 3]\n",
    "print(less3)\n",
    "set(less3)\n"
   ]
  },
  {
   "cell_type": "markdown",
   "metadata": {},
   "source": [
    "# Find the runner up\n"
   ]
  },
  {
   "cell_type": "code",
   "execution_count": null,
   "metadata": {},
   "outputs": [],
   "source": []
  },
  {
   "cell_type": "code",
   "execution_count": null,
   "metadata": {},
   "outputs": [],
   "source": [
    "#inputs = n, array\n",
    "#Output: 2nd largest score in array\n",
    "\n",
    "n = 7\n",
    "array = np.array([57, 57, -57, 57])\n",
    "sorted(list(set(array)))"
   ]
  },
  {
   "cell_type": "code",
   "execution_count": null,
   "metadata": {},
   "outputs": [],
   "source": [
    "array"
   ]
  },
  {
   "cell_type": "markdown",
   "metadata": {},
   "source": [
    "# Print second best student\n"
   ]
  },
  {
   "cell_type": "code",
   "execution_count": 16,
   "metadata": {},
   "outputs": [
    {
     "name": "stdout",
     "output_type": "stream",
     "text": [
      "Harry\n",
      "Berry\n"
     ]
    }
   ],
   "source": [
    "name = ['Harry','Berry','Tina','Akriti','Harsh']\n",
    "score = [37.21,37.21,37.2,41,39]\n",
    "nested = [[n,s] for n,s in zip(name,score)]\n",
    "#Find second lowest value\n",
    "minvalueremoved_list = list(filter(lambda e: e != min(score),score))\n",
    "secondlowest = minvalueremoved[0]\n",
    "for e in nested:\n",
    "    if e[1] == secondlowest:\n",
    "        print (e[0])\n",
    "\n",
    "\n"
   ]
  }
 ],
 "metadata": {
  "kernelspec": {
   "display_name": "Python 3",
   "language": "python",
   "name": "python3"
  },
  "language_info": {
   "codemirror_mode": {
    "name": "ipython",
    "version": 3
   },
   "file_extension": ".py",
   "mimetype": "text/x-python",
   "name": "python",
   "nbconvert_exporter": "python",
   "pygments_lexer": "ipython3",
   "version": "3.7.6"
  }
 },
 "nbformat": 4,
 "nbformat_minor": 4
}
