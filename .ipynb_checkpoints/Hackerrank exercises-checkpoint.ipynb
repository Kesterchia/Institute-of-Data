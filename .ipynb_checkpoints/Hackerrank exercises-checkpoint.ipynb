{
 "cells": [
  {
   "cell_type": "markdown",
   "metadata": {},
   "source": [
    "### Merge the tools"
   ]
  },
  {
   "cell_type": "code",
   "execution_count": 1,
   "metadata": {},
   "outputs": [],
   "source": [
    "import pandas as pd\n",
    "import numpy as np\n",
    "import math"
   ]
  },
  {
   "cell_type": "code",
   "execution_count": null,
   "metadata": {},
   "outputs": [],
   "source": [
    "samp = 'aljkfjwl0w12'\n",
    "cutoff = np.linspace(0,len(samp),4)\n",
    "np.linspace(0,11,4)"
   ]
  },
  {
   "cell_type": "code",
   "execution_count": null,
   "metadata": {},
   "outputs": [],
   "source": [
    "def merging(string,k):\n",
    "    n = len(string)\n",
    "    cutoff_points = np.linspace(0,n,k+1)\n",
    "    for i in range(0,len(cutoff_points)):\n",
    "        if i < (len(cutoff_points)-1):\n",
    "            firstcut_loc = math.ceil(cutoff_points[(i)])\n",
    "            secondcut_loc = math.ceil(cutoff_points[i+1])\n",
    "            slice = string[firstcut_loc:secondcut_loc]\n",
    "            newlist = ''\n",
    "            for e in slice:\n",
    "                if e not in newlist:\n",
    "                    newlist = newlist + str(e)\n",
    "            print(newlist + '\\n')\n",
    "    print(cutoff_points)"
   ]
  },
  {
   "cell_type": "code",
   "execution_count": null,
   "metadata": {},
   "outputs": [],
   "source": [
    "merging('AABCUDHEKFIU',4)"
   ]
  },
  {
   "cell_type": "markdown",
   "metadata": {},
   "source": [
    "## Permutations"
   ]
  },
  {
   "cell_type": "code",
   "execution_count": null,
   "metadata": {},
   "outputs": [],
   "source": [
    "x = 1\n",
    "y = 1 \n",
    "z = 1\n",
    "n = 2\n",
    "from itertools import permutations, combinations\n",
    "comblist = list(combinations([1,1,1,0,0,0], 3))\n",
    "less3 = [e for e in comblist if sum(e) < 3]\n",
    "print(less3)\n",
    "set(less3)\n"
   ]
  },
  {
   "cell_type": "markdown",
   "metadata": {},
   "source": [
    "# Find the runner up\n"
   ]
  },
  {
   "cell_type": "code",
   "execution_count": null,
   "metadata": {},
   "outputs": [],
   "source": []
  },
  {
   "cell_type": "code",
   "execution_count": null,
   "metadata": {},
   "outputs": [],
   "source": [
    "#inputs = n, array\n",
    "#Output: 2nd largest score in array\n",
    "\n",
    "n = 7\n",
    "array = np.array([57, 57, -57, 57])\n",
    "sorted(list(set(array)))"
   ]
  },
  {
   "cell_type": "code",
   "execution_count": null,
   "metadata": {},
   "outputs": [],
   "source": [
    "array"
   ]
  },
  {
   "cell_type": "markdown",
   "metadata": {},
   "source": [
    "# Print second best student\n"
   ]
  },
  {
   "cell_type": "code",
   "execution_count": null,
   "metadata": {},
   "outputs": [],
   "source": [
    "name = ['Harry','Berry','Tina','Akriti','Harsh']\n",
    "score = [37.21,37.21,37.2,41,39]\n",
    "nested = [[n,s] for n,s in zip(name,score)]\n",
    "#Find second lowest value\n",
    "minvalueremoved_list = list(filter(lambda e: e != min(score),score))\n",
    "secondlowest = minvalueremoved[0]\n",
    "for e in nested:\n",
    "    if e[1] == secondlowest:\n",
    "        print (e[0])\n",
    "\n",
    "\n"
   ]
  },
  {
   "cell_type": "markdown",
   "metadata": {},
   "source": [
    "# Find second lowest marks\n"
   ]
  },
  {
   "cell_type": "code",
   "execution_count": null,
   "metadata": {},
   "outputs": [],
   "source": [
    "x = [1, 2, 1, 1]\n",
    "y = map(float,x)\n"
   ]
  },
  {
   "cell_type": "code",
   "execution_count": null,
   "metadata": {},
   "outputs": [],
   "source": [
    "'''\n",
    "The provided code stub will read in a dictionary containing key/value pairs of name:[marks] for a\n",
    "list of students. Print the average of the marks array for the student name provided, showing 2 \n",
    "places after the decimal.\n",
    "'''\n",
    "n = int(input())\n",
    "student_marks = {}\n",
    "for _ in range(n):\n",
    "    name, *line = input().split()\n",
    "    scores = list(map(float, line))\n",
    "    student_marks[name] = scores\n",
    "query_name = input()"
   ]
  },
  {
   "cell_type": "code",
   "execution_count": null,
   "metadata": {},
   "outputs": [],
   "source": [
    "average = sum(student_marks[query_name]) / len(student_marks[query_name])\n",
    "print(round(average,2))\n",
    "average"
   ]
  },
  {
   "cell_type": "code",
   "execution_count": null,
   "metadata": {},
   "outputs": [],
   "source": [
    "scoreslist = student_marks.get(query_name)\n",
    "average = sum(scoreslist)/len(scoreslist)\n",
    "'{0:.2f},{1:.3f}'.format(2, 3)"
   ]
  },
  {
   "cell_type": "markdown",
   "metadata": {},
   "source": [
    "# Nested lists"
   ]
  },
  {
   "cell_type": "code",
   "execution_count": null,
   "metadata": {},
   "outputs": [],
   "source": [
    "'''\n",
    "Given the names and grades for each student in a class of  students, store them in a nested list \n",
    "and print the name(s) of any student(s) having the second lowest grade.\n",
    "'''\n",
    "full_list = []\n",
    "if __name__ == '__main__':\n",
    "    for _ in range(int(input())):\n",
    "        name = input()\n",
    "        score = float(input())\n",
    "        full_list.append([name,score])\n"
   ]
  },
  {
   "cell_type": "code",
   "execution_count": null,
   "metadata": {},
   "outputs": [],
   "source": [
    "full_list"
   ]
  },
  {
   "cell_type": "code",
   "execution_count": null,
   "metadata": {},
   "outputs": [],
   "source": [
    "#Min score\n",
    "firstmin = min(full_list,key = lambda x: x[1])[1]\n",
    "firstmin\n",
    "filt = filter(lambda x: x[1] == firstmin, full_list)\n",
    "#List of items to be removed\n",
    "removal = list(filt)\n",
    "#Removal of items\n",
    "final_list = [e for e in full_list if e not in removal]\n",
    "final_list"
   ]
  },
  {
   "cell_type": "code",
   "execution_count": null,
   "metadata": {},
   "outputs": [],
   "source": [
    "#Set new minimum\n",
    "newmin = min(final_list,key = lambda x: x[1])[1]\n",
    "#Gather names of second lowest grade and sort alphabetically\n",
    "namelist = []\n",
    "for i in final_list:\n",
    "    if i[1] == newmin:\n",
    "        namelist.append(i[0])\n",
    "namelist.sort()\n",
    "namelist"
   ]
  },
  {
   "cell_type": "code",
   "execution_count": null,
   "metadata": {},
   "outputs": [],
   "source": [
    "#Print names\n",
    "print(*namelist, sep = '\\n')"
   ]
  },
  {
   "cell_type": "markdown",
   "metadata": {},
   "source": [
    "# Company logo"
   ]
  },
  {
   "cell_type": "code",
   "execution_count": null,
   "metadata": {},
   "outputs": [],
   "source": [
    "import numpy as np\n",
    "import math"
   ]
  },
  {
   "cell_type": "code",
   "execution_count": null,
   "metadata": {},
   "outputs": [],
   "source": [
    "s = input()"
   ]
  },
  {
   "cell_type": "code",
   "execution_count": null,
   "metadata": {},
   "outputs": [],
   "source": [
    "list_chars= list(s)\n",
    "#Initialize empty dict\n",
    "dict = {}\n",
    "for e in list_chars:\n",
    "    if e in dict.keys():\n",
    "        dict[e] += 1\n",
    "    else:\n",
    "        dict[e] = 1\n",
    "dict"
   ]
  },
  {
   "cell_type": "code",
   "execution_count": null,
   "metadata": {},
   "outputs": [],
   "source": [
    "sorted(dict.values(),reverse=True)"
   ]
  },
  {
   "cell_type": "code",
   "execution_count": null,
   "metadata": {},
   "outputs": [],
   "source": [
    "nested_list = [[e,dict[e]] for e in dict.keys()]\n",
    "sorted(nested_list, key = lambda x: (x[1],x[0]), reverse = True)"
   ]
  },
  {
   "cell_type": "markdown",
   "metadata": {},
   "source": [
    "# 12 Aug IOD lecture "
   ]
  },
  {
   "cell_type": "code",
   "execution_count": 6,
   "metadata": {},
   "outputs": [],
   "source": [
    "def countchars(string):\n",
    "    string_dict = {}\n",
    "    for e in string.split():\n",
    "        if e in string_dict:\n",
    "            string_dict[e] += 1\n",
    "        else:\n",
    "            string_dict[e] = 1\n",
    "    return string_dict\n",
    "\n",
    "sample = 'python frequency hi market python python frequency'\n",
    "\n"
   ]
  },
  {
   "cell_type": "code",
   "execution_count": 7,
   "metadata": {},
   "outputs": [
    {
     "data": {
      "text/plain": [
       "{'python': 3, 'frequency': 2, 'hi': 1, 'market': 1}"
      ]
     },
     "execution_count": 7,
     "metadata": {},
     "output_type": "execute_result"
    }
   ],
   "source": [
    "countchars(sample)"
   ]
  },
  {
   "cell_type": "markdown",
   "metadata": {},
   "source": [
    "# Tuples\n"
   ]
  },
  {
   "cell_type": "code",
   "execution_count": 48,
   "metadata": {},
   "outputs": [
    {
     "name": "stdout",
     "output_type": "stream",
     "text": [
      "3 \n",
      "1 2 3\n"
     ]
    }
   ],
   "source": [
    "n = int(input())\n",
    "integer_list = map(int, input().split())"
   ]
  },
  {
   "cell_type": "code",
   "execution_count": 108,
   "metadata": {},
   "outputs": [
    {
     "name": "stdout",
     "output_type": "stream",
     "text": [
      "3\n",
      "1 2 4 2 4 \n"
     ]
    }
   ],
   "source": [
    "k = input()\n",
    "room_numbers_list = input()"
   ]
  },
  {
   "cell_type": "code",
   "execution_count": 111,
   "metadata": {},
   "outputs": [
    {
     "data": {
      "text/plain": [
       "dict_keys(['1', '2', '4'])"
      ]
     },
     "execution_count": 111,
     "metadata": {},
     "output_type": "execute_result"
    }
   ],
   "source": [
    "nums.keys()"
   ]
  },
  {
   "cell_type": "code",
   "execution_count": 118,
   "metadata": {},
   "outputs": [
    {
     "data": {
      "text/plain": [
       "{'1': 1, '2': 2, '4': 2}"
      ]
     },
     "execution_count": 118,
     "metadata": {},
     "output_type": "execute_result"
    }
   ],
   "source": [
    "nums = {}\n",
    "for e in room_numbers_list.split():\n",
    "    if e in nums:\n",
    "        nums[e] += 1\n",
    "    else:\n",
    "        nums[e] = 1\n",
    "nums"
   ]
  },
  {
   "cell_type": "code",
   "execution_count": 73,
   "metadata": {},
   "outputs": [
    {
     "data": {
      "text/plain": [
       "0     1\n",
       "1     2\n",
       "2     2\n",
       "3     2\n",
       "4     3\n",
       "5     5\n",
       "6     3\n",
       "7     3\n",
       "8     5\n",
       "9     5\n",
       "10    6\n",
       "11    7\n",
       "12    6\n",
       "13    7\n",
       "14    6\n",
       "15    7\n",
       "dtype: object"
      ]
     },
     "execution_count": 73,
     "metadata": {},
     "output_type": "execute_result"
    }
   ],
   "source": [
    "\n",
    "pd.Series(room_numbers_list.split())"
   ]
  },
  {
   "cell_type": "markdown",
   "metadata": {},
   "source": [
    "# No Idea"
   ]
  },
  {
   "cell_type": "code",
   "execution_count": 8,
   "metadata": {},
   "outputs": [
    {
     "name": "stdout",
     "output_type": "stream",
     "text": [
      "3 2\n",
      "1 5 3\n",
      "3 1 \n",
      "5 7\n"
     ]
    }
   ],
   "source": [
    "n, m = input().split()\n",
    "array = input().split()\n",
    "A = input().split()\n",
    "B = input().split()\n"
   ]
  },
  {
   "cell_type": "code",
   "execution_count": 14,
   "metadata": {},
   "outputs": [
    {
     "data": {
      "text/plain": [
       "1"
      ]
     },
     "execution_count": 14,
     "metadata": {},
     "output_type": "execute_result"
    }
   ],
   "source": [
    "score = 0\n",
    "for i in array:\n",
    "    if i in A:\n",
    "        score += 1\n",
    "    elif i in B:\n",
    "        score -= 1\n",
    "    else:\n",
    "        score += 0\n",
    "score"
   ]
  },
  {
   "cell_type": "code",
   "execution_count": 5,
   "metadata": {},
   "outputs": [
    {
     "name": "stdout",
     "output_type": "stream",
     "text": [
      "3\n",
      "meng\n",
      "keng\n",
      "meng\n"
     ]
    }
   ],
   "source": [
    "n = int(input())\n",
    "words = [input() for i in range(n)]"
   ]
  },
  {
   "cell_type": "code",
   "execution_count": 30,
   "metadata": {},
   "outputs": [
    {
     "name": "stdout",
     "output_type": "stream",
     "text": [
      "2\n",
      "dict_values([2, 1])\n"
     ]
    },
    {
     "data": {
      "text/plain": [
       "Counter({'meng': 2, 'keng': 1})"
      ]
     },
     "execution_count": 30,
     "metadata": {},
     "output_type": "execute_result"
    }
   ],
   "source": [
    "from collections import Counter\n",
    "print(len(Counter(words).keys()))\n",
    "print(Counter(words).values())\n",
    "Counter(words)"
   ]
  },
  {
   "cell_type": "markdown",
   "metadata": {},
   "source": [
    "# Lists"
   ]
  },
  {
   "cell_type": "code",
   "execution_count": 18,
   "metadata": {},
   "outputs": [
    {
     "data": {
      "text/plain": [
       "[2, 4, 'meng', 5]"
      ]
     },
     "execution_count": 18,
     "metadata": {},
     "output_type": "execute_result"
    }
   ],
   "source": [
    "listy = [2,4,5]\n",
    "listy.insert(2, 'meng')\n",
    "listy\n"
   ]
  },
  {
   "cell_type": "code",
   "execution_count": null,
   "metadata": {},
   "outputs": [],
   "source": []
  },
  {
   "cell_type": "code",
   "execution_count": 35,
   "metadata": {},
   "outputs": [
    {
     "name": "stdout",
     "output_type": "stream",
     "text": [
      "4\n",
      "append 1\n",
      "append 2\n",
      "insert 3 1\n",
      "print\n",
      "[1, 2, 1]\n"
     ]
    }
   ],
   "source": [
    "arr = []\n",
    "n = int(input())\n",
    "for i in range(n):\n",
    "    input1 = input().split()\n",
    "    if input1[0] == 'print':\n",
    "        print(arr)\n",
    "    elif input1[0] == 'insert':\n",
    "        arr.insert(int(input1[1]),int(input1[2]))\n",
    "    elif input1[0] == 'remove':\n",
    "        arr.remove(int(input1[1]))\n",
    "    elif input1[0] == 'append':\n",
    "        arr.append(int(input1[1]))\n",
    "    elif input1[0] == 'sort':\n",
    "        arr.sort()\n",
    "    elif input1[0] == 'pop':\n",
    "        arr.pop()\n",
    "    elif input1[0] == 'reverse':\n",
    "        arr.reverse()\n",
    "    \n",
    "    "
   ]
  },
  {
   "cell_type": "code",
   "execution_count": 32,
   "metadata": {},
   "outputs": [
    {
     "data": {
      "text/plain": [
       "['append', 'append', '1']"
      ]
     },
     "execution_count": 32,
     "metadata": {},
     "output_type": "execute_result"
    }
   ],
   "source": [
    "arr"
   ]
  },
  {
   "cell_type": "code",
   "execution_count": 26,
   "metadata": {},
   "outputs": [
    {
     "data": {
      "text/plain": [
       "['1', '2']"
      ]
     },
     "execution_count": 26,
     "metadata": {},
     "output_type": "execute_result"
    }
   ],
   "source": [
    "arr"
   ]
  },
  {
   "cell_type": "code",
   "execution_count": 24,
   "metadata": {},
   "outputs": [
    {
     "data": {
      "text/plain": [
       "['print']"
      ]
     },
     "execution_count": 24,
     "metadata": {},
     "output_type": "execute_result"
    }
   ],
   "source": [
    "input1"
   ]
  },
  {
   "cell_type": "code",
   "execution_count": null,
   "metadata": {},
   "outputs": [],
   "source": [
    "arr = []\n"
   ]
  }
 ],
 "metadata": {
  "kernelspec": {
   "display_name": "Python 3",
   "language": "python",
   "name": "python3"
  },
  "language_info": {
   "codemirror_mode": {
    "name": "ipython",
    "version": 3
   },
   "file_extension": ".py",
   "mimetype": "text/x-python",
   "name": "python",
   "nbconvert_exporter": "python",
   "pygments_lexer": "ipython3",
   "version": "3.7.6"
  }
 },
 "nbformat": 4,
 "nbformat_minor": 4
}
