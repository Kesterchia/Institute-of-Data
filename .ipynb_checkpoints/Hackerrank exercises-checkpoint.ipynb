{
 "cells": [
  {
   "cell_type": "markdown",
   "metadata": {},
   "source": [
    "### Merge the tools"
   ]
  },
  {
   "cell_type": "code",
   "execution_count": 32,
   "metadata": {},
   "outputs": [],
   "source": [
    "import numpy as np\n",
    "import math"
   ]
  },
  {
   "cell_type": "code",
   "execution_count": 29,
   "metadata": {},
   "outputs": [
    {
     "data": {
      "text/plain": [
       "array([ 0.        ,  3.66666667,  7.33333333, 11.        ])"
      ]
     },
     "execution_count": 29,
     "metadata": {},
     "output_type": "execute_result"
    }
   ],
   "source": [
    "samp = 'aljkfjwl0w12'\n",
    "cutoff = np.linspace(0,len(samp),4)\n",
    "np.linspace(0,11,4)"
   ]
  },
  {
   "cell_type": "code",
   "execution_count": 100,
   "metadata": {},
   "outputs": [],
   "source": [
    "def merging(string,k):\n",
    "    n = len(string)\n",
    "    cutoff_points = np.linspace(0,n,k+1)\n",
    "    for i in range(0,len(cutoff_points)):\n",
    "        if i < (len(cutoff_points)-1):\n",
    "            firstcut_loc = math.ceil(cutoff_points[(i)])\n",
    "            secondcut_loc = math.ceil(cutoff_points[i+1])\n",
    "            slice = string[firstcut_loc:secondcut_loc]\n",
    "            newlist = ''\n",
    "            for e in slice:\n",
    "                if e not in newlist:\n",
    "                    newlist = newlist + str(e)\n",
    "            print(newlist + '\\n')\n",
    "    print(cutoff_points)"
   ]
  },
  {
   "cell_type": "code",
   "execution_count": 101,
   "metadata": {},
   "outputs": [
    {
     "name": "stdout",
     "output_type": "stream",
     "text": [
      "AB\n",
      "\n",
      "CUD\n",
      "\n",
      "HEK\n",
      "\n",
      "FIU\n",
      "\n",
      "[ 0.  3.  6.  9. 12.]\n"
     ]
    }
   ],
   "source": [
    "merging('AABCUDHEKFIU',4)"
   ]
  },
  {
   "cell_type": "markdown",
   "metadata": {},
   "source": [
    "## Randoms"
   ]
  },
  {
   "cell_type": "code",
   "execution_count": 5,
   "metadata": {},
   "outputs": [
    {
     "name": "stdout",
     "output_type": "stream",
     "text": [
      "0\n",
      "1\n",
      "2\n",
      "3\n",
      "4\n"
     ]
    }
   ],
   "source": [
    "for i in range(0,5):\n",
    "    print(i)"
   ]
  }
 ],
 "metadata": {
  "kernelspec": {
   "display_name": "Python 3",
   "language": "python",
   "name": "python3"
  },
  "language_info": {
   "codemirror_mode": {
    "name": "ipython",
    "version": 3
   },
   "file_extension": ".py",
   "mimetype": "text/x-python",
   "name": "python",
   "nbconvert_exporter": "python",
   "pygments_lexer": "ipython3",
   "version": "3.7.6"
  }
 },
 "nbformat": 4,
 "nbformat_minor": 4
}
