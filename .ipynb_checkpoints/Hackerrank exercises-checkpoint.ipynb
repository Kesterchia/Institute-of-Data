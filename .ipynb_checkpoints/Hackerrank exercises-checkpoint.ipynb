{
 "cells": [
  {
   "cell_type": "markdown",
   "metadata": {},
   "source": [
    "### Merge the tools"
   ]
  },
  {
   "cell_type": "code",
   "execution_count": null,
   "metadata": {},
   "outputs": [],
   "source": [
    "import pandas as pd\n",
    "import numpy as np\n",
    "import math"
   ]
  },
  {
   "cell_type": "code",
   "execution_count": null,
   "metadata": {},
   "outputs": [],
   "source": [
    "samp = 'aljkfjwl0w12'\n",
    "cutoff = np.linspace(0,len(samp),4)\n",
    "np.linspace(0,11,4)"
   ]
  },
  {
   "cell_type": "code",
   "execution_count": null,
   "metadata": {},
   "outputs": [],
   "source": [
    "def merging(string,k):\n",
    "    n = len(string)\n",
    "    cutoff_points = np.linspace(0,n,k+1)\n",
    "    for i in range(0,len(cutoff_points)):\n",
    "        if i < (len(cutoff_points)-1):\n",
    "            firstcut_loc = math.ceil(cutoff_points[(i)])\n",
    "            secondcut_loc = math.ceil(cutoff_points[i+1])\n",
    "            slice = string[firstcut_loc:secondcut_loc]\n",
    "            newlist = ''\n",
    "            for e in slice:\n",
    "                if e not in newlist:\n",
    "                    newlist = newlist + str(e)\n",
    "            print(newlist + '\\n')\n",
    "    print(cutoff_points)"
   ]
  },
  {
   "cell_type": "code",
   "execution_count": null,
   "metadata": {},
   "outputs": [],
   "source": [
    "merging('AABCUDHEKFIU',4)"
   ]
  },
  {
   "cell_type": "markdown",
   "metadata": {},
   "source": [
    "## Permutations"
   ]
  },
  {
   "cell_type": "code",
   "execution_count": null,
   "metadata": {},
   "outputs": [],
   "source": [
    "x = 1\n",
    "y = 1 \n",
    "z = 1\n",
    "n = 2\n",
    "from itertools import permutations, combinations\n",
    "comblist = list(combinations([1,1,1,0,0,0], 3))\n",
    "less3 = [e for e in comblist if sum(e) < 3]\n",
    "print(less3)\n",
    "set(less3)\n"
   ]
  },
  {
   "cell_type": "markdown",
   "metadata": {},
   "source": [
    "# Find the runner up\n"
   ]
  },
  {
   "cell_type": "code",
   "execution_count": null,
   "metadata": {},
   "outputs": [],
   "source": []
  },
  {
   "cell_type": "code",
   "execution_count": null,
   "metadata": {},
   "outputs": [],
   "source": [
    "#inputs = n, array\n",
    "#Output: 2nd largest score in array\n",
    "\n",
    "n = 7\n",
    "array = np.array([57, 57, -57, 57])\n",
    "sorted(list(set(array)))"
   ]
  },
  {
   "cell_type": "code",
   "execution_count": null,
   "metadata": {},
   "outputs": [],
   "source": [
    "array"
   ]
  },
  {
   "cell_type": "markdown",
   "metadata": {},
   "source": [
    "# Print second best student\n"
   ]
  },
  {
   "cell_type": "code",
   "execution_count": null,
   "metadata": {},
   "outputs": [],
   "source": [
    "name = ['Harry','Berry','Tina','Akriti','Harsh']\n",
    "score = [37.21,37.21,37.2,41,39]\n",
    "nested = [[n,s] for n,s in zip(name,score)]\n",
    "#Find second lowest value\n",
    "minvalueremoved_list = list(filter(lambda e: e != min(score),score))\n",
    "secondlowest = minvalueremoved[0]\n",
    "for e in nested:\n",
    "    if e[1] == secondlowest:\n",
    "        print (e[0])\n",
    "\n",
    "\n"
   ]
  },
  {
   "cell_type": "markdown",
   "metadata": {},
   "source": [
    "# Find second lowest marks\n"
   ]
  },
  {
   "cell_type": "code",
   "execution_count": null,
   "metadata": {},
   "outputs": [],
   "source": [
    "x = [1, 2, 1, 1]\n",
    "y = map(float,x)\n"
   ]
  },
  {
   "cell_type": "code",
   "execution_count": null,
   "metadata": {},
   "outputs": [],
   "source": [
    "'''\n",
    "The provided code stub will read in a dictionary containing key/value pairs of name:[marks] for a\n",
    "list of students. Print the average of the marks array for the student name provided, showing 2 \n",
    "places after the decimal.\n",
    "'''\n",
    "n = int(input())\n",
    "student_marks = {}\n",
    "for _ in range(n):\n",
    "    name, *line = input().split()\n",
    "    scores = list(map(float, line))\n",
    "    student_marks[name] = scores\n",
    "query_name = input()"
   ]
  },
  {
   "cell_type": "code",
   "execution_count": null,
   "metadata": {},
   "outputs": [],
   "source": [
    "average = sum(student_marks[query_name]) / len(student_marks[query_name])\n",
    "print(round(average,2))\n",
    "average"
   ]
  },
  {
   "cell_type": "code",
   "execution_count": null,
   "metadata": {},
   "outputs": [],
   "source": [
    "scoreslist = student_marks.get(query_name)\n",
    "average = sum(scoreslist)/len(scoreslist)\n",
    "'{0:.2f},{1:.3f}'.format(2, 3)"
   ]
  },
  {
   "cell_type": "markdown",
   "metadata": {},
   "source": [
    "# Nested lists"
   ]
  },
  {
   "cell_type": "code",
   "execution_count": 20,
   "metadata": {},
   "outputs": [
    {
     "name": "stdout",
     "output_type": "stream",
     "text": [
      "5\n",
      "harsh\n",
      "20\n",
      "beria\n",
      "20\n",
      "varun\n",
      "19\n",
      "kaku\n",
      "19\n",
      "vikas\n",
      "21\n"
     ]
    }
   ],
   "source": [
    "'''\n",
    "Given the names and grades for each student in a class of  students, store them in a nested list \n",
    "and print the name(s) of any student(s) having the second lowest grade.\n",
    "'''\n",
    "full_list = []\n",
    "if __name__ == '__main__':\n",
    "    for _ in range(int(input())):\n",
    "        name = input()\n",
    "        score = float(input())\n",
    "        full_list.append([name,score])\n"
   ]
  },
  {
   "cell_type": "code",
   "execution_count": 21,
   "metadata": {},
   "outputs": [
    {
     "data": {
      "text/plain": [
       "[['harsh', 20.0],\n",
       " ['beria', 20.0],\n",
       " ['varun', 19.0],\n",
       " ['kaku', 19.0],\n",
       " ['vikas', 21.0]]"
      ]
     },
     "execution_count": 21,
     "metadata": {},
     "output_type": "execute_result"
    }
   ],
   "source": [
    "full_list"
   ]
  },
  {
   "cell_type": "code",
   "execution_count": 22,
   "metadata": {},
   "outputs": [
    {
     "data": {
      "text/plain": [
       "[['harsh', 20.0], ['beria', 20.0], ['vikas', 21.0]]"
      ]
     },
     "execution_count": 22,
     "metadata": {},
     "output_type": "execute_result"
    }
   ],
   "source": [
    "#Min score\n",
    "firstmin = min(full_list,key = lambda x: x[1])[1]\n",
    "firstmin\n",
    "filt = filter(lambda x: x[1] == firstmin, full_list)\n",
    "#List of items to be removed\n",
    "removal = list(filt)\n",
    "#Removal of items\n",
    "final_list = [e for e in full_list if e not in removal]\n",
    "final_list"
   ]
  },
  {
   "cell_type": "code",
   "execution_count": 23,
   "metadata": {},
   "outputs": [
    {
     "data": {
      "text/plain": [
       "['beria', 'harsh']"
      ]
     },
     "execution_count": 23,
     "metadata": {},
     "output_type": "execute_result"
    }
   ],
   "source": [
    "#Set new minimum\n",
    "newmin = min(final_list,key = lambda x: x[1])[1]\n",
    "#Gather names of second lowest grade and sort alphabetically\n",
    "namelist = []\n",
    "for i in final_list:\n",
    "    if i[1] == newmin:\n",
    "        namelist.append(i[0])\n",
    "namelist.sort()\n",
    "namelist"
   ]
  },
  {
   "cell_type": "code",
   "execution_count": 24,
   "metadata": {},
   "outputs": [
    {
     "name": "stdout",
     "output_type": "stream",
     "text": [
      "beria\n",
      "harsh\n"
     ]
    }
   ],
   "source": [
    "#Print names\n",
    "print(*namelist, sep = '\\n')"
   ]
  }
 ],
 "metadata": {
  "kernelspec": {
   "display_name": "Python 3",
   "language": "python",
   "name": "python3"
  },
  "language_info": {
   "codemirror_mode": {
    "name": "ipython",
    "version": 3
   },
   "file_extension": ".py",
   "mimetype": "text/x-python",
   "name": "python",
   "nbconvert_exporter": "python",
   "pygments_lexer": "ipython3",
   "version": "3.7.6"
  }
 },
 "nbformat": 4,
 "nbformat_minor": 4
}
