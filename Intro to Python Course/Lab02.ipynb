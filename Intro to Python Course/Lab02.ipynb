{
 "cells": [
  {
   "cell_type": "markdown",
   "metadata": {
    "colab_type": "text",
    "id": "7KeNKtNL2Ix-"
   },
   "source": [
    "<div>\n",
    "<img src=https://www.institutedata.com/wp-content/uploads/2019/10/iod_h_tp_primary_c.svg width=\"300\">\n",
    "</div>\n",
    "\n",
    "# Python - Lab 2\n",
    "\n",
    "## Learning objectives\n",
    "\n",
    "This lab demonstrates examples of:\n",
    "\n",
    "1. Using `numpy` and `matplotlib` modules\n",
    "2. Plotting line, bar, and histogram charts using `matplotlib` \n",
    "3. Simple customisations when creating visualisations\n",
    "\n",
    "## Instructions\n",
    "\n",
    "1. Replace ??? with the appropriate code\n",
    "2. Press Shift + Enter to execute cell"
   ]
  },
  {
   "cell_type": "code",
   "execution_count": 6,
   "metadata": {},
   "outputs": [
    {
     "data": {
      "text/plain": [
       "(100,)"
      ]
     },
     "execution_count": 6,
     "metadata": {},
     "output_type": "execute_result"
    }
   ],
   "source": [
    "x.shape"
   ]
  },
  {
   "cell_type": "markdown",
   "metadata": {
    "colab": {
     "base_uri": "https://localhost:8080/",
     "height": 265
    },
    "colab_type": "code",
    "executionInfo": {
     "elapsed": 1414,
     "status": "ok",
     "timestamp": 1575952837786,
     "user": {
      "displayName": "Ahmed Fattah",
      "photoUrl": "https://lh3.googleusercontent.com/a-/AAuE7mAZOw0ILGIA9vXtRyZS5YgL7TnhcMzRuGqN6x61=s64",
      "userId": "01023869639102406040"
     },
     "user_tz": -660
    },
    "id": "NaRcNY1l2LbD",
    "outputId": "1491aad2-8083-4c21-d892-695677e07509"
   },
   "source": [
    "# Practice the use of matplotlib\n",
    "import numpy as np\n",
    "import matplotlib.pyplot as plt\n",
    "import math\n",
    "# Create a data set \n",
    "x = np.linspace(0, 10, 100)\n",
    "# Print the data\n",
    "print(x)\n",
    "# Create a figure using plt.figure\n",
    "fig = plt.figure()\n",
    "# Plot the sine wave of x\n",
    "plt.plot(x, math.sin(y), '-')\n",
    "# Plot the cosine wave of x\n",
    "plt.plot(x,math.cos(x), '-')"
   ]
  },
  {
   "cell_type": "code",
   "execution_count": 7,
   "metadata": {
    "colab": {
     "base_uri": "https://localhost:8080/",
     "height": 295
    },
    "colab_type": "code",
    "executionInfo": {
     "elapsed": 1080,
     "status": "ok",
     "timestamp": 1575953096700,
     "user": {
      "displayName": "Ahmed Fattah",
      "photoUrl": "https://lh3.googleusercontent.com/a-/AAuE7mAZOw0ILGIA9vXtRyZS5YgL7TnhcMzRuGqN6x61=s64",
      "userId": "01023869639102406040"
     },
     "user_tz": -660
    },
    "id": "LtbLA_T811kr",
    "outputId": "ab08f107-6e22-430d-8b6d-a3463770ae18"
   },
   "outputs": [
    {
     "data": {
      "image/png": "[encoded data removed]",
      "text/plain": [
       "<Figure size 432x288 with 1 Axes>"
      ]
     },
     "metadata": {
      "needs_background": "light"
     },
     "output_type": "display_data"
    }
   ],
   "source": [
    "# Create two arrays of 5 arbitrary numbers \n",
    "import numpy as np\n",
    "import matplotlib.pyplot as plt\n",
    "x = np.arange(0,5)\n",
    "array1 = np.random.randint(1,10,size=5)\n",
    "array2 = np.random.randint(1,10,size=5)\n",
    "# Plot two bar charts using plt.bar and the arrays you've created above\n",
    "# Label them \"Example one\" and \"example two\"\n",
    "plt.bar(x, array1, label=\"Example one\")\n",
    "plt.bar(x, array2, label=\"Example two\", color='g')\n",
    "plt.legend()\n",
    "# Label x axis \"Bar number\"\n",
    "plt.xlabel('Bar number')\n",
    "# Label y axis \"Bar height\"\n",
    "plt.ylabel('Bar height')\n",
    "# Set title \"Bar Graph\"\n",
    "plt.title('Bar Graph')\n",
    "# Show the chart\n",
    "plt.show()"
   ]
  },
  {
   "cell_type": "code",
   "execution_count": 11,
   "metadata": {
    "colab": {
     "base_uri": "https://localhost:8080/",
     "height": 130
    },
    "colab_type": "code",
    "executionInfo": {
     "elapsed": 2386,
     "status": "error",
     "timestamp": 1583136325012,
     "user": {
      "displayName": "Harshad Madhamshettiwar",
      "photoUrl": "https://lh3.googleusercontent.com/a-/AOh14GhnligQTiqUPI9aT1NAyglTYC58DePdIRw6PekEdQ8jw06dqPJ9ZL9p7LBfFzZ_79_JWh_D3_bziCeCCSI24qlF_w8DnS3DjV-vZnlpWW1fhBtnYlebBP98KnndZ9iL3RKKJCiYvz0jpHh684_KyLTcCoNE6EoSBqpxthKQzMlgYO8fHiK0F62SeHF1eSdWE9AQ76vJ5RMd4_CRTHW6vfZ9rJFaJH3tdhKshLdOKMOYImQGA7yesyIubkEuEGxMCHxedKu9Y8AvUC8YAMh1LGNcaZCEQEScg6UGad4gdaTuTytDZnVSl5DIJMkKjJ5l6oluWvFcKAe8xptU-39TUTAs-sbcSuIHwoCXQQD_VfYogThkqQN972BQTWuf0MTe9B4AxLQZUQOCambTAGtTVXXSJli3Qxkk-O3RWf4C_vhwD5u96rvyBRcPO0ejCbZ-gcyMGoK5O7XD8EfcsZxNonhXM6v92rU01_a6U_341Mp-HVpFgK4I-nGEp7yY_2P2WC1wZwZHLiYWvzwzwGaNULk7QABR-91gL-fvtJmYjtkmEQMUF4c4dMwJLC4AopJH5-_MbrEPP1OpOQ3QwOfKQLHypPumvqUN_EJYDtgwKbXM7e65EghgkCFl2LsSFnYMzthghjWxKpb23Z2bDtT6rNc9jUV8z4kPpdvowa1IyvTaW001P3mHb4d05XeAPSfIvRJGSgX0STFfPgYED4w-ZIzjlXtzfML90EU55ZKHTSCPnWXkbKGduAenZ-ZwVEg=s64",
      "userId": "05265657085961716991"
     },
     "user_tz": -660
    },
    "id": "OF5sj3CX1lHl",
    "outputId": "7f9c331d-a555-43e9-a50e-725191b88247"
   },
   "outputs": [
    {
     "data": {
      "text/plain": [
       "(0.0, 30.0)"
      ]
     },
     "execution_count": 11,
     "metadata": {},
     "output_type": "execute_result"
    },
    {
     "data": {
      "image/png": "[encoded data removed]",
      "text/plain": [
       "<Figure size 432x288 with 1 Axes>"
      ]
     },
     "metadata": {
      "needs_background": "light"
     },
     "output_type": "display_data"
    }
   ],
   "source": [
    "# Histogram Code \n",
    "# Create an array of a random normal distribution\n",
    "data = np.random.laplace(loc=15, scale=3, size=100)\n",
    "# Create a histrogram using plt hist()\n",
    "n, bins, patches = plt.hist(x=data, bins='auto', color='#0504aa',\n",
    "                            alpha=0.7, rwidth=0.85)\n",
    "# Set grid for x and y\n",
    "# set transperancy of the grid using alpha=0.5\n",
    "plt.grid(axis='y', alpha = 0.75)\n",
    "plt.grid(axis='x', alpha = 0.75)\n",
    "plt.xlabel('Value')\n",
    "plt.ylabel('Frequency')\n",
    "plt.title('My First Histogram Ever')\n",
    "plt.text(23, 45, r'$\\mu=15, b=3$')\n",
    "maxfreq = n.max()\n",
    "# Set a clean upper y-axis limit.\n",
    "plt.ylim(ymax=np.ceil(maxfreq / 10) * 10 if maxfreq % 10 else maxfreq + 10)"
   ]
  },
  {
   "cell_type": "code",
   "execution_count": 22,
   "metadata": {
    "colab": {},
    "colab_type": "code",
    "id": "ewB77vKvTXuq"
   },
   "outputs": [
    {
     "data": {
      "text/plain": [
       "Text(0, 0.5, 'y')"
      ]
     },
     "execution_count": 22,
     "metadata": {},
     "output_type": "execute_result"
    },
    {
     "data": {
      "image/png": "[encoded data removed]",
      "text/plain": [
       "<Figure size 432x288 with 1 Axes>"
      ]
     },
     "metadata": {
      "needs_background": "light"
     },
     "output_type": "display_data"
    }
   ],
   "source": [
    "# Bonus: Create a scatter plot\n",
    "x = np.linspace(0,100,100)\n",
    "y = np.random.randint(0,100,100)\n",
    "plt.scatter(x,y, color = 'b')\n",
    "plt.xlabel('x')\n",
    "plt.ylabel('y')\n"
   ]
  }
 ],
 "metadata": {
  "colab": {
   "name": "Lab02.ipynb",
   "provenance": [
    {
     "file_id": "1bdVBJMutbKEL1_0wFt64G3HmGhVgwxJq",
     "timestamp": 1580253292242
    }
   ]
  },
  "kernelspec": {
   "display_name": "Python 3",
   "language": "python",
   "name": "python3"
  },
  "language_info": {
   "codemirror_mode": {
    "name": "ipython",
    "version": 3
   },
   "file_extension": ".py",
   "mimetype": "text/x-python",
   "name": "python",
   "nbconvert_exporter": "python",
   "pygments_lexer": "ipython3",
   "version": "3.7.6"
  }
 },
 "nbformat": 4,
 "nbformat_minor": 1
}
