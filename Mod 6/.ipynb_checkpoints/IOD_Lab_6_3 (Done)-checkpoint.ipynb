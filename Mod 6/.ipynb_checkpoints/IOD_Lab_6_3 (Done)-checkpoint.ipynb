{
 "cells": [
  {
   "cell_type": "markdown",
   "metadata": {
    "colab_type": "text",
    "id": "XebDJ3UnS3n3"
   },
   "source": [
    "<div>\n",
    "<img src=https://www.institutedata.com/wp-content/uploads/2019/10/iod_h_tp_primary_c.svg width=\"300\">\n",
    "</div>"
   ]
  },
  {
   "cell_type": "markdown",
   "metadata": {
    "colab_type": "text",
    "id": "e_-HjrL6S3n5"
   },
   "source": [
    "# Lab 6.3 - KNN classification Lab\n",
    "\n",
    "**In this lab, we will:**\n",
    "- Practice KNN classification on a dataset of breast cancer.\n",
    "- Predict the `diagnoosis` of a patient from predictor variables of your choice."
   ]
  },
  {
   "cell_type": "markdown",
   "metadata": {
    "colab_type": "text",
    "id": "cXbWph18ZFa4"
   },
   "source": [
    "# Load Data\n",
    "\n",
    "Features are computed from a digitized image of a fine needle aspirate (FNA) of a breast mass. They describe characteristics of the cell nuclei present in the image. n the 3-dimensional space is that described in: [K. P. Bennett and O. L. Mangasarian: \"Robust Linear Programming Discrimination of Two Linearly Inseparable Sets\", Optimization Methods and Software 1, 1992, 23-34].\n",
    "\n",
    "This database is also available through the UW CS ftp server: ftp ftp.cs.wisc.edu cd math-prog/cpo-dataset/machine-learn/WDBC/\n",
    "\n",
    "Also can be found on UCI Machine Learning Repository: https://archive.ics.uci.edu/ml/datasets/Breast+Cancer+Wisconsin+%28Diagnostic%29\n",
    "\n",
    "Attribute Information:\n",
    "\n",
    "1) ID number 2) Diagnosis (M = malignant, B = benign) 3-32)\n",
    "\n",
    "Ten real-valued features are computed for each cell nucleus:\n",
    "\n",
    "a) radius (mean of distances from center to points on the perimeter) b) texture (standard deviation of gray-scale values) c) perimeter d) area e) smoothness (local variation in radius lengths) f) compactness (perimeter^2 / area - 1.0) g) concavity (severity of concave portions of the contour) h) concave points (number of concave portions of the contour) i) symmetry j) fractal dimension (\"coastline approximation\" - 1)\n",
    "\n",
    "The mean, standard error and \"worst\" or largest (mean of the three largest values) of these features were computed for each image, resulting in 30 features. For instance, field 3 is Mean Radius, field 13 is Radius SE, field 23 is Worst Radius.\n",
    "\n",
    "All feature values are recoded with four significant digits.\n",
    "\n",
    "Missing attribute values: none\n",
    "\n",
    "Class distribution: 357 benign, 212 malignant"
   ]
  },
  {
   "cell_type": "code",
   "execution_count": 1,
   "metadata": {
    "ExecuteTime": {
     "end_time": "2019-05-16T06:02:19.273830Z",
     "start_time": "2019-05-16T06:02:15.769179Z"
    },
    "colab": {},
    "colab_type": "code",
    "id": "9pqq-wHLZFa5"
   },
   "outputs": [],
   "source": [
    "# Import libraries\n",
    "\n",
    "import pandas as pd\n",
    "import numpy as np\n",
    "import matplotlib.pyplot as plt\n",
    "import seaborn as sns\n",
    "\n",
    "%matplotlib inline"
   ]
  },
  {
   "cell_type": "code",
   "execution_count": 2,
   "metadata": {
    "ExecuteTime": {
     "end_time": "2019-05-16T06:02:19.345620Z",
     "start_time": "2019-05-16T06:02:19.293760Z"
    },
    "colab": {},
    "colab_type": "code",
    "id": "6HRBXOl9ZFa9"
   },
   "outputs": [],
   "source": [
    "df = pd.read_csv('../Data/breast-cancer-wisconsin-data.csv', index_col = 'id')"
   ]
  },
  {
   "cell_type": "markdown",
   "metadata": {
    "colab_type": "text",
    "id": "b24z7ZHsZFbA"
   },
   "source": [
    "#  EDA \n",
    "\n",
    "Explore dataset. Clean data. Find correlation. "
   ]
  },
  {
   "cell_type": "code",
   "execution_count": 31,
   "metadata": {},
   "outputs": [
    {
     "data": {
      "text/html": [
       "<div>\n",
       "<style scoped>\n",
       "    .dataframe tbody tr th:only-of-type {\n",
       "        vertical-align: middle;\n",
       "    }\n",
       "\n",
       "    .dataframe tbody tr th {\n",
       "        vertical-align: top;\n",
       "    }\n",
       "\n",
       "    .dataframe thead th {\n",
       "        text-align: right;\n",
       "    }\n",
       "</style>\n",
       "<table border=\"1\" class=\"dataframe\">\n",
       "  <thead>\n",
       "    <tr style=\"text-align: right;\">\n",
       "      <th></th>\n",
       "      <th>diagnosis</th>\n",
       "      <th>radius_mean</th>\n",
       "      <th>texture_mean</th>\n",
       "      <th>perimeter_mean</th>\n",
       "      <th>area_mean</th>\n",
       "      <th>smoothness_mean</th>\n",
       "      <th>compactness_mean</th>\n",
       "      <th>concavity_mean</th>\n",
       "      <th>concave points_mean</th>\n",
       "      <th>symmetry_mean</th>\n",
       "      <th>...</th>\n",
       "      <th>radius_worst</th>\n",
       "      <th>texture_worst</th>\n",
       "      <th>perimeter_worst</th>\n",
       "      <th>area_worst</th>\n",
       "      <th>smoothness_worst</th>\n",
       "      <th>compactness_worst</th>\n",
       "      <th>concavity_worst</th>\n",
       "      <th>concave points_worst</th>\n",
       "      <th>symmetry_worst</th>\n",
       "      <th>fractal_dimension_worst</th>\n",
       "    </tr>\n",
       "    <tr>\n",
       "      <th>id</th>\n",
       "      <th></th>\n",
       "      <th></th>\n",
       "      <th></th>\n",
       "      <th></th>\n",
       "      <th></th>\n",
       "      <th></th>\n",
       "      <th></th>\n",
       "      <th></th>\n",
       "      <th></th>\n",
       "      <th></th>\n",
       "      <th></th>\n",
       "      <th></th>\n",
       "      <th></th>\n",
       "      <th></th>\n",
       "      <th></th>\n",
       "      <th></th>\n",
       "      <th></th>\n",
       "      <th></th>\n",
       "      <th></th>\n",
       "      <th></th>\n",
       "      <th></th>\n",
       "    </tr>\n",
       "  </thead>\n",
       "  <tbody>\n",
       "    <tr>\n",
       "      <th>842302</th>\n",
       "      <td>M</td>\n",
       "      <td>17.99</td>\n",
       "      <td>10.38</td>\n",
       "      <td>122.80</td>\n",
       "      <td>1001.0</td>\n",
       "      <td>0.11840</td>\n",
       "      <td>0.27760</td>\n",
       "      <td>0.3001</td>\n",
       "      <td>0.14710</td>\n",
       "      <td>0.2419</td>\n",
       "      <td>...</td>\n",
       "      <td>25.38</td>\n",
       "      <td>17.33</td>\n",
       "      <td>184.60</td>\n",
       "      <td>2019.0</td>\n",
       "      <td>0.1622</td>\n",
       "      <td>0.6656</td>\n",
       "      <td>0.7119</td>\n",
       "      <td>0.2654</td>\n",
       "      <td>0.4601</td>\n",
       "      <td>0.11890</td>\n",
       "    </tr>\n",
       "    <tr>\n",
       "      <th>842517</th>\n",
       "      <td>M</td>\n",
       "      <td>20.57</td>\n",
       "      <td>17.77</td>\n",
       "      <td>132.90</td>\n",
       "      <td>1326.0</td>\n",
       "      <td>0.08474</td>\n",
       "      <td>0.07864</td>\n",
       "      <td>0.0869</td>\n",
       "      <td>0.07017</td>\n",
       "      <td>0.1812</td>\n",
       "      <td>...</td>\n",
       "      <td>24.99</td>\n",
       "      <td>23.41</td>\n",
       "      <td>158.80</td>\n",
       "      <td>1956.0</td>\n",
       "      <td>0.1238</td>\n",
       "      <td>0.1866</td>\n",
       "      <td>0.2416</td>\n",
       "      <td>0.1860</td>\n",
       "      <td>0.2750</td>\n",
       "      <td>0.08902</td>\n",
       "    </tr>\n",
       "    <tr>\n",
       "      <th>84300903</th>\n",
       "      <td>M</td>\n",
       "      <td>19.69</td>\n",
       "      <td>21.25</td>\n",
       "      <td>130.00</td>\n",
       "      <td>1203.0</td>\n",
       "      <td>0.10960</td>\n",
       "      <td>0.15990</td>\n",
       "      <td>0.1974</td>\n",
       "      <td>0.12790</td>\n",
       "      <td>0.2069</td>\n",
       "      <td>...</td>\n",
       "      <td>23.57</td>\n",
       "      <td>25.53</td>\n",
       "      <td>152.50</td>\n",
       "      <td>1709.0</td>\n",
       "      <td>0.1444</td>\n",
       "      <td>0.4245</td>\n",
       "      <td>0.4504</td>\n",
       "      <td>0.2430</td>\n",
       "      <td>0.3613</td>\n",
       "      <td>0.08758</td>\n",
       "    </tr>\n",
       "    <tr>\n",
       "      <th>84348301</th>\n",
       "      <td>M</td>\n",
       "      <td>11.42</td>\n",
       "      <td>20.38</td>\n",
       "      <td>77.58</td>\n",
       "      <td>386.1</td>\n",
       "      <td>0.14250</td>\n",
       "      <td>0.28390</td>\n",
       "      <td>0.2414</td>\n",
       "      <td>0.10520</td>\n",
       "      <td>0.2597</td>\n",
       "      <td>...</td>\n",
       "      <td>14.91</td>\n",
       "      <td>26.50</td>\n",
       "      <td>98.87</td>\n",
       "      <td>567.7</td>\n",
       "      <td>0.2098</td>\n",
       "      <td>0.8663</td>\n",
       "      <td>0.6869</td>\n",
       "      <td>0.2575</td>\n",
       "      <td>0.6638</td>\n",
       "      <td>0.17300</td>\n",
       "    </tr>\n",
       "    <tr>\n",
       "      <th>84358402</th>\n",
       "      <td>M</td>\n",
       "      <td>20.29</td>\n",
       "      <td>14.34</td>\n",
       "      <td>135.10</td>\n",
       "      <td>1297.0</td>\n",
       "      <td>0.10030</td>\n",
       "      <td>0.13280</td>\n",
       "      <td>0.1980</td>\n",
       "      <td>0.10430</td>\n",
       "      <td>0.1809</td>\n",
       "      <td>...</td>\n",
       "      <td>22.54</td>\n",
       "      <td>16.67</td>\n",
       "      <td>152.20</td>\n",
       "      <td>1575.0</td>\n",
       "      <td>0.1374</td>\n",
       "      <td>0.2050</td>\n",
       "      <td>0.4000</td>\n",
       "      <td>0.1625</td>\n",
       "      <td>0.2364</td>\n",
       "      <td>0.07678</td>\n",
       "    </tr>\n",
       "  </tbody>\n",
       "</table>\n",
       "<p>5 rows × 31 columns</p>\n",
       "</div>"
      ],
      "text/plain": [
       "         diagnosis  radius_mean  texture_mean  perimeter_mean  area_mean  \\\n",
       "id                                                                         \n",
       "842302           M        17.99         10.38          122.80     1001.0   \n",
       "842517           M        20.57         17.77          132.90     1326.0   \n",
       "84300903         M        19.69         21.25          130.00     1203.0   \n",
       "84348301         M        11.42         20.38           77.58      386.1   \n",
       "84358402         M        20.29         14.34          135.10     1297.0   \n",
       "\n",
       "          smoothness_mean  compactness_mean  concavity_mean  \\\n",
       "id                                                            \n",
       "842302            0.11840           0.27760          0.3001   \n",
       "842517            0.08474           0.07864          0.0869   \n",
       "84300903          0.10960           0.15990          0.1974   \n",
       "84348301          0.14250           0.28390          0.2414   \n",
       "84358402          0.10030           0.13280          0.1980   \n",
       "\n",
       "          concave points_mean  symmetry_mean  ...  radius_worst  \\\n",
       "id                                            ...                 \n",
       "842302                0.14710         0.2419  ...         25.38   \n",
       "842517                0.07017         0.1812  ...         24.99   \n",
       "84300903              0.12790         0.2069  ...         23.57   \n",
       "84348301              0.10520         0.2597  ...         14.91   \n",
       "84358402              0.10430         0.1809  ...         22.54   \n",
       "\n",
       "          texture_worst  perimeter_worst  area_worst  smoothness_worst  \\\n",
       "id                                                                       \n",
       "842302            17.33           184.60      2019.0            0.1622   \n",
       "842517            23.41           158.80      1956.0            0.1238   \n",
       "84300903          25.53           152.50      1709.0            0.1444   \n",
       "84348301          26.50            98.87       567.7            0.2098   \n",
       "84358402          16.67           152.20      1575.0            0.1374   \n",
       "\n",
       "          compactness_worst  concavity_worst  concave points_worst  \\\n",
       "id                                                                   \n",
       "842302               0.6656           0.7119                0.2654   \n",
       "842517               0.1866           0.2416                0.1860   \n",
       "84300903             0.4245           0.4504                0.2430   \n",
       "84348301             0.8663           0.6869                0.2575   \n",
       "84358402             0.2050           0.4000                0.1625   \n",
       "\n",
       "          symmetry_worst  fractal_dimension_worst  \n",
       "id                                                 \n",
       "842302            0.4601                  0.11890  \n",
       "842517            0.2750                  0.08902  \n",
       "84300903          0.3613                  0.08758  \n",
       "84348301          0.6638                  0.17300  \n",
       "84358402          0.2364                  0.07678  \n",
       "\n",
       "[5 rows x 31 columns]"
      ]
     },
     "execution_count": 31,
     "metadata": {},
     "output_type": "execute_result"
    }
   ],
   "source": [
    "df.head()"
   ]
  },
  {
   "cell_type": "code",
   "execution_count": 4,
   "metadata": {},
   "outputs": [
    {
     "name": "stdout",
     "output_type": "stream",
     "text": [
      "<class 'pandas.core.frame.DataFrame'>\n",
      "Int64Index: 569 entries, 842302 to 92751\n",
      "Data columns (total 32 columns):\n",
      " #   Column                   Non-Null Count  Dtype  \n",
      "---  ------                   --------------  -----  \n",
      " 0   diagnosis                569 non-null    object \n",
      " 1   radius_mean              569 non-null    float64\n",
      " 2   texture_mean             569 non-null    float64\n",
      " 3   perimeter_mean           569 non-null    float64\n",
      " 4   area_mean                569 non-null    float64\n",
      " 5   smoothness_mean          569 non-null    float64\n",
      " 6   compactness_mean         569 non-null    float64\n",
      " 7   concavity_mean           569 non-null    float64\n",
      " 8   concave points_mean      569 non-null    float64\n",
      " 9   symmetry_mean            569 non-null    float64\n",
      " 10  fractal_dimension_mean   569 non-null    float64\n",
      " 11  radius_se                569 non-null    float64\n",
      " 12  texture_se               569 non-null    float64\n",
      " 13  perimeter_se             569 non-null    float64\n",
      " 14  area_se                  569 non-null    float64\n",
      " 15  smoothness_se            569 non-null    float64\n",
      " 16  compactness_se           569 non-null    float64\n",
      " 17  concavity_se             569 non-null    float64\n",
      " 18  concave points_se        569 non-null    float64\n",
      " 19  symmetry_se              569 non-null    float64\n",
      " 20  fractal_dimension_se     569 non-null    float64\n",
      " 21  radius_worst             569 non-null    float64\n",
      " 22  texture_worst            569 non-null    float64\n",
      " 23  perimeter_worst          569 non-null    float64\n",
      " 24  area_worst               569 non-null    float64\n",
      " 25  smoothness_worst         569 non-null    float64\n",
      " 26  compactness_worst        569 non-null    float64\n",
      " 27  concavity_worst          569 non-null    float64\n",
      " 28  concave points_worst     569 non-null    float64\n",
      " 29  symmetry_worst           569 non-null    float64\n",
      " 30  fractal_dimension_worst  569 non-null    float64\n",
      " 31  Unnamed: 32              0 non-null      float64\n",
      "dtypes: float64(31), object(1)\n",
      "memory usage: 146.7+ KB\n"
     ]
    }
   ],
   "source": [
    "df.info()"
   ]
  },
  {
   "cell_type": "code",
   "execution_count": 5,
   "metadata": {},
   "outputs": [
    {
     "data": {
      "text/plain": [
       "array(['M', 'B'], dtype=object)"
      ]
     },
     "execution_count": 5,
     "metadata": {},
     "output_type": "execute_result"
    }
   ],
   "source": [
    "#Check why diagnosis is of type 'object'\n",
    "df['diagnosis'].unique()"
   ]
  },
  {
   "cell_type": "code",
   "execution_count": 6,
   "metadata": {},
   "outputs": [],
   "source": [
    "#Drop 'Unnamed: 32' column\n",
    "df = df.drop('Unnamed: 32', axis = 1)"
   ]
  },
  {
   "cell_type": "code",
   "execution_count": 7,
   "metadata": {},
   "outputs": [
    {
     "data": {
      "text/plain": [
       "<AxesSubplot:xlabel='radius_mean'>"
      ]
     },
     "execution_count": 7,
     "metadata": {},
     "output_type": "execute_result"
    },
    {
     "data": {
      "image/png": "[encoded data removed]",
      "text/plain": [
       "<Figure size 432x288 with 1 Axes>"
      ]
     },
     "metadata": {
      "needs_background": "light"
     },
     "output_type": "display_data"
    }
   ],
   "source": [
    "sns.distplot(df['radius_mean'])"
   ]
  },
  {
   "cell_type": "markdown",
   "metadata": {
    "ExecuteTime": {
     "end_time": "2019-05-16T01:10:16.792504Z",
     "start_time": "2019-05-16T01:10:16.786523Z"
    },
    "colab_type": "text",
    "id": "hrOCSyfsZFbB"
   },
   "source": [
    "# Set up the `diagnosis` variable as your target. How many classes are there?"
   ]
  },
  {
   "cell_type": "code",
   "execution_count": 8,
   "metadata": {},
   "outputs": [
    {
     "data": {
      "text/plain": [
       "Index(['diagnosis', 'radius_mean', 'texture_mean', 'perimeter_mean',\n",
       "       'area_mean', 'smoothness_mean', 'compactness_mean', 'concavity_mean',\n",
       "       'concave points_mean', 'symmetry_mean', 'fractal_dimension_mean',\n",
       "       'radius_se', 'texture_se', 'perimeter_se', 'area_se', 'smoothness_se',\n",
       "       'compactness_se', 'concavity_se', 'concave points_se', 'symmetry_se',\n",
       "       'fractal_dimension_se', 'radius_worst', 'texture_worst',\n",
       "       'perimeter_worst', 'area_worst', 'smoothness_worst',\n",
       "       'compactness_worst', 'concavity_worst', 'concave points_worst',\n",
       "       'symmetry_worst', 'fractal_dimension_worst'],\n",
       "      dtype='object')"
      ]
     },
     "execution_count": 8,
     "metadata": {},
     "output_type": "execute_result"
    }
   ],
   "source": [
    "df.columns"
   ]
  },
  {
   "cell_type": "code",
   "execution_count": 9,
   "metadata": {
    "colab": {},
    "colab_type": "code",
    "id": "IEo975saZFbB"
   },
   "outputs": [
    {
     "data": {
      "text/plain": [
       "array(['M', 'B'], dtype=object)"
      ]
     },
     "execution_count": 9,
     "metadata": {},
     "output_type": "execute_result"
    }
   ],
   "source": [
    "#Create dataframe for variables (X), and target array (y)\n",
    "\n",
    "X = df.drop(columns=['diagnosis'])\n",
    "y = df['diagnosis']\n",
    "df['diagnosis'].unique()"
   ]
  },
  {
   "cell_type": "code",
   "execution_count": 10,
   "metadata": {},
   "outputs": [],
   "source": [
    "#Create training and testing data\n",
    "\n",
    "from sklearn.model_selection import train_test_split\n",
    "\n",
    "X_train, X_test, y_train, y_test = train_test_split(X, \n",
    "                                                    y, \n",
    "                                                    test_size=0.20, \n",
    "                                                    random_state=42)"
   ]
  },
  {
   "cell_type": "markdown",
   "metadata": {
    "colab_type": "text",
    "id": "dFG6BvgkZFbE"
   },
   "source": [
    "## What is the baseline accuracy?"
   ]
  },
  {
   "cell_type": "code",
   "execution_count": 11,
   "metadata": {
    "ExecuteTime": {
     "end_time": "2019-05-16T06:02:43.670958Z",
     "start_time": "2019-05-16T06:02:43.662503Z"
    },
    "colab": {},
    "colab_type": "code",
    "id": "YQ4zF66cZFbG"
   },
   "outputs": [
    {
     "name": "stdout",
     "output_type": "stream",
     "text": [
      "Accuracy for dummy model (stratified): 0.5614035087719298\n"
     ]
    }
   ],
   "source": [
    "#Create a dummy classifier (a noob model to use as a baseline)\n",
    "from sklearn.dummy import DummyClassifier\n",
    "Dummy_classifier = DummyClassifier(strategy='stratified', random_state=None, constant=None)\n",
    "\n",
    "Dummy_classifier.fit(X_train,y_train)\n",
    "Dummy_predictions = Dummy_classifier.predict(X_test)\n",
    "\n",
    "from sklearn import metrics\n",
    "\n",
    "#Test accuracy for dummy model\n",
    "Dummy_accuracy = metrics.accuracy_score(y_test,Dummy_predictions)\n",
    "\n",
    "print('Accuracy for dummy model (stratified):', Dummy_accuracy)"
   ]
  },
  {
   "cell_type": "markdown",
   "metadata": {
    "colab_type": "text",
    "id": "9OKQ_4QuZFbI"
   },
   "source": [
    "# Choose features to be your predictor variables and set up your X."
   ]
  },
  {
   "cell_type": "code",
   "execution_count": 12,
   "metadata": {
    "ExecuteTime": {
     "end_time": "2019-05-16T06:02:46.228123Z",
     "start_time": "2019-05-16T06:02:46.221621Z"
    },
    "colab": {},
    "colab_type": "code",
    "id": "v0EIGlucZFbJ"
   },
   "outputs": [],
   "source": [
    "#Already done"
   ]
  },
  {
   "cell_type": "markdown",
   "metadata": {
    "colab_type": "text",
    "id": "3ZsCG48AZFbL"
   },
   "source": [
    "# Fit a `KNeighborsClassifier` with 1 neighbor using the target and predictors."
   ]
  },
  {
   "cell_type": "code",
   "execution_count": 13,
   "metadata": {
    "ExecuteTime": {
     "end_time": "2019-05-16T06:02:49.037385Z",
     "start_time": "2019-05-16T06:02:49.023745Z"
    },
    "colab": {},
    "colab_type": "code",
    "id": "sLPiFCYbZFbM"
   },
   "outputs": [],
   "source": [
    "from sklearn.neighbors import KNeighborsClassifier\n",
    "\n",
    "KNNClassifier_n1 = KNeighborsClassifier(n_neighbors = 1)\n",
    "KNNClassifier_n1.fit(X_train,y_train)\n",
    "KNN_n1_predictions = KNNClassifier_n1.predict(X_test)\n"
   ]
  },
  {
   "cell_type": "markdown",
   "metadata": {
    "colab_type": "text",
    "id": "l-RXiJx4ZFbO"
   },
   "source": [
    "## Evaluate the accuracy of your model.\n",
    "- Is it better than baseline?\n",
    "- Is it legitimate?"
   ]
  },
  {
   "cell_type": "code",
   "execution_count": 14,
   "metadata": {},
   "outputs": [
    {
     "name": "stdout",
     "output_type": "stream",
     "text": [
      "Accuracy of KNN with n=1: 0.9298245614035088\n",
      "Accuracy for dummy model (stratified): 0.5614035087719298\n"
     ]
    }
   ],
   "source": [
    "KNN_accuracy_1 = metrics.accuracy_score(y_test,KNN_n1_predictions)\n",
    "print('Accuracy of KNN with n=1:',KNN_accuracy_1)\n",
    "print('Accuracy for dummy model (stratified):', Dummy_accuracy)"
   ]
  },
  {
   "cell_type": "code",
   "execution_count": 15,
   "metadata": {
    "ExecuteTime": {
     "end_time": "2019-05-16T06:02:53.446834Z",
     "start_time": "2019-05-16T06:02:53.427882Z"
    },
    "colab": {},
    "colab_type": "code",
    "id": "M7CJ30XrZFbP"
   },
   "outputs": [],
   "source": [
    "#Definitely at least better than the baseline"
   ]
  },
  {
   "cell_type": "markdown",
   "metadata": {
    "colab_type": "text",
    "id": "KHQOjmC-ZFbR"
   },
   "source": [
    "# Create a 80-20 train-test-split of your target and predictors. Refit the KNN and assess the accuracy."
   ]
  },
  {
   "cell_type": "code",
   "execution_count": 16,
   "metadata": {
    "ExecuteTime": {
     "end_time": "2019-05-16T06:02:55.860932Z",
     "start_time": "2019-05-16T06:02:55.836993Z"
    },
    "colab": {},
    "colab_type": "code",
    "id": "TivWfp2AZFbS"
   },
   "outputs": [],
   "source": [
    "#Already done"
   ]
  },
  {
   "cell_type": "markdown",
   "metadata": {
    "colab_type": "text",
    "id": "tlP2bUDnZFbU"
   },
   "source": [
    "# Evaluate the test accuracy of a KNN where K == number of rows in the training data."
   ]
  },
  {
   "cell_type": "code",
   "execution_count": 17,
   "metadata": {
    "ExecuteTime": {
     "end_time": "2019-05-16T06:02:59.569032Z",
     "start_time": "2019-05-16T06:02:59.541097Z"
    },
    "colab": {},
    "colab_type": "code",
    "id": "Zng8GnqRZFbU"
   },
   "outputs": [
    {
     "name": "stdout",
     "output_type": "stream",
     "text": [
      "Accuracy of KNN with n=1: 0.9298245614035088\n",
      "Accuracy of KNN with n= number of rows: 0.6228070175438597\n",
      "Accuracy for dummy model (stratified): 0.5614035087719298\n"
     ]
    }
   ],
   "source": [
    "from sklearn.neighbors import KNeighborsClassifier\n",
    "\n",
    "KNNClassifier_nrows = KNeighborsClassifier(n_neighbors = X_train.shape[0])\n",
    "KNNClassifier_nrows.fit(X_train,y_train)\n",
    "KNN_nrows_predictions = KNNClassifier_nrows.predict(X_test)\n",
    "\n",
    "KNN_accuracy_nrows = metrics.accuracy_score(y_test,KNN_nrows_predictions)\n",
    "print('Accuracy of KNN with n=1:',KNN_accuracy_1)\n",
    "print('Accuracy of KNN with n= number of rows:',KNN_accuracy_nrows)\n",
    "print('Accuracy for dummy model (stratified):', Dummy_accuracy)\n"
   ]
  },
  {
   "cell_type": "code",
   "execution_count": 18,
   "metadata": {},
   "outputs": [],
   "source": [
    "#Seems like n= number of rows is worse than just n=1"
   ]
  },
  {
   "cell_type": "markdown",
   "metadata": {
    "colab_type": "text",
    "id": "LLmdmsCrZFbW"
   },
   "source": [
    "# Fit the KNN at values of K from 1 to the number of rows in the training data.\n",
    "- Store the test accuracy in a list.\n",
    "- Plot the test accuracy vs. the number of neighbors."
   ]
  },
  {
   "cell_type": "code",
   "execution_count": 19,
   "metadata": {
    "ExecuteTime": {
     "end_time": "2019-05-16T06:03:15.430489Z",
     "start_time": "2019-05-16T06:03:12.595076Z"
    },
    "colab": {},
    "colab_type": "code",
    "id": "Sr55UJRnZFbX"
   },
   "outputs": [
    {
     "data": {
      "text/plain": [
       "454"
      ]
     },
     "execution_count": 19,
     "metadata": {},
     "output_type": "execute_result"
    }
   ],
   "source": [
    "# ANSWER\n",
    "# plot test accuracy by number of neighbors:\n",
    "\n",
    "#Initialize accuracy list\n",
    "\n",
    "accuracy_scores = []\n",
    "\n",
    "for i in range(1,X_train.shape[0]):\n",
    "    KNNClassifier = KNeighborsClassifier(n_neighbors = i)\n",
    "    KNNClassifier.fit(X_train,y_train)\n",
    "    predictions = KNNClassifier.predict(X_test)\n",
    "    accuracy = metrics.accuracy_score(y_test,predictions)\n",
    "    accuracy_scores.append(accuracy)\n",
    "\n",
    "#Check accuracy_scores list\n",
    "len(accuracy_scores)"
   ]
  },
  {
   "cell_type": "code",
   "execution_count": 20,
   "metadata": {},
   "outputs": [
    {
     "data": {
      "image/png": "[encoded data removed]",
      "text/plain": [
       "<Figure size 1440x576 with 1 Axes>"
      ]
     },
     "metadata": {
      "needs_background": "light"
     },
     "output_type": "display_data"
    }
   ],
   "source": [
    "plt.figure(figsize = (20,8))\n",
    "\n",
    "sns.lineplot(x = range(1,X_train.shape[0]),\n",
    "             y = accuracy_scores)\n",
    "\n",
    "plt.show() "
   ]
  },
  {
   "cell_type": "markdown",
   "metadata": {
    "colab_type": "text",
    "id": "QNE2_bMkZFbZ"
   },
   "source": [
    "# Fit KNN across different values of K and plot the mean cross-validated accuracy with 5 folds.\n"
   ]
  },
  {
   "cell_type": "code",
   "execution_count": 21,
   "metadata": {},
   "outputs": [
    {
     "data": {
      "text/plain": [
       "341"
      ]
     },
     "execution_count": 21,
     "metadata": {},
     "output_type": "execute_result"
    }
   ],
   "source": [
    "round(X_train.shape[0] * 0.75)"
   ]
  },
  {
   "cell_type": "code",
   "execution_count": 22,
   "metadata": {},
   "outputs": [
    {
     "data": {
      "text/plain": [
       "455"
      ]
     },
     "execution_count": 22,
     "metadata": {},
     "output_type": "execute_result"
    }
   ],
   "source": [
    "X_train.shape[0]"
   ]
  },
  {
   "cell_type": "code",
   "execution_count": 23,
   "metadata": {
    "colab": {},
    "colab_type": "code",
    "id": "LCxbmWJaZFba"
   },
   "outputs": [
    {
     "name": "stdout",
     "output_type": "stream",
     "text": [
      "[0.85964912 0.92982456 0.9122807  0.9122807  0.91150442]\n",
      "[0.87719298 0.92105263 0.92982456 0.92982456 0.88495575]\n",
      "[0.87719298 0.92105263 0.94736842 0.93859649 0.91150442]\n",
      "[0.87719298 0.92105263 0.93859649 0.94736842 0.92920354]\n",
      "[0.88596491 0.93859649 0.93859649 0.94736842 0.92920354]\n",
      "[0.86842105 0.92982456 0.94736842 0.93859649 0.92035398]\n",
      "[0.87719298 0.93859649 0.94736842 0.94736842 0.92035398]\n",
      "[0.86842105 0.93859649 0.93859649 0.95614035 0.92920354]\n",
      "[0.87719298 0.93859649 0.94736842 0.95614035 0.9380531 ]\n",
      "[0.86842105 0.93859649 0.94736842 0.94736842 0.92920354]\n",
      "[0.87719298 0.93859649 0.94736842 0.95614035 0.92920354]\n",
      "[0.86842105 0.93859649 0.94736842 0.96491228 0.9380531 ]\n",
      "[0.87719298 0.93859649 0.94736842 0.95614035 0.94690265]\n",
      "[0.86842105 0.93859649 0.94736842 0.96491228 0.95575221]\n",
      "[0.86842105 0.93859649 0.93859649 0.95614035 0.94690265]\n",
      "[0.86842105 0.93859649 0.92982456 0.95614035 0.95575221]\n",
      "[0.86842105 0.93859649 0.92982456 0.95614035 0.95575221]\n",
      "[0.86842105 0.93859649 0.93859649 0.95614035 0.95575221]\n",
      "[0.86842105 0.93859649 0.93859649 0.95614035 0.94690265]\n",
      "[0.85964912 0.92105263 0.92982456 0.95614035 0.95575221]\n",
      "[0.86842105 0.92105263 0.93859649 0.95614035 0.96460177]\n",
      "[0.85964912 0.92105263 0.92982456 0.95614035 0.94690265]\n",
      "[0.85964912 0.92105263 0.92982456 0.94736842 0.95575221]\n",
      "[0.85964912 0.9122807  0.92982456 0.94736842 0.94690265]\n",
      "[0.85964912 0.92105263 0.92982456 0.94736842 0.94690265]\n",
      "[0.85964912 0.9122807  0.92982456 0.94736842 0.9380531 ]\n",
      "[0.85964912 0.9122807  0.92982456 0.94736842 0.94690265]\n",
      "[0.85964912 0.90350877 0.92982456 0.94736842 0.9380531 ]\n",
      "[0.85964912 0.9122807  0.92982456 0.94736842 0.9380531 ]\n",
      "[0.85964912 0.90350877 0.92982456 0.94736842 0.9380531 ]\n",
      "[0.85964912 0.90350877 0.92982456 0.94736842 0.9380531 ]\n",
      "[0.86842105 0.90350877 0.92982456 0.94736842 0.9380531 ]\n",
      "[0.86842105 0.90350877 0.92982456 0.94736842 0.95575221]\n",
      "[0.85087719 0.90350877 0.92982456 0.94736842 0.95575221]\n",
      "[0.85087719 0.90350877 0.92982456 0.94736842 0.95575221]\n",
      "[0.84210526 0.90350877 0.92982456 0.95614035 0.94690265]\n",
      "[0.85964912 0.90350877 0.92982456 0.95614035 0.94690265]\n",
      "[0.85964912 0.90350877 0.92982456 0.95614035 0.94690265]\n",
      "[0.85964912 0.90350877 0.92982456 0.94736842 0.94690265]\n",
      "[0.85964912 0.90350877 0.92982456 0.95614035 0.9380531 ]\n",
      "[0.85964912 0.89473684 0.92982456 0.95614035 0.95575221]\n",
      "[0.85964912 0.89473684 0.92982456 0.94736842 0.92920354]\n",
      "[0.85964912 0.89473684 0.92982456 0.95614035 0.9380531 ]\n",
      "[0.85964912 0.90350877 0.92982456 0.94736842 0.9380531 ]\n",
      "[0.85964912 0.9122807  0.92982456 0.94736842 0.94690265]\n",
      "[0.85964912 0.90350877 0.92982456 0.94736842 0.94690265]\n",
      "[0.86842105 0.9122807  0.92982456 0.93859649 0.94690265]\n",
      "[0.85964912 0.89473684 0.92982456 0.93859649 0.9380531 ]\n",
      "[0.85964912 0.90350877 0.92105263 0.93859649 0.94690265]\n",
      "[0.86842105 0.89473684 0.92982456 0.94736842 0.9380531 ]\n",
      "[0.86842105 0.9122807  0.92105263 0.93859649 0.9380531 ]\n",
      "[0.85087719 0.90350877 0.92982456 0.93859649 0.9380531 ]\n",
      "[0.85964912 0.9122807  0.92105263 0.93859649 0.9380531 ]\n",
      "[0.85964912 0.90350877 0.92982456 0.92982456 0.9380531 ]\n",
      "[0.86842105 0.9122807  0.92105263 0.93859649 0.9380531 ]\n",
      "[0.86842105 0.89473684 0.92105263 0.93859649 0.9380531 ]\n",
      "[0.86842105 0.89473684 0.92105263 0.93859649 0.9380531 ]\n",
      "[0.85964912 0.89473684 0.92982456 0.93859649 0.9380531 ]\n",
      "[0.85087719 0.88596491 0.92982456 0.93859649 0.9380531 ]\n",
      "[0.85087719 0.88596491 0.92982456 0.93859649 0.9380531 ]\n",
      "[0.85087719 0.88596491 0.92982456 0.93859649 0.9380531 ]\n",
      "[0.85087719 0.89473684 0.92982456 0.93859649 0.9380531 ]\n",
      "[0.85087719 0.88596491 0.92982456 0.93859649 0.9380531 ]\n",
      "[0.85964912 0.88596491 0.92982456 0.93859649 0.9380531 ]\n",
      "[0.85087719 0.88596491 0.92982456 0.94736842 0.9380531 ]\n",
      "[0.85087719 0.88596491 0.92982456 0.94736842 0.9380531 ]\n",
      "[0.85087719 0.89473684 0.92982456 0.94736842 0.9380531 ]\n",
      "[0.85087719 0.89473684 0.92982456 0.94736842 0.9380531 ]\n",
      "[0.85087719 0.89473684 0.92982456 0.94736842 0.9380531 ]\n",
      "[0.84210526 0.88596491 0.92982456 0.94736842 0.9380531 ]\n",
      "[0.84210526 0.88596491 0.92982456 0.94736842 0.9380531 ]\n",
      "[0.84210526 0.88596491 0.92982456 0.94736842 0.9380531 ]\n",
      "[0.84210526 0.88596491 0.92105263 0.93859649 0.9380531 ]\n",
      "[0.84210526 0.88596491 0.92105263 0.93859649 0.9380531 ]\n",
      "[0.84210526 0.88596491 0.92105263 0.93859649 0.9380531 ]\n",
      "[0.84210526 0.88596491 0.92982456 0.94736842 0.9380531 ]\n",
      "[0.84210526 0.88596491 0.92982456 0.94736842 0.9380531 ]\n",
      "[0.84210526 0.88596491 0.92982456 0.94736842 0.9380531 ]\n",
      "[0.85087719 0.88596491 0.92982456 0.94736842 0.9380531 ]\n",
      "[0.85087719 0.89473684 0.92982456 0.94736842 0.9380531 ]\n",
      "[0.85087719 0.88596491 0.92982456 0.94736842 0.9380531 ]\n",
      "[0.85087719 0.89473684 0.92982456 0.94736842 0.9380531 ]\n",
      "[0.85087719 0.88596491 0.92982456 0.94736842 0.9380531 ]\n",
      "[0.85087719 0.88596491 0.92982456 0.94736842 0.9380531 ]\n",
      "[0.85087719 0.88596491 0.92982456 0.94736842 0.9380531 ]\n",
      "[0.85087719 0.88596491 0.92982456 0.94736842 0.9380531 ]\n",
      "[0.85087719 0.88596491 0.92982456 0.94736842 0.9380531 ]\n",
      "[0.85087719 0.88596491 0.92982456 0.94736842 0.9380531 ]\n",
      "[0.85087719 0.88596491 0.92982456 0.94736842 0.9380531 ]\n",
      "[0.85087719 0.88596491 0.92982456 0.94736842 0.9380531 ]\n",
      "[0.85087719 0.88596491 0.92982456 0.94736842 0.9380531 ]\n",
      "[0.85087719 0.89473684 0.92982456 0.94736842 0.9380531 ]\n",
      "[0.85087719 0.89473684 0.92982456 0.94736842 0.9380531 ]\n",
      "[0.85087719 0.89473684 0.92982456 0.94736842 0.9380531 ]\n",
      "[0.85087719 0.88596491 0.92982456 0.94736842 0.9380531 ]\n",
      "[0.84210526 0.88596491 0.92982456 0.94736842 0.9380531 ]\n",
      "[0.85087719 0.88596491 0.92982456 0.94736842 0.9380531 ]\n",
      "[0.84210526 0.87719298 0.92982456 0.95614035 0.9380531 ]\n",
      "[0.84210526 0.88596491 0.92982456 0.95614035 0.9380531 ]\n",
      "[0.84210526 0.88596491 0.92982456 0.95614035 0.9380531 ]\n",
      "[0.84210526 0.88596491 0.92982456 0.95614035 0.9380531 ]\n",
      "[0.83333333 0.88596491 0.92982456 0.95614035 0.9380531 ]\n",
      "[0.83333333 0.88596491 0.92982456 0.95614035 0.9380531 ]\n",
      "[0.83333333 0.88596491 0.92982456 0.95614035 0.9380531 ]\n",
      "[0.83333333 0.88596491 0.92982456 0.95614035 0.9380531 ]\n",
      "[0.83333333 0.88596491 0.92105263 0.95614035 0.9380531 ]\n",
      "[0.83333333 0.88596491 0.92105263 0.95614035 0.9380531 ]\n",
      "[0.84210526 0.87719298 0.92105263 0.95614035 0.9380531 ]\n",
      "[0.83333333 0.88596491 0.92105263 0.95614035 0.9380531 ]\n",
      "[0.84210526 0.88596491 0.92105263 0.95614035 0.92920354]\n",
      "[0.84210526 0.88596491 0.92105263 0.95614035 0.9380531 ]\n",
      "[0.84210526 0.87719298 0.92105263 0.95614035 0.92920354]\n",
      "[0.84210526 0.87719298 0.92105263 0.95614035 0.92920354]\n",
      "[0.84210526 0.87719298 0.92105263 0.95614035 0.92035398]\n",
      "[0.84210526 0.87719298 0.92105263 0.95614035 0.92035398]\n",
      "[0.84210526 0.86842105 0.92105263 0.94736842 0.92035398]\n",
      "[0.84210526 0.86842105 0.92105263 0.95614035 0.92920354]\n",
      "[0.84210526 0.86842105 0.92105263 0.94736842 0.92035398]\n",
      "[0.84210526 0.86842105 0.92105263 0.94736842 0.92920354]\n",
      "[0.84210526 0.86842105 0.92105263 0.93859649 0.92035398]\n",
      "[0.84210526 0.86842105 0.92105263 0.94736842 0.92920354]\n",
      "[0.84210526 0.86842105 0.92105263 0.93859649 0.91150442]\n",
      "[0.84210526 0.86842105 0.92105263 0.93859649 0.91150442]\n",
      "[0.84210526 0.86842105 0.92105263 0.93859649 0.91150442]\n",
      "[0.84210526 0.86842105 0.92105263 0.93859649 0.91150442]\n",
      "[0.83333333 0.86842105 0.92105263 0.93859649 0.91150442]\n",
      "[0.83333333 0.86842105 0.92105263 0.93859649 0.91150442]\n",
      "[0.83333333 0.86842105 0.92105263 0.93859649 0.91150442]\n",
      "[0.83333333 0.86842105 0.92105263 0.93859649 0.91150442]\n",
      "[0.83333333 0.86842105 0.9122807  0.93859649 0.91150442]\n",
      "[0.84210526 0.86842105 0.9122807  0.93859649 0.91150442]\n",
      "[0.83333333 0.86842105 0.9122807  0.93859649 0.91150442]\n",
      "[0.83333333 0.86842105 0.9122807  0.93859649 0.91150442]\n",
      "[0.83333333 0.86842105 0.9122807  0.93859649 0.91150442]\n",
      "[0.83333333 0.86842105 0.9122807  0.93859649 0.91150442]\n",
      "[0.83333333 0.86842105 0.9122807  0.93859649 0.91150442]\n",
      "[0.83333333 0.86842105 0.9122807  0.93859649 0.91150442]\n",
      "[0.83333333 0.86842105 0.9122807  0.93859649 0.91150442]\n",
      "[0.83333333 0.86842105 0.9122807  0.93859649 0.91150442]\n",
      "[0.83333333 0.86842105 0.90350877 0.93859649 0.91150442]\n",
      "[0.83333333 0.86842105 0.90350877 0.93859649 0.91150442]\n",
      "[0.83333333 0.86842105 0.90350877 0.93859649 0.91150442]\n",
      "[0.83333333 0.86842105 0.90350877 0.93859649 0.91150442]\n",
      "[0.83333333 0.86842105 0.90350877 0.93859649 0.91150442]\n",
      "[0.83333333 0.86842105 0.90350877 0.93859649 0.92035398]\n"
     ]
    },
    {
     "name": "stdout",
     "output_type": "stream",
     "text": [
      "[0.83333333 0.86842105 0.89473684 0.93859649 0.91150442]\n",
      "[0.83333333 0.86842105 0.89473684 0.93859649 0.92035398]\n",
      "[0.83333333 0.86842105 0.89473684 0.93859649 0.91150442]\n",
      "[0.83333333 0.86842105 0.89473684 0.93859649 0.91150442]\n",
      "[0.83333333 0.86842105 0.89473684 0.93859649 0.91150442]\n",
      "[0.83333333 0.86842105 0.89473684 0.93859649 0.91150442]\n",
      "[0.83333333 0.86842105 0.89473684 0.93859649 0.91150442]\n",
      "[0.83333333 0.86842105 0.89473684 0.93859649 0.91150442]\n",
      "[0.83333333 0.86842105 0.89473684 0.93859649 0.91150442]\n",
      "[0.83333333 0.86842105 0.89473684 0.93859649 0.91150442]\n",
      "[0.83333333 0.86842105 0.89473684 0.93859649 0.91150442]\n",
      "[0.83333333 0.86842105 0.89473684 0.93859649 0.91150442]\n",
      "[0.83333333 0.86842105 0.89473684 0.93859649 0.91150442]\n",
      "[0.83333333 0.86842105 0.89473684 0.93859649 0.91150442]\n",
      "[0.83333333 0.86842105 0.89473684 0.93859649 0.91150442]\n",
      "[0.83333333 0.86842105 0.89473684 0.93859649 0.91150442]\n",
      "[0.83333333 0.86842105 0.89473684 0.93859649 0.91150442]\n",
      "[0.83333333 0.86842105 0.89473684 0.93859649 0.91150442]\n",
      "[0.83333333 0.85964912 0.89473684 0.93859649 0.90265487]\n",
      "[0.83333333 0.85964912 0.89473684 0.93859649 0.90265487]\n",
      "[0.83333333 0.85964912 0.89473684 0.93859649 0.90265487]\n",
      "[0.83333333 0.85964912 0.89473684 0.93859649 0.90265487]\n",
      "[0.83333333 0.85087719 0.89473684 0.93859649 0.90265487]\n",
      "[0.83333333 0.85087719 0.89473684 0.93859649 0.90265487]\n",
      "[0.83333333 0.85087719 0.88596491 0.93859649 0.90265487]\n",
      "[0.83333333 0.85087719 0.89473684 0.93859649 0.90265487]\n",
      "[0.83333333 0.85087719 0.89473684 0.93859649 0.90265487]\n",
      "[0.83333333 0.85087719 0.89473684 0.93859649 0.90265487]\n",
      "[0.83333333 0.85087719 0.89473684 0.93859649 0.91150442]\n",
      "[0.83333333 0.85087719 0.89473684 0.93859649 0.91150442]\n",
      "[0.83333333 0.85087719 0.88596491 0.94736842 0.91150442]\n",
      "[0.83333333 0.85087719 0.88596491 0.94736842 0.91150442]\n",
      "[0.83333333 0.85087719 0.88596491 0.94736842 0.90265487]\n",
      "[0.83333333 0.85087719 0.88596491 0.94736842 0.91150442]\n",
      "[0.83333333 0.85087719 0.87719298 0.93859649 0.90265487]\n",
      "[0.83333333 0.85087719 0.87719298 0.93859649 0.90265487]\n",
      "[0.83333333 0.84210526 0.87719298 0.93859649 0.90265487]\n",
      "[0.83333333 0.84210526 0.87719298 0.93859649 0.90265487]\n",
      "[0.8245614  0.84210526 0.87719298 0.93859649 0.90265487]\n",
      "[0.8245614  0.84210526 0.87719298 0.93859649 0.90265487]\n",
      "[0.8245614  0.84210526 0.87719298 0.92982456 0.90265487]\n",
      "[0.8245614  0.84210526 0.87719298 0.92982456 0.90265487]\n",
      "[0.8245614  0.84210526 0.88596491 0.92982456 0.90265487]\n",
      "[0.8245614  0.84210526 0.88596491 0.92982456 0.90265487]\n",
      "[0.8245614  0.84210526 0.88596491 0.92105263 0.90265487]\n",
      "[0.8245614  0.84210526 0.88596491 0.92105263 0.90265487]\n",
      "[0.8245614  0.84210526 0.86842105 0.92105263 0.90265487]\n",
      "[0.8245614  0.84210526 0.86842105 0.92105263 0.90265487]\n",
      "[0.8245614  0.84210526 0.86842105 0.9122807  0.90265487]\n",
      "[0.8245614  0.84210526 0.86842105 0.9122807  0.90265487]\n",
      "[0.8245614  0.85087719 0.86842105 0.9122807  0.90265487]\n",
      "[0.8245614  0.85087719 0.86842105 0.9122807  0.90265487]\n",
      "[0.8245614  0.85087719 0.86842105 0.9122807  0.90265487]\n",
      "[0.8245614  0.85087719 0.86842105 0.9122807  0.90265487]\n",
      "[0.8245614  0.85087719 0.86842105 0.9122807  0.90265487]\n",
      "[0.8245614  0.85087719 0.86842105 0.9122807  0.90265487]\n",
      "[0.8245614  0.85087719 0.86842105 0.90350877 0.90265487]\n",
      "[0.8245614  0.85087719 0.86842105 0.90350877 0.90265487]\n",
      "[0.8245614  0.85087719 0.86842105 0.90350877 0.90265487]\n",
      "[0.8245614  0.85087719 0.86842105 0.90350877 0.90265487]\n",
      "[0.8245614  0.85087719 0.86842105 0.89473684 0.90265487]\n",
      "[0.8245614  0.85087719 0.86842105 0.89473684 0.90265487]\n",
      "[0.8245614  0.85087719 0.86842105 0.89473684 0.90265487]\n",
      "[0.8245614  0.85087719 0.86842105 0.89473684 0.90265487]\n",
      "[0.8245614  0.85087719 0.86842105 0.89473684 0.90265487]\n",
      "[0.8245614  0.85087719 0.86842105 0.89473684 0.90265487]\n",
      "[0.8245614  0.85087719 0.86842105 0.89473684 0.90265487]\n",
      "[0.8245614  0.85087719 0.86842105 0.89473684 0.90265487]\n",
      "[0.8245614  0.84210526 0.86842105 0.89473684 0.90265487]\n",
      "[0.8245614  0.84210526 0.86842105 0.89473684 0.90265487]\n",
      "[0.8245614  0.84210526 0.86842105 0.89473684 0.90265487]\n",
      "[0.8245614  0.84210526 0.86842105 0.89473684 0.90265487]\n",
      "[0.8245614  0.84210526 0.85964912 0.89473684 0.90265487]\n",
      "[0.8245614  0.84210526 0.86842105 0.89473684 0.90265487]\n",
      "[0.8245614  0.84210526 0.85964912 0.89473684 0.90265487]\n",
      "[0.8245614  0.84210526 0.86842105 0.89473684 0.90265487]\n",
      "[0.81578947 0.84210526 0.85964912 0.89473684 0.90265487]\n",
      "[0.81578947 0.84210526 0.85964912 0.89473684 0.90265487]\n",
      "[0.81578947 0.84210526 0.85964912 0.89473684 0.90265487]\n",
      "[0.81578947 0.84210526 0.85964912 0.89473684 0.90265487]\n",
      "[0.81578947 0.84210526 0.85964912 0.89473684 0.89380531]\n",
      "[0.81578947 0.84210526 0.85964912 0.89473684 0.90265487]\n",
      "[0.81578947 0.84210526 0.85964912 0.89473684 0.89380531]\n",
      "[0.81578947 0.84210526 0.85964912 0.89473684 0.89380531]\n",
      "[0.81578947 0.84210526 0.85964912 0.89473684 0.89380531]\n",
      "[0.81578947 0.84210526 0.85964912 0.89473684 0.89380531]\n",
      "[0.81578947 0.83333333 0.85964912 0.89473684 0.89380531]\n",
      "[0.81578947 0.84210526 0.85964912 0.89473684 0.89380531]\n",
      "[0.81578947 0.83333333 0.85964912 0.89473684 0.89380531]\n",
      "[0.81578947 0.84210526 0.85964912 0.89473684 0.89380531]\n",
      "[0.81578947 0.83333333 0.85964912 0.89473684 0.89380531]\n",
      "[0.81578947 0.83333333 0.85964912 0.89473684 0.89380531]\n",
      "[0.81578947 0.83333333 0.85964912 0.89473684 0.89380531]\n",
      "[0.81578947 0.83333333 0.85964912 0.89473684 0.89380531]\n",
      "[0.81578947 0.83333333 0.85964912 0.89473684 0.89380531]\n",
      "[0.81578947 0.83333333 0.85964912 0.89473684 0.89380531]\n",
      "[0.81578947 0.83333333 0.85964912 0.89473684 0.89380531]\n",
      "[0.81578947 0.83333333 0.85964912 0.89473684 0.89380531]\n",
      "[0.81578947 0.83333333 0.85964912 0.88596491 0.88495575]\n",
      "[0.81578947 0.83333333 0.85964912 0.88596491 0.88495575]\n",
      "[0.81578947 0.83333333 0.85964912 0.88596491 0.88495575]\n",
      "[0.81578947 0.83333333 0.85964912 0.88596491 0.88495575]\n",
      "[0.81578947 0.83333333 0.85964912 0.88596491 0.88495575]\n",
      "[0.81578947 0.83333333 0.85964912 0.88596491 0.88495575]\n",
      "[0.81578947 0.83333333 0.85964912 0.88596491 0.88495575]\n",
      "[0.81578947 0.83333333 0.85964912 0.88596491 0.88495575]\n",
      "[0.80701754 0.83333333 0.85964912 0.88596491 0.88495575]\n",
      "[0.80701754 0.83333333 0.85964912 0.88596491 0.88495575]\n",
      "[0.80701754 0.83333333 0.85964912 0.88596491 0.88495575]\n",
      "[0.80701754 0.83333333 0.85964912 0.88596491 0.88495575]\n",
      "[0.80701754 0.8245614  0.85964912 0.88596491 0.88495575]\n",
      "[0.80701754 0.8245614  0.85964912 0.88596491 0.88495575]\n",
      "[0.80701754 0.81578947 0.85964912 0.88596491 0.88495575]\n",
      "[0.80701754 0.81578947 0.85964912 0.88596491 0.88495575]\n",
      "[0.80701754 0.81578947 0.85964912 0.88596491 0.88495575]\n",
      "[0.80701754 0.81578947 0.85964912 0.88596491 0.88495575]\n",
      "[0.80701754 0.80701754 0.85964912 0.88596491 0.88495575]\n",
      "[0.80701754 0.80701754 0.85964912 0.88596491 0.88495575]\n",
      "[0.79824561 0.80701754 0.85964912 0.87719298 0.88495575]\n",
      "[0.80701754 0.80701754 0.85964912 0.87719298 0.88495575]\n",
      "[0.79824561 0.80701754 0.85964912 0.87719298 0.88495575]\n",
      "[0.79824561 0.80701754 0.85964912 0.87719298 0.88495575]\n",
      "[0.79824561 0.80701754 0.85964912 0.87719298 0.88495575]\n",
      "[0.79824561 0.80701754 0.85964912 0.87719298 0.88495575]\n",
      "[0.79824561 0.80701754 0.85964912 0.87719298 0.88495575]\n",
      "[0.79824561 0.80701754 0.85964912 0.87719298 0.88495575]\n",
      "[0.78947368 0.80701754 0.85964912 0.86842105 0.88495575]\n",
      "[0.78947368 0.80701754 0.85964912 0.86842105 0.88495575]\n",
      "[0.78947368 0.80701754 0.85964912 0.86842105 0.88495575]\n",
      "[0.78947368 0.80701754 0.85964912 0.86842105 0.88495575]\n",
      "[0.78947368 0.80701754 0.85964912 0.86842105 0.88495575]\n",
      "[0.78947368 0.80701754 0.85964912 0.86842105 0.88495575]\n",
      "[0.78070175 0.80701754 0.84210526 0.86842105 0.88495575]\n",
      "[0.78070175 0.80701754 0.84210526 0.86842105 0.88495575]\n",
      "[0.78070175 0.80701754 0.84210526 0.86842105 0.88495575]\n",
      "[0.78070175 0.80701754 0.84210526 0.86842105 0.88495575]\n",
      "[0.76315789 0.80701754 0.83333333 0.86842105 0.88495575]\n",
      "[0.76315789 0.80701754 0.83333333 0.86842105 0.88495575]\n",
      "[0.76315789 0.80701754 0.83333333 0.86842105 0.88495575]\n",
      "[0.76315789 0.80701754 0.83333333 0.86842105 0.88495575]\n",
      "[0.76315789 0.80701754 0.8245614  0.86842105 0.89380531]\n",
      "[0.76315789 0.80701754 0.8245614  0.86842105 0.89380531]\n",
      "[0.76315789 0.79824561 0.8245614  0.85964912 0.88495575]\n",
      "[0.76315789 0.79824561 0.8245614  0.85964912 0.88495575]\n",
      "[0.76315789 0.79824561 0.80701754 0.85964912 0.87610619]\n",
      "[0.76315789 0.79824561 0.80701754 0.85964912 0.87610619]\n",
      "[0.76315789 0.79824561 0.80701754 0.85964912 0.87610619]\n"
     ]
    },
    {
     "name": "stdout",
     "output_type": "stream",
     "text": [
      "[0.76315789 0.79824561 0.80701754 0.85964912 0.87610619]\n",
      "[0.76315789 0.79824561 0.79824561 0.85964912 0.86725664]\n",
      "[0.76315789 0.79824561 0.79824561 0.85964912 0.86725664]\n",
      "[0.75438596 0.78947368 0.79824561 0.85964912 0.85840708]\n",
      "[0.75438596 0.78947368 0.79824561 0.85964912 0.85840708]\n",
      "[0.75438596 0.78070175 0.79824561 0.85964912 0.85840708]\n",
      "[0.75438596 0.78070175 0.79824561 0.85964912 0.85840708]\n",
      "[0.75438596 0.77192982 0.79824561 0.85964912 0.85840708]\n",
      "[0.75438596 0.77192982 0.79824561 0.85964912 0.85840708]\n",
      "[0.74561404 0.77192982 0.79824561 0.85964912 0.84955752]\n",
      "[0.74561404 0.77192982 0.79824561 0.85964912 0.84955752]\n",
      "[0.73684211 0.77192982 0.79824561 0.85087719 0.84955752]\n",
      "[0.73684211 0.77192982 0.79824561 0.85087719 0.84955752]\n",
      "[0.73684211 0.77192982 0.78947368 0.84210526 0.84070796]\n",
      "[0.73684211 0.77192982 0.78947368 0.84210526 0.84070796]\n",
      "[0.73684211 0.77192982 0.78947368 0.83333333 0.81415929]\n",
      "[0.73684211 0.77192982 0.78947368 0.83333333 0.83185841]\n",
      "[0.72807018 0.77192982 0.78947368 0.8245614  0.81415929]\n",
      "[0.73684211 0.77192982 0.78947368 0.8245614  0.81415929]\n",
      "[0.72807018 0.71929825 0.78070175 0.8245614  0.81415929]\n",
      "[0.72807018 0.71929825 0.78070175 0.8245614  0.81415929]\n",
      "[0.71052632 0.70175439 0.78070175 0.81578947 0.81415929]\n",
      "[0.71052632 0.70175439 0.78070175 0.81578947 0.81415929]\n",
      "[0.71052632 0.68421053 0.77192982 0.81578947 0.80530973]\n",
      "[0.71052632 0.68421053 0.77192982 0.81578947 0.80530973]\n",
      "[0.71052632 0.68421053 0.77192982 0.81578947 0.78761062]\n",
      "[0.71052632 0.68421053 0.77192982 0.81578947 0.78761062]\n",
      "[0.68421053 0.68421053 0.76315789 0.80701754 0.76106195]\n",
      "[0.68421053 0.68421053 0.76315789 0.80701754 0.76106195]\n",
      "[0.68421053 0.68421053 0.76315789 0.80701754 0.74336283]\n",
      "[0.68421053 0.68421053 0.76315789 0.80701754 0.74336283]\n",
      "[0.6754386  0.66666667 0.76315789 0.80701754 0.74336283]\n",
      "[0.6754386  0.66666667 0.76315789 0.80701754 0.74336283]\n",
      "[0.66666667 0.66666667 0.76315789 0.79824561 0.72566372]\n",
      "[0.66666667 0.66666667 0.76315789 0.79824561 0.72566372]\n",
      "[0.66666667 0.66666667 0.74561404 0.79824561 0.71681416]\n",
      "[0.66666667 0.66666667 0.74561404 0.79824561 0.71681416]\n",
      "[0.65789474 0.66666667 0.73684211 0.78070175 0.69026549]\n",
      "[0.65789474 0.66666667 0.73684211 0.78070175 0.69026549]\n",
      "[0.65789474 0.63157895 0.73684211 0.73684211 0.68141593]\n",
      "[0.65789474 0.63157895 0.73684211 0.73684211 0.68141593]\n",
      "[0.63157895 0.62280702 0.66666667 0.71052632 0.68141593]\n",
      "[0.63157895 0.62280702 0.66666667 0.71052632 0.68141593]\n",
      "[0.62280702 0.62280702 0.63157895 0.66666667 0.62831858]\n",
      "[0.62280702 0.62280702 0.63157895 0.66666667 0.62831858]\n",
      "[0.62280702 0.62280702 0.63157895 0.63157895 0.62831858]\n",
      "[0.62280702 0.62280702 0.63157895 0.63157895 0.62831858]\n",
      "[0.62280702 0.62280702 0.63157895 0.63157895 0.62831858]\n",
      "[0.62280702 0.62280702 0.63157895 0.63157895 0.62831858]\n",
      "[0.62280702 0.62280702 0.63157895 0.63157895 0.62831858]\n",
      "[0.62280702 0.62280702 0.63157895 0.63157895 0.62831858]\n",
      "[0.62280702 0.62280702 0.63157895 0.63157895 0.62831858]\n",
      "[0.62280702 0.62280702 0.63157895 0.63157895 0.62831858]\n",
      "[0.62280702 0.62280702 0.63157895 0.63157895 0.62831858]\n",
      "[0.62280702 0.62280702 0.63157895 0.63157895 0.62831858]\n",
      "[0.62280702 0.62280702 0.63157895 0.63157895 0.62831858]\n",
      "[0.62280702 0.62280702 0.63157895 0.63157895 0.62831858]\n",
      "[0.62280702 0.62280702 0.63157895 0.63157895 0.62831858]\n",
      "[0.62280702 0.62280702 0.63157895 0.63157895 0.62831858]\n",
      "[0.62280702 0.62280702 0.63157895 0.63157895 0.62831858]\n",
      "[0.62280702 0.62280702 0.63157895 0.63157895 0.62831858]\n",
      "[0.62280702 0.62280702 0.63157895 0.63157895 0.62831858]\n",
      "[0.62280702 0.62280702 0.63157895 0.63157895 0.62831858]\n",
      "[0.62280702 0.62280702 0.63157895 0.63157895 0.62831858]\n",
      "[0.62280702 0.62280702 0.63157895 0.63157895 0.62831858]\n",
      "[0.62280702 0.62280702 0.63157895 0.63157895 0.62831858]\n",
      "[0.62280702 0.62280702 0.63157895 0.63157895 0.62831858]\n",
      "[0.62280702 0.62280702 0.63157895 0.63157895 0.62831858]\n",
      "[0.62280702 0.62280702 0.63157895 0.63157895 0.62831858]\n",
      "[0.62280702 0.62280702 0.63157895 0.63157895 0.62831858]\n",
      "[0.62280702 0.62280702 0.63157895 0.63157895 0.62831858]\n",
      "[0.62280702 0.62280702 0.63157895 0.63157895 0.62831858]\n",
      "[0.62280702 0.62280702 0.63157895 0.63157895 0.62831858]\n",
      "[0.62280702 0.62280702 0.63157895 0.63157895 0.62831858]\n",
      "[0.62280702 0.62280702 0.63157895 0.63157895 0.62831858]\n",
      "[0.62280702 0.62280702 0.63157895 0.63157895 0.62831858]\n",
      "[0.62280702 0.62280702 0.63157895 0.63157895 0.62831858]\n",
      "[0.62280702 0.62280702 0.63157895 0.63157895 0.62831858]\n",
      "[0.62280702 0.62280702 0.63157895 0.63157895 0.62831858]\n",
      "[0.62280702 0.62280702 0.63157895 0.63157895 0.62831858]\n",
      "[0.62280702 0.62280702 0.63157895 0.63157895 0.62831858]\n",
      "[0.62280702 0.62280702 0.63157895 0.63157895 0.62831858]\n",
      "[0.62280702 0.62280702 0.63157895 0.63157895 0.62831858]\n",
      "[0.62280702 0.62280702 0.63157895 0.63157895 0.62831858]\n",
      "[0.62280702 0.62280702 0.63157895 0.63157895 0.62831858]\n",
      "[0.62280702 0.62280702 0.63157895 0.63157895 0.62831858]\n",
      "[0.62280702 0.62280702 0.63157895 0.63157895 0.62831858]\n",
      "[0.62280702 0.62280702 0.63157895 0.63157895 0.62831858]\n",
      "[0.62280702 0.62280702 0.63157895 0.63157895 0.62831858]\n",
      "[0.62280702 0.62280702 0.63157895 0.63157895 0.62831858]\n",
      "[0.62280702 0.62280702 0.63157895 0.63157895 0.62831858]\n",
      "[0.62280702 0.62280702 0.63157895 0.63157895 0.62831858]\n",
      "[0.62280702 0.62280702 0.63157895 0.63157895 0.62831858]\n",
      "[0.62280702 0.62280702 0.63157895 0.63157895 0.62831858]\n",
      "[0.62280702 0.62280702 0.63157895 0.63157895 0.62831858]\n",
      "[0.62280702 0.62280702 0.63157895 0.63157895 0.62831858]\n",
      "[0.62280702 0.62280702 0.63157895 0.63157895 0.62831858]\n",
      "[0.62280702 0.62280702 0.63157895 0.63157895 0.62831858]\n",
      "[0.62280702 0.62280702 0.63157895 0.63157895 0.62831858]\n",
      "[0.62280702 0.62280702 0.63157895 0.63157895 0.62831858]\n",
      "[0.62280702 0.62280702 0.63157895 0.63157895 0.62831858]\n",
      "[0.62280702 0.62280702 0.63157895 0.63157895 0.62831858]\n",
      "[0.62280702 0.62280702 0.63157895 0.63157895 0.62831858]\n",
      "[0.62280702 0.62280702 0.63157895 0.63157895 0.62831858]\n",
      "[0.62280702 0.62280702 0.63157895 0.63157895 0.62831858]\n",
      "[0.62280702 0.62280702 0.63157895 0.63157895 0.62831858]\n",
      "[0.62280702 0.62280702 0.63157895 0.63157895 0.62831858]\n",
      "[0.62280702 0.62280702 0.63157895 0.63157895 0.62831858]\n",
      "[0.62280702 0.62280702 0.63157895 0.63157895 0.62831858]\n",
      "[0.62280702 0.62280702 0.63157895 0.63157895 0.62831858]\n",
      "[0.62280702 0.62280702 0.63157895 0.63157895 0.62831858]\n",
      "[0.62280702 0.62280702 0.63157895 0.63157895 0.62831858]\n",
      "[0.62280702 0.62280702 0.63157895 0.63157895 0.62831858]\n",
      "[0.62280702 0.62280702 0.63157895 0.63157895 0.62831858]\n",
      "[0.62280702 0.62280702 0.63157895 0.63157895 0.62831858]\n",
      "[0.62280702 0.62280702 0.63157895 0.63157895 0.62831858]\n",
      "[0.62280702 0.62280702 0.63157895 0.63157895 0.62831858]\n",
      "[0.62280702 0.62280702 0.63157895 0.63157895 0.62831858]\n",
      "[0.62280702 0.62280702 0.63157895 0.63157895 0.62831858]\n",
      "[0.62280702 0.62280702 0.63157895 0.63157895 0.62831858]\n",
      "[0.62280702 0.62280702 0.63157895 0.63157895 0.62831858]\n",
      "[0.62280702 0.62280702 0.63157895 0.63157895 0.62831858]\n",
      "[0.62280702 0.62280702 0.63157895 0.63157895 0.62831858]\n",
      "[0.62280702 0.62280702 0.63157895 0.63157895 0.62831858]\n",
      "[0.62280702 0.62280702 0.63157895 0.63157895 0.62831858]\n",
      "[0.62280702 0.62280702 0.63157895 0.63157895 0.62831858]\n",
      "[0.62280702 0.62280702 0.63157895 0.63157895 0.62831858]\n",
      "[0.62280702 0.62280702 0.63157895 0.63157895 0.62831858]\n",
      "[0.62280702 0.62280702 0.63157895 0.63157895 0.62831858]\n",
      "[0.62280702 0.62280702 0.63157895 0.63157895 0.62831858]\n",
      "[0.62280702 0.62280702 0.63157895 0.63157895 0.62831858]\n",
      "[0.62280702 0.62280702 0.63157895 0.63157895 0.62831858]\n",
      "[0.62280702 0.62280702 0.63157895 0.63157895 0.62831858]\n",
      "[0.62280702 0.62280702 0.63157895 0.63157895 0.62831858]\n"
     ]
    }
   ],
   "source": [
    "from sklearn.model_selection import cross_validate\n",
    "\n",
    "score_list = [] \n",
    "\n",
    "max_neighbors = np.floor(X.shape[0] - X.shape[0]/5.)\n",
    "\n",
    "for i in range(1,round(X.shape[0] * 0.75)):\n",
    "    score = cross_validate(estimator = KNeighborsClassifier(n_neighbors = i),\n",
    "                           X = X,\n",
    "                           y = y,\n",
    "                           cv = None, #Default is 5-fold CV\n",
    "                           scoring = ('accuracy')\n",
    "                          )\n",
    "    print(score['test_score'])\n",
    "    score_list.append(np.array(score['test_score']).mean())\n",
    "\n"
   ]
  },
  {
   "cell_type": "code",
   "execution_count": 24,
   "metadata": {},
   "outputs": [
    {
     "name": "stdout",
     "output_type": "stream",
     "text": [
      "[0.85964912 0.92982456 0.9122807  0.9122807  0.91150442]\n",
      "[0.87719298 0.92105263 0.92982456 0.92982456 0.88495575]\n",
      "[0.87719298 0.92105263 0.94736842 0.93859649 0.91150442]\n",
      "[0.87719298 0.92105263 0.93859649 0.94736842 0.92920354]\n",
      "[0.88596491 0.93859649 0.93859649 0.94736842 0.92920354]\n",
      "[0.86842105 0.92982456 0.94736842 0.93859649 0.92035398]\n",
      "[0.87719298 0.93859649 0.94736842 0.94736842 0.92035398]\n",
      "[0.86842105 0.93859649 0.93859649 0.95614035 0.92920354]\n",
      "[0.87719298 0.93859649 0.94736842 0.95614035 0.9380531 ]\n",
      "[0.86842105 0.93859649 0.94736842 0.94736842 0.92920354]\n",
      "[0.87719298 0.93859649 0.94736842 0.95614035 0.92920354]\n",
      "[0.86842105 0.93859649 0.94736842 0.96491228 0.9380531 ]\n",
      "[0.87719298 0.93859649 0.94736842 0.95614035 0.94690265]\n",
      "[0.86842105 0.93859649 0.94736842 0.96491228 0.95575221]\n",
      "[0.86842105 0.93859649 0.93859649 0.95614035 0.94690265]\n",
      "[0.86842105 0.93859649 0.92982456 0.95614035 0.95575221]\n",
      "[0.86842105 0.93859649 0.92982456 0.95614035 0.95575221]\n",
      "[0.86842105 0.93859649 0.93859649 0.95614035 0.95575221]\n",
      "[0.86842105 0.93859649 0.93859649 0.95614035 0.94690265]\n",
      "[0.85964912 0.92105263 0.92982456 0.95614035 0.95575221]\n",
      "[0.86842105 0.92105263 0.93859649 0.95614035 0.96460177]\n",
      "[0.85964912 0.92105263 0.92982456 0.95614035 0.94690265]\n",
      "[0.85964912 0.92105263 0.92982456 0.94736842 0.95575221]\n",
      "[0.85964912 0.9122807  0.92982456 0.94736842 0.94690265]\n",
      "[0.85964912 0.92105263 0.92982456 0.94736842 0.94690265]\n",
      "[0.85964912 0.9122807  0.92982456 0.94736842 0.9380531 ]\n",
      "[0.85964912 0.9122807  0.92982456 0.94736842 0.94690265]\n",
      "[0.85964912 0.90350877 0.92982456 0.94736842 0.9380531 ]\n",
      "[0.85964912 0.9122807  0.92982456 0.94736842 0.9380531 ]\n",
      "[0.85964912 0.90350877 0.92982456 0.94736842 0.9380531 ]\n",
      "[0.85964912 0.90350877 0.92982456 0.94736842 0.9380531 ]\n",
      "[0.86842105 0.90350877 0.92982456 0.94736842 0.9380531 ]\n",
      "[0.86842105 0.90350877 0.92982456 0.94736842 0.95575221]\n",
      "[0.85087719 0.90350877 0.92982456 0.94736842 0.95575221]\n",
      "[0.85087719 0.90350877 0.92982456 0.94736842 0.95575221]\n",
      "[0.84210526 0.90350877 0.92982456 0.95614035 0.94690265]\n",
      "[0.85964912 0.90350877 0.92982456 0.95614035 0.94690265]\n",
      "[0.85964912 0.90350877 0.92982456 0.95614035 0.94690265]\n",
      "[0.85964912 0.90350877 0.92982456 0.94736842 0.94690265]\n",
      "[0.85964912 0.90350877 0.92982456 0.95614035 0.9380531 ]\n",
      "[0.85964912 0.89473684 0.92982456 0.95614035 0.95575221]\n",
      "[0.85964912 0.89473684 0.92982456 0.94736842 0.92920354]\n",
      "[0.85964912 0.89473684 0.92982456 0.95614035 0.9380531 ]\n",
      "[0.85964912 0.90350877 0.92982456 0.94736842 0.9380531 ]\n",
      "[0.85964912 0.9122807  0.92982456 0.94736842 0.94690265]\n",
      "[0.85964912 0.90350877 0.92982456 0.94736842 0.94690265]\n",
      "[0.86842105 0.9122807  0.92982456 0.93859649 0.94690265]\n",
      "[0.85964912 0.89473684 0.92982456 0.93859649 0.9380531 ]\n",
      "[0.85964912 0.90350877 0.92105263 0.93859649 0.94690265]\n",
      "[0.86842105 0.89473684 0.92982456 0.94736842 0.9380531 ]\n",
      "[0.86842105 0.9122807  0.92105263 0.93859649 0.9380531 ]\n",
      "[0.85087719 0.90350877 0.92982456 0.93859649 0.9380531 ]\n",
      "[0.85964912 0.9122807  0.92105263 0.93859649 0.9380531 ]\n",
      "[0.85964912 0.90350877 0.92982456 0.92982456 0.9380531 ]\n",
      "[0.86842105 0.9122807  0.92105263 0.93859649 0.9380531 ]\n",
      "[0.86842105 0.89473684 0.92105263 0.93859649 0.9380531 ]\n",
      "[0.86842105 0.89473684 0.92105263 0.93859649 0.9380531 ]\n",
      "[0.85964912 0.89473684 0.92982456 0.93859649 0.9380531 ]\n",
      "[0.85087719 0.88596491 0.92982456 0.93859649 0.9380531 ]\n",
      "[0.85087719 0.88596491 0.92982456 0.93859649 0.9380531 ]\n",
      "[0.85087719 0.88596491 0.92982456 0.93859649 0.9380531 ]\n",
      "[0.85087719 0.89473684 0.92982456 0.93859649 0.9380531 ]\n",
      "[0.85087719 0.88596491 0.92982456 0.93859649 0.9380531 ]\n",
      "[0.85964912 0.88596491 0.92982456 0.93859649 0.9380531 ]\n",
      "[0.85087719 0.88596491 0.92982456 0.94736842 0.9380531 ]\n",
      "[0.85087719 0.88596491 0.92982456 0.94736842 0.9380531 ]\n",
      "[0.85087719 0.89473684 0.92982456 0.94736842 0.9380531 ]\n",
      "[0.85087719 0.89473684 0.92982456 0.94736842 0.9380531 ]\n",
      "[0.85087719 0.89473684 0.92982456 0.94736842 0.9380531 ]\n",
      "[0.84210526 0.88596491 0.92982456 0.94736842 0.9380531 ]\n",
      "[0.84210526 0.88596491 0.92982456 0.94736842 0.9380531 ]\n",
      "[0.84210526 0.88596491 0.92982456 0.94736842 0.9380531 ]\n",
      "[0.84210526 0.88596491 0.92105263 0.93859649 0.9380531 ]\n",
      "[0.84210526 0.88596491 0.92105263 0.93859649 0.9380531 ]\n",
      "[0.84210526 0.88596491 0.92105263 0.93859649 0.9380531 ]\n",
      "[0.84210526 0.88596491 0.92982456 0.94736842 0.9380531 ]\n",
      "[0.84210526 0.88596491 0.92982456 0.94736842 0.9380531 ]\n",
      "[0.84210526 0.88596491 0.92982456 0.94736842 0.9380531 ]\n",
      "[0.85087719 0.88596491 0.92982456 0.94736842 0.9380531 ]\n",
      "[0.85087719 0.89473684 0.92982456 0.94736842 0.9380531 ]\n",
      "[0.85087719 0.88596491 0.92982456 0.94736842 0.9380531 ]\n",
      "[0.85087719 0.89473684 0.92982456 0.94736842 0.9380531 ]\n",
      "[0.85087719 0.88596491 0.92982456 0.94736842 0.9380531 ]\n",
      "[0.85087719 0.88596491 0.92982456 0.94736842 0.9380531 ]\n",
      "[0.85087719 0.88596491 0.92982456 0.94736842 0.9380531 ]\n",
      "[0.85087719 0.88596491 0.92982456 0.94736842 0.9380531 ]\n",
      "[0.85087719 0.88596491 0.92982456 0.94736842 0.9380531 ]\n",
      "[0.85087719 0.88596491 0.92982456 0.94736842 0.9380531 ]\n",
      "[0.85087719 0.88596491 0.92982456 0.94736842 0.9380531 ]\n",
      "[0.85087719 0.88596491 0.92982456 0.94736842 0.9380531 ]\n",
      "[0.85087719 0.88596491 0.92982456 0.94736842 0.9380531 ]\n",
      "[0.85087719 0.89473684 0.92982456 0.94736842 0.9380531 ]\n",
      "[0.85087719 0.89473684 0.92982456 0.94736842 0.9380531 ]\n",
      "[0.85087719 0.89473684 0.92982456 0.94736842 0.9380531 ]\n",
      "[0.85087719 0.88596491 0.92982456 0.94736842 0.9380531 ]\n",
      "[0.84210526 0.88596491 0.92982456 0.94736842 0.9380531 ]\n",
      "[0.85087719 0.88596491 0.92982456 0.94736842 0.9380531 ]\n",
      "[0.84210526 0.87719298 0.92982456 0.95614035 0.9380531 ]\n",
      "[0.84210526 0.88596491 0.92982456 0.95614035 0.9380531 ]\n",
      "[0.84210526 0.88596491 0.92982456 0.95614035 0.9380531 ]\n",
      "[0.84210526 0.88596491 0.92982456 0.95614035 0.9380531 ]\n",
      "[0.83333333 0.88596491 0.92982456 0.95614035 0.9380531 ]\n",
      "[0.83333333 0.88596491 0.92982456 0.95614035 0.9380531 ]\n",
      "[0.83333333 0.88596491 0.92982456 0.95614035 0.9380531 ]\n",
      "[0.83333333 0.88596491 0.92982456 0.95614035 0.9380531 ]\n",
      "[0.83333333 0.88596491 0.92105263 0.95614035 0.9380531 ]\n",
      "[0.83333333 0.88596491 0.92105263 0.95614035 0.9380531 ]\n",
      "[0.84210526 0.87719298 0.92105263 0.95614035 0.9380531 ]\n",
      "[0.83333333 0.88596491 0.92105263 0.95614035 0.9380531 ]\n",
      "[0.84210526 0.88596491 0.92105263 0.95614035 0.92920354]\n",
      "[0.84210526 0.88596491 0.92105263 0.95614035 0.9380531 ]\n",
      "[0.84210526 0.87719298 0.92105263 0.95614035 0.92920354]\n",
      "[0.84210526 0.87719298 0.92105263 0.95614035 0.92920354]\n",
      "[0.84210526 0.87719298 0.92105263 0.95614035 0.92035398]\n",
      "[0.84210526 0.87719298 0.92105263 0.95614035 0.92035398]\n",
      "[0.84210526 0.86842105 0.92105263 0.94736842 0.92035398]\n",
      "[0.84210526 0.86842105 0.92105263 0.95614035 0.92920354]\n",
      "[0.84210526 0.86842105 0.92105263 0.94736842 0.92035398]\n",
      "[0.84210526 0.86842105 0.92105263 0.94736842 0.92920354]\n",
      "[0.84210526 0.86842105 0.92105263 0.93859649 0.92035398]\n",
      "[0.84210526 0.86842105 0.92105263 0.94736842 0.92920354]\n",
      "[0.84210526 0.86842105 0.92105263 0.93859649 0.91150442]\n",
      "[0.84210526 0.86842105 0.92105263 0.93859649 0.91150442]\n",
      "[0.84210526 0.86842105 0.92105263 0.93859649 0.91150442]\n",
      "[0.84210526 0.86842105 0.92105263 0.93859649 0.91150442]\n",
      "[0.83333333 0.86842105 0.92105263 0.93859649 0.91150442]\n",
      "[0.83333333 0.86842105 0.92105263 0.93859649 0.91150442]\n",
      "[0.83333333 0.86842105 0.92105263 0.93859649 0.91150442]\n",
      "[0.83333333 0.86842105 0.92105263 0.93859649 0.91150442]\n",
      "[0.83333333 0.86842105 0.9122807  0.93859649 0.91150442]\n",
      "[0.84210526 0.86842105 0.9122807  0.93859649 0.91150442]\n",
      "[0.83333333 0.86842105 0.9122807  0.93859649 0.91150442]\n",
      "[0.83333333 0.86842105 0.9122807  0.93859649 0.91150442]\n",
      "[0.83333333 0.86842105 0.9122807  0.93859649 0.91150442]\n",
      "[0.83333333 0.86842105 0.9122807  0.93859649 0.91150442]\n",
      "[0.83333333 0.86842105 0.9122807  0.93859649 0.91150442]\n",
      "[0.83333333 0.86842105 0.9122807  0.93859649 0.91150442]\n",
      "[0.83333333 0.86842105 0.9122807  0.93859649 0.91150442]\n",
      "[0.83333333 0.86842105 0.9122807  0.93859649 0.91150442]\n",
      "[0.83333333 0.86842105 0.90350877 0.93859649 0.91150442]\n",
      "[0.83333333 0.86842105 0.90350877 0.93859649 0.91150442]\n",
      "[0.83333333 0.86842105 0.90350877 0.93859649 0.91150442]\n",
      "[0.83333333 0.86842105 0.90350877 0.93859649 0.91150442]\n",
      "[0.83333333 0.86842105 0.90350877 0.93859649 0.91150442]\n"
     ]
    },
    {
     "name": "stdout",
     "output_type": "stream",
     "text": [
      "[0.83333333 0.86842105 0.90350877 0.93859649 0.92035398]\n",
      "[0.83333333 0.86842105 0.89473684 0.93859649 0.91150442]\n",
      "[0.83333333 0.86842105 0.89473684 0.93859649 0.92035398]\n",
      "[0.83333333 0.86842105 0.89473684 0.93859649 0.91150442]\n",
      "[0.83333333 0.86842105 0.89473684 0.93859649 0.91150442]\n",
      "[0.83333333 0.86842105 0.89473684 0.93859649 0.91150442]\n",
      "[0.83333333 0.86842105 0.89473684 0.93859649 0.91150442]\n",
      "[0.83333333 0.86842105 0.89473684 0.93859649 0.91150442]\n",
      "[0.83333333 0.86842105 0.89473684 0.93859649 0.91150442]\n",
      "[0.83333333 0.86842105 0.89473684 0.93859649 0.91150442]\n",
      "[0.83333333 0.86842105 0.89473684 0.93859649 0.91150442]\n",
      "[0.83333333 0.86842105 0.89473684 0.93859649 0.91150442]\n",
      "[0.83333333 0.86842105 0.89473684 0.93859649 0.91150442]\n",
      "[0.83333333 0.86842105 0.89473684 0.93859649 0.91150442]\n",
      "[0.83333333 0.86842105 0.89473684 0.93859649 0.91150442]\n",
      "[0.83333333 0.86842105 0.89473684 0.93859649 0.91150442]\n",
      "[0.83333333 0.86842105 0.89473684 0.93859649 0.91150442]\n",
      "[0.83333333 0.86842105 0.89473684 0.93859649 0.91150442]\n",
      "[0.83333333 0.86842105 0.89473684 0.93859649 0.91150442]\n",
      "[0.83333333 0.85964912 0.89473684 0.93859649 0.90265487]\n",
      "[0.83333333 0.85964912 0.89473684 0.93859649 0.90265487]\n",
      "[0.83333333 0.85964912 0.89473684 0.93859649 0.90265487]\n",
      "[0.83333333 0.85964912 0.89473684 0.93859649 0.90265487]\n",
      "[0.83333333 0.85087719 0.89473684 0.93859649 0.90265487]\n",
      "[0.83333333 0.85087719 0.89473684 0.93859649 0.90265487]\n",
      "[0.83333333 0.85087719 0.88596491 0.93859649 0.90265487]\n",
      "[0.83333333 0.85087719 0.89473684 0.93859649 0.90265487]\n",
      "[0.83333333 0.85087719 0.89473684 0.93859649 0.90265487]\n",
      "[0.83333333 0.85087719 0.89473684 0.93859649 0.90265487]\n",
      "[0.83333333 0.85087719 0.89473684 0.93859649 0.91150442]\n",
      "[0.83333333 0.85087719 0.89473684 0.93859649 0.91150442]\n",
      "[0.83333333 0.85087719 0.88596491 0.94736842 0.91150442]\n",
      "[0.83333333 0.85087719 0.88596491 0.94736842 0.91150442]\n",
      "[0.83333333 0.85087719 0.88596491 0.94736842 0.90265487]\n",
      "[0.83333333 0.85087719 0.88596491 0.94736842 0.91150442]\n",
      "[0.83333333 0.85087719 0.87719298 0.93859649 0.90265487]\n",
      "[0.83333333 0.85087719 0.87719298 0.93859649 0.90265487]\n",
      "[0.83333333 0.84210526 0.87719298 0.93859649 0.90265487]\n",
      "[0.83333333 0.84210526 0.87719298 0.93859649 0.90265487]\n",
      "[0.8245614  0.84210526 0.87719298 0.93859649 0.90265487]\n",
      "[0.8245614  0.84210526 0.87719298 0.93859649 0.90265487]\n",
      "[0.8245614  0.84210526 0.87719298 0.92982456 0.90265487]\n",
      "[0.8245614  0.84210526 0.87719298 0.92982456 0.90265487]\n",
      "[0.8245614  0.84210526 0.88596491 0.92982456 0.90265487]\n",
      "[0.8245614  0.84210526 0.88596491 0.92982456 0.90265487]\n",
      "[0.8245614  0.84210526 0.88596491 0.92105263 0.90265487]\n",
      "[0.8245614  0.84210526 0.88596491 0.92105263 0.90265487]\n",
      "[0.8245614  0.84210526 0.86842105 0.92105263 0.90265487]\n",
      "[0.8245614  0.84210526 0.86842105 0.92105263 0.90265487]\n",
      "[0.8245614  0.84210526 0.86842105 0.9122807  0.90265487]\n",
      "[0.8245614  0.84210526 0.86842105 0.9122807  0.90265487]\n",
      "[0.8245614  0.85087719 0.86842105 0.9122807  0.90265487]\n",
      "[0.8245614  0.85087719 0.86842105 0.9122807  0.90265487]\n",
      "[0.8245614  0.85087719 0.86842105 0.9122807  0.90265487]\n",
      "[0.8245614  0.85087719 0.86842105 0.9122807  0.90265487]\n",
      "[0.8245614  0.85087719 0.86842105 0.9122807  0.90265487]\n",
      "[0.8245614  0.85087719 0.86842105 0.9122807  0.90265487]\n",
      "[0.8245614  0.85087719 0.86842105 0.90350877 0.90265487]\n",
      "[0.8245614  0.85087719 0.86842105 0.90350877 0.90265487]\n",
      "[0.8245614  0.85087719 0.86842105 0.90350877 0.90265487]\n",
      "[0.8245614  0.85087719 0.86842105 0.90350877 0.90265487]\n",
      "[0.8245614  0.85087719 0.86842105 0.89473684 0.90265487]\n",
      "[0.8245614  0.85087719 0.86842105 0.89473684 0.90265487]\n",
      "[0.8245614  0.85087719 0.86842105 0.89473684 0.90265487]\n",
      "[0.8245614  0.85087719 0.86842105 0.89473684 0.90265487]\n",
      "[0.8245614  0.85087719 0.86842105 0.89473684 0.90265487]\n",
      "[0.8245614  0.85087719 0.86842105 0.89473684 0.90265487]\n",
      "[0.8245614  0.85087719 0.86842105 0.89473684 0.90265487]\n",
      "[0.8245614  0.85087719 0.86842105 0.89473684 0.90265487]\n",
      "[0.8245614  0.84210526 0.86842105 0.89473684 0.90265487]\n",
      "[0.8245614  0.84210526 0.86842105 0.89473684 0.90265487]\n",
      "[0.8245614  0.84210526 0.86842105 0.89473684 0.90265487]\n",
      "[0.8245614  0.84210526 0.86842105 0.89473684 0.90265487]\n",
      "[0.8245614  0.84210526 0.85964912 0.89473684 0.90265487]\n",
      "[0.8245614  0.84210526 0.86842105 0.89473684 0.90265487]\n",
      "[0.8245614  0.84210526 0.85964912 0.89473684 0.90265487]\n",
      "[0.8245614  0.84210526 0.86842105 0.89473684 0.90265487]\n",
      "[0.81578947 0.84210526 0.85964912 0.89473684 0.90265487]\n",
      "[0.81578947 0.84210526 0.85964912 0.89473684 0.90265487]\n",
      "[0.81578947 0.84210526 0.85964912 0.89473684 0.90265487]\n",
      "[0.81578947 0.84210526 0.85964912 0.89473684 0.90265487]\n",
      "[0.81578947 0.84210526 0.85964912 0.89473684 0.89380531]\n",
      "[0.81578947 0.84210526 0.85964912 0.89473684 0.90265487]\n",
      "[0.81578947 0.84210526 0.85964912 0.89473684 0.89380531]\n",
      "[0.81578947 0.84210526 0.85964912 0.89473684 0.89380531]\n",
      "[0.81578947 0.84210526 0.85964912 0.89473684 0.89380531]\n",
      "[0.81578947 0.84210526 0.85964912 0.89473684 0.89380531]\n",
      "[0.81578947 0.83333333 0.85964912 0.89473684 0.89380531]\n",
      "[0.81578947 0.84210526 0.85964912 0.89473684 0.89380531]\n",
      "[0.81578947 0.83333333 0.85964912 0.89473684 0.89380531]\n",
      "[0.81578947 0.84210526 0.85964912 0.89473684 0.89380531]\n",
      "[0.81578947 0.83333333 0.85964912 0.89473684 0.89380531]\n",
      "[0.81578947 0.83333333 0.85964912 0.89473684 0.89380531]\n",
      "[0.81578947 0.83333333 0.85964912 0.89473684 0.89380531]\n",
      "[0.81578947 0.83333333 0.85964912 0.89473684 0.89380531]\n",
      "[0.81578947 0.83333333 0.85964912 0.89473684 0.89380531]\n",
      "[0.81578947 0.83333333 0.85964912 0.89473684 0.89380531]\n",
      "[0.81578947 0.83333333 0.85964912 0.89473684 0.89380531]\n",
      "[0.81578947 0.83333333 0.85964912 0.89473684 0.89380531]\n",
      "[0.81578947 0.83333333 0.85964912 0.88596491 0.88495575]\n",
      "[0.81578947 0.83333333 0.85964912 0.88596491 0.88495575]\n",
      "[0.81578947 0.83333333 0.85964912 0.88596491 0.88495575]\n",
      "[0.81578947 0.83333333 0.85964912 0.88596491 0.88495575]\n",
      "[0.81578947 0.83333333 0.85964912 0.88596491 0.88495575]\n",
      "[0.81578947 0.83333333 0.85964912 0.88596491 0.88495575]\n",
      "[0.81578947 0.83333333 0.85964912 0.88596491 0.88495575]\n",
      "[0.81578947 0.83333333 0.85964912 0.88596491 0.88495575]\n",
      "[0.80701754 0.83333333 0.85964912 0.88596491 0.88495575]\n",
      "[0.80701754 0.83333333 0.85964912 0.88596491 0.88495575]\n",
      "[0.80701754 0.83333333 0.85964912 0.88596491 0.88495575]\n",
      "[0.80701754 0.83333333 0.85964912 0.88596491 0.88495575]\n",
      "[0.80701754 0.8245614  0.85964912 0.88596491 0.88495575]\n",
      "[0.80701754 0.8245614  0.85964912 0.88596491 0.88495575]\n",
      "[0.80701754 0.81578947 0.85964912 0.88596491 0.88495575]\n",
      "[0.80701754 0.81578947 0.85964912 0.88596491 0.88495575]\n",
      "[0.80701754 0.81578947 0.85964912 0.88596491 0.88495575]\n",
      "[0.80701754 0.81578947 0.85964912 0.88596491 0.88495575]\n",
      "[0.80701754 0.80701754 0.85964912 0.88596491 0.88495575]\n",
      "[0.80701754 0.80701754 0.85964912 0.88596491 0.88495575]\n",
      "[0.79824561 0.80701754 0.85964912 0.87719298 0.88495575]\n",
      "[0.80701754 0.80701754 0.85964912 0.87719298 0.88495575]\n",
      "[0.79824561 0.80701754 0.85964912 0.87719298 0.88495575]\n",
      "[0.79824561 0.80701754 0.85964912 0.87719298 0.88495575]\n",
      "[0.79824561 0.80701754 0.85964912 0.87719298 0.88495575]\n",
      "[0.79824561 0.80701754 0.85964912 0.87719298 0.88495575]\n",
      "[0.79824561 0.80701754 0.85964912 0.87719298 0.88495575]\n",
      "[0.79824561 0.80701754 0.85964912 0.87719298 0.88495575]\n",
      "[0.78947368 0.80701754 0.85964912 0.86842105 0.88495575]\n",
      "[0.78947368 0.80701754 0.85964912 0.86842105 0.88495575]\n",
      "[0.78947368 0.80701754 0.85964912 0.86842105 0.88495575]\n",
      "[0.78947368 0.80701754 0.85964912 0.86842105 0.88495575]\n",
      "[0.78947368 0.80701754 0.85964912 0.86842105 0.88495575]\n",
      "[0.78947368 0.80701754 0.85964912 0.86842105 0.88495575]\n",
      "[0.78070175 0.80701754 0.84210526 0.86842105 0.88495575]\n",
      "[0.78070175 0.80701754 0.84210526 0.86842105 0.88495575]\n",
      "[0.78070175 0.80701754 0.84210526 0.86842105 0.88495575]\n",
      "[0.78070175 0.80701754 0.84210526 0.86842105 0.88495575]\n",
      "[0.76315789 0.80701754 0.83333333 0.86842105 0.88495575]\n",
      "[0.76315789 0.80701754 0.83333333 0.86842105 0.88495575]\n",
      "[0.76315789 0.80701754 0.83333333 0.86842105 0.88495575]\n",
      "[0.76315789 0.80701754 0.83333333 0.86842105 0.88495575]\n",
      "[0.76315789 0.80701754 0.8245614  0.86842105 0.89380531]\n",
      "[0.76315789 0.80701754 0.8245614  0.86842105 0.89380531]\n",
      "[0.76315789 0.79824561 0.8245614  0.85964912 0.88495575]\n",
      "[0.76315789 0.79824561 0.8245614  0.85964912 0.88495575]\n",
      "[0.76315789 0.79824561 0.80701754 0.85964912 0.87610619]\n"
     ]
    },
    {
     "name": "stdout",
     "output_type": "stream",
     "text": [
      "[0.76315789 0.79824561 0.80701754 0.85964912 0.87610619]\n",
      "[0.76315789 0.79824561 0.80701754 0.85964912 0.87610619]\n",
      "[0.76315789 0.79824561 0.80701754 0.85964912 0.87610619]\n",
      "[0.76315789 0.79824561 0.79824561 0.85964912 0.86725664]\n",
      "[0.76315789 0.79824561 0.79824561 0.85964912 0.86725664]\n",
      "[0.75438596 0.78947368 0.79824561 0.85964912 0.85840708]\n",
      "[0.75438596 0.78947368 0.79824561 0.85964912 0.85840708]\n",
      "[0.75438596 0.78070175 0.79824561 0.85964912 0.85840708]\n",
      "[0.75438596 0.78070175 0.79824561 0.85964912 0.85840708]\n",
      "[0.75438596 0.77192982 0.79824561 0.85964912 0.85840708]\n",
      "[0.75438596 0.77192982 0.79824561 0.85964912 0.85840708]\n",
      "[0.74561404 0.77192982 0.79824561 0.85964912 0.84955752]\n",
      "[0.74561404 0.77192982 0.79824561 0.85964912 0.84955752]\n",
      "[0.73684211 0.77192982 0.79824561 0.85087719 0.84955752]\n",
      "[0.73684211 0.77192982 0.79824561 0.85087719 0.84955752]\n",
      "[0.73684211 0.77192982 0.78947368 0.84210526 0.84070796]\n",
      "[0.73684211 0.77192982 0.78947368 0.84210526 0.84070796]\n",
      "[0.73684211 0.77192982 0.78947368 0.83333333 0.81415929]\n",
      "[0.73684211 0.77192982 0.78947368 0.83333333 0.83185841]\n",
      "[0.72807018 0.77192982 0.78947368 0.8245614  0.81415929]\n",
      "[0.73684211 0.77192982 0.78947368 0.8245614  0.81415929]\n",
      "[0.72807018 0.71929825 0.78070175 0.8245614  0.81415929]\n",
      "[0.72807018 0.71929825 0.78070175 0.8245614  0.81415929]\n",
      "[0.71052632 0.70175439 0.78070175 0.81578947 0.81415929]\n",
      "[0.71052632 0.70175439 0.78070175 0.81578947 0.81415929]\n",
      "[0.71052632 0.68421053 0.77192982 0.81578947 0.80530973]\n",
      "[0.71052632 0.68421053 0.77192982 0.81578947 0.80530973]\n",
      "[0.71052632 0.68421053 0.77192982 0.81578947 0.78761062]\n",
      "[0.71052632 0.68421053 0.77192982 0.81578947 0.78761062]\n",
      "[0.68421053 0.68421053 0.76315789 0.80701754 0.76106195]\n",
      "[0.68421053 0.68421053 0.76315789 0.80701754 0.76106195]\n",
      "[0.68421053 0.68421053 0.76315789 0.80701754 0.74336283]\n",
      "[0.68421053 0.68421053 0.76315789 0.80701754 0.74336283]\n",
      "[0.6754386  0.66666667 0.76315789 0.80701754 0.74336283]\n",
      "[0.6754386  0.66666667 0.76315789 0.80701754 0.74336283]\n",
      "[0.66666667 0.66666667 0.76315789 0.79824561 0.72566372]\n",
      "[0.66666667 0.66666667 0.76315789 0.79824561 0.72566372]\n",
      "[0.66666667 0.66666667 0.74561404 0.79824561 0.71681416]\n",
      "[0.66666667 0.66666667 0.74561404 0.79824561 0.71681416]\n",
      "[0.65789474 0.66666667 0.73684211 0.78070175 0.69026549]\n",
      "[0.65789474 0.66666667 0.73684211 0.78070175 0.69026549]\n",
      "[0.65789474 0.63157895 0.73684211 0.73684211 0.68141593]\n",
      "[0.65789474 0.63157895 0.73684211 0.73684211 0.68141593]\n",
      "[0.63157895 0.62280702 0.66666667 0.71052632 0.68141593]\n",
      "[0.63157895 0.62280702 0.66666667 0.71052632 0.68141593]\n",
      "[0.62280702 0.62280702 0.63157895 0.66666667 0.62831858]\n",
      "[0.62280702 0.62280702 0.63157895 0.66666667 0.62831858]\n",
      "[0.62280702 0.62280702 0.63157895 0.63157895 0.62831858]\n",
      "[0.62280702 0.62280702 0.63157895 0.63157895 0.62831858]\n",
      "[0.62280702 0.62280702 0.63157895 0.63157895 0.62831858]\n",
      "[0.62280702 0.62280702 0.63157895 0.63157895 0.62831858]\n",
      "[0.62280702 0.62280702 0.63157895 0.63157895 0.62831858]\n",
      "[0.62280702 0.62280702 0.63157895 0.63157895 0.62831858]\n",
      "[0.62280702 0.62280702 0.63157895 0.63157895 0.62831858]\n",
      "[0.62280702 0.62280702 0.63157895 0.63157895 0.62831858]\n",
      "[0.62280702 0.62280702 0.63157895 0.63157895 0.62831858]\n",
      "[0.62280702 0.62280702 0.63157895 0.63157895 0.62831858]\n",
      "[0.62280702 0.62280702 0.63157895 0.63157895 0.62831858]\n",
      "[0.62280702 0.62280702 0.63157895 0.63157895 0.62831858]\n",
      "[0.62280702 0.62280702 0.63157895 0.63157895 0.62831858]\n",
      "[0.62280702 0.62280702 0.63157895 0.63157895 0.62831858]\n",
      "[0.62280702 0.62280702 0.63157895 0.63157895 0.62831858]\n",
      "[0.62280702 0.62280702 0.63157895 0.63157895 0.62831858]\n",
      "[0.62280702 0.62280702 0.63157895 0.63157895 0.62831858]\n",
      "[0.62280702 0.62280702 0.63157895 0.63157895 0.62831858]\n",
      "[0.62280702 0.62280702 0.63157895 0.63157895 0.62831858]\n",
      "[0.62280702 0.62280702 0.63157895 0.63157895 0.62831858]\n",
      "[0.62280702 0.62280702 0.63157895 0.63157895 0.62831858]\n",
      "[0.62280702 0.62280702 0.63157895 0.63157895 0.62831858]\n",
      "[0.62280702 0.62280702 0.63157895 0.63157895 0.62831858]\n",
      "[0.62280702 0.62280702 0.63157895 0.63157895 0.62831858]\n",
      "[0.62280702 0.62280702 0.63157895 0.63157895 0.62831858]\n",
      "[0.62280702 0.62280702 0.63157895 0.63157895 0.62831858]\n",
      "[0.62280702 0.62280702 0.63157895 0.63157895 0.62831858]\n",
      "[0.62280702 0.62280702 0.63157895 0.63157895 0.62831858]\n",
      "[0.62280702 0.62280702 0.63157895 0.63157895 0.62831858]\n",
      "[0.62280702 0.62280702 0.63157895 0.63157895 0.62831858]\n",
      "[0.62280702 0.62280702 0.63157895 0.63157895 0.62831858]\n",
      "[0.62280702 0.62280702 0.63157895 0.63157895 0.62831858]\n",
      "[0.62280702 0.62280702 0.63157895 0.63157895 0.62831858]\n",
      "[0.62280702 0.62280702 0.63157895 0.63157895 0.62831858]\n",
      "[0.62280702 0.62280702 0.63157895 0.63157895 0.62831858]\n",
      "[0.62280702 0.62280702 0.63157895 0.63157895 0.62831858]\n",
      "[0.62280702 0.62280702 0.63157895 0.63157895 0.62831858]\n",
      "[0.62280702 0.62280702 0.63157895 0.63157895 0.62831858]\n",
      "[0.62280702 0.62280702 0.63157895 0.63157895 0.62831858]\n",
      "[0.62280702 0.62280702 0.63157895 0.63157895 0.62831858]\n",
      "[0.62280702 0.62280702 0.63157895 0.63157895 0.62831858]\n",
      "[0.62280702 0.62280702 0.63157895 0.63157895 0.62831858]\n",
      "[0.62280702 0.62280702 0.63157895 0.63157895 0.62831858]\n",
      "[0.62280702 0.62280702 0.63157895 0.63157895 0.62831858]\n",
      "[0.62280702 0.62280702 0.63157895 0.63157895 0.62831858]\n",
      "[0.62280702 0.62280702 0.63157895 0.63157895 0.62831858]\n",
      "[0.62280702 0.62280702 0.63157895 0.63157895 0.62831858]\n",
      "[0.62280702 0.62280702 0.63157895 0.63157895 0.62831858]\n",
      "[0.62280702 0.62280702 0.63157895 0.63157895 0.62831858]\n",
      "[0.62280702 0.62280702 0.63157895 0.63157895 0.62831858]\n",
      "[0.62280702 0.62280702 0.63157895 0.63157895 0.62831858]\n",
      "[0.62280702 0.62280702 0.63157895 0.63157895 0.62831858]\n",
      "[0.62280702 0.62280702 0.63157895 0.63157895 0.62831858]\n",
      "[0.62280702 0.62280702 0.63157895 0.63157895 0.62831858]\n",
      "[0.62280702 0.62280702 0.63157895 0.63157895 0.62831858]\n",
      "[0.62280702 0.62280702 0.63157895 0.63157895 0.62831858]\n",
      "[0.62280702 0.62280702 0.63157895 0.63157895 0.62831858]\n",
      "[0.62280702 0.62280702 0.63157895 0.63157895 0.62831858]\n",
      "[0.62280702 0.62280702 0.63157895 0.63157895 0.62831858]\n",
      "[0.62280702 0.62280702 0.63157895 0.63157895 0.62831858]\n",
      "[0.62280702 0.62280702 0.63157895 0.63157895 0.62831858]\n",
      "[0.62280702 0.62280702 0.63157895 0.63157895 0.62831858]\n",
      "[0.62280702 0.62280702 0.63157895 0.63157895 0.62831858]\n",
      "[0.62280702 0.62280702 0.63157895 0.63157895 0.62831858]\n",
      "[0.62280702 0.62280702 0.63157895 0.63157895 0.62831858]\n",
      "[0.62280702 0.62280702 0.63157895 0.63157895 0.62831858]\n",
      "[0.62280702 0.62280702 0.63157895 0.63157895 0.62831858]\n",
      "[0.62280702 0.62280702 0.63157895 0.63157895 0.62831858]\n",
      "[0.62280702 0.62280702 0.63157895 0.63157895 0.62831858]\n",
      "[0.62280702 0.62280702 0.63157895 0.63157895 0.62831858]\n",
      "[0.62280702 0.62280702 0.63157895 0.63157895 0.62831858]\n",
      "[0.62280702 0.62280702 0.63157895 0.63157895 0.62831858]\n",
      "[0.62280702 0.62280702 0.63157895 0.63157895 0.62831858]\n",
      "[0.62280702 0.62280702 0.63157895 0.63157895 0.62831858]\n",
      "[0.62280702 0.62280702 0.63157895 0.63157895 0.62831858]\n",
      "[0.62280702 0.62280702 0.63157895 0.63157895 0.62831858]\n",
      "[0.62280702 0.62280702 0.63157895 0.63157895 0.62831858]\n",
      "[0.62280702 0.62280702 0.63157895 0.63157895 0.62831858]\n",
      "[0.62280702 0.62280702 0.63157895 0.63157895 0.62831858]\n",
      "[0.62280702 0.62280702 0.63157895 0.63157895 0.62831858]\n",
      "[0.62280702 0.62280702 0.63157895 0.63157895 0.62831858]\n",
      "[0.62280702 0.62280702 0.63157895 0.63157895 0.62831858]\n",
      "[0.62280702 0.62280702 0.63157895 0.63157895 0.62831858]\n",
      "[0.62280702 0.62280702 0.63157895 0.63157895 0.62831858]\n",
      "[0.62280702 0.62280702 0.63157895 0.63157895 0.62831858]\n",
      "[0.62280702 0.62280702 0.63157895 0.63157895 0.62831858]\n",
      "[0.62280702 0.62280702 0.63157895 0.63157895 0.62831858]\n",
      "[0.62280702 0.62280702 0.63157895 0.63157895 0.62831858]\n",
      "[0.62280702 0.62280702 0.63157895 0.63157895 0.62831858]\n"
     ]
    }
   ],
   "source": [
    "from sklearn.model_selection import cross_validate\n",
    "from sklearn.model_selection import cross_val_score\n",
    "score_list = [] \n",
    "\n",
    "max_neighbors = np.floor(X.shape[0] - X.shape[0]/5.)\n",
    "\n",
    "for i in range(1,round(X.shape[0] * 0.75)):\n",
    "    score = cross_val_score(estimator = KNeighborsClassifier(n_neighbors = i),\n",
    "                           X = X,\n",
    "                           y = y,\n",
    "                           cv = 5, #Default is 5-fold CV     \n",
    "                          )\n",
    "    print(score)\n",
    "    score_list.append(np.array(score).mean())\n",
    "\n"
   ]
  },
  {
   "cell_type": "code",
   "execution_count": 25,
   "metadata": {},
   "outputs": [
    {
     "data": {
      "image/png": "[encoded data removed]",
      "text/plain": [
       "<Figure size 1440x576 with 1 Axes>"
      ]
     },
     "metadata": {
      "needs_background": "light"
     },
     "output_type": "display_data"
    }
   ],
   "source": [
    "plt.figure(figsize = (20,8))\n",
    "\n",
    "sns.lineplot(x = range(1,len(score_list)+1),\n",
    "             y = score_list)\n",
    "\n",
    "plt.show() "
   ]
  },
  {
   "cell_type": "code",
   "execution_count": 26,
   "metadata": {},
   "outputs": [
    {
     "data": {
      "text/plain": [
       "<AxesSubplot:>"
      ]
     },
     "execution_count": 26,
     "metadata": {},
     "output_type": "execute_result"
    },
    {
     "data": {
      "image/png": "[encoded data removed]",
      "text/plain": [
       "<Figure size 720x576 with 1 Axes>"
      ]
     },
     "metadata": {
      "needs_background": "light"
     },
     "output_type": "display_data"
    }
   ],
   "source": [
    "plt.figure(figsize = (10,8))\n",
    "\n",
    "sns.lineplot(x = range(1,len(score_list) +1),\n",
    "             y = score_list)"
   ]
  },
  {
   "cell_type": "markdown",
   "metadata": {
    "colab_type": "text",
    "id": "Pe1PUrJGZFbb"
   },
   "source": [
    "# Standardize the predictor matrix and cross-validate across the different K.\n",
    "- Plot the standardized mean cross-validated accuracy against the unstandardized. Which is better?\n",
    "- Why?"
   ]
  },
  {
   "cell_type": "code",
   "execution_count": 27,
   "metadata": {
    "ExecuteTime": {
     "end_time": "2019-05-16T06:05:23.192596Z",
     "start_time": "2019-05-16T06:05:23.185608Z"
    },
    "colab": {},
    "colab_type": "code",
    "id": "2G0RGilBZFbc"
   },
   "outputs": [],
   "source": [
    "# Standarize X\n",
    "from sklearn import preprocessing\n",
    "\n",
    "x = X.values \n",
    "min_max_scaler = preprocessing.MinMaxScaler()\n",
    "x_scaled = min_max_scaler.fit_transform(x)\n",
    "X_scaled = pd.DataFrame(x_scaled, columns = X.columns)"
   ]
  },
  {
   "cell_type": "code",
   "execution_count": 28,
   "metadata": {},
   "outputs": [],
   "source": [
    "X_train, X_test, y_train, y_test = train_test_split(X_scaled, y, test_size=0.75, random_state=42)\n",
    "\n",
    "from sklearn.model_selection import cross_validate\n",
    "\n",
    "score_list = [] \n",
    "\n",
    "for i in range(1,round(X_train.shape[0] * 0.75)):\n",
    "    score = cross_validate(estimator = KNeighborsClassifier(n_neighbors = i),\n",
    "                           X = X_train,\n",
    "                           y = y_train,\n",
    "                           cv = None, #Default is 5-fold CV\n",
    "                           scoring = ('accuracy')\n",
    "                          )\n",
    "    score_list.append(np.array(score['test_score']).mean())\n",
    "\n"
   ]
  },
  {
   "cell_type": "code",
   "execution_count": 29,
   "metadata": {},
   "outputs": [
    {
     "data": {
      "text/plain": [
       "<AxesSubplot:>"
      ]
     },
     "execution_count": 29,
     "metadata": {},
     "output_type": "execute_result"
    },
    {
     "data": {
      "image/png": "[encoded data removed]",
      "text/plain": [
       "<Figure size 432x288 with 1 Axes>"
      ]
     },
     "metadata": {
      "needs_background": "light"
     },
     "output_type": "display_data"
    }
   ],
   "source": [
    "sns.lineplot(x = range(1,len(score_list) +1),\n",
    "             y = score_list)"
   ]
  },
  {
   "cell_type": "code",
   "execution_count": 30,
   "metadata": {},
   "outputs": [],
   "source": [
    "#Seems like it performs much much better. Why?"
   ]
  },
  {
   "cell_type": "markdown",
   "metadata": {
    "colab_type": "text",
    "id": "K9cJEe64ZFbg"
   },
   "source": [
    "**References**\n",
    "\n",
    "[Breast Cancer Wisconsin (Diagnostic) Data Set](https://www.kaggle.com/uciml/breast-cancer-wisconsin-data/downloads/breast-cancer-wisconsin-data.zip/2)"
   ]
  },
  {
   "cell_type": "markdown",
   "metadata": {
    "colab_type": "text",
    "id": "RERADKgNFq9T"
   },
   "source": [
    "© 2019 Institute of Data"
   ]
  }
 ],
 "metadata": {
  "colab": {
   "collapsed_sections": [],
   "name": "DSIA_Lab_6_3.ipynb",
   "provenance": []
  },
  "kernelspec": {
   "display_name": "Python 3",
   "language": "python",
   "name": "python3"
  },
  "language_info": {
   "codemirror_mode": {
    "name": "ipython",
    "version": 3
   },
   "file_extension": ".py",
   "mimetype": "text/x-python",
   "name": "python",
   "nbconvert_exporter": "python",
   "pygments_lexer": "ipython3",
   "version": "3.7.6"
  },
  "toc": {
   "base_numbering": 1,
   "nav_menu": {},
   "number_sections": true,
   "sideBar": true,
   "skip_h1_title": false,
   "title_cell": "Table of Contents",
   "title_sidebar": "Contents",
   "toc_cell": false,
   "toc_position": {},
   "toc_section_display": true,
   "toc_window_display": true
  },
  "varInspector": {
   "cols": {
    "lenName": 16,
    "lenType": 16,
    "lenVar": 40
   },
   "kernels_config": {
    "python": {
     "delete_cmd_postfix": "",
     "delete_cmd_prefix": "del ",
     "library": "var_list.py",
     "varRefreshCmd": "print(var_dic_list())"
    },
    "r": {
     "delete_cmd_postfix": ") ",
     "delete_cmd_prefix": "rm(",
     "library": "var_list.r",
     "varRefreshCmd": "cat(var_dic_list()) "
    }
   },
   "types_to_exclude": [
    "module",
    "function",
    "builtin_function_or_method",
    "instance",
    "_Feature"
   ],
   "window_display": false
  }
 },
 "nbformat": 4,
 "nbformat_minor": 1
}
