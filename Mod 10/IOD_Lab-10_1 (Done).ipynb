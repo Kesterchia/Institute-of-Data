{
 "cells": [
  {
   "cell_type": "markdown",
   "metadata": {
    "colab_type": "text",
    "id": "gn3SG1yo1KdV"
   },
   "source": [
    "<div>\n",
    "<img src=https://www.institutedata.com/wp-content/uploads/2019/10/iod_h_tp_primary_c.svg width=\"300\">\n",
    "</div>"
   ]
  },
  {
   "cell_type": "markdown",
   "metadata": {
    "colab_type": "text",
    "id": "g-SD7a9X1KdY"
   },
   "source": [
    "# Lab 10.1: NN with Keras\n",
    "INSTRUCTIONS:\n",
    "- Read the guides and hints, then create the necessary analysis and code to find an answer and conclusion for the task below.\n",
    "- **NOTE**: This is a Regression problem. Consider the appropriate:\n",
    "    - Activation function\n",
    "    - Loss/Cost Function\n",
    "    - Metrics"
   ]
  },
  {
   "cell_type": "markdown",
   "metadata": {
    "colab_type": "text",
    "id": "ENgfRnvL1Kdc"
   },
   "source": [
    "### Import libraries"
   ]
  },
  {
   "cell_type": "code",
   "execution_count": 1,
   "metadata": {
    "colab": {},
    "colab_type": "code",
    "id": "Z9H465X-1Kde"
   },
   "outputs": [],
   "source": [
    "import pandas as pd\n",
    "import numpy as np\n",
    "import matplotlib.pyplot as plt\n",
    "import seaborn as sns\n",
    "%matplotlib inline\n",
    "\n",
    "import tensorflow as tf\n",
    "import tensorflow.keras as keras"
   ]
  },
  {
   "cell_type": "markdown",
   "metadata": {
    "colab_type": "text",
    "id": "5FHh910J1Kdm"
   },
   "source": [
    "### Load data\n",
    "Load the Diabetes dataset from **SciKit-Learn**."
   ]
  },
  {
   "cell_type": "code",
   "execution_count": 2,
   "metadata": {
    "colab": {},
    "colab_type": "code",
    "id": "MWu8SlQF1Kdo"
   },
   "outputs": [],
   "source": [
    "from sklearn.datasets import load_diabetes\n",
    "\n",
    "diabetes = load_diabetes(as_frame = True)\n",
    "\n",
    "df = diabetes.data\n",
    "target = diabetes.target"
   ]
  },
  {
   "cell_type": "markdown",
   "metadata": {
    "colab_type": "text",
    "id": "xR_yLpR01Kdr"
   },
   "source": [
    "### Prepare input data"
   ]
  },
  {
   "cell_type": "code",
   "execution_count": 3,
   "metadata": {
    "colab": {},
    "colab_type": "code",
    "id": "Sp2mf2bB1Kds"
   },
   "outputs": [],
   "source": [
    "X = df.to_numpy()\n",
    "y = target"
   ]
  },
  {
   "cell_type": "markdown",
   "metadata": {
    "colab_type": "text",
    "id": "j1Vsh6cm1Kdv"
   },
   "source": [
    "### Split the data (training/test)"
   ]
  },
  {
   "cell_type": "code",
   "execution_count": 4,
   "metadata": {
    "colab": {},
    "colab_type": "code",
    "id": "O341llJz1Kdw"
   },
   "outputs": [],
   "source": [
    "from sklearn.model_selection import train_test_split\n",
    "\n",
    "X_train, X_test, y_train, y_test = train_test_split(X, y, test_size=0.33, random_state=42)"
   ]
  },
  {
   "cell_type": "markdown",
   "metadata": {
    "colab_type": "text",
    "id": "o4dJViJD1Kd0"
   },
   "source": [
    "### Create the model's architecture"
   ]
  },
  {
   "cell_type": "code",
   "execution_count": 17,
   "metadata": {},
   "outputs": [
    {
     "data": {
      "text/plain": [
       "(296, 10)"
      ]
     },
     "execution_count": 17,
     "metadata": {},
     "output_type": "execute_result"
    }
   ],
   "source": [
    "X_train.shape"
   ]
  },
  {
   "cell_type": "code",
   "execution_count": 5,
   "metadata": {},
   "outputs": [],
   "source": [
    "#Create normalization layer\n",
    "\n",
    "from keras.layers.experimental import preprocessing\n",
    "\n",
    "normalizer = preprocessing.Normalization()\n",
    "normalizer.adapt(X_train)"
   ]
  },
  {
   "cell_type": "code",
   "execution_count": 6,
   "metadata": {},
   "outputs": [
    {
     "name": "stdout",
     "output_type": "stream",
     "text": [
      "Means: [0.00119828 0.00012094 0.0017684  0.00116473 0.00092728 0.0003529\n",
      " 0.00037457 0.00017906 0.00096739 0.00184697]\n",
      "\n",
      "\n",
      "Variances: [0.00212856 0.00226316 0.00226091 0.00231074 0.00227382 0.00225533\n",
      " 0.00226129 0.00227309 0.00227525 0.0021854 ]\n"
     ]
    }
   ],
   "source": [
    "# Mean and variances of the features are stored for normalization:\n",
    "\n",
    "print('Means:', normalizer.mean.numpy())\n",
    "print('\\n')\n",
    "print('Variances:', normalizer.variance.numpy())"
   ]
  },
  {
   "cell_type": "code",
   "execution_count": 7,
   "metadata": {},
   "outputs": [
    {
     "data": {
      "text/plain": [
       "'\\nNote:\\nHad tried to create model with 2 layers, but it predicted the same\\nvalue for all test rows. Not sure why. Too many layers results in bad predictions?\\n\\n'"
      ]
     },
     "execution_count": 7,
     "metadata": {},
     "output_type": "execute_result"
    }
   ],
   "source": [
    "'''\n",
    "Note:\n",
    "Had tried to create model with 2 layers, but it predicted the same\n",
    "value for all test rows. Not sure why. Too many layers results in bad predictions?\n",
    "\n",
    "'''"
   ]
  },
  {
   "cell_type": "code",
   "execution_count": 8,
   "metadata": {
    "colab": {},
    "colab_type": "code",
    "id": "Tkgf_BLl1Kd1"
   },
   "outputs": [],
   "source": [
    "# Try to create model with 1 hidden layer?\n",
    "\n",
    "from keras import layers\n",
    "\n",
    "model = keras.Sequential(\n",
    "    [normalizer,\n",
    "     layers.Dense(units = 3, activation = 'relu', name = 'layer1'),\n",
    "     layers.Dense(units = 1, activation = 'linear', name = 'layer3')\n",
    "    ]\n",
    ")\n"
   ]
  },
  {
   "cell_type": "markdown",
   "metadata": {
    "colab_type": "text",
    "id": "5hQTS42V1Kd4"
   },
   "source": [
    "### Compile the model"
   ]
  },
  {
   "cell_type": "code",
   "execution_count": 9,
   "metadata": {
    "colab": {},
    "colab_type": "code",
    "id": "BvLsoanF1Kd5"
   },
   "outputs": [],
   "source": [
    "model.compile(optimizer = keras.optimizers.SGD(learning_rate = 0.005),\n",
    "              loss = 'MeanAbsoluteError',\n",
    "              metrics = ['MeanSquaredError','RootMeanSquaredError'] )"
   ]
  },
  {
   "cell_type": "markdown",
   "metadata": {
    "colab_type": "text",
    "id": "6KPQbnEj1Kd7"
   },
   "source": [
    "### Fit the training data"
   ]
  },
  {
   "cell_type": "code",
   "execution_count": 10,
   "metadata": {},
   "outputs": [
    {
     "name": "stdout",
     "output_type": "stream",
     "text": [
      "Epoch 1/200\n",
      "30/30 [==============================] - 0s 3ms/step - loss: 152.0379 - mean_squared_error: 29153.4902 - root_mean_squared_error: 170.7439\n",
      "Epoch 2/200\n",
      "30/30 [==============================] - 0s 532us/step - loss: 151.6733 - mean_squared_error: 29027.3418 - root_mean_squared_error: 170.3741\n",
      "Epoch 3/200\n",
      "30/30 [==============================] - 0s 532us/step - loss: 151.3138 - mean_squared_error: 28901.5684 - root_mean_squared_error: 170.0046\n",
      "Epoch 4/200\n",
      "30/30 [==============================] - 0s 565us/step - loss: 150.9503 - mean_squared_error: 28774.5840 - root_mean_squared_error: 169.6307\n",
      "Epoch 5/200\n",
      "30/30 [==============================] - 0s 532us/step - loss: 150.5644 - mean_squared_error: 28642.1309 - root_mean_squared_error: 169.2399\n",
      "Epoch 6/200\n",
      "30/30 [==============================] - 0s 511us/step - loss: 150.1331 - mean_squared_error: 28491.6387 - root_mean_squared_error: 168.7947\n",
      "Epoch 7/200\n",
      "30/30 [==============================] - 0s 532us/step - loss: 149.6387 - mean_squared_error: 28319.0684 - root_mean_squared_error: 168.2827\n",
      "Epoch 8/200\n",
      "30/30 [==============================] - 0s 465us/step - loss: 149.0634 - mean_squared_error: 28114.3164 - root_mean_squared_error: 167.6732\n",
      "Epoch 9/200\n",
      "30/30 [==============================] - 0s 465us/step - loss: 148.3672 - mean_squared_error: 27871.0742 - root_mean_squared_error: 166.9463\n",
      "Epoch 10/200\n",
      "30/30 [==============================] - 0s 499us/step - loss: 147.5116 - mean_squared_error: 27562.5566 - root_mean_squared_error: 166.0197\n",
      "Epoch 11/200\n",
      "30/30 [==============================] - 0s 465us/step - loss: 146.4267 - mean_squared_error: 27175.1445 - root_mean_squared_error: 164.8488\n",
      "Epoch 12/200\n",
      "30/30 [==============================] - 0s 466us/step - loss: 145.0462 - mean_squared_error: 26678.3652 - root_mean_squared_error: 163.3351\n",
      "Epoch 13/200\n",
      "30/30 [==============================] - 0s 632us/step - loss: 143.2477 - mean_squared_error: 26062.1152 - root_mean_squared_error: 161.4377\n",
      "Epoch 14/200\n",
      "30/30 [==============================] - 0s 498us/step - loss: 140.8624 - mean_squared_error: 25232.1309 - root_mean_squared_error: 158.8463\n",
      "Epoch 15/200\n",
      "30/30 [==============================] - 0s 499us/step - loss: 137.7136 - mean_squared_error: 24148.9023 - root_mean_squared_error: 155.3992\n",
      "Epoch 16/200\n",
      "30/30 [==============================] - 0s 499us/step - loss: 133.5878 - mean_squared_error: 22811.7402 - root_mean_squared_error: 151.0356\n",
      "Epoch 17/200\n",
      "30/30 [==============================] - 0s 465us/step - loss: 128.1422 - mean_squared_error: 21139.1816 - root_mean_squared_error: 145.3932\n",
      "Epoch 18/200\n",
      "30/30 [==============================] - 0s 499us/step - loss: 121.0293 - mean_squared_error: 19171.4180 - root_mean_squared_error: 138.4609\n",
      "Epoch 19/200\n",
      "30/30 [==============================] - 0s 499us/step - loss: 111.9479 - mean_squared_error: 16758.9590 - root_mean_squared_error: 129.4564\n",
      "Epoch 20/200\n",
      "30/30 [==============================] - 0s 465us/step - loss: 101.8048 - mean_squared_error: 14448.1465 - root_mean_squared_error: 120.2004\n",
      "Epoch 21/200\n",
      "30/30 [==============================] - 0s 465us/step - loss: 92.7906 - mean_squared_error: 12582.6230 - root_mean_squared_error: 112.1723\n",
      "Epoch 22/200\n",
      "30/30 [==============================] - 0s 499us/step - loss: 87.0694 - mean_squared_error: 11324.9238 - root_mean_squared_error: 106.4186\n",
      "Epoch 23/200\n",
      "30/30 [==============================] - 0s 499us/step - loss: 83.2678 - mean_squared_error: 10437.8115 - root_mean_squared_error: 102.1656\n",
      "Epoch 24/200\n",
      "30/30 [==============================] - 0s 432us/step - loss: 80.3469 - mean_squared_error: 9756.0898 - root_mean_squared_error: 98.7729\n",
      "Epoch 25/200\n",
      "30/30 [==============================] - 0s 465us/step - loss: 77.6415 - mean_squared_error: 9202.5410 - root_mean_squared_error: 95.9299\n",
      "Epoch 26/200\n",
      "30/30 [==============================] - 0s 499us/step - loss: 74.7369 - mean_squared_error: 8591.3242 - root_mean_squared_error: 92.6894\n",
      "Epoch 27/200\n",
      "30/30 [==============================] - 0s 532us/step - loss: 71.9265 - mean_squared_error: 8017.7803 - root_mean_squared_error: 89.5421\n",
      "Epoch 28/200\n",
      "30/30 [==============================] - 0s 499us/step - loss: 69.0185 - mean_squared_error: 7427.3452 - root_mean_squared_error: 86.1820\n",
      "Epoch 29/200\n",
      "30/30 [==============================] - 0s 465us/step - loss: 65.2933 - mean_squared_error: 6707.7764 - root_mean_squared_error: 81.9010\n",
      "Epoch 30/200\n",
      "30/30 [==============================] - 0s 465us/step - loss: 60.0456 - mean_squared_error: 5838.2646 - root_mean_squared_error: 76.4085\n",
      "Epoch 31/200\n",
      "30/30 [==============================] - 0s 465us/step - loss: 54.5964 - mean_squared_error: 4910.6558 - root_mean_squared_error: 70.0761\n",
      "Epoch 32/200\n",
      "30/30 [==============================] - 0s 499us/step - loss: 50.2525 - mean_squared_error: 4097.5479 - root_mean_squared_error: 64.0121\n",
      "Epoch 33/200\n",
      "30/30 [==============================] - 0s 532us/step - loss: 47.8099 - mean_squared_error: 3622.9722 - root_mean_squared_error: 60.1911\n",
      "Epoch 34/200\n",
      "30/30 [==============================] - 0s 499us/step - loss: 46.2548 - mean_squared_error: 3382.8857 - root_mean_squared_error: 58.1626\n",
      "Epoch 35/200\n",
      "30/30 [==============================] - 0s 565us/step - loss: 45.4083 - mean_squared_error: 3237.9805 - root_mean_squared_error: 56.9033\n",
      "Epoch 36/200\n",
      "30/30 [==============================] - 0s 598us/step - loss: 44.9626 - mean_squared_error: 3153.7102 - root_mean_squared_error: 56.1579\n",
      "Epoch 37/200\n",
      "30/30 [==============================] - 0s 499us/step - loss: 44.7912 - mean_squared_error: 3123.8250 - root_mean_squared_error: 55.8912\n",
      "Epoch 38/200\n",
      "30/30 [==============================] - 0s 499us/step - loss: 44.7042 - mean_squared_error: 3112.1699 - root_mean_squared_error: 55.7868\n",
      "Epoch 39/200\n",
      "30/30 [==============================] - 0s 532us/step - loss: 44.4699 - mean_squared_error: 3074.7190 - root_mean_squared_error: 55.4501\n",
      "Epoch 40/200\n",
      "30/30 [==============================] - 0s 532us/step - loss: 44.3273 - mean_squared_error: 3055.8823 - root_mean_squared_error: 55.2800\n",
      "Epoch 41/200\n",
      "30/30 [==============================] - 0s 565us/step - loss: 44.3601 - mean_squared_error: 3060.8748 - root_mean_squared_error: 55.3252\n",
      "Epoch 42/200\n",
      "30/30 [==============================] - 0s 465us/step - loss: 44.2647 - mean_squared_error: 3039.8867 - root_mean_squared_error: 55.1352\n",
      "Epoch 43/200\n",
      "30/30 [==============================] - 0s 499us/step - loss: 44.1667 - mean_squared_error: 3026.5408 - root_mean_squared_error: 55.0140\n",
      "Epoch 44/200\n",
      "30/30 [==============================] - 0s 465us/step - loss: 44.1681 - mean_squared_error: 3021.4709 - root_mean_squared_error: 54.9679\n",
      "Epoch 45/200\n",
      "30/30 [==============================] - 0s 465us/step - loss: 44.1599 - mean_squared_error: 3040.5261 - root_mean_squared_error: 55.1410\n",
      "Epoch 46/200\n",
      "30/30 [==============================] - 0s 499us/step - loss: 44.0985 - mean_squared_error: 3012.3601 - root_mean_squared_error: 54.8850\n",
      "Epoch 47/200\n",
      "30/30 [==============================] - 0s 495us/step - loss: 43.9569 - mean_squared_error: 3022.8433 - root_mean_squared_error: 54.9804\n",
      "Epoch 48/200\n",
      "30/30 [==============================] - 0s 499us/step - loss: 44.0518 - mean_squared_error: 3022.9346 - root_mean_squared_error: 54.9812\n",
      "Epoch 49/200\n",
      "30/30 [==============================] - ETA: 0s - loss: 54.9512 - mean_squared_error: 4153.8843 - root_mean_squared_error: 64.450 - 0s 499us/step - loss: 44.0213 - mean_squared_error: 3019.0984 - root_mean_squared_error: 54.9463\n",
      "Epoch 50/200\n",
      "30/30 [==============================] - 0s 499us/step - loss: 43.9734 - mean_squared_error: 3016.4519 - root_mean_squared_error: 54.9222\n",
      "Epoch 51/200\n",
      "30/30 [==============================] - 0s 465us/step - loss: 43.8498 - mean_squared_error: 3025.7771 - root_mean_squared_error: 55.0071\n",
      "Epoch 52/200\n",
      "30/30 [==============================] - 0s 432us/step - loss: 43.9528 - mean_squared_error: 3025.5381 - root_mean_squared_error: 55.0049\n",
      "Epoch 53/200\n",
      "30/30 [==============================] - 0s 450us/step - loss: 43.7944 - mean_squared_error: 3003.4128 - root_mean_squared_error: 54.8034\n",
      "Epoch 54/200\n"
     ]
    },
    {
     "name": "stdout",
     "output_type": "stream",
     "text": [
      "30/30 [==============================] - 0s 499us/step - loss: 43.7895 - mean_squared_error: 3009.1594 - root_mean_squared_error: 54.8558\n",
      "Epoch 55/200\n",
      "30/30 [==============================] - 0s 499us/step - loss: 43.7561 - mean_squared_error: 3015.3518 - root_mean_squared_error: 54.9122\n",
      "Epoch 56/200\n",
      "30/30 [==============================] - 0s 432us/step - loss: 43.8865 - mean_squared_error: 3031.3567 - root_mean_squared_error: 55.0578\n",
      "Epoch 57/200\n",
      "30/30 [==============================] - 0s 565us/step - loss: 43.7302 - mean_squared_error: 2991.9438 - root_mean_squared_error: 54.6987\n",
      "Epoch 58/200\n",
      "30/30 [==============================] - 0s 499us/step - loss: 43.8365 - mean_squared_error: 3018.1736 - root_mean_squared_error: 54.9379\n",
      "Epoch 59/200\n",
      "30/30 [==============================] - 0s 465us/step - loss: 43.7053 - mean_squared_error: 2996.1313 - root_mean_squared_error: 54.7369\n",
      "Epoch 60/200\n",
      "30/30 [==============================] - 0s 465us/step - loss: 43.6253 - mean_squared_error: 2974.8000 - root_mean_squared_error: 54.5417\n",
      "Epoch 61/200\n",
      "30/30 [==============================] - 0s 499us/step - loss: 43.5958 - mean_squared_error: 2966.0913 - root_mean_squared_error: 54.4618\n",
      "Epoch 62/200\n",
      "30/30 [==============================] - 0s 532us/step - loss: 43.6360 - mean_squared_error: 3006.4844 - root_mean_squared_error: 54.8314\n",
      "Epoch 63/200\n",
      "30/30 [==============================] - 0s 599us/step - loss: 43.5985 - mean_squared_error: 2982.5337 - root_mean_squared_error: 54.6126\n",
      "Epoch 64/200\n",
      "30/30 [==============================] - 0s 465us/step - loss: 43.6968 - mean_squared_error: 3020.1101 - root_mean_squared_error: 54.9555\n",
      "Epoch 65/200\n",
      "30/30 [==============================] - 0s 465us/step - loss: 43.4686 - mean_squared_error: 2992.7271 - root_mean_squared_error: 54.7058\n",
      "Epoch 66/200\n",
      "30/30 [==============================] - 0s 532us/step - loss: 43.5345 - mean_squared_error: 2950.5852 - root_mean_squared_error: 54.3193\n",
      "Epoch 67/200\n",
      "30/30 [==============================] - 0s 531us/step - loss: 43.4649 - mean_squared_error: 2989.1357 - root_mean_squared_error: 54.6730\n",
      "Epoch 68/200\n",
      "30/30 [==============================] - 0s 465us/step - loss: 43.4780 - mean_squared_error: 2983.2993 - root_mean_squared_error: 54.6196\n",
      "Epoch 69/200\n",
      "30/30 [==============================] - 0s 432us/step - loss: 43.5751 - mean_squared_error: 2987.4976 - root_mean_squared_error: 54.6580\n",
      "Epoch 70/200\n",
      "30/30 [==============================] - 0s 432us/step - loss: 43.5628 - mean_squared_error: 2999.9172 - root_mean_squared_error: 54.7715\n",
      "Epoch 71/200\n",
      "30/30 [==============================] - 0s 499us/step - loss: 43.5390 - mean_squared_error: 2974.7039 - root_mean_squared_error: 54.5408\n",
      "Epoch 72/200\n",
      "30/30 [==============================] - 0s 465us/step - loss: 43.4953 - mean_squared_error: 2978.4351 - root_mean_squared_error: 54.5750\n",
      "Epoch 73/200\n",
      "30/30 [==============================] - 0s 465us/step - loss: 43.4035 - mean_squared_error: 2972.7810 - root_mean_squared_error: 54.5232\n",
      "Epoch 74/200\n",
      "30/30 [==============================] - 0s 465us/step - loss: 43.3992 - mean_squared_error: 2973.0400 - root_mean_squared_error: 54.5256\n",
      "Epoch 75/200\n",
      "30/30 [==============================] - 0s 532us/step - loss: 43.3798 - mean_squared_error: 2957.1458 - root_mean_squared_error: 54.3796\n",
      "Epoch 76/200\n",
      "30/30 [==============================] - 0s 498us/step - loss: 43.4056 - mean_squared_error: 2974.4133 - root_mean_squared_error: 54.5382\n",
      "Epoch 77/200\n",
      "30/30 [==============================] - 0s 499us/step - loss: 43.4356 - mean_squared_error: 2969.2290 - root_mean_squared_error: 54.4906\n",
      "Epoch 78/200\n",
      "30/30 [==============================] - 0s 499us/step - loss: 43.2813 - mean_squared_error: 2958.4397 - root_mean_squared_error: 54.3915\n",
      "Epoch 79/200\n",
      "30/30 [==============================] - 0s 499us/step - loss: 43.4002 - mean_squared_error: 2971.9724 - root_mean_squared_error: 54.5158\n",
      "Epoch 80/200\n",
      "30/30 [==============================] - 0s 432us/step - loss: 43.3656 - mean_squared_error: 2965.3784 - root_mean_squared_error: 54.4553\n",
      "Epoch 81/200\n",
      "30/30 [==============================] - 0s 432us/step - loss: 43.3282 - mean_squared_error: 2959.9329 - root_mean_squared_error: 54.4053\n",
      "Epoch 82/200\n",
      "30/30 [==============================] - 0s 465us/step - loss: 43.2559 - mean_squared_error: 2951.8564 - root_mean_squared_error: 54.3310\n",
      "Epoch 83/200\n",
      "30/30 [==============================] - 0s 465us/step - loss: 43.3173 - mean_squared_error: 2946.3965 - root_mean_squared_error: 54.2807\n",
      "Epoch 84/200\n",
      "30/30 [==============================] - 0s 499us/step - loss: 43.2846 - mean_squared_error: 2957.9290 - root_mean_squared_error: 54.3868\n",
      "Epoch 85/200\n",
      "30/30 [==============================] - 0s 499us/step - loss: 43.2512 - mean_squared_error: 2944.9294 - root_mean_squared_error: 54.2672\n",
      "Epoch 86/200\n",
      "30/30 [==============================] - 0s 465us/step - loss: 43.2391 - mean_squared_error: 2960.6802 - root_mean_squared_error: 54.4121\n",
      "Epoch 87/200\n",
      "30/30 [==============================] - 0s 499us/step - loss: 43.2420 - mean_squared_error: 2933.0852 - root_mean_squared_error: 54.1580\n",
      "Epoch 88/200\n",
      "30/30 [==============================] - 0s 532us/step - loss: 43.2868 - mean_squared_error: 2956.9263 - root_mean_squared_error: 54.3776\n",
      "Epoch 89/200\n",
      "30/30 [==============================] - 0s 499us/step - loss: 43.2395 - mean_squared_error: 2941.3416 - root_mean_squared_error: 54.2341\n",
      "Epoch 90/200\n",
      "30/30 [==============================] - 0s 466us/step - loss: 43.1375 - mean_squared_error: 2940.2869 - root_mean_squared_error: 54.2244\n",
      "Epoch 91/200\n",
      "30/30 [==============================] - 0s 465us/step - loss: 43.2195 - mean_squared_error: 2936.8242 - root_mean_squared_error: 54.1925\n",
      "Epoch 92/200\n",
      "30/30 [==============================] - 0s 532us/step - loss: 43.1094 - mean_squared_error: 2930.9053 - root_mean_squared_error: 54.1378\n",
      "Epoch 93/200\n",
      "30/30 [==============================] - 0s 499us/step - loss: 43.0620 - mean_squared_error: 2942.5361 - root_mean_squared_error: 54.2451\n",
      "Epoch 94/200\n",
      "30/30 [==============================] - 0s 465us/step - loss: 43.1101 - mean_squared_error: 2924.4668 - root_mean_squared_error: 54.0783\n",
      "Epoch 95/200\n",
      "30/30 [==============================] - 0s 432us/step - loss: 43.1010 - mean_squared_error: 2911.2627 - root_mean_squared_error: 53.9561\n",
      "Epoch 96/200\n",
      "30/30 [==============================] - 0s 432us/step - loss: 43.0635 - mean_squared_error: 2919.8672 - root_mean_squared_error: 54.0358\n",
      "Epoch 97/200\n",
      "30/30 [==============================] - 0s 465us/step - loss: 43.0869 - mean_squared_error: 2912.4653 - root_mean_squared_error: 53.9673\n",
      "Epoch 98/200\n",
      "30/30 [==============================] - 0s 432us/step - loss: 42.9701 - mean_squared_error: 2924.3181 - root_mean_squared_error: 54.0770\n",
      "Epoch 99/200\n",
      "30/30 [==============================] - 0s 432us/step - loss: 43.0941 - mean_squared_error: 2928.6602 - root_mean_squared_error: 54.1171\n",
      "Epoch 100/200\n",
      "30/30 [==============================] - 0s 432us/step - loss: 43.0737 - mean_squared_error: 2906.7009 - root_mean_squared_error: 53.9138\n",
      "Epoch 101/200\n",
      "30/30 [==============================] - 0s 532us/step - loss: 43.0586 - mean_squared_error: 2913.0212 - root_mean_squared_error: 53.9724\n",
      "Epoch 102/200\n",
      "30/30 [==============================] - 0s 665us/step - loss: 43.0069 - mean_squared_error: 2930.4392 - root_mean_squared_error: 54.1335\n",
      "Epoch 103/200\n",
      "30/30 [==============================] - 0s 564us/step - loss: 43.0218 - mean_squared_error: 2926.2419 - root_mean_squared_error: 54.0947\n",
      "Epoch 104/200\n",
      "30/30 [==============================] - 0s 632us/step - loss: 42.9628 - mean_squared_error: 2910.4460 - root_mean_squared_error: 53.9486\n",
      "Epoch 105/200\n",
      "30/30 [==============================] - 0s 665us/step - loss: 43.1134 - mean_squared_error: 2921.3594 - root_mean_squared_error: 54.0496\n",
      "Epoch 106/200\n",
      "30/30 [==============================] - 0s 665us/step - loss: 42.9967 - mean_squared_error: 2907.5879 - root_mean_squared_error: 53.9221\n",
      "Epoch 107/200\n",
      "30/30 [==============================] - 0s 598us/step - loss: 43.0752 - mean_squared_error: 2923.2446 - root_mean_squared_error: 54.0670\n",
      "Epoch 108/200\n"
     ]
    },
    {
     "name": "stdout",
     "output_type": "stream",
     "text": [
      "30/30 [==============================] - 0s 632us/step - loss: 42.9637 - mean_squared_error: 2911.9626 - root_mean_squared_error: 53.9626\n",
      "Epoch 109/200\n",
      "30/30 [==============================] - 0s 731us/step - loss: 43.0042 - mean_squared_error: 2889.1033 - root_mean_squared_error: 53.7504\n",
      "Epoch 110/200\n",
      "30/30 [==============================] - 0s 598us/step - loss: 42.9243 - mean_squared_error: 2915.1504 - root_mean_squared_error: 53.9921\n",
      "Epoch 111/200\n",
      "30/30 [==============================] - 0s 499us/step - loss: 42.9305 - mean_squared_error: 2910.1816 - root_mean_squared_error: 53.9461\n",
      "Epoch 112/200\n",
      "30/30 [==============================] - 0s 432us/step - loss: 42.9011 - mean_squared_error: 2903.4304 - root_mean_squared_error: 53.8835\n",
      "Epoch 113/200\n",
      "30/30 [==============================] - 0s 499us/step - loss: 43.0187 - mean_squared_error: 2901.7681 - root_mean_squared_error: 53.8681\n",
      "Epoch 114/200\n",
      "30/30 [==============================] - 0s 499us/step - loss: 42.8994 - mean_squared_error: 2907.2688 - root_mean_squared_error: 53.9191\n",
      "Epoch 115/200\n",
      "30/30 [==============================] - 0s 499us/step - loss: 42.8708 - mean_squared_error: 2897.5547 - root_mean_squared_error: 53.8289\n",
      "Epoch 116/200\n",
      "30/30 [==============================] - 0s 499us/step - loss: 42.9652 - mean_squared_error: 2918.0618 - root_mean_squared_error: 54.0191\n",
      "Epoch 117/200\n",
      "30/30 [==============================] - 0s 432us/step - loss: 42.8468 - mean_squared_error: 2910.8630 - root_mean_squared_error: 53.9524\n",
      "Epoch 118/200\n",
      "30/30 [==============================] - 0s 465us/step - loss: 42.9055 - mean_squared_error: 2891.1008 - root_mean_squared_error: 53.7690\n",
      "Epoch 119/200\n",
      "30/30 [==============================] - 0s 499us/step - loss: 42.9332 - mean_squared_error: 2909.8574 - root_mean_squared_error: 53.9431\n",
      "Epoch 120/200\n",
      "30/30 [==============================] - 0s 432us/step - loss: 42.9076 - mean_squared_error: 2890.5344 - root_mean_squared_error: 53.7637\n",
      "Epoch 121/200\n",
      "30/30 [==============================] - 0s 432us/step - loss: 42.8654 - mean_squared_error: 2884.3738 - root_mean_squared_error: 53.7064\n",
      "Epoch 122/200\n",
      "30/30 [==============================] - 0s 499us/step - loss: 42.9212 - mean_squared_error: 2901.8315 - root_mean_squared_error: 53.8687\n",
      "Epoch 123/200\n",
      "30/30 [==============================] - 0s 532us/step - loss: 42.8955 - mean_squared_error: 2885.2249 - root_mean_squared_error: 53.7143\n",
      "Epoch 124/200\n",
      "30/30 [==============================] - 0s 499us/step - loss: 42.9547 - mean_squared_error: 2913.1785 - root_mean_squared_error: 53.9739\n",
      "Epoch 125/200\n",
      "30/30 [==============================] - 0s 499us/step - loss: 42.5902 - mean_squared_error: 2863.0547 - root_mean_squared_error: 53.5075\n",
      "Epoch 126/200\n",
      "30/30 [==============================] - 0s 532us/step - loss: 42.9158 - mean_squared_error: 2901.3982 - root_mean_squared_error: 53.8646\n",
      "Epoch 127/200\n",
      "30/30 [==============================] - 0s 465us/step - loss: 42.7839 - mean_squared_error: 2881.0151 - root_mean_squared_error: 53.6751\n",
      "Epoch 128/200\n",
      "30/30 [==============================] - 0s 465us/step - loss: 42.9152 - mean_squared_error: 2890.2698 - root_mean_squared_error: 53.7612\n",
      "Epoch 129/200\n",
      "30/30 [==============================] - 0s 499us/step - loss: 42.8848 - mean_squared_error: 2898.3201 - root_mean_squared_error: 53.8360\n",
      "Epoch 130/200\n",
      "30/30 [==============================] - 0s 465us/step - loss: 42.8606 - mean_squared_error: 2880.5054 - root_mean_squared_error: 53.6703\n",
      "Epoch 131/200\n",
      "30/30 [==============================] - 0s 499us/step - loss: 42.8855 - mean_squared_error: 2913.6147 - root_mean_squared_error: 53.9779\n",
      "Epoch 132/200\n",
      "30/30 [==============================] - 0s 465us/step - loss: 42.7929 - mean_squared_error: 2897.5554 - root_mean_squared_error: 53.8289\n",
      "Epoch 133/200\n",
      "30/30 [==============================] - 0s 465us/step - loss: 42.9075 - mean_squared_error: 2906.0020 - root_mean_squared_error: 53.9073\n",
      "Epoch 134/200\n",
      "30/30 [==============================] - 0s 499us/step - loss: 42.8380 - mean_squared_error: 2896.5750 - root_mean_squared_error: 53.8198\n",
      "Epoch 135/200\n",
      "30/30 [==============================] - 0s 465us/step - loss: 42.8299 - mean_squared_error: 2893.0457 - root_mean_squared_error: 53.7870\n",
      "Epoch 136/200\n",
      "30/30 [==============================] - 0s 465us/step - loss: 42.8076 - mean_squared_error: 2889.1055 - root_mean_squared_error: 53.7504\n",
      "Epoch 137/200\n",
      "30/30 [==============================] - 0s 465us/step - loss: 42.8360 - mean_squared_error: 2889.4644 - root_mean_squared_error: 53.7537\n",
      "Epoch 138/200\n",
      "30/30 [==============================] - 0s 532us/step - loss: 42.8784 - mean_squared_error: 2894.7148 - root_mean_squared_error: 53.8026\n",
      "Epoch 139/200\n",
      "30/30 [==============================] - 0s 598us/step - loss: 42.7818 - mean_squared_error: 2886.3000 - root_mean_squared_error: 53.7243\n",
      "Epoch 140/200\n",
      "30/30 [==============================] - 0s 465us/step - loss: 42.8623 - mean_squared_error: 2898.8655 - root_mean_squared_error: 53.8411\n",
      "Epoch 141/200\n",
      "30/30 [==============================] - 0s 499us/step - loss: 42.8575 - mean_squared_error: 2886.9072 - root_mean_squared_error: 53.7299\n",
      "Epoch 142/200\n",
      "30/30 [==============================] - 0s 532us/step - loss: 42.7532 - mean_squared_error: 2895.7026 - root_mean_squared_error: 53.8117\n",
      "Epoch 143/200\n",
      "30/30 [==============================] - 0s 499us/step - loss: 42.7203 - mean_squared_error: 2886.1497 - root_mean_squared_error: 53.7229\n",
      "Epoch 144/200\n",
      "30/30 [==============================] - 0s 465us/step - loss: 42.6195 - mean_squared_error: 2884.4614 - root_mean_squared_error: 53.7072\n",
      "Epoch 145/200\n",
      "30/30 [==============================] - 0s 499us/step - loss: 42.8050 - mean_squared_error: 2879.6274 - root_mean_squared_error: 53.6622\n",
      "Epoch 146/200\n",
      "30/30 [==============================] - 0s 499us/step - loss: 42.8304 - mean_squared_error: 2902.3196 - root_mean_squared_error: 53.8732\n",
      "Epoch 147/200\n",
      "30/30 [==============================] - 0s 465us/step - loss: 42.7723 - mean_squared_error: 2876.3948 - root_mean_squared_error: 53.6320\n",
      "Epoch 148/200\n",
      "30/30 [==============================] - 0s 565us/step - loss: 42.8715 - mean_squared_error: 2899.4233 - root_mean_squared_error: 53.8463\n",
      "Epoch 149/200\n",
      "30/30 [==============================] - 0s 499us/step - loss: 42.7819 - mean_squared_error: 2885.9731 - root_mean_squared_error: 53.7213\n",
      "Epoch 150/200\n",
      "30/30 [==============================] - 0s 499us/step - loss: 42.7465 - mean_squared_error: 2894.1042 - root_mean_squared_error: 53.7969\n",
      "Epoch 151/200\n",
      "30/30 [==============================] - 0s 499us/step - loss: 42.6879 - mean_squared_error: 2877.1047 - root_mean_squared_error: 53.6386\n",
      "Epoch 152/200\n",
      "30/30 [==============================] - 0s 465us/step - loss: 42.8154 - mean_squared_error: 2877.1248 - root_mean_squared_error: 53.6388\n",
      "Epoch 153/200\n",
      "30/30 [==============================] - 0s 465us/step - loss: 42.6240 - mean_squared_error: 2877.3542 - root_mean_squared_error: 53.6410\n",
      "Epoch 154/200\n",
      "30/30 [==============================] - 0s 499us/step - loss: 42.6937 - mean_squared_error: 2866.7529 - root_mean_squared_error: 53.5421\n",
      "Epoch 155/200\n",
      "30/30 [==============================] - 0s 499us/step - loss: 42.7646 - mean_squared_error: 2882.7676 - root_mean_squared_error: 53.6914\n",
      "Epoch 156/200\n",
      "30/30 [==============================] - 0s 499us/step - loss: 42.7561 - mean_squared_error: 2874.6133 - root_mean_squared_error: 53.6154\n",
      "Epoch 157/200\n",
      "30/30 [==============================] - 0s 465us/step - loss: 42.7641 - mean_squared_error: 2881.8665 - root_mean_squared_error: 53.6830\n",
      "Epoch 158/200\n",
      "30/30 [==============================] - 0s 465us/step - loss: 42.7332 - mean_squared_error: 2884.5527 - root_mean_squared_error: 53.7080\n",
      "Epoch 159/200\n",
      "30/30 [==============================] - 0s 499us/step - loss: 42.7590 - mean_squared_error: 2882.4617 - root_mean_squared_error: 53.6886\n",
      "Epoch 160/200\n",
      "30/30 [==============================] - 0s 465us/step - loss: 42.7583 - mean_squared_error: 2885.9893 - root_mean_squared_error: 53.7214\n",
      "Epoch 161/200\n",
      "30/30 [==============================] - 0s 465us/step - loss: 42.6207 - mean_squared_error: 2869.3828 - root_mean_squared_error: 53.5666\n"
     ]
    },
    {
     "name": "stdout",
     "output_type": "stream",
     "text": [
      "Epoch 162/200\n",
      "30/30 [==============================] - 0s 465us/step - loss: 42.6701 - mean_squared_error: 2881.0293 - root_mean_squared_error: 53.6752\n",
      "Epoch 163/200\n",
      "30/30 [==============================] - 0s 499us/step - loss: 42.7760 - mean_squared_error: 2880.1838 - root_mean_squared_error: 53.6673\n",
      "Epoch 164/200\n",
      "30/30 [==============================] - 0s 432us/step - loss: 42.6788 - mean_squared_error: 2873.8286 - root_mean_squared_error: 53.6081\n",
      "Epoch 165/200\n",
      "30/30 [==============================] - 0s 499us/step - loss: 42.6434 - mean_squared_error: 2876.7693 - root_mean_squared_error: 53.6355\n",
      "Epoch 166/200\n",
      "30/30 [==============================] - 0s 499us/step - loss: 42.7196 - mean_squared_error: 2872.1375 - root_mean_squared_error: 53.5923\n",
      "Epoch 167/200\n",
      "30/30 [==============================] - 0s 532us/step - loss: 42.7452 - mean_squared_error: 2867.7700 - root_mean_squared_error: 53.5516\n",
      "Epoch 168/200\n",
      "30/30 [==============================] - 0s 466us/step - loss: 42.6646 - mean_squared_error: 2888.7371 - root_mean_squared_error: 53.7470\n",
      "Epoch 169/200\n",
      "30/30 [==============================] - 0s 465us/step - loss: 42.6853 - mean_squared_error: 2879.0283 - root_mean_squared_error: 53.6566\n",
      "Epoch 170/200\n",
      "30/30 [==============================] - 0s 465us/step - loss: 42.6751 - mean_squared_error: 2893.7434 - root_mean_squared_error: 53.7935\n",
      "Epoch 171/200\n",
      "30/30 [==============================] - 0s 432us/step - loss: 42.6433 - mean_squared_error: 2877.5820 - root_mean_squared_error: 53.6431\n",
      "Epoch 172/200\n",
      "30/30 [==============================] - 0s 465us/step - loss: 42.6535 - mean_squared_error: 2872.6541 - root_mean_squared_error: 53.5971\n",
      "Epoch 173/200\n",
      "30/30 [==============================] - 0s 499us/step - loss: 42.6622 - mean_squared_error: 2885.1396 - root_mean_squared_error: 53.7135\n",
      "Epoch 174/200\n",
      "30/30 [==============================] - 0s 465us/step - loss: 42.7201 - mean_squared_error: 2868.1858 - root_mean_squared_error: 53.5554\n",
      "Epoch 175/200\n",
      "30/30 [==============================] - 0s 465us/step - loss: 42.6830 - mean_squared_error: 2871.0146 - root_mean_squared_error: 53.5818\n",
      "Epoch 176/200\n",
      "30/30 [==============================] - 0s 598us/step - loss: 42.7173 - mean_squared_error: 2878.0747 - root_mean_squared_error: 53.6477\n",
      "Epoch 177/200\n",
      "30/30 [==============================] - 0s 499us/step - loss: 42.7164 - mean_squared_error: 2869.0210 - root_mean_squared_error: 53.5632\n",
      "Epoch 178/200\n",
      "30/30 [==============================] - 0s 465us/step - loss: 42.7111 - mean_squared_error: 2878.8647 - root_mean_squared_error: 53.6551\n",
      "Epoch 179/200\n",
      "30/30 [==============================] - 0s 499us/step - loss: 42.5943 - mean_squared_error: 2867.9585 - root_mean_squared_error: 53.5533\n",
      "Epoch 180/200\n",
      "30/30 [==============================] - 0s 532us/step - loss: 42.6324 - mean_squared_error: 2868.9658 - root_mean_squared_error: 53.5627\n",
      "Epoch 181/200\n",
      "30/30 [==============================] - 0s 465us/step - loss: 42.7327 - mean_squared_error: 2874.2505 - root_mean_squared_error: 53.6120\n",
      "Epoch 182/200\n",
      "30/30 [==============================] - 0s 465us/step - loss: 42.6727 - mean_squared_error: 2879.8503 - root_mean_squared_error: 53.6642\n",
      "Epoch 183/200\n",
      "30/30 [==============================] - 0s 532us/step - loss: 42.5751 - mean_squared_error: 2865.5156 - root_mean_squared_error: 53.5305\n",
      "Epoch 184/200\n",
      "30/30 [==============================] - 0s 499us/step - loss: 42.7661 - mean_squared_error: 2880.5574 - root_mean_squared_error: 53.6708\n",
      "Epoch 185/200\n",
      "30/30 [==============================] - 0s 499us/step - loss: 42.6481 - mean_squared_error: 2878.5049 - root_mean_squared_error: 53.6517\n",
      "Epoch 186/200\n",
      "30/30 [==============================] - 0s 465us/step - loss: 42.5952 - mean_squared_error: 2863.9136 - root_mean_squared_error: 53.5155\n",
      "Epoch 187/200\n",
      "30/30 [==============================] - 0s 465us/step - loss: 42.6453 - mean_squared_error: 2884.7810 - root_mean_squared_error: 53.7102\n",
      "Epoch 188/200\n",
      "30/30 [==============================] - 0s 432us/step - loss: 42.6128 - mean_squared_error: 2872.7937 - root_mean_squared_error: 53.5984\n",
      "Epoch 189/200\n",
      "30/30 [==============================] - 0s 499us/step - loss: 42.5255 - mean_squared_error: 2864.6133 - root_mean_squared_error: 53.5221\n",
      "Epoch 190/200\n",
      "30/30 [==============================] - 0s 499us/step - loss: 42.6731 - mean_squared_error: 2867.1863 - root_mean_squared_error: 53.5461\n",
      "Epoch 191/200\n",
      "30/30 [==============================] - 0s 499us/step - loss: 42.6327 - mean_squared_error: 2867.1602 - root_mean_squared_error: 53.5459\n",
      "Epoch 192/200\n",
      "30/30 [==============================] - 0s 499us/step - loss: 42.6267 - mean_squared_error: 2872.6665 - root_mean_squared_error: 53.5973\n",
      "Epoch 193/200\n",
      "30/30 [==============================] - 0s 499us/step - loss: 42.5677 - mean_squared_error: 2869.8015 - root_mean_squared_error: 53.5705\n",
      "Epoch 194/200\n",
      "30/30 [==============================] - 0s 465us/step - loss: 42.5312 - mean_squared_error: 2857.9878 - root_mean_squared_error: 53.4602\n",
      "Epoch 195/200\n",
      "30/30 [==============================] - 0s 553us/step - loss: 42.5477 - mean_squared_error: 2859.4802 - root_mean_squared_error: 53.4741\n",
      "Epoch 196/200\n",
      "30/30 [==============================] - 0s 531us/step - loss: 42.6198 - mean_squared_error: 2885.0200 - root_mean_squared_error: 53.7124\n",
      "Epoch 197/200\n",
      "30/30 [==============================] - 0s 432us/step - loss: 42.5710 - mean_squared_error: 2874.4609 - root_mean_squared_error: 53.6140\n",
      "Epoch 198/200\n",
      "30/30 [==============================] - 0s 432us/step - loss: 42.6008 - mean_squared_error: 2859.6367 - root_mean_squared_error: 53.4756\n",
      "Epoch 199/200\n",
      "30/30 [==============================] - 0s 499us/step - loss: 42.5815 - mean_squared_error: 2870.8711 - root_mean_squared_error: 53.5805\n",
      "Epoch 200/200\n",
      "30/30 [==============================] - 0s 465us/step - loss: 42.5686 - mean_squared_error: 2864.7102 - root_mean_squared_error: 53.5230\n"
     ]
    }
   ],
   "source": [
    "modelhistory = model.fit(x = X_train,\n",
    "          y = y_train,\n",
    "          batch_size = 10,\n",
    "          epochs = 200,\n",
    "          verbose = 1\n",
    "         )"
   ]
  },
  {
   "cell_type": "markdown",
   "metadata": {
    "colab_type": "text",
    "id": "CR-kCu3c1Kd-"
   },
   "source": [
    "### Create predictions"
   ]
  },
  {
   "cell_type": "code",
   "execution_count": 11,
   "metadata": {
    "colab": {},
    "colab_type": "code",
    "id": "wkywKqPg1Kd-"
   },
   "outputs": [
    {
     "data": {
      "text/plain": [
       "array([[135.09654 ],\n",
       "       [205.45778 ],\n",
       "       [126.00148 ],\n",
       "       [315.936   ],\n",
       "       [101.84871 ],\n",
       "       [ 81.135605],\n",
       "       [271.22354 ],\n",
       "       [171.57332 ],\n",
       "       [ 76.89366 ],\n",
       "       [ 80.06178 ],\n",
       "       [100.53682 ],\n",
       "       [164.54938 ],\n",
       "       [ 96.291504],\n",
       "       [206.74757 ],\n",
       "       [ 76.95006 ],\n",
       "       [102.701965],\n",
       "       [218.76588 ],\n",
       "       [272.02057 ],\n",
       "       [195.6875  ],\n",
       "       [233.09947 ],\n",
       "       [178.89082 ],\n",
       "       [ 91.979965],\n",
       "       [ 78.83482 ],\n",
       "       [203.97618 ],\n",
       "       [145.09482 ],\n",
       "       [170.7487  ],\n",
       "       [209.41634 ],\n",
       "       [189.24422 ],\n",
       "       [ 81.88013 ],\n",
       "       [ 90.37598 ],\n",
       "       [176.10982 ],\n",
       "       [ 98.97716 ],\n",
       "       [103.347595],\n",
       "       [179.16275 ],\n",
       "       [179.14906 ],\n",
       "       [181.62032 ],\n",
       "       [ 91.915955],\n",
       "       [ 89.384445],\n",
       "       [134.87045 ],\n",
       "       [ 80.38335 ],\n",
       "       [ 75.047   ],\n",
       "       [ 96.105606],\n",
       "       [172.43243 ],\n",
       "       [146.801   ],\n",
       "       [158.04778 ],\n",
       "       [ 80.03516 ],\n",
       "       [ 95.3544  ],\n",
       "       [108.49123 ],\n",
       "       [ 83.12981 ],\n",
       "       [152.63666 ],\n",
       "       [151.82198 ],\n",
       "       [100.96092 ],\n",
       "       [ 97.36334 ],\n",
       "       [105.52016 ],\n",
       "       [158.53455 ],\n",
       "       [149.21353 ],\n",
       "       [ 90.14641 ],\n",
       "       [225.25659 ],\n",
       "       [125.7157  ],\n",
       "       [ 87.03398 ],\n",
       "       [168.91902 ],\n",
       "       [186.71904 ],\n",
       "       [110.250854],\n",
       "       [ 79.08011 ],\n",
       "       [121.920105],\n",
       "       [234.50758 ],\n",
       "       [150.65105 ],\n",
       "       [174.31267 ],\n",
       "       [142.78308 ],\n",
       "       [111.96777 ],\n",
       "       [150.72704 ],\n",
       "       [193.00243 ],\n",
       "       [235.91893 ],\n",
       "       [116.94029 ],\n",
       "       [ 94.92975 ],\n",
       "       [144.07545 ],\n",
       "       [188.76535 ],\n",
       "       [194.28906 ],\n",
       "       [160.37218 ],\n",
       "       [183.71974 ],\n",
       "       [117.23436 ],\n",
       "       [150.74768 ],\n",
       "       [ 83.90999 ],\n",
       "       [ 64.93274 ],\n",
       "       [112.315735],\n",
       "       [ 90.76433 ],\n",
       "       [110.94417 ],\n",
       "       [ 85.934875],\n",
       "       [153.8475  ],\n",
       "       [206.79436 ],\n",
       "       [117.58357 ],\n",
       "       [253.2436  ],\n",
       "       [127.15663 ],\n",
       "       [ 95.59502 ],\n",
       "       [ 92.96054 ],\n",
       "       [187.48216 ],\n",
       "       [260.8423  ],\n",
       "       [166.34656 ],\n",
       "       [118.41449 ],\n",
       "       [ 75.691925],\n",
       "       [208.47829 ],\n",
       "       [ 92.16159 ],\n",
       "       [326.36456 ],\n",
       "       [ 95.917465],\n",
       "       [154.49083 ],\n",
       "       [134.65811 ],\n",
       "       [120.4245  ],\n",
       "       [121.98357 ],\n",
       "       [147.5848  ],\n",
       "       [190.34221 ],\n",
       "       [ 88.08942 ],\n",
       "       [190.50612 ],\n",
       "       [214.75642 ],\n",
       "       [198.97137 ],\n",
       "       [179.62547 ],\n",
       "       [142.03972 ],\n",
       "       [139.44118 ],\n",
       "       [101.0381  ],\n",
       "       [128.02151 ],\n",
       "       [162.85031 ],\n",
       "       [153.94249 ],\n",
       "       [109.59984 ],\n",
       "       [ 37.036526],\n",
       "       [156.40031 ],\n",
       "       [119.342285],\n",
       "       [179.04308 ],\n",
       "       [143.72925 ],\n",
       "       [ 96.476944],\n",
       "       [200.30737 ],\n",
       "       [119.27423 ],\n",
       "       [131.49368 ],\n",
       "       [ 91.530075],\n",
       "       [235.74931 ],\n",
       "       [244.36159 ],\n",
       "       [255.96873 ],\n",
       "       [130.28181 ],\n",
       "       [316.32755 ],\n",
       "       [125.05498 ],\n",
       "       [ 71.91545 ],\n",
       "       [256.76553 ],\n",
       "       [ 87.77533 ],\n",
       "       [170.08794 ],\n",
       "       [201.7452  ],\n",
       "       [112.36719 ],\n",
       "       [188.83263 ],\n",
       "       [199.95961 ]], dtype=float32)"
      ]
     },
     "execution_count": 11,
     "metadata": {},
     "output_type": "execute_result"
    }
   ],
   "source": [
    "model.predict(X_test)"
   ]
  },
  {
   "cell_type": "markdown",
   "metadata": {
    "colab_type": "text",
    "id": "-unEmrGo1KeA"
   },
   "source": [
    "### Evaluate the model"
   ]
  },
  {
   "cell_type": "code",
   "execution_count": 12,
   "metadata": {
    "colab": {},
    "colab_type": "code",
    "id": "QCIVpVrG1KeB"
   },
   "outputs": [
    {
     "name": "stdout",
     "output_type": "stream",
     "text": [
      "5/5 [==============================] - 0s 598us/step - loss: 43.1015 - mean_squared_error: 2981.7390 - root_mean_squared_error: 54.6053\n"
     ]
    },
    {
     "data": {
      "text/plain": [
       "[43.101470947265625, 2981.739013671875, 54.60530090332031]"
      ]
     },
     "execution_count": 12,
     "metadata": {},
     "output_type": "execute_result"
    }
   ],
   "source": [
    "model.evaluate(x = X_test,\n",
    "               y = y_test)"
   ]
  },
  {
   "cell_type": "markdown",
   "metadata": {
    "colab_type": "text",
    "id": "sSlqjs7e1KeD"
   },
   "source": [
    "### Visualisation of cost"
   ]
  },
  {
   "cell_type": "code",
   "execution_count": 13,
   "metadata": {},
   "outputs": [
    {
     "data": {
      "text/plain": [
       "dict_keys(['loss', 'mean_squared_error', 'root_mean_squared_error'])"
      ]
     },
     "execution_count": 13,
     "metadata": {},
     "output_type": "execute_result"
    }
   ],
   "source": [
    "modelhistory.history.keys()"
   ]
  },
  {
   "cell_type": "code",
   "execution_count": 14,
   "metadata": {},
   "outputs": [
    {
     "data": {
      "text/plain": [
       "<matplotlib.legend.Legend at 0x1b269bf3100>"
      ]
     },
     "execution_count": 14,
     "metadata": {},
     "output_type": "execute_result"
    },
    {
     "data": {
      "image/png": "[encoded data removed]",
      "text/plain": [
       "<Figure size 1296x432 with 1 Axes>"
      ]
     },
     "metadata": {
      "needs_background": "light"
     },
     "output_type": "display_data"
    }
   ],
   "source": [
    "fig, ax = plt.subplots(1, 1, figsize = (18, 6))\n",
    "\n",
    "plt.rcParams.update({'font.size': 18})\n",
    "\n",
    "# Plot training & validation accuracy values\n",
    "ax.plot(modelhistory.history['loss'], label = 'Training')\n",
    "ax.set_title('Loss (Mean Absolute Error) over epochs')\n",
    "ax.set_ylabel('Loss')\n",
    "ax.set_xlabel('Epoch')\n",
    "ax.legend()\n"
   ]
  },
  {
   "cell_type": "markdown",
   "metadata": {
    "colab_type": "text",
    "id": "vQLzMZTM1KeG"
   },
   "source": [
    "### Visualisation of residuals"
   ]
  },
  {
   "cell_type": "code",
   "execution_count": 15,
   "metadata": {
    "colab": {},
    "colab_type": "code",
    "id": "opIulVSw1KeH"
   },
   "outputs": [],
   "source": [
    "#Residuals are already visualized since the Mean Absolute Error is the loss function"
   ]
  },
  {
   "cell_type": "markdown",
   "metadata": {
    "colab_type": "text",
    "id": "RERADKgNFq9T"
   },
   "source": [
    "© 2020 Institute of Data"
   ]
  }
 ],
 "metadata": {
  "colab": {
   "collapsed_sections": [],
   "name": "DSIA Lab-10_1.ipynb",
   "provenance": []
  },
  "kernelspec": {
   "display_name": "Python 3",
   "language": "python",
   "name": "python3"
  },
  "language_info": {
   "codemirror_mode": {
    "name": "ipython",
    "version": 3
   },
   "file_extension": ".py",
   "mimetype": "text/x-python",
   "name": "python",
   "nbconvert_exporter": "python",
   "pygments_lexer": "ipython3",
   "version": "3.8.3"
  },
  "toc": {
   "base_numbering": 1,
   "nav_menu": {},
   "number_sections": true,
   "sideBar": true,
   "skip_h1_title": false,
   "title_cell": "Table of Contents",
   "title_sidebar": "Contents",
   "toc_cell": false,
   "toc_position": {},
   "toc_section_display": true,
   "toc_window_display": true
  }
 },
 "nbformat": 4,
 "nbformat_minor": 1
}
