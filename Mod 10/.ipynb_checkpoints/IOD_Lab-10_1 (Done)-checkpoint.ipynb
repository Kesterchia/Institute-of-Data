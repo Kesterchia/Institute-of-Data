{
 "cells": [
  {
   "cell_type": "markdown",
   "metadata": {
    "colab_type": "text",
    "id": "gn3SG1yo1KdV"
   },
   "source": [
    "<div>\n",
    "<img src=https://www.institutedata.com/wp-content/uploads/2019/10/iod_h_tp_primary_c.svg width=\"300\">\n",
    "</div>"
   ]
  },
  {
   "cell_type": "markdown",
   "metadata": {
    "colab_type": "text",
    "id": "g-SD7a9X1KdY"
   },
   "source": [
    "# Lab 10.1: NN with Keras\n",
    "INSTRUCTIONS:\n",
    "- Read the guides and hints, then create the necessary analysis and code to find an answer and conclusion for the task below.\n",
    "- **NOTE**: This is a Regression problem. Consider the appropriate:\n",
    "    - Activation function\n",
    "    - Loss/Cost Function\n",
    "    - Metrics"
   ]
  },
  {
   "cell_type": "markdown",
   "metadata": {
    "colab_type": "text",
    "id": "ENgfRnvL1Kdc"
   },
   "source": [
    "### Import libraries"
   ]
  },
  {
   "cell_type": "code",
   "execution_count": 6,
   "metadata": {
    "colab": {},
    "colab_type": "code",
    "id": "Z9H465X-1Kde"
   },
   "outputs": [],
   "source": [
    "import pandas as pd\n",
    "import numpy as np\n",
    "import matplotlib.pyplot as plt\n",
    "import seaborn as sns\n",
    "%matplotlib inline\n",
    "\n",
    "import tensorflow as tf\n",
    "import tensorflow.keras as keras"
   ]
  },
  {
   "cell_type": "markdown",
   "metadata": {
    "colab_type": "text",
    "id": "5FHh910J1Kdm"
   },
   "source": [
    "### Load data\n",
    "Load the Diabetes dataset from **SciKit-Learn**."
   ]
  },
  {
   "cell_type": "code",
   "execution_count": 14,
   "metadata": {
    "colab": {},
    "colab_type": "code",
    "id": "MWu8SlQF1Kdo"
   },
   "outputs": [],
   "source": [
    "from sklearn.datasets import load_diabetes\n",
    "\n",
    "diabetes = load_diabetes(as_frame = True)\n",
    "\n",
    "df = diabetes.data\n",
    "target = diabetes.target"
   ]
  },
  {
   "cell_type": "markdown",
   "metadata": {
    "colab_type": "text",
    "id": "xR_yLpR01Kdr"
   },
   "source": [
    "### Prepare input data"
   ]
  },
  {
   "cell_type": "code",
   "execution_count": 20,
   "metadata": {
    "colab": {},
    "colab_type": "code",
    "id": "Sp2mf2bB1Kds"
   },
   "outputs": [],
   "source": [
    "X = df.to_numpy()\n",
    "y = target"
   ]
  },
  {
   "cell_type": "markdown",
   "metadata": {
    "colab_type": "text",
    "id": "j1Vsh6cm1Kdv"
   },
   "source": [
    "### Split the data (training/test)"
   ]
  },
  {
   "cell_type": "code",
   "execution_count": 22,
   "metadata": {
    "colab": {},
    "colab_type": "code",
    "id": "O341llJz1Kdw"
   },
   "outputs": [],
   "source": [
    "from sklearn.model_selection import train_test_split\n",
    "\n",
    "X_train, X_test, y_train, y_test = train_test_split(X, y, test_size=0.33, random_state=42)"
   ]
  },
  {
   "cell_type": "markdown",
   "metadata": {
    "colab_type": "text",
    "id": "o4dJViJD1Kd0"
   },
   "source": [
    "### Create the model's architecture"
   ]
  },
  {
   "cell_type": "code",
   "execution_count": 68,
   "metadata": {},
   "outputs": [],
   "source": [
    "#Create normalization layer\n",
    "\n",
    "from keras.layers.experimental import preprocessing\n",
    "\n",
    "normalizer = preprocessing.Normalization()\n",
    "normalizer.adapt(X_train)"
   ]
  },
  {
   "cell_type": "code",
   "execution_count": 76,
   "metadata": {},
   "outputs": [
    {
     "name": "stdout",
     "output_type": "stream",
     "text": [
      "Means: [0.00119828 0.00012094 0.0017684  0.00116473 0.00092728 0.0003529\n",
      " 0.00037457 0.00017906 0.00096739 0.00184697]\n",
      "\n",
      "\n",
      "Variances: [0.00212856 0.00226316 0.00226091 0.00231074 0.00227382 0.00225533\n",
      " 0.00226129 0.00227309 0.00227525 0.0021854 ]\n"
     ]
    }
   ],
   "source": [
    "# Mean and variances of the features are stored for normalization:\n",
    "\n",
    "print('Means:', normalizer.mean.numpy())\n",
    "print('\\n')\n",
    "print('Variances:', normalizer.variance.numpy())"
   ]
  },
  {
   "cell_type": "code",
   "execution_count": null,
   "metadata": {},
   "outputs": [],
   "source": [
    "'''\n",
    "Note:\n",
    "Had tried to create model with 2 layers, but it predicted the same\n",
    "value for all test rows. Not sure why. Too many layers results in bad predictions?\n",
    "\n",
    "'''"
   ]
  },
  {
   "cell_type": "code",
   "execution_count": 157,
   "metadata": {
    "colab": {},
    "colab_type": "code",
    "id": "Tkgf_BLl1Kd1"
   },
   "outputs": [],
   "source": [
    "# Try to create model with 1 hidden layer?\n",
    "\n",
    "from keras import layers\n",
    "\n",
    "model = keras.Sequential(\n",
    "    [normalizer,\n",
    "     layers.Dense(units = 3, activation = 'relu', name = 'layer1'),\n",
    "     layers.Dense(units = 1, activation = 'linear', name = 'layer3')\n",
    "    ]\n",
    ")\n"
   ]
  },
  {
   "cell_type": "markdown",
   "metadata": {
    "colab_type": "text",
    "id": "5hQTS42V1Kd4"
   },
   "source": [
    "### Compile the model"
   ]
  },
  {
   "cell_type": "code",
   "execution_count": 158,
   "metadata": {
    "colab": {},
    "colab_type": "code",
    "id": "BvLsoanF1Kd5"
   },
   "outputs": [],
   "source": [
    "model.compile(optimizer = keras.optimizers.SGD(learning_rate = 0.005),\n",
    "              loss = 'MeanAbsoluteError',\n",
    "              metrics = ['MeanSquaredError','RootMeanSquaredError'] )"
   ]
  },
  {
   "cell_type": "markdown",
   "metadata": {
    "colab_type": "text",
    "id": "6KPQbnEj1Kd7"
   },
   "source": [
    "### Fit the training data"
   ]
  },
  {
   "cell_type": "code",
   "execution_count": 159,
   "metadata": {},
   "outputs": [
    {
     "name": "stdout",
     "output_type": "stream",
     "text": [
      "Epoch 1/200\n",
      "30/30 [==============================] - 0s 598us/step - loss: 151.8685 - mean_squared_error: 29141.4395 - root_mean_squared_error: 170.7086\n",
      "Epoch 2/200\n",
      "30/30 [==============================] - 0s 665us/step - loss: 151.5177 - mean_squared_error: 29030.5879 - root_mean_squared_error: 170.3837\n",
      "Epoch 3/200\n",
      "30/30 [==============================] - 0s 632us/step - loss: 151.1629 - mean_squared_error: 28923.7734 - root_mean_squared_error: 170.0699\n",
      "Epoch 4/200\n",
      "30/30 [==============================] - 0s 698us/step - loss: 150.7790 - mean_squared_error: 28816.7363 - root_mean_squared_error: 169.7549\n",
      "Epoch 5/200\n",
      "30/30 [==============================] - 0s 599us/step - loss: 150.3429 - mean_squared_error: 28699.2930 - root_mean_squared_error: 169.4087\n",
      "Epoch 6/200\n",
      "30/30 [==============================] - 0s 632us/step - loss: 149.8284 - mean_squared_error: 28566.8008 - root_mean_squared_error: 169.0172\n",
      "Epoch 7/200\n",
      "30/30 [==============================] - 0s 632us/step - loss: 149.2115 - mean_squared_error: 28417.5176 - root_mean_squared_error: 168.5750\n",
      "Epoch 8/200\n",
      "30/30 [==============================] - 0s 665us/step - loss: 148.4403 - mean_squared_error: 28239.9570 - root_mean_squared_error: 168.0475\n",
      "Epoch 9/200\n",
      "30/30 [==============================] - 0s 632us/step - loss: 147.4669 - mean_squared_error: 28014.2754 - root_mean_squared_error: 167.3746\n",
      "Epoch 10/200\n",
      "30/30 [==============================] - 0s 598us/step - loss: 146.2088 - mean_squared_error: 27739.0449 - root_mean_squared_error: 166.5504\n",
      "Epoch 11/200\n",
      "30/30 [==============================] - 0s 665us/step - loss: 144.5692 - mean_squared_error: 27404.0195 - root_mean_squared_error: 165.5416\n",
      "Epoch 12/200\n",
      "30/30 [==============================] - 0s 698us/step - loss: 142.4583 - mean_squared_error: 26976.5098 - root_mean_squared_error: 164.2453\n",
      "Epoch 13/200\n",
      "30/30 [==============================] - 0s 598us/step - loss: 139.6956 - mean_squared_error: 26459.5273 - root_mean_squared_error: 162.6638\n",
      "Epoch 14/200\n",
      "30/30 [==============================] - 0s 632us/step - loss: 136.3331 - mean_squared_error: 25842.5566 - root_mean_squared_error: 160.7562\n",
      "Epoch 15/200\n",
      "30/30 [==============================] - 0s 632us/step - loss: 132.5236 - mean_squared_error: 25187.0684 - root_mean_squared_error: 158.7043\n",
      "Epoch 16/200\n",
      "30/30 [==============================] - 0s 598us/step - loss: 128.8499 - mean_squared_error: 24522.0137 - root_mean_squared_error: 156.5951\n",
      "Epoch 17/200\n",
      "30/30 [==============================] - 0s 731us/step - loss: 126.0849 - mean_squared_error: 23916.7695 - root_mean_squared_error: 154.6505\n",
      "Epoch 18/200\n",
      "30/30 [==============================] - 0s 632us/step - loss: 123.8707 - mean_squared_error: 23400.7559 - root_mean_squared_error: 152.9731\n",
      "Epoch 19/200\n",
      "30/30 [==============================] - 0s 565us/step - loss: 122.0299 - mean_squared_error: 22926.1816 - root_mean_squared_error: 151.4139\n",
      "Epoch 20/200\n",
      "30/30 [==============================] - 0s 665us/step - loss: 120.3716 - mean_squared_error: 22438.7695 - root_mean_squared_error: 149.7958\n",
      "Epoch 21/200\n",
      "30/30 [==============================] - 0s 632us/step - loss: 118.5757 - mean_squared_error: 21926.6113 - root_mean_squared_error: 148.0764\n",
      "Epoch 22/200\n",
      "30/30 [==============================] - 0s 798us/step - loss: 116.6037 - mean_squared_error: 21359.7129 - root_mean_squared_error: 146.1496\n",
      "Epoch 23/200\n",
      "30/30 [==============================] - 0s 632us/step - loss: 114.1151 - mean_squared_error: 20613.2773 - root_mean_squared_error: 143.5732\n",
      "Epoch 24/200\n",
      "30/30 [==============================] - 0s 599us/step - loss: 110.5161 - mean_squared_error: 19521.3906 - root_mean_squared_error: 139.7190\n",
      "Epoch 25/200\n",
      "30/30 [==============================] - 0s 765us/step - loss: 105.5993 - mean_squared_error: 18072.2930 - root_mean_squared_error: 134.4332\n",
      "Epoch 26/200\n",
      "30/30 [==============================] - 0s 632us/step - loss: 98.3212 - mean_squared_error: 15922.7217 - root_mean_squared_error: 126.1853\n",
      "Epoch 27/200\n",
      "30/30 [==============================] - 0s 598us/step - loss: 87.6858 - mean_squared_error: 12958.2373 - root_mean_squared_error: 113.8343\n",
      "Epoch 28/200\n",
      "30/30 [==============================] - 0s 632us/step - loss: 75.0873 - mean_squared_error: 9668.5703 - root_mean_squared_error: 98.3289\n",
      "Epoch 29/200\n",
      "30/30 [==============================] - 0s 632us/step - loss: 62.6276 - mean_squared_error: 6791.4541 - root_mean_squared_error: 82.4103\n",
      "Epoch 30/200\n",
      "30/30 [==============================] - 0s 633us/step - loss: 54.0393 - mean_squared_error: 4934.7783 - root_mean_squared_error: 70.2480\n",
      "Epoch 31/200\n",
      "30/30 [==============================] - 0s 598us/step - loss: 49.3039 - mean_squared_error: 4012.7649 - root_mean_squared_error: 63.3464\n",
      "Epoch 32/200\n",
      "30/30 [==============================] - 0s 632us/step - loss: 46.9955 - mean_squared_error: 3485.8286 - root_mean_squared_error: 59.0409\n",
      "Epoch 33/200\n",
      "30/30 [==============================] - 0s 665us/step - loss: 45.5934 - mean_squared_error: 3281.6523 - root_mean_squared_error: 57.2857\n",
      "Epoch 34/200\n",
      "30/30 [==============================] - 0s 598us/step - loss: 44.8827 - mean_squared_error: 3138.5647 - root_mean_squared_error: 56.0229\n",
      "Epoch 35/200\n",
      "30/30 [==============================] - 0s 665us/step - loss: 44.4631 - mean_squared_error: 3104.3003 - root_mean_squared_error: 55.7162\n",
      "Epoch 36/200\n",
      "30/30 [==============================] - 0s 598us/step - loss: 44.4276 - mean_squared_error: 3051.3535 - root_mean_squared_error: 55.2391\n",
      "Epoch 37/200\n",
      "30/30 [==============================] - 0s 665us/step - loss: 44.2342 - mean_squared_error: 3066.7971 - root_mean_squared_error: 55.3787\n",
      "Epoch 38/200\n",
      "30/30 [==============================] - 0s 665us/step - loss: 44.1822 - mean_squared_error: 3030.0569 - root_mean_squared_error: 55.0460\n",
      "Epoch 39/200\n",
      "30/30 [==============================] - 0s 598us/step - loss: 44.1656 - mean_squared_error: 3033.8796 - root_mean_squared_error: 55.0807\n",
      "Epoch 40/200\n",
      "30/30 [==============================] - 0s 665us/step - loss: 44.1120 - mean_squared_error: 3024.6609 - root_mean_squared_error: 54.9969\n",
      "Epoch 41/200\n",
      "30/30 [==============================] - 0s 532us/step - loss: 44.0910 - mean_squared_error: 3033.3303 - root_mean_squared_error: 55.0757\n",
      "Epoch 42/200\n",
      "30/30 [==============================] - 0s 598us/step - loss: 44.0632 - mean_squared_error: 3020.8271 - root_mean_squared_error: 54.9621\n",
      "Epoch 43/200\n",
      "30/30 [==============================] - 0s 565us/step - loss: 44.0224 - mean_squared_error: 3051.8723 - root_mean_squared_error: 55.2438\n",
      "Epoch 44/200\n",
      "30/30 [==============================] - 0s 532us/step - loss: 44.1474 - mean_squared_error: 3044.8821 - root_mean_squared_error: 55.1805\n",
      "Epoch 45/200\n",
      "30/30 [==============================] - 0s 565us/step - loss: 43.9823 - mean_squared_error: 3039.9744 - root_mean_squared_error: 55.1360\n",
      "Epoch 46/200\n",
      "30/30 [==============================] - 0s 532us/step - loss: 43.9316 - mean_squared_error: 3024.6492 - root_mean_squared_error: 54.9968\n",
      "Epoch 47/200\n",
      "30/30 [==============================] - 0s 565us/step - loss: 44.0889 - mean_squared_error: 3025.4644 - root_mean_squared_error: 55.0042\n",
      "Epoch 48/200\n",
      "30/30 [==============================] - 0s 565us/step - loss: 44.0359 - mean_squared_error: 3030.8079 - root_mean_squared_error: 55.0528\n",
      "Epoch 49/200\n",
      "30/30 [==============================] - 0s 532us/step - loss: 43.9975 - mean_squared_error: 3018.1343 - root_mean_squared_error: 54.9375\n",
      "Epoch 50/200\n",
      "30/30 [==============================] - 0s 598us/step - loss: 43.9759 - mean_squared_error: 3014.9780 - root_mean_squared_error: 54.9088\n",
      "Epoch 51/200\n",
      "30/30 [==============================] - 0s 532us/step - loss: 44.0414 - mean_squared_error: 3018.3889 - root_mean_squared_error: 54.9399\n",
      "Epoch 52/200\n",
      "30/30 [==============================] - 0s 532us/step - loss: 43.9634 - mean_squared_error: 3038.2866 - root_mean_squared_error: 55.1207\n",
      "Epoch 53/200\n",
      "30/30 [==============================] - 0s 532us/step - loss: 44.0502 - mean_squared_error: 3026.1287 - root_mean_squared_error: 55.0103\n",
      "Epoch 54/200\n",
      "30/30 [==============================] - 0s 565us/step - loss: 43.9658 - mean_squared_error: 3000.2915 - root_mean_squared_error: 54.7749\n",
      "Epoch 55/200\n",
      "30/30 [==============================] - 0s 532us/step - loss: 44.0361 - mean_squared_error: 3038.0916 - root_mean_squared_error: 55.1189\n",
      "Epoch 56/200\n",
      "30/30 [==============================] - 0s 499us/step - loss: 43.9538 - mean_squared_error: 3011.0208 - root_mean_squared_error: 54.8728\n",
      "Epoch 57/200\n",
      "30/30 [==============================] - 0s 532us/step - loss: 43.9025 - mean_squared_error: 3044.3740 - root_mean_squared_error: 55.1758\n",
      "Epoch 58/200\n",
      "30/30 [==============================] - 0s 632us/step - loss: 44.0639 - mean_squared_error: 3020.3245 - root_mean_squared_error: 54.9575\n",
      "Epoch 59/200\n",
      "30/30 [==============================] - 0s 565us/step - loss: 44.0446 - mean_squared_error: 3013.7600 - root_mean_squared_error: 54.8977\n",
      "Epoch 60/200\n",
      "30/30 [==============================] - 0s 565us/step - loss: 43.9595 - mean_squared_error: 3025.5022 - root_mean_squared_error: 55.0046\n",
      "Epoch 61/200\n",
      "30/30 [==============================] - 0s 499us/step - loss: 43.9800 - mean_squared_error: 3018.7102 - root_mean_squared_error: 54.9428\n",
      "Epoch 62/200\n",
      "30/30 [==============================] - 0s 532us/step - loss: 43.9137 - mean_squared_error: 3022.3586 - root_mean_squared_error: 54.9760\n",
      "Epoch 63/200\n",
      "30/30 [==============================] - 0s 532us/step - loss: 43.9680 - mean_squared_error: 3014.4219 - root_mean_squared_error: 54.9038\n",
      "Epoch 64/200\n",
      "30/30 [==============================] - 0s 532us/step - loss: 43.9503 - mean_squared_error: 3010.3164 - root_mean_squared_error: 54.8664\n",
      "Epoch 65/200\n",
      "30/30 [==============================] - 0s 520us/step - loss: 43.9542 - mean_squared_error: 3013.3569 - root_mean_squared_error: 54.8941\n",
      "Epoch 66/200\n",
      "30/30 [==============================] - 0s 532us/step - loss: 43.8349 - mean_squared_error: 3002.8835 - root_mean_squared_error: 54.7986\n",
      "Epoch 67/200\n",
      "30/30 [==============================] - 0s 565us/step - loss: 43.9317 - mean_squared_error: 3030.8877 - root_mean_squared_error: 55.0535\n",
      "Epoch 68/200\n",
      "30/30 [==============================] - 0s 532us/step - loss: 43.9424 - mean_squared_error: 3014.1440 - root_mean_squared_error: 54.9012\n",
      "Epoch 69/200\n",
      "30/30 [==============================] - 0s 532us/step - loss: 43.9171 - mean_squared_error: 3001.8750 - root_mean_squared_error: 54.7894\n",
      "Epoch 70/200\n",
      "30/30 [==============================] - 0s 554us/step - loss: 43.8748 - mean_squared_error: 3011.3735 - root_mean_squared_error: 54.8760\n",
      "Epoch 71/200\n",
      "30/30 [==============================] - 0s 565us/step - loss: 43.9700 - mean_squared_error: 3021.2012 - root_mean_squared_error: 54.9655\n",
      "Epoch 72/200\n",
      "30/30 [==============================] - 0s 565us/step - loss: 43.9269 - mean_squared_error: 3033.5654 - root_mean_squared_error: 55.0778\n",
      "Epoch 73/200\n",
      "30/30 [==============================] - 0s 465us/step - loss: 43.8811 - mean_squared_error: 3031.4290 - root_mean_squared_error: 55.0584\n",
      "Epoch 74/200\n",
      "30/30 [==============================] - 0s 632us/step - loss: 43.9905 - mean_squared_error: 3012.4673 - root_mean_squared_error: 54.8859\n",
      "Epoch 75/200\n",
      "30/30 [==============================] - 0s 565us/step - loss: 43.8471 - mean_squared_error: 3009.6541 - root_mean_squared_error: 54.8603\n",
      "Epoch 76/200\n",
      "30/30 [==============================] - 0s 531us/step - loss: 43.8091 - mean_squared_error: 2994.2195 - root_mean_squared_error: 54.7195\n",
      "Epoch 77/200\n",
      "30/30 [==============================] - 0s 532us/step - loss: 43.9052 - mean_squared_error: 3026.5820 - root_mean_squared_error: 55.0144\n",
      "Epoch 78/200\n",
      "30/30 [==============================] - 0s 565us/step - loss: 43.8584 - mean_squared_error: 3011.3743 - root_mean_squared_error: 54.8760\n",
      "Epoch 79/200\n",
      "30/30 [==============================] - 0s 532us/step - loss: 43.8683 - mean_squared_error: 3005.7996 - root_mean_squared_error: 54.8252\n",
      "Epoch 80/200\n",
      "30/30 [==============================] - 0s 532us/step - loss: 43.7728 - mean_squared_error: 3028.8418 - root_mean_squared_error: 55.0349\n",
      "Epoch 81/200\n",
      "30/30 [==============================] - 0s 565us/step - loss: 43.8324 - mean_squared_error: 2999.6968 - root_mean_squared_error: 54.7695\n",
      "Epoch 82/200\n",
      "30/30 [==============================] - 0s 465us/step - loss: 43.9007 - mean_squared_error: 2996.8711 - root_mean_squared_error: 54.7437\n",
      "Epoch 83/200\n",
      "30/30 [==============================] - 0s 532us/step - loss: 43.8709 - mean_squared_error: 2997.9419 - root_mean_squared_error: 54.7535\n",
      "Epoch 84/200\n",
      "30/30 [==============================] - 0s 565us/step - loss: 43.8408 - mean_squared_error: 2987.2710 - root_mean_squared_error: 54.6559\n",
      "Epoch 85/200\n",
      "30/30 [==============================] - 0s 565us/step - loss: 43.8146 - mean_squared_error: 3011.1843 - root_mean_squared_error: 54.8743\n",
      "Epoch 86/200\n",
      "30/30 [==============================] - 0s 599us/step - loss: 43.8486 - mean_squared_error: 3012.0715 - root_mean_squared_error: 54.8823\n",
      "Epoch 87/200\n",
      "30/30 [==============================] - 0s 499us/step - loss: 43.7788 - mean_squared_error: 3014.0059 - root_mean_squared_error: 54.9000\n",
      "Epoch 88/200\n",
      "30/30 [==============================] - 0s 499us/step - loss: 43.8682 - mean_squared_error: 3008.6990 - root_mean_squared_error: 54.8516\n",
      "Epoch 89/200\n",
      "30/30 [==============================] - 0s 532us/step - loss: 43.7764 - mean_squared_error: 3011.3647 - root_mean_squared_error: 54.8759\n",
      "Epoch 90/200\n",
      "30/30 [==============================] - 0s 565us/step - loss: 43.8555 - mean_squared_error: 3010.8364 - root_mean_squared_error: 54.8711\n",
      "Epoch 91/200\n",
      "30/30 [==============================] - 0s 565us/step - loss: 43.8848 - mean_squared_error: 3008.7744 - root_mean_squared_error: 54.8523\n",
      "Epoch 92/200\n",
      "30/30 [==============================] - 0s 565us/step - loss: 43.7975 - mean_squared_error: 2999.7305 - root_mean_squared_error: 54.7698\n",
      "Epoch 93/200\n",
      "30/30 [==============================] - 0s 565us/step - loss: 43.7242 - mean_squared_error: 2999.9836 - root_mean_squared_error: 54.7721\n",
      "Epoch 94/200\n",
      "30/30 [==============================] - 0s 588us/step - loss: 43.8603 - mean_squared_error: 2992.0613 - root_mean_squared_error: 54.6997\n",
      "Epoch 95/200\n",
      "30/30 [==============================] - 0s 499us/step - loss: 43.8098 - mean_squared_error: 2998.8503 - root_mean_squared_error: 54.7618\n",
      "Epoch 96/200\n",
      "30/30 [==============================] - 0s 498us/step - loss: 43.7338 - mean_squared_error: 2984.1719 - root_mean_squared_error: 54.6276\n",
      "Epoch 97/200\n",
      "30/30 [==============================] - 0s 565us/step - loss: 43.8139 - mean_squared_error: 3005.6904 - root_mean_squared_error: 54.8242\n",
      "Epoch 98/200\n",
      "30/30 [==============================] - 0s 565us/step - loss: 43.6542 - mean_squared_error: 2991.0454 - root_mean_squared_error: 54.6905\n",
      "Epoch 99/200\n",
      "30/30 [==============================] - 0s 565us/step - loss: 43.7493 - mean_squared_error: 2997.5039 - root_mean_squared_error: 54.7495\n",
      "Epoch 100/200\n",
      "30/30 [==============================] - 0s 532us/step - loss: 43.6477 - mean_squared_error: 2997.5732 - root_mean_squared_error: 54.7501\n",
      "Epoch 101/200\n",
      "30/30 [==============================] - 0s 532us/step - loss: 43.8164 - mean_squared_error: 3012.3958 - root_mean_squared_error: 54.8853\n",
      "Epoch 102/200\n",
      "30/30 [==============================] - 0s 598us/step - loss: 43.7339 - mean_squared_error: 2994.9080 - root_mean_squared_error: 54.7258\n",
      "Epoch 103/200\n",
      "30/30 [==============================] - 0s 598us/step - loss: 43.7955 - mean_squared_error: 2990.5715 - root_mean_squared_error: 54.6861\n",
      "Epoch 104/200\n",
      "30/30 [==============================] - 0s 532us/step - loss: 43.7640 - mean_squared_error: 2992.6440 - root_mean_squared_error: 54.7051\n",
      "Epoch 105/200\n",
      "30/30 [==============================] - 0s 566us/step - loss: 43.6792 - mean_squared_error: 2980.3472 - root_mean_squared_error: 54.5926\n",
      "Epoch 106/200\n",
      "30/30 [==============================] - 0s 598us/step - loss: 43.7958 - mean_squared_error: 2999.3218 - root_mean_squared_error: 54.7661\n",
      "Epoch 107/200\n",
      "30/30 [==============================] - 0s 531us/step - loss: 43.7348 - mean_squared_error: 2999.7695 - root_mean_squared_error: 54.7702\n",
      "Epoch 108/200\n"
     ]
    },
    {
     "name": "stdout",
     "output_type": "stream",
     "text": [
      "30/30 [==============================] - 0s 565us/step - loss: 43.6385 - mean_squared_error: 3003.0762 - root_mean_squared_error: 54.8003\n",
      "Epoch 109/200\n",
      "30/30 [==============================] - 0s 598us/step - loss: 43.4968 - mean_squared_error: 2984.7078 - root_mean_squared_error: 54.6325\n",
      "Epoch 110/200\n",
      "30/30 [==============================] - 0s 566us/step - loss: 43.6893 - mean_squared_error: 2999.7559 - root_mean_squared_error: 54.7700\n",
      "Epoch 111/200\n",
      "30/30 [==============================] - 0s 598us/step - loss: 43.6776 - mean_squared_error: 2994.0105 - root_mean_squared_error: 54.7176\n",
      "Epoch 112/200\n",
      "30/30 [==============================] - 0s 532us/step - loss: 43.7504 - mean_squared_error: 3001.5544 - root_mean_squared_error: 54.7864\n",
      "Epoch 113/200\n",
      "30/30 [==============================] - 0s 598us/step - loss: 43.6654 - mean_squared_error: 2982.2878 - root_mean_squared_error: 54.6103\n",
      "Epoch 114/200\n",
      "30/30 [==============================] - 0s 532us/step - loss: 43.7941 - mean_squared_error: 2994.4319 - root_mean_squared_error: 54.7214\n",
      "Epoch 115/200\n",
      "30/30 [==============================] - 0s 565us/step - loss: 43.6651 - mean_squared_error: 2985.2998 - root_mean_squared_error: 54.6379\n",
      "Epoch 116/200\n",
      "30/30 [==============================] - 0s 565us/step - loss: 43.6927 - mean_squared_error: 2985.6855 - root_mean_squared_error: 54.6414\n",
      "Epoch 117/200\n",
      "30/30 [==============================] - 0s 565us/step - loss: 43.6466 - mean_squared_error: 2996.4749 - root_mean_squared_error: 54.7401\n",
      "Epoch 118/200\n",
      "30/30 [==============================] - 0s 565us/step - loss: 43.6278 - mean_squared_error: 2993.3928 - root_mean_squared_error: 54.7119\n",
      "Epoch 119/200\n",
      "30/30 [==============================] - 0s 566us/step - loss: 43.6866 - mean_squared_error: 3004.9697 - root_mean_squared_error: 54.8176\n",
      "Epoch 120/200\n",
      "30/30 [==============================] - 0s 599us/step - loss: 43.7136 - mean_squared_error: 3006.9863 - root_mean_squared_error: 54.8360\n",
      "Epoch 121/200\n",
      "30/30 [==============================] - 0s 565us/step - loss: 43.6487 - mean_squared_error: 2985.7949 - root_mean_squared_error: 54.6424\n",
      "Epoch 122/200\n",
      "30/30 [==============================] - 0s 499us/step - loss: 43.6881 - mean_squared_error: 2993.1118 - root_mean_squared_error: 54.7093\n",
      "Epoch 123/200\n",
      "30/30 [==============================] - 0s 598us/step - loss: 43.7298 - mean_squared_error: 2986.2224 - root_mean_squared_error: 54.6463\n",
      "Epoch 124/200\n",
      "30/30 [==============================] - 0s 1ms/step - loss: 43.6486 - mean_squared_error: 2980.7727 - root_mean_squared_error: 54.5965\n",
      "Epoch 125/200\n",
      "30/30 [==============================] - 0s 731us/step - loss: 43.6603 - mean_squared_error: 2984.5569 - root_mean_squared_error: 54.6311\n",
      "Epoch 126/200\n",
      "30/30 [==============================] - 0s 598us/step - loss: 43.5832 - mean_squared_error: 3000.1997 - root_mean_squared_error: 54.7741\n",
      "Epoch 127/200\n",
      "30/30 [==============================] - 0s 598us/step - loss: 43.4627 - mean_squared_error: 2990.1426 - root_mean_squared_error: 54.6822\n",
      "Epoch 128/200\n",
      "30/30 [==============================] - 0s 665us/step - loss: 43.7641 - mean_squared_error: 3013.5271 - root_mean_squared_error: 54.8956\n",
      "Epoch 129/200\n",
      "30/30 [==============================] - 0s 665us/step - loss: 43.5371 - mean_squared_error: 2994.3318 - root_mean_squared_error: 54.7205\n",
      "Epoch 130/200\n",
      "30/30 [==============================] - 0s 632us/step - loss: 43.5972 - mean_squared_error: 2985.3984 - root_mean_squared_error: 54.6388\n",
      "Epoch 131/200\n",
      "30/30 [==============================] - 0s 798us/step - loss: 43.5836 - mean_squared_error: 2985.5334 - root_mean_squared_error: 54.6400\n",
      "Epoch 132/200\n",
      "30/30 [==============================] - 0s 665us/step - loss: 43.6008 - mean_squared_error: 2994.3899 - root_mean_squared_error: 54.7210\n",
      "Epoch 133/200\n",
      "30/30 [==============================] - 0s 698us/step - loss: 43.6489 - mean_squared_error: 2994.2068 - root_mean_squared_error: 54.7193\n",
      "Epoch 134/200\n",
      "30/30 [==============================] - 0s 698us/step - loss: 43.6529 - mean_squared_error: 2999.2039 - root_mean_squared_error: 54.7650\n",
      "Epoch 135/200\n",
      "30/30 [==============================] - 0s 665us/step - loss: 43.6886 - mean_squared_error: 3001.5884 - root_mean_squared_error: 54.7868\n",
      "Epoch 136/200\n",
      "30/30 [==============================] - 0s 532us/step - loss: 43.5419 - mean_squared_error: 2989.9150 - root_mean_squared_error: 54.6801\n",
      "Epoch 137/200\n",
      "30/30 [==============================] - 0s 532us/step - loss: 43.5571 - mean_squared_error: 2985.8862 - root_mean_squared_error: 54.6433\n",
      "Epoch 138/200\n",
      "30/30 [==============================] - 0s 565us/step - loss: 43.5927 - mean_squared_error: 2998.8154 - root_mean_squared_error: 54.7614\n",
      "Epoch 139/200\n",
      "30/30 [==============================] - 0s 565us/step - loss: 43.6175 - mean_squared_error: 3009.0842 - root_mean_squared_error: 54.8551\n",
      "Epoch 140/200\n",
      "30/30 [==============================] - 0s 565us/step - loss: 43.6347 - mean_squared_error: 3001.7629 - root_mean_squared_error: 54.7883\n",
      "Epoch 141/200\n",
      "30/30 [==============================] - 0s 532us/step - loss: 43.6318 - mean_squared_error: 3002.6582 - root_mean_squared_error: 54.7965\n",
      "Epoch 142/200\n",
      "30/30 [==============================] - 0s 499us/step - loss: 43.5245 - mean_squared_error: 2988.8035 - root_mean_squared_error: 54.6699\n",
      "Epoch 143/200\n",
      "30/30 [==============================] - 0s 565us/step - loss: 43.6033 - mean_squared_error: 3006.7168 - root_mean_squared_error: 54.8335\n",
      "Epoch 144/200\n",
      "30/30 [==============================] - 0s 623us/step - loss: 43.6193 - mean_squared_error: 3003.7595 - root_mean_squared_error: 54.8066\n",
      "Epoch 145/200\n",
      "30/30 [==============================] - 0s 731us/step - loss: 43.5417 - mean_squared_error: 3007.8521 - root_mean_squared_error: 54.8439\n",
      "Epoch 146/200\n",
      "30/30 [==============================] - 0s 665us/step - loss: 43.6470 - mean_squared_error: 3007.4565 - root_mean_squared_error: 54.8403\n",
      "Epoch 147/200\n",
      "30/30 [==============================] - 0s 698us/step - loss: 43.5933 - mean_squared_error: 2999.2717 - root_mean_squared_error: 54.7656\n",
      "Epoch 148/200\n",
      "30/30 [==============================] - 0s 682us/step - loss: 43.5259 - mean_squared_error: 2999.6343 - root_mean_squared_error: 54.7689\n",
      "Epoch 149/200\n",
      "30/30 [==============================] - 0s 665us/step - loss: 43.4750 - mean_squared_error: 3000.7085 - root_mean_squared_error: 54.7787\n",
      "Epoch 150/200\n",
      "30/30 [==============================] - 0s 665us/step - loss: 43.4869 - mean_squared_error: 2989.9941 - root_mean_squared_error: 54.6808\n",
      "Epoch 151/200\n",
      "30/30 [==============================] - 0s 632us/step - loss: 43.6179 - mean_squared_error: 3007.6365 - root_mean_squared_error: 54.8419\n",
      "Epoch 152/200\n",
      "30/30 [==============================] - 0s 532us/step - loss: 43.5234 - mean_squared_error: 2991.7192 - root_mean_squared_error: 54.6966\n",
      "Epoch 153/200\n",
      "30/30 [==============================] - 0s 432us/step - loss: 43.4347 - mean_squared_error: 2988.2200 - root_mean_squared_error: 54.6646\n",
      "Epoch 154/200\n",
      "30/30 [==============================] - 0s 499us/step - loss: 43.4715 - mean_squared_error: 3004.6296 - root_mean_squared_error: 54.8145\n",
      "Epoch 155/200\n",
      "30/30 [==============================] - 0s 532us/step - loss: 43.4999 - mean_squared_error: 2998.9475 - root_mean_squared_error: 54.7626\n",
      "Epoch 156/200\n",
      "30/30 [==============================] - 0s 465us/step - loss: 43.5057 - mean_squared_error: 3018.0742 - root_mean_squared_error: 54.9370\n",
      "Epoch 157/200\n",
      "30/30 [==============================] - 0s 465us/step - loss: 43.4884 - mean_squared_error: 3000.3831 - root_mean_squared_error: 54.7758\n",
      "Epoch 158/200\n",
      "30/30 [==============================] - 0s 565us/step - loss: 43.4596 - mean_squared_error: 2994.5518 - root_mean_squared_error: 54.7225\n",
      "Epoch 159/200\n",
      "30/30 [==============================] - 0s 499us/step - loss: 43.4740 - mean_squared_error: 3018.6526 - root_mean_squared_error: 54.9423\n",
      "Epoch 160/200\n",
      "30/30 [==============================] - 0s 465us/step - loss: 43.5634 - mean_squared_error: 3011.7083 - root_mean_squared_error: 54.8790\n",
      "Epoch 161/200\n",
      "30/30 [==============================] - 0s 499us/step - loss: 43.4595 - mean_squared_error: 3004.4114 - root_mean_squared_error: 54.8125\n",
      "Epoch 162/200\n"
     ]
    },
    {
     "name": "stdout",
     "output_type": "stream",
     "text": [
      "30/30 [==============================] - 0s 465us/step - loss: 43.5243 - mean_squared_error: 3013.6465 - root_mean_squared_error: 54.8967\n",
      "Epoch 163/200\n",
      "30/30 [==============================] - 0s 532us/step - loss: 43.5278 - mean_squared_error: 2997.3743 - root_mean_squared_error: 54.7483\n",
      "Epoch 164/200\n",
      "30/30 [==============================] - 0s 565us/step - loss: 43.4577 - mean_squared_error: 3001.6028 - root_mean_squared_error: 54.7869\n",
      "Epoch 165/200\n",
      "30/30 [==============================] - 0s 532us/step - loss: 43.4337 - mean_squared_error: 2997.2886 - root_mean_squared_error: 54.7475\n",
      "Epoch 166/200\n",
      "30/30 [==============================] - 0s 532us/step - loss: 43.4900 - mean_squared_error: 2992.9924 - root_mean_squared_error: 54.7082\n",
      "Epoch 167/200\n",
      "30/30 [==============================] - 0s 532us/step - loss: 43.4937 - mean_squared_error: 3002.8623 - root_mean_squared_error: 54.7984\n",
      "Epoch 168/200\n",
      "30/30 [==============================] - 0s 499us/step - loss: 43.4924 - mean_squared_error: 3002.4944 - root_mean_squared_error: 54.7950\n",
      "Epoch 169/200\n",
      "30/30 [==============================] - 0s 565us/step - loss: 43.5455 - mean_squared_error: 3010.5317 - root_mean_squared_error: 54.8683\n",
      "Epoch 170/200\n",
      "30/30 [==============================] - 0s 532us/step - loss: 43.4982 - mean_squared_error: 3000.2104 - root_mean_squared_error: 54.7742\n",
      "Epoch 171/200\n",
      "30/30 [==============================] - 0s 532us/step - loss: 43.4097 - mean_squared_error: 3001.9604 - root_mean_squared_error: 54.7901\n",
      "Epoch 172/200\n",
      "30/30 [==============================] - 0s 532us/step - loss: 43.5271 - mean_squared_error: 3011.8462 - root_mean_squared_error: 54.8803\n",
      "Epoch 173/200\n",
      "30/30 [==============================] - 0s 532us/step - loss: 43.3933 - mean_squared_error: 3008.8210 - root_mean_squared_error: 54.8527\n",
      "Epoch 174/200\n",
      "30/30 [==============================] - 0s 465us/step - loss: 43.4371 - mean_squared_error: 3004.5942 - root_mean_squared_error: 54.8142\n",
      "Epoch 175/200\n",
      "30/30 [==============================] - 0s 465us/step - loss: 43.5873 - mean_squared_error: 3011.5164 - root_mean_squared_error: 54.8773\n",
      "Epoch 176/200\n",
      "30/30 [==============================] - 0s 499us/step - loss: 43.5043 - mean_squared_error: 3026.5032 - root_mean_squared_error: 55.0137\n",
      "Epoch 177/200\n",
      "30/30 [==============================] - 0s 463us/step - loss: 43.4718 - mean_squared_error: 3004.8518 - root_mean_squared_error: 54.8165\n",
      "Epoch 178/200\n",
      "30/30 [==============================] - 0s 499us/step - loss: 43.4449 - mean_squared_error: 3000.2039 - root_mean_squared_error: 54.7741\n",
      "Epoch 179/200\n",
      "30/30 [==============================] - 0s 465us/step - loss: 43.2999 - mean_squared_error: 3005.4414 - root_mean_squared_error: 54.8219\n",
      "Epoch 180/200\n",
      "30/30 [==============================] - 0s 499us/step - loss: 43.4308 - mean_squared_error: 3016.2305 - root_mean_squared_error: 54.9202\n",
      "Epoch 181/200\n",
      "30/30 [==============================] - 0s 532us/step - loss: 43.4107 - mean_squared_error: 3007.0308 - root_mean_squared_error: 54.8364\n",
      "Epoch 182/200\n",
      "30/30 [==============================] - 0s 499us/step - loss: 43.4548 - mean_squared_error: 3000.1711 - root_mean_squared_error: 54.7738\n",
      "Epoch 183/200\n",
      "30/30 [==============================] - 0s 499us/step - loss: 43.4895 - mean_squared_error: 3022.2642 - root_mean_squared_error: 54.9751\n",
      "Epoch 184/200\n",
      "30/30 [==============================] - 0s 598us/step - loss: 43.3180 - mean_squared_error: 3004.3618 - root_mean_squared_error: 54.8121\n",
      "Epoch 185/200\n",
      "30/30 [==============================] - 0s 465us/step - loss: 43.4280 - mean_squared_error: 3010.0835 - root_mean_squared_error: 54.8642\n",
      "Epoch 186/200\n",
      "30/30 [==============================] - 0s 465us/step - loss: 43.4422 - mean_squared_error: 3026.9575 - root_mean_squared_error: 55.0178\n",
      "Epoch 187/200\n",
      "30/30 [==============================] - 0s 532us/step - loss: 43.3528 - mean_squared_error: 2982.3000 - root_mean_squared_error: 54.6104\n",
      "Epoch 188/200\n",
      "30/30 [==============================] - 0s 532us/step - loss: 43.5137 - mean_squared_error: 3018.9775 - root_mean_squared_error: 54.9452\n",
      "Epoch 189/200\n",
      "30/30 [==============================] - 0s 565us/step - loss: 43.3914 - mean_squared_error: 3007.7695 - root_mean_squared_error: 54.8431\n",
      "Epoch 190/200\n",
      "30/30 [==============================] - 0s 565us/step - loss: 43.3275 - mean_squared_error: 3005.8589 - root_mean_squared_error: 54.8257\n",
      "Epoch 191/200\n",
      "30/30 [==============================] - 0s 565us/step - loss: 43.3465 - mean_squared_error: 2996.3352 - root_mean_squared_error: 54.7388\n",
      "Epoch 192/200\n",
      "30/30 [==============================] - 0s 532us/step - loss: 43.3265 - mean_squared_error: 3010.1750 - root_mean_squared_error: 54.8651\n",
      "Epoch 193/200\n",
      "30/30 [==============================] - 0s 532us/step - loss: 43.3601 - mean_squared_error: 3014.6177 - root_mean_squared_error: 54.9055\n",
      "Epoch 194/200\n",
      "30/30 [==============================] - 0s 565us/step - loss: 43.3796 - mean_squared_error: 3000.2278 - root_mean_squared_error: 54.7743\n",
      "Epoch 195/200\n",
      "30/30 [==============================] - 0s 565us/step - loss: 43.4787 - mean_squared_error: 3015.7988 - root_mean_squared_error: 54.9163\n",
      "Epoch 196/200\n",
      "30/30 [==============================] - 0s 465us/step - loss: 43.3955 - mean_squared_error: 3005.6509 - root_mean_squared_error: 54.8238\n",
      "Epoch 197/200\n",
      "30/30 [==============================] - 0s 465us/step - loss: 43.3706 - mean_squared_error: 3007.4656 - root_mean_squared_error: 54.8404\n",
      "Epoch 198/200\n",
      "30/30 [==============================] - 0s 532us/step - loss: 43.3329 - mean_squared_error: 3021.5295 - root_mean_squared_error: 54.9684\n",
      "Epoch 199/200\n",
      "30/30 [==============================] - 0s 465us/step - loss: 43.4080 - mean_squared_error: 3035.8821 - root_mean_squared_error: 55.0988\n",
      "Epoch 200/200\n",
      "30/30 [==============================] - 0s 499us/step - loss: 43.3909 - mean_squared_error: 3020.8975 - root_mean_squared_error: 54.9627\n"
     ]
    }
   ],
   "source": [
    "modelhistory = model.fit(x = X_train,\n",
    "          y = y_train,\n",
    "          batch_size = 10,\n",
    "          epochs = 200,\n",
    "          verbose = 1\n",
    "         )"
   ]
  },
  {
   "cell_type": "markdown",
   "metadata": {
    "colab_type": "text",
    "id": "CR-kCu3c1Kd-"
   },
   "source": [
    "### Create predictions"
   ]
  },
  {
   "cell_type": "code",
   "execution_count": 160,
   "metadata": {
    "colab": {},
    "colab_type": "code",
    "id": "wkywKqPg1Kd-"
   },
   "outputs": [
    {
     "data": {
      "text/plain": [
       "array([[135.6076  ],\n",
       "       [183.60634 ],\n",
       "       [141.88272 ],\n",
       "       [284.47638 ],\n",
       "       [102.75207 ],\n",
       "       [ 96.59143 ],\n",
       "       [244.74329 ],\n",
       "       [168.53345 ],\n",
       "       [ 73.70204 ],\n",
       "       [ 96.14128 ],\n",
       "       [ 91.249985],\n",
       "       [183.59091 ],\n",
       "       [ 77.03314 ],\n",
       "       [195.8021  ],\n",
       "       [ 86.40111 ],\n",
       "       [126.265625],\n",
       "       [192.44301 ],\n",
       "       [231.09575 ],\n",
       "       [220.38852 ],\n",
       "       [204.98265 ],\n",
       "       [218.9683  ],\n",
       "       [ 82.922646],\n",
       "       [ 59.27829 ],\n",
       "       [178.24313 ],\n",
       "       [162.27214 ],\n",
       "       [160.75423 ],\n",
       "       [194.36081 ],\n",
       "       [187.06587 ],\n",
       "       [ 49.083332],\n",
       "       [100.3673  ],\n",
       "       [168.78749 ],\n",
       "       [ 98.40326 ],\n",
       "       [108.36112 ],\n",
       "       [174.56084 ],\n",
       "       [147.34784 ],\n",
       "       [191.82524 ],\n",
       "       [107.26253 ],\n",
       "       [103.44303 ],\n",
       "       [120.95841 ],\n",
       "       [ 54.748775],\n",
       "       [ 65.709816],\n",
       "       [ 98.049576],\n",
       "       [172.65535 ],\n",
       "       [116.40292 ],\n",
       "       [166.83195 ],\n",
       "       [ 63.191044],\n",
       "       [ 77.95367 ],\n",
       "       [ 90.07531 ],\n",
       "       [ 58.112797],\n",
       "       [168.37416 ],\n",
       "       [160.18758 ],\n",
       "       [ 76.535324],\n",
       "       [101.74748 ],\n",
       "       [ 94.93006 ],\n",
       "       [174.5774  ],\n",
       "       [171.87431 ],\n",
       "       [ 82.842964],\n",
       "       [208.94565 ],\n",
       "       [118.02296 ],\n",
       "       [ 61.532005],\n",
       "       [178.69461 ],\n",
       "       [215.12273 ],\n",
       "       [133.79915 ],\n",
       "       [ 98.09041 ],\n",
       "       [130.52538 ],\n",
       "       [211.78307 ],\n",
       "       [168.84418 ],\n",
       "       [163.11977 ],\n",
       "       [134.90251 ],\n",
       "       [141.93846 ],\n",
       "       [190.751   ],\n",
       "       [186.26991 ],\n",
       "       [225.72346 ],\n",
       "       [151.002   ],\n",
       "       [ 71.39347 ],\n",
       "       [147.81346 ],\n",
       "       [180.63945 ],\n",
       "       [218.6404  ],\n",
       "       [141.59143 ],\n",
       "       [199.36748 ],\n",
       "       [124.219574],\n",
       "       [155.7016  ],\n",
       "       [ 53.41195 ],\n",
       "       [ 61.63329 ],\n",
       "       [104.8055  ],\n",
       "       [ 69.62605 ],\n",
       "       [ 82.4399  ],\n",
       "       [ 59.28916 ],\n",
       "       [177.48627 ],\n",
       "       [176.22133 ],\n",
       "       [132.3914  ],\n",
       "       [256.80792 ],\n",
       "       [116.997246],\n",
       "       [ 60.104668],\n",
       "       [ 52.41803 ],\n",
       "       [193.52661 ],\n",
       "       [253.40515 ],\n",
       "       [182.4524  ],\n",
       "       [110.38305 ],\n",
       "       [ 61.562935],\n",
       "       [192.04897 ],\n",
       "       [111.10029 ],\n",
       "       [310.14636 ],\n",
       "       [101.32592 ],\n",
       "       [128.3257  ],\n",
       "       [124.987785],\n",
       "       [123.92711 ],\n",
       "       [119.63421 ],\n",
       "       [155.64185 ],\n",
       "       [204.83853 ],\n",
       "       [ 85.25696 ],\n",
       "       [198.64095 ],\n",
       "       [208.54802 ],\n",
       "       [193.77745 ],\n",
       "       [178.7324  ],\n",
       "       [165.97546 ],\n",
       "       [153.70425 ],\n",
       "       [132.70282 ],\n",
       "       [118.22228 ],\n",
       "       [168.62973 ],\n",
       "       [173.32912 ],\n",
       "       [101.77179 ],\n",
       "       [ 36.313114],\n",
       "       [152.52382 ],\n",
       "       [118.34965 ],\n",
       "       [164.86162 ],\n",
       "       [158.39964 ],\n",
       "       [101.19245 ],\n",
       "       [196.50883 ],\n",
       "       [105.82193 ],\n",
       "       [115.9962  ],\n",
       "       [ 73.346634],\n",
       "       [230.36809 ],\n",
       "       [236.16745 ],\n",
       "       [223.63751 ],\n",
       "       [152.73233 ],\n",
       "       [307.54285 ],\n",
       "       [130.17345 ],\n",
       "       [ 64.52923 ],\n",
       "       [221.36615 ],\n",
       "       [ 91.47114 ],\n",
       "       [157.27486 ],\n",
       "       [188.60161 ],\n",
       "       [102.60479 ],\n",
       "       [201.71733 ],\n",
       "       [195.68208 ]], dtype=float32)"
      ]
     },
     "execution_count": 160,
     "metadata": {},
     "output_type": "execute_result"
    }
   ],
   "source": [
    "model.predict(X_test)"
   ]
  },
  {
   "cell_type": "markdown",
   "metadata": {
    "colab_type": "text",
    "id": "-unEmrGo1KeA"
   },
   "source": [
    "### Evaluate the model"
   ]
  },
  {
   "cell_type": "code",
   "execution_count": 161,
   "metadata": {
    "colab": {},
    "colab_type": "code",
    "id": "QCIVpVrG1KeB"
   },
   "outputs": [
    {
     "name": "stdout",
     "output_type": "stream",
     "text": [
      "5/5 [==============================] - 0s 798us/step - loss: 43.4051 - mean_squared_error: 3067.5908 - root_mean_squared_error: 55.3858\n"
     ]
    },
    {
     "data": {
      "text/plain": [
       "[43.40507125854492, 3067.5908203125, 55.38583755493164]"
      ]
     },
     "execution_count": 161,
     "metadata": {},
     "output_type": "execute_result"
    }
   ],
   "source": [
    "model.evaluate(x = X_test,\n",
    "               y = y_test)"
   ]
  },
  {
   "cell_type": "markdown",
   "metadata": {
    "colab_type": "text",
    "id": "sSlqjs7e1KeD"
   },
   "source": [
    "### Visualisation of cost"
   ]
  },
  {
   "cell_type": "code",
   "execution_count": 162,
   "metadata": {},
   "outputs": [
    {
     "data": {
      "text/plain": [
       "dict_keys(['loss', 'mean_squared_error', 'root_mean_squared_error'])"
      ]
     },
     "execution_count": 162,
     "metadata": {},
     "output_type": "execute_result"
    }
   ],
   "source": [
    "modelhistory.history.keys()"
   ]
  },
  {
   "cell_type": "code",
   "execution_count": 164,
   "metadata": {},
   "outputs": [
    {
     "data": {
      "text/plain": [
       "<matplotlib.legend.Legend at 0x1c08b548e50>"
      ]
     },
     "execution_count": 164,
     "metadata": {},
     "output_type": "execute_result"
    },
    {
     "data": {
      "image/png": "[encoded data removed]",
      "text/plain": [
       "<Figure size 1296x432 with 1 Axes>"
      ]
     },
     "metadata": {
      "needs_background": "light"
     },
     "output_type": "display_data"
    }
   ],
   "source": [
    "fig, ax = plt.subplots(1, 1, figsize = (18, 6))\n",
    "\n",
    "plt.rcParams.update({'font.size': 18})\n",
    "\n",
    "# Plot training & validation accuracy values\n",
    "ax.plot(modelhistory.history['loss'], label = 'Training')\n",
    "ax.set_title('Loss (Mean Absolute Error) over epochs')\n",
    "ax.set_ylabel('Loss')\n",
    "ax.set_xlabel('Epoch')\n",
    "ax.legend()\n"
   ]
  },
  {
   "cell_type": "markdown",
   "metadata": {
    "colab_type": "text",
    "id": "vQLzMZTM1KeG"
   },
   "source": [
    "### Visualisation of residuals"
   ]
  },
  {
   "cell_type": "code",
   "execution_count": 1,
   "metadata": {
    "colab": {},
    "colab_type": "code",
    "id": "opIulVSw1KeH"
   },
   "outputs": [],
   "source": [
    "#Residuals are already visualized since the Mean Absolute Error is the loss function"
   ]
  },
  {
   "cell_type": "markdown",
   "metadata": {
    "colab_type": "text",
    "id": "RERADKgNFq9T"
   },
   "source": [
    "© 2020 Institute of Data"
   ]
  }
 ],
 "metadata": {
  "colab": {
   "collapsed_sections": [],
   "name": "DSIA Lab-10_1.ipynb",
   "provenance": []
  },
  "kernelspec": {
   "display_name": "Python 3",
   "language": "python",
   "name": "python3"
  },
  "language_info": {
   "codemirror_mode": {
    "name": "ipython",
    "version": 3
   },
   "file_extension": ".py",
   "mimetype": "text/x-python",
   "name": "python",
   "nbconvert_exporter": "python",
   "pygments_lexer": "ipython3",
   "version": "3.8.3"
  },
  "toc": {
   "base_numbering": 1,
   "nav_menu": {},
   "number_sections": true,
   "sideBar": true,
   "skip_h1_title": false,
   "title_cell": "Table of Contents",
   "title_sidebar": "Contents",
   "toc_cell": false,
   "toc_position": {},
   "toc_section_display": true,
   "toc_window_display": true
  }
 },
 "nbformat": 4,
 "nbformat_minor": 1
}
