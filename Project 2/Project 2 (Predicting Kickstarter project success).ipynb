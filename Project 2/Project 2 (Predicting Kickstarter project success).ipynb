{
 "cells": [
  {
   "cell_type": "markdown",
   "metadata": {},
   "source": [
    "<img src=\"https://github.com/Kesterchia/Institute-of-Data/blob/master/Project%202/Images/Kickstarter-Celebrates-10-Years-of-Funding.jpg?raw=true\" width=\"420\" height=\"420\"> "
   ]
  },
  {
   "cell_type": "markdown",
   "metadata": {},
   "source": [
    "# About the Kickstarter dataset:\n"
   ]
  },
  {
   "cell_type": "markdown",
   "metadata": {},
   "source": [
    "### Source\n",
    "\n",
    "Data obtained from: https://www.kaggle.com/kemical/kickstarter-projects?select=ks-projects-201801.csv\n",
    "\n",
    "\n",
    "### Content\n",
    "\n",
    "This dataset contains about 400,000 rows of data collected on crowdfunding projects hosted on Kickstarter.com.\n",
    "\n",
    "Columns should be self explanatory. \n",
    "\n",
    "### Acknowledgements\n",
    "\n",
    "Data is collected from Kickstarter Platform\n"
   ]
  },
  {
   "cell_type": "markdown",
   "metadata": {},
   "source": [
    "# Introduction"
   ]
  },
  {
   "cell_type": "markdown",
   "metadata": {},
   "source": [
    "Kickstarter is an online crowdfunding platform for entrepreneurs to obtain a \"kick-start\" in capital for their project ideas. \n",
    "\n",
    "Individual project ideas are uploaded onto the Kickstarter website, where consumers can view information about the project including production plans, budgets and monetary goals. Each project must then reach it's respective monetary goal before it's deadline, which can be anywhere between 1 to 60 days from the project's creation.\n",
    "\n",
    "Kickstarter adopts an \"all-or-nothing\" approach to funding, which means that if a project doesn't hit it's goal by the deadline, it receives no funds and is deemed a failed project. "
   ]
  },
  {
   "cell_type": "markdown",
   "metadata": {},
   "source": [
    "# About this project: \n",
    "\n",
    "### Estimating the number of backers needed to have a successful kickstarter campaign"
   ]
  },
  {
   "cell_type": "markdown",
   "metadata": {},
   "source": [
    "This project aims to deliver some insights into how much support from backers a kickstarter project would need to have a decent chance of success. The end goal is to develop a tool that would allow an entrepreneur to have a reasonable estimate of how different expected numbers of backers can affect his chances of success."
   ]
  },
  {
   "cell_type": "code",
   "execution_count": 362,
   "metadata": {},
   "outputs": [],
   "source": [
    "#Import libraries\n",
    "\n",
    "import numpy as np\n",
    "import pandas as pd\n",
    "import matplotlib.pyplot as plt\n",
    "import seaborn as sns\n",
    "\n",
    "from sklearn.model_selection import train_test_split\n",
    "from sklearn.linear_model import LogisticRegression\n",
    "from sklearn.svm import SVC\n",
    "from sklearn.tree import DecisionTreeClassifier\n",
    "from sklearn.metrics import accuracy_score\n",
    "\n",
    "import category_encoders as ce\n",
    "\n",
    "import joblib\n",
    "\n",
    "%matplotlib inline\n",
    "\n"
   ]
  },
  {
   "cell_type": "code",
   "execution_count": 363,
   "metadata": {},
   "outputs": [
    {
     "name": "stdout",
     "output_type": "stream",
     "text": [
      "No. of rows: 378661\n",
      "No. of columns: 14\n"
     ]
    }
   ],
   "source": [
    "#Read in data (CSV)\n",
    "\n",
    "df = pd.read_csv('./Data/ks-projects-201801.csv', index_col = 'ID')\n",
    "\n",
    "#Note: Remember to read in ID as the index column!\n",
    "\n",
    "#Check the size of the dataset:\n",
    "\n",
    "print('No. of rows:', df.shape[0])\n",
    "print('No. of columns:',df.shape[1])"
   ]
  },
  {
   "cell_type": "code",
   "execution_count": 364,
   "metadata": {},
   "outputs": [
    {
     "data": {
      "text/html": [
       "<div>\n",
       "<style scoped>\n",
       "    .dataframe tbody tr th:only-of-type {\n",
       "        vertical-align: middle;\n",
       "    }\n",
       "\n",
       "    .dataframe tbody tr th {\n",
       "        vertical-align: top;\n",
       "    }\n",
       "\n",
       "    .dataframe thead th {\n",
       "        text-align: right;\n",
       "    }\n",
       "</style>\n",
       "<table border=\"1\" class=\"dataframe\">\n",
       "  <thead>\n",
       "    <tr style=\"text-align: right;\">\n",
       "      <th></th>\n",
       "      <th>name</th>\n",
       "      <th>category</th>\n",
       "      <th>main_category</th>\n",
       "      <th>currency</th>\n",
       "      <th>deadline</th>\n",
       "      <th>goal</th>\n",
       "      <th>launched</th>\n",
       "      <th>pledged</th>\n",
       "      <th>state</th>\n",
       "      <th>backers</th>\n",
       "      <th>country</th>\n",
       "      <th>usd pledged</th>\n",
       "      <th>usd_pledged_real</th>\n",
       "      <th>usd_goal_real</th>\n",
       "    </tr>\n",
       "    <tr>\n",
       "      <th>ID</th>\n",
       "      <th></th>\n",
       "      <th></th>\n",
       "      <th></th>\n",
       "      <th></th>\n",
       "      <th></th>\n",
       "      <th></th>\n",
       "      <th></th>\n",
       "      <th></th>\n",
       "      <th></th>\n",
       "      <th></th>\n",
       "      <th></th>\n",
       "      <th></th>\n",
       "      <th></th>\n",
       "      <th></th>\n",
       "    </tr>\n",
       "  </thead>\n",
       "  <tbody>\n",
       "    <tr>\n",
       "      <th>1000002330</th>\n",
       "      <td>The Songs of Adelaide &amp; Abullah</td>\n",
       "      <td>Poetry</td>\n",
       "      <td>Publishing</td>\n",
       "      <td>GBP</td>\n",
       "      <td>2015-10-09</td>\n",
       "      <td>1000.0</td>\n",
       "      <td>2015-08-11 12:12:28</td>\n",
       "      <td>0.0</td>\n",
       "      <td>failed</td>\n",
       "      <td>0</td>\n",
       "      <td>GB</td>\n",
       "      <td>0.0</td>\n",
       "      <td>0.0</td>\n",
       "      <td>1533.95</td>\n",
       "    </tr>\n",
       "    <tr>\n",
       "      <th>1000003930</th>\n",
       "      <td>Greeting From Earth: ZGAC Arts Capsule For ET</td>\n",
       "      <td>Narrative Film</td>\n",
       "      <td>Film &amp; Video</td>\n",
       "      <td>USD</td>\n",
       "      <td>2017-11-01</td>\n",
       "      <td>30000.0</td>\n",
       "      <td>2017-09-02 04:43:57</td>\n",
       "      <td>2421.0</td>\n",
       "      <td>failed</td>\n",
       "      <td>15</td>\n",
       "      <td>US</td>\n",
       "      <td>100.0</td>\n",
       "      <td>2421.0</td>\n",
       "      <td>30000.00</td>\n",
       "    </tr>\n",
       "    <tr>\n",
       "      <th>1000004038</th>\n",
       "      <td>Where is Hank?</td>\n",
       "      <td>Narrative Film</td>\n",
       "      <td>Film &amp; Video</td>\n",
       "      <td>USD</td>\n",
       "      <td>2013-02-26</td>\n",
       "      <td>45000.0</td>\n",
       "      <td>2013-01-12 00:20:50</td>\n",
       "      <td>220.0</td>\n",
       "      <td>failed</td>\n",
       "      <td>3</td>\n",
       "      <td>US</td>\n",
       "      <td>220.0</td>\n",
       "      <td>220.0</td>\n",
       "      <td>45000.00</td>\n",
       "    </tr>\n",
       "  </tbody>\n",
       "</table>\n",
       "</div>"
      ],
      "text/plain": [
       "                                                     name        category  \\\n",
       "ID                                                                          \n",
       "1000002330                The Songs of Adelaide & Abullah          Poetry   \n",
       "1000003930  Greeting From Earth: ZGAC Arts Capsule For ET  Narrative Film   \n",
       "1000004038                                 Where is Hank?  Narrative Film   \n",
       "\n",
       "           main_category currency    deadline     goal             launched  \\\n",
       "ID                                                                            \n",
       "1000002330    Publishing      GBP  2015-10-09   1000.0  2015-08-11 12:12:28   \n",
       "1000003930  Film & Video      USD  2017-11-01  30000.0  2017-09-02 04:43:57   \n",
       "1000004038  Film & Video      USD  2013-02-26  45000.0  2013-01-12 00:20:50   \n",
       "\n",
       "            pledged   state  backers country  usd pledged  usd_pledged_real  \\\n",
       "ID                                                                            \n",
       "1000002330      0.0  failed        0      GB          0.0               0.0   \n",
       "1000003930   2421.0  failed       15      US        100.0            2421.0   \n",
       "1000004038    220.0  failed        3      US        220.0             220.0   \n",
       "\n",
       "            usd_goal_real  \n",
       "ID                         \n",
       "1000002330        1533.95  \n",
       "1000003930       30000.00  \n",
       "1000004038       45000.00  "
      ]
     },
     "execution_count": 364,
     "metadata": {},
     "output_type": "execute_result"
    }
   ],
   "source": [
    "#Check first few rows of data:\n",
    "\n",
    "df.head(3)"
   ]
  },
  {
   "cell_type": "markdown",
   "metadata": {},
   "source": [
    "# Part 1: Data cleaning"
   ]
  },
  {
   "cell_type": "markdown",
   "metadata": {},
   "source": [
    "### Cleaning the target variable:"
   ]
  },
  {
   "cell_type": "code",
   "execution_count": 365,
   "metadata": {},
   "outputs": [
    {
     "data": {
      "text/plain": [
       "failed        197719\n",
       "successful    133956\n",
       "canceled       38779\n",
       "undefined       3562\n",
       "live            2799\n",
       "suspended       1846\n",
       "Name: state, dtype: int64"
      ]
     },
     "execution_count": 365,
     "metadata": {},
     "output_type": "execute_result"
    }
   ],
   "source": [
    "#Check the unique values of the target variable\n",
    "\n",
    "df['state'].value_counts()"
   ]
  },
  {
   "cell_type": "markdown",
   "metadata": {},
   "source": [
    "Kickstarter uses an all-or-nothing funding approach, so complete projects are either successful (completedly funded) or failed (partially funded). I only want to include completed projects with an outcome, therefore cancelled, suspended and undefined project outcomes will be removed."
   ]
  },
  {
   "cell_type": "code",
   "execution_count": 366,
   "metadata": {},
   "outputs": [
    {
     "data": {
      "text/plain": [
       "failed        197719\n",
       "successful    133956\n",
       "Name: state, dtype: int64"
      ]
     },
     "execution_count": 366,
     "metadata": {},
     "output_type": "execute_result"
    }
   ],
   "source": [
    "#Only keep projects that are either failed or successful\n",
    "\n",
    "df = df[df['state'].isin(['failed','successful'])]\n",
    "\n",
    "#Checking target variable counts again\n",
    "\n",
    "df['state'].value_counts()"
   ]
  },
  {
   "cell_type": "markdown",
   "metadata": {},
   "source": [
    "### Cleaning null values:"
   ]
  },
  {
   "cell_type": "code",
   "execution_count": 367,
   "metadata": {},
   "outputs": [
    {
     "data": {
      "text/plain": [
       "name                  3\n",
       "category              0\n",
       "main_category         0\n",
       "currency              0\n",
       "deadline              0\n",
       "goal                  0\n",
       "launched              0\n",
       "pledged               0\n",
       "state                 0\n",
       "backers               0\n",
       "country               0\n",
       "usd pledged         210\n",
       "usd_pledged_real      0\n",
       "usd_goal_real         0\n",
       "dtype: int64"
      ]
     },
     "execution_count": 367,
     "metadata": {},
     "output_type": "execute_result"
    }
   ],
   "source": [
    "#Check null values\n",
    "df.isnull().sum()"
   ]
  },
  {
   "cell_type": "code",
   "execution_count": 368,
   "metadata": {},
   "outputs": [
    {
     "data": {
      "text/plain": [
       "name                0\n",
       "category            0\n",
       "main_category       0\n",
       "currency            0\n",
       "deadline            0\n",
       "goal                0\n",
       "launched            0\n",
       "pledged             0\n",
       "state               0\n",
       "backers             0\n",
       "country             0\n",
       "usd pledged         0\n",
       "usd_pledged_real    0\n",
       "usd_goal_real       0\n",
       "dtype: int64"
      ]
     },
     "execution_count": 368,
     "metadata": {},
     "output_type": "execute_result"
    }
   ],
   "source": [
    "#Not many null values, so we can just drop them\n",
    "\n",
    "df = df.dropna()\n",
    "\n",
    "#Check null values again:\n",
    "\n",
    "df.isnull().sum()"
   ]
  },
  {
   "cell_type": "markdown",
   "metadata": {},
   "source": [
    "# Part 2: EDA and feature engineering"
   ]
  },
  {
   "cell_type": "markdown",
   "metadata": {},
   "source": [
    "In this section I do some exploratory data analysis on the features, and also create a new feature for subsequent models. I start with some univariate analyses and end off with multivariate analyses."
   ]
  },
  {
   "cell_type": "markdown",
   "metadata": {},
   "source": [
    "### Target variable (State):"
   ]
  },
  {
   "cell_type": "code",
   "execution_count": 369,
   "metadata": {},
   "outputs": [
    {
     "data": {
      "image/png": "[encoded data removed]",
      "text/plain": [
       "<Figure size 432x288 with 1 Axes>"
      ]
     },
     "metadata": {},
     "output_type": "display_data"
    }
   ],
   "source": [
    "#Show the failure rate of projects\n",
    "\n",
    "plt.pie(x = df['state'].value_counts(),\n",
    "        labels = df['state'].value_counts().index,\n",
    "        autopct='%1.1f%%')\n",
    "\n",
    "plt.show()"
   ]
  },
  {
   "cell_type": "code",
   "execution_count": 370,
   "metadata": {},
   "outputs": [],
   "source": [
    "#Convert column values to 1's and 0's by creating dummy columns:\n",
    "\n",
    "df = pd.get_dummies(data = df,\n",
    "                    columns = ['state'])\n",
    "\n",
    "#We only have to keep one column:\n",
    "\n",
    "df = df.drop('state_failed', axis = 1)\n"
   ]
  },
  {
   "cell_type": "markdown",
   "metadata": {},
   "source": [
    "### Project category:"
   ]
  },
  {
   "cell_type": "code",
   "execution_count": 371,
   "metadata": {},
   "outputs": [
    {
     "data": {
      "text/plain": [
       "<matplotlib.axes._subplots.AxesSubplot at 0x143e2da6820>"
      ]
     },
     "execution_count": 371,
     "metadata": {},
     "output_type": "execute_result"
    },
    {
     "data": {
      "image/png": "[encoded data removed]",
      "text/plain": [
       "<Figure size 1296x360 with 1 Axes>"
      ]
     },
     "metadata": {
      "needs_background": "light"
     },
     "output_type": "display_data"
    }
   ],
   "source": [
    "#Check the typical categories for projects\n",
    "\n",
    "plt.figure(figsize = (18,5))\n",
    "\n",
    "sns.barplot(x =  df['main_category'].value_counts().index,\n",
    "            y =  df['main_category'].value_counts())"
   ]
  },
  {
   "cell_type": "code",
   "execution_count": 372,
   "metadata": {},
   "outputs": [],
   "source": [
    "#Seems like project distribution is pretty balanced, a good variety of all kinds of projects except for the last few"
   ]
  },
  {
   "cell_type": "markdown",
   "metadata": {},
   "source": [
    "### Currency that project is paid in:"
   ]
  },
  {
   "cell_type": "code",
   "execution_count": 373,
   "metadata": {},
   "outputs": [
    {
     "data": {
      "text/plain": [
       "USD    261358\n",
       "GBP     29453\n",
       "EUR     14357\n",
       "CAD     12370\n",
       "AUD      6616\n",
       "SEK      1509\n",
       "MXN      1411\n",
       "NZD      1274\n",
       "DKK       926\n",
       "CHF       652\n",
       "NOK       582\n",
       "HKD       477\n",
       "SGD       454\n",
       "JPY        23\n",
       "Name: currency, dtype: int64"
      ]
     },
     "execution_count": 373,
     "metadata": {},
     "output_type": "execute_result"
    }
   ],
   "source": [
    "df['currency'].value_counts()"
   ]
  },
  {
   "cell_type": "code",
   "execution_count": 374,
   "metadata": {},
   "outputs": [],
   "source": [
    "#Most of the projects are paid in USD, doesn't seem like an important variable"
   ]
  },
  {
   "cell_type": "markdown",
   "metadata": {},
   "source": [
    "### Deadlines and launch dates of projects:"
   ]
  },
  {
   "cell_type": "code",
   "execution_count": 375,
   "metadata": {},
   "outputs": [
    {
     "name": "stdout",
     "output_type": "stream",
     "text": [
      "<class 'pandas.core.frame.DataFrame'>\n",
      "Int64Index: 331462 entries, 1000002330 to 999988282\n",
      "Data columns (total 2 columns):\n",
      " #   Column    Non-Null Count   Dtype \n",
      "---  ------    --------------   ----- \n",
      " 0   deadline  331462 non-null  object\n",
      " 1   launched  331462 non-null  object\n",
      "dtypes: object(2)\n",
      "memory usage: 7.6+ MB\n"
     ]
    }
   ],
   "source": [
    "df[['deadline','launched']].info()"
   ]
  },
  {
   "cell_type": "code",
   "execution_count": 376,
   "metadata": {},
   "outputs": [],
   "source": [
    "#Datatypes are classified as objects. They should be classified as time data instead"
   ]
  },
  {
   "cell_type": "code",
   "execution_count": 377,
   "metadata": {},
   "outputs": [],
   "source": [
    "#Converting datatypes:\n",
    "\n",
    "df = df.astype({'deadline':'datetime64',\n",
    "                'launched':'datetime64'\n",
    "               }\n",
    "              )"
   ]
  },
  {
   "cell_type": "code",
   "execution_count": 378,
   "metadata": {},
   "outputs": [
    {
     "name": "stdout",
     "output_type": "stream",
     "text": [
      "<class 'pandas.core.frame.DataFrame'>\n",
      "Int64Index: 331462 entries, 1000002330 to 999988282\n",
      "Data columns (total 2 columns):\n",
      " #   Column    Non-Null Count   Dtype         \n",
      "---  ------    --------------   -----         \n",
      " 0   deadline  331462 non-null  datetime64[ns]\n",
      " 1   launched  331462 non-null  datetime64[ns]\n",
      "dtypes: datetime64[ns](2)\n",
      "memory usage: 7.6 MB\n"
     ]
    }
   ],
   "source": [
    "#See if conversion is successful:\n",
    "\n",
    "df[['deadline','launched']].info()"
   ]
  },
  {
   "cell_type": "markdown",
   "metadata": {},
   "source": [
    "#### Feature engineering a new column: \n",
    "\n",
    "Having less time before the deadline might reasonably affect project success. We will create a new column to depict that:"
   ]
  },
  {
   "cell_type": "code",
   "execution_count": 379,
   "metadata": {},
   "outputs": [
    {
     "data": {
      "text/plain": [
       "ID\n",
       "1000002330   58 days 11:47:32\n",
       "1000003930   59 days 19:16:03\n",
       "1000004038   44 days 23:39:10\n",
       "1000007540   29 days 20:35:49\n",
       "1000014025   34 days 10:21:33\n",
       "dtype: timedelta64[ns]"
      ]
     },
     "execution_count": 379,
     "metadata": {},
     "output_type": "execute_result"
    }
   ],
   "source": [
    "#Create a new column showing time between project launch to deadline\n",
    "\n",
    "time_to_deadline = df['deadline'] - df['launched']\n",
    "time_to_deadline[:5]"
   ]
  },
  {
   "cell_type": "code",
   "execution_count": 380,
   "metadata": {},
   "outputs": [],
   "source": [
    "#Only keep the number of days to make it simpler, also as int dtype:\n",
    "\n",
    "time_to_deadline_days = time_to_deadline.dt.days\n",
    "\n",
    "df['Days to deadline'] = time_to_deadline_days"
   ]
  },
  {
   "cell_type": "code",
   "execution_count": 381,
   "metadata": {},
   "outputs": [
    {
     "data": {
      "text/plain": [
       "ID\n",
       "1000002330    58\n",
       "1000003930    59\n",
       "1000004038    44\n",
       "1000007540    29\n",
       "1000014025    34\n",
       "Name: Days to deadline, dtype: int64"
      ]
     },
     "execution_count": 381,
     "metadata": {},
     "output_type": "execute_result"
    }
   ],
   "source": [
    "df['Days to deadline'][:5]"
   ]
  },
  {
   "cell_type": "code",
   "execution_count": 382,
   "metadata": {},
   "outputs": [],
   "source": [
    "#Note: Time delta information is stored in pandas in nanoseconds (10^-9)."
   ]
  },
  {
   "cell_type": "code",
   "execution_count": 383,
   "metadata": {},
   "outputs": [
    {
     "name": "stdout",
     "output_type": "stream",
     "text": [
      "ID\n",
      "1000003930   59 days 19:16:03\n",
      "dtype: timedelta64[ns]\n",
      "\t\n",
      "Value: [5166963000000000]\n",
      "\t\n",
      "Value converted to days: [59]\n"
     ]
    }
   ],
   "source": [
    "#Example:\n",
    "\n",
    "print(time_to_deadline[1:2])\n",
    "print('\\t')\n",
    "print('Value:', time_to_deadline[1:2].values)\n",
    "print('\\t')\n",
    "print('Value converted to days:',time_to_deadline[1:2].values /1000 /1000 /1000 #Convert to seconds \n",
    "                                                                          /60 #to Minutes\n",
    "                                                                          /60 #to Hours\n",
    "                                                                          /24)#to Days"
   ]
  },
  {
   "cell_type": "code",
   "execution_count": 384,
   "metadata": {},
   "outputs": [
    {
     "data": {
      "image/png": "[encoded data removed]",
      "text/plain": [
       "<Figure size 936x360 with 1 Axes>"
      ]
     },
     "metadata": {
      "needs_background": "light"
     },
     "output_type": "display_data"
    }
   ],
   "source": [
    "plt.figure(figsize = (13,5))\n",
    "\n",
    "sns.distplot(df['Days to deadline'])\n",
    "\n",
    "plt.title('Distribution of time between launch to project deadline')\n",
    "plt.show()"
   ]
  },
  {
   "cell_type": "code",
   "execution_count": 385,
   "metadata": {},
   "outputs": [
    {
     "data": {
      "image/png": "[encoded data removed]",
      "text/plain": [
       "<Figure size 1296x360 with 1 Axes>"
      ]
     },
     "metadata": {
      "needs_background": "light"
     },
     "output_type": "display_data"
    }
   ],
   "source": [
    "plt.figure(figsize=(18,5))\n",
    "\n",
    "sns.boxplot(df['Days to deadline'])\n",
    "\n",
    "plt.show()"
   ]
  },
  {
   "cell_type": "code",
   "execution_count": 386,
   "metadata": {},
   "outputs": [],
   "source": [
    "#Definitely high variation in time to deadline, with most projects falling between 20 to 40 days"
   ]
  },
  {
   "cell_type": "markdown",
   "metadata": {},
   "source": [
    "### Number of project backers:"
   ]
  },
  {
   "cell_type": "code",
   "execution_count": 387,
   "metadata": {},
   "outputs": [
    {
     "data": {
      "text/plain": [
       "count    331462.000000\n",
       "mean        116.456315\n",
       "std         965.732911\n",
       "min           0.000000\n",
       "25%           2.000000\n",
       "50%          15.000000\n",
       "75%          63.000000\n",
       "max      219382.000000\n",
       "Name: backers, dtype: float64"
      ]
     },
     "execution_count": 387,
     "metadata": {},
     "output_type": "execute_result"
    }
   ],
   "source": [
    "df['backers'].describe()"
   ]
  },
  {
   "cell_type": "code",
   "execution_count": 388,
   "metadata": {},
   "outputs": [
    {
     "data": {
      "text/plain": [
       "<matplotlib.axes._subplots.AxesSubplot at 0x143d86f4040>"
      ]
     },
     "execution_count": 388,
     "metadata": {},
     "output_type": "execute_result"
    },
    {
     "data": {
      "image/png": "[encoded data removed]",
      "text/plain": [
       "<Figure size 432x288 with 1 Axes>"
      ]
     },
     "metadata": {
      "needs_background": "light"
     },
     "output_type": "display_data"
    }
   ],
   "source": [
    "sns.boxplot(df['backers'])"
   ]
  },
  {
   "cell_type": "code",
   "execution_count": 389,
   "metadata": {},
   "outputs": [
    {
     "data": {
      "text/plain": [
       "<matplotlib.axes._subplots.AxesSubplot at 0x143d2990f40>"
      ]
     },
     "execution_count": 389,
     "metadata": {},
     "output_type": "execute_result"
    },
    {
     "data": {
      "image/png": "[encoded data removed]",
      "text/plain": [
       "<Figure size 432x288 with 1 Axes>"
      ]
     },
     "metadata": {
      "needs_background": "light"
     },
     "output_type": "display_data"
    }
   ],
   "source": [
    "sns.distplot(df['backers'])"
   ]
  },
  {
   "cell_type": "markdown",
   "metadata": {},
   "source": [
    "Most projects are actually very close to 0 backers - This makes sense since the failure rate is about 60%"
   ]
  },
  {
   "cell_type": "markdown",
   "metadata": {},
   "source": [
    "I will also remove rows with extremely high amounts of backers (above 98th percentile), since its reasonable to assume these projects will almost certainly be successful"
   ]
  },
  {
   "cell_type": "code",
   "execution_count": 390,
   "metadata": {},
   "outputs": [],
   "source": [
    "#Removing top 2 percentiles of data:\n",
    "\n",
    "df = df[df['backers'] < np.quantile(df['backers'],0.98)]"
   ]
  },
  {
   "cell_type": "code",
   "execution_count": 391,
   "metadata": {},
   "outputs": [
    {
     "data": {
      "text/plain": [
       "count    324831.000000\n",
       "mean         57.207332\n",
       "std         113.427217\n",
       "min           0.000000\n",
       "25%           2.000000\n",
       "50%          14.000000\n",
       "75%          58.000000\n",
       "max         908.000000\n",
       "Name: backers, dtype: float64"
      ]
     },
     "execution_count": 391,
     "metadata": {},
     "output_type": "execute_result"
    }
   ],
   "source": [
    "#Check the new values:\n",
    "\n",
    "df['backers'].describe()\n",
    "\n",
    "#Maximum value is now 908 instead of 219,000 "
   ]
  },
  {
   "cell_type": "code",
   "execution_count": 392,
   "metadata": {},
   "outputs": [
    {
     "data": {
      "text/plain": [
       "<matplotlib.axes._subplots.AxesSubplot at 0x143d2904ee0>"
      ]
     },
     "execution_count": 392,
     "metadata": {},
     "output_type": "execute_result"
    },
    {
     "data": {
      "image/png": "[encoded data removed]",
      "text/plain": [
       "<Figure size 432x288 with 1 Axes>"
      ]
     },
     "metadata": {
      "needs_background": "light"
     },
     "output_type": "display_data"
    }
   ],
   "source": [
    "sns.distplot(df['backers'])"
   ]
  },
  {
   "cell_type": "code",
   "execution_count": 393,
   "metadata": {},
   "outputs": [
    {
     "data": {
      "text/plain": [
       "<matplotlib.axes._subplots.AxesSubplot at 0x143d28ea160>"
      ]
     },
     "execution_count": 393,
     "metadata": {},
     "output_type": "execute_result"
    },
    {
     "data": {
      "image/png": "[encoded data removed]",
      "text/plain": [
       "<Figure size 432x288 with 1 Axes>"
      ]
     },
     "metadata": {
      "needs_background": "light"
     },
     "output_type": "display_data"
    }
   ],
   "source": [
    "sns.boxplot(df['backers'])"
   ]
  },
  {
   "cell_type": "code",
   "execution_count": 394,
   "metadata": {},
   "outputs": [],
   "source": [
    "# Distribution still looks very skewed, but at least it's not as extreme as before"
   ]
  },
  {
   "cell_type": "markdown",
   "metadata": {},
   "source": [
    "### Project goals (measured in real USD value):"
   ]
  },
  {
   "cell_type": "code",
   "execution_count": 395,
   "metadata": {},
   "outputs": [
    {
     "data": {
      "text/plain": [
       "count    3.248310e+05\n",
       "mean     4.110891e+04\n",
       "std      1.119136e+06\n",
       "min      1.000000e-02\n",
       "25%      2.000000e+03\n",
       "50%      5.000000e+03\n",
       "75%      1.500000e+04\n",
       "max      1.663614e+08\n",
       "Name: usd_goal_real, dtype: float64"
      ]
     },
     "execution_count": 395,
     "metadata": {},
     "output_type": "execute_result"
    }
   ],
   "source": [
    "df['usd_goal_real'].describe()"
   ]
  },
  {
   "cell_type": "code",
   "execution_count": 396,
   "metadata": {},
   "outputs": [
    {
     "data": {
      "text/plain": [
       "<matplotlib.axes._subplots.AxesSubplot at 0x143d87d5130>"
      ]
     },
     "execution_count": 396,
     "metadata": {},
     "output_type": "execute_result"
    },
    {
     "data": {
      "image/png": "[encoded data removed]",
      "text/plain": [
       "<Figure size 432x288 with 1 Axes>"
      ]
     },
     "metadata": {
      "needs_background": "light"
     },
     "output_type": "display_data"
    }
   ],
   "source": [
    "sns.distplot(df['usd_goal_real'])"
   ]
  },
  {
   "cell_type": "code",
   "execution_count": 397,
   "metadata": {},
   "outputs": [],
   "source": [
    "#Remove both top and bottom 1 percentile: \n",
    "\n",
    "df = df[\n",
    "         (df['usd_goal_real'] > np.quantile(df['usd_goal_real'],0.01)) & \n",
    "         (df['usd_goal_real'] < np.quantile(df['usd_goal_real'],0.99))\n",
    "                        ]"
   ]
  },
  {
   "cell_type": "code",
   "execution_count": 398,
   "metadata": {},
   "outputs": [
    {
     "data": {
      "text/plain": [
       "<matplotlib.axes._subplots.AxesSubplot at 0x143d877fee0>"
      ]
     },
     "execution_count": 398,
     "metadata": {},
     "output_type": "execute_result"
    },
    {
     "data": {
      "image/png": "[encoded data removed]",
      "text/plain": [
       "<Figure size 432x288 with 1 Axes>"
      ]
     },
     "metadata": {
      "needs_background": "light"
     },
     "output_type": "display_data"
    }
   ],
   "source": [
    "sns.distplot(df['usd_goal_real'])"
   ]
  },
  {
   "cell_type": "markdown",
   "metadata": {},
   "source": [
    "### Final amount pledged for project:"
   ]
  },
  {
   "cell_type": "code",
   "execution_count": 399,
   "metadata": {},
   "outputs": [
    {
     "data": {
      "image/png": "[encoded data removed]",
      "text/plain": [
       "<Figure size 432x288 with 1 Axes>"
      ]
     },
     "metadata": {
      "needs_background": "light"
     },
     "output_type": "display_data"
    }
   ],
   "source": [
    "sns.distplot(df['usd_pledged_real'])\n",
    "\n",
    "plt.show()"
   ]
  },
  {
   "cell_type": "code",
   "execution_count": 400,
   "metadata": {},
   "outputs": [],
   "source": [
    "#Remove bottom and top 1 percentiles:\n",
    "\n",
    "df = df[\n",
    "         (df['usd_pledged_real'] > np.quantile(df['usd_pledged_real'],0.01)) & \n",
    "         (df['usd_pledged_real'] < np.quantile(df['usd_pledged_real'],0.99))\n",
    "                        ]"
   ]
  },
  {
   "cell_type": "code",
   "execution_count": 401,
   "metadata": {},
   "outputs": [
    {
     "data": {
      "image/png": "[encoded data removed]",
      "text/plain": [
       "<Figure size 432x288 with 1 Axes>"
      ]
     },
     "metadata": {
      "needs_background": "light"
     },
     "output_type": "display_data"
    }
   ],
   "source": [
    "#Check again:\n",
    "\n",
    "sns.distplot(df['usd_pledged_real'])\n",
    "\n",
    "plt.show()"
   ]
  },
  {
   "cell_type": "markdown",
   "metadata": {},
   "source": [
    "### Checking 'country':"
   ]
  },
  {
   "cell_type": "code",
   "execution_count": 402,
   "metadata": {},
   "outputs": [
    {
     "data": {
      "text/plain": [
       "<matplotlib.axes._subplots.AxesSubplot at 0x14405494910>"
      ]
     },
     "execution_count": 402,
     "metadata": {},
     "output_type": "execute_result"
    },
    {
     "data": {
      "image/png": "[encoded data removed]",
      "text/plain": [
       "<Figure size 432x288 with 1 Axes>"
      ]
     },
     "metadata": {
      "needs_background": "light"
     },
     "output_type": "display_data"
    }
   ],
   "source": [
    "sns.countplot(df['country'])"
   ]
  },
  {
   "cell_type": "code",
   "execution_count": 403,
   "metadata": {},
   "outputs": [
    {
     "data": {
      "text/plain": [
       "US    221032\n",
       "GB     24729\n",
       "CA      9889\n",
       "AU      5339\n",
       "DE      2709\n",
       "FR      1993\n",
       "NL      1885\n",
       "IT      1811\n",
       "ES      1453\n",
       "SE      1217\n",
       "MX      1091\n",
       "NZ      1066\n",
       "DK       750\n",
       "IE       562\n",
       "CH       494\n",
       "NO       461\n",
       "BE       428\n",
       "HK       389\n",
       "AT       384\n",
       "SG       379\n",
       "LU        48\n",
       "JP        21\n",
       "Name: country, dtype: int64"
      ]
     },
     "execution_count": 403,
     "metadata": {},
     "output_type": "execute_result"
    }
   ],
   "source": [
    "df['country'].value_counts()"
   ]
  },
  {
   "cell_type": "code",
   "execution_count": 404,
   "metadata": {},
   "outputs": [],
   "source": [
    "#It seems like most of the projects come from the US\n",
    "#There are a decent number of projects coming from other countries except JP and LU, so I will drop those countries"
   ]
  },
  {
   "cell_type": "code",
   "execution_count": 405,
   "metadata": {},
   "outputs": [],
   "source": [
    "df = df[~df['country'].isin(['LU','JP'])]"
   ]
  },
  {
   "cell_type": "markdown",
   "metadata": {},
   "source": [
    "# Multivariate EDA"
   ]
  },
  {
   "cell_type": "code",
   "execution_count": 406,
   "metadata": {},
   "outputs": [],
   "source": [
    "from sklearn.feature_selection import f_classif\n",
    "from sklearn.feature_selection import SelectKBest\n",
    "from sklearn.feature_selection import chi2\n",
    "from scipy.stats import f_oneway"
   ]
  },
  {
   "cell_type": "markdown",
   "metadata": {},
   "source": [
    "### Conducting an ANOVA test between numerical variables and target:"
   ]
  },
  {
   "cell_type": "code",
   "execution_count": 407,
   "metadata": {},
   "outputs": [],
   "source": [
    "numericals = df.select_dtypes(include = ['float64', 'int64'])\n",
    "categoricals = df.select_dtypes(include = ['object'])"
   ]
  },
  {
   "cell_type": "code",
   "execution_count": 408,
   "metadata": {},
   "outputs": [
    {
     "data": {
      "text/html": [
       "<div>\n",
       "<style scoped>\n",
       "    .dataframe tbody tr th:only-of-type {\n",
       "        vertical-align: middle;\n",
       "    }\n",
       "\n",
       "    .dataframe tbody tr th {\n",
       "        vertical-align: top;\n",
       "    }\n",
       "\n",
       "    .dataframe thead th {\n",
       "        text-align: right;\n",
       "    }\n",
       "</style>\n",
       "<table border=\"1\" class=\"dataframe\">\n",
       "  <thead>\n",
       "    <tr style=\"text-align: right;\">\n",
       "      <th></th>\n",
       "      <th>goal</th>\n",
       "      <th>pledged</th>\n",
       "      <th>backers</th>\n",
       "      <th>usd pledged</th>\n",
       "      <th>usd_pledged_real</th>\n",
       "      <th>usd_goal_real</th>\n",
       "      <th>Days to deadline</th>\n",
       "    </tr>\n",
       "  </thead>\n",
       "  <tbody>\n",
       "    <tr>\n",
       "      <th>F-statistic</th>\n",
       "      <td>7760.297116</td>\n",
       "      <td>29837.77847</td>\n",
       "      <td>67108.013803</td>\n",
       "      <td>48822.213955</td>\n",
       "      <td>62358.737529</td>\n",
       "      <td>17811.159909</td>\n",
       "      <td>4551.028177</td>\n",
       "    </tr>\n",
       "    <tr>\n",
       "      <th>p-value</th>\n",
       "      <td>0.000000</td>\n",
       "      <td>0.00000</td>\n",
       "      <td>0.000000</td>\n",
       "      <td>0.000000</td>\n",
       "      <td>0.000000</td>\n",
       "      <td>0.000000</td>\n",
       "      <td>0.000000</td>\n",
       "    </tr>\n",
       "  </tbody>\n",
       "</table>\n",
       "</div>"
      ],
      "text/plain": [
       "                    goal      pledged       backers   usd pledged  \\\n",
       "F-statistic  7760.297116  29837.77847  67108.013803  48822.213955   \n",
       "p-value         0.000000      0.00000      0.000000      0.000000   \n",
       "\n",
       "             usd_pledged_real  usd_goal_real  Days to deadline  \n",
       "F-statistic      62358.737529   17811.159909       4551.028177  \n",
       "p-value              0.000000       0.000000          0.000000  "
      ]
     },
     "execution_count": 408,
     "metadata": {},
     "output_type": "execute_result"
    }
   ],
   "source": [
    "pd.DataFrame(data = f_classif(numericals, df['state_successful']),\n",
    "             columns = numericals.columns,\n",
    "             index = ['F-statistic','p-value'])"
   ]
  },
  {
   "cell_type": "markdown",
   "metadata": {},
   "source": [
    "The F-statistics and p-values for every variable is extremely significant, so these variables should be included in prediction model. We want variables that would be available to an entrepreneur at the time of his project launch, so we exclude the variables relating to the amount pledged."
   ]
  },
  {
   "cell_type": "markdown",
   "metadata": {},
   "source": [
    "### Conducting a Chi-squared test between categorical variables and target:"
   ]
  },
  {
   "cell_type": "code",
   "execution_count": 409,
   "metadata": {},
   "outputs": [
    {
     "data": {
      "text/html": [
       "<div>\n",
       "<style scoped>\n",
       "    .dataframe tbody tr th:only-of-type {\n",
       "        vertical-align: middle;\n",
       "    }\n",
       "\n",
       "    .dataframe tbody tr th {\n",
       "        vertical-align: top;\n",
       "    }\n",
       "\n",
       "    .dataframe thead th {\n",
       "        text-align: right;\n",
       "    }\n",
       "</style>\n",
       "<table border=\"1\" class=\"dataframe\">\n",
       "  <thead>\n",
       "    <tr style=\"text-align: right;\">\n",
       "      <th></th>\n",
       "      <th>Variable</th>\n",
       "      <th>Chi squared value</th>\n",
       "      <th>p-value</th>\n",
       "    </tr>\n",
       "  </thead>\n",
       "  <tbody>\n",
       "    <tr>\n",
       "      <th>0</th>\n",
       "      <td>name</td>\n",
       "      <td>276800.438043</td>\n",
       "      <td>0.413757</td>\n",
       "    </tr>\n",
       "    <tr>\n",
       "      <th>1</th>\n",
       "      <td>category</td>\n",
       "      <td>26457.831429</td>\n",
       "      <td>0.000000</td>\n",
       "    </tr>\n",
       "    <tr>\n",
       "      <th>2</th>\n",
       "      <td>main_category</td>\n",
       "      <td>15931.197884</td>\n",
       "      <td>0.000000</td>\n",
       "    </tr>\n",
       "    <tr>\n",
       "      <th>3</th>\n",
       "      <td>currency</td>\n",
       "      <td>1683.267470</td>\n",
       "      <td>0.000000</td>\n",
       "    </tr>\n",
       "  </tbody>\n",
       "</table>\n",
       "</div>"
      ],
      "text/plain": [
       "        Variable  Chi squared value   p-value\n",
       "0           name      276800.438043  0.413757\n",
       "1       category       26457.831429  0.000000\n",
       "2  main_category       15931.197884  0.000000\n",
       "3       currency        1683.267470  0.000000"
      ]
     },
     "execution_count": 409,
     "metadata": {},
     "output_type": "execute_result"
    }
   ],
   "source": [
    "from scipy.stats import chi2_contingency\n",
    "\n",
    "chi2_values = []\n",
    "p_values = []\n",
    "\n",
    "for column in categoricals.columns[:-1]:\n",
    "    contingency = pd.crosstab(df[column], df['state_successful'])\n",
    "\n",
    "    chi2_val, p_value, degrees_of_freedom, expected = chi2_contingency(contingency)\n",
    "    \n",
    "    chi2_values.append(chi2_val)\n",
    "    p_values.append(p_value)\n",
    "    \n",
    "#Create a dataframe\n",
    "\n",
    "data = list(zip(categoricals.columns, chi2_values, p_values))\n",
    "pd.DataFrame(data = data,\n",
    "             columns = ['Variable','Chi squared value','p-value'])\n"
   ]
  },
  {
   "cell_type": "markdown",
   "metadata": {},
   "source": [
    "The chi-squared tests for all variables except project name return significant results as expected, indicating a strong association with the target variable. "
   ]
  },
  {
   "cell_type": "markdown",
   "metadata": {},
   "source": [
    "### Variables picked as features so far:\n",
    "\n",
    "Main category of project (  χ2 = 18098, p = 0)\n",
    "\n",
    "Country of project origin (  χ2 = 2214, p = 0)\n",
    "\n",
    "Combining launch date and deadline into 'Time before deadline' (F = 4466, p = 0)\n",
    "\n",
    "Project goal measured in real USD value (F = 18543, p = 0) \n",
    "\n",
    "No. of backers (F = 90328, p = 0)\n",
    "\n",
    "### Variables not picked:\n",
    "\n",
    "Currency (May act as a proxy for the country variable)\n",
    "\n",
    "Name (No association with project success with p = 0.35)\n",
    "\n"
   ]
  },
  {
   "cell_type": "markdown",
   "metadata": {},
   "source": [
    "# Step 2.5: Scaling data"
   ]
  },
  {
   "cell_type": "code",
   "execution_count": 410,
   "metadata": {},
   "outputs": [
    {
     "name": "stdout",
     "output_type": "stream",
     "text": [
      "<class 'pandas.core.frame.DataFrame'>\n",
      "Int64Index: 278061 entries, 1000003930 to 999988282\n",
      "Data columns (total 15 columns):\n",
      " #   Column            Non-Null Count   Dtype         \n",
      "---  ------            --------------   -----         \n",
      " 0   name              278061 non-null  object        \n",
      " 1   category          278061 non-null  object        \n",
      " 2   main_category     278061 non-null  object        \n",
      " 3   currency          278061 non-null  object        \n",
      " 4   deadline          278061 non-null  datetime64[ns]\n",
      " 5   goal              278061 non-null  float64       \n",
      " 6   launched          278061 non-null  datetime64[ns]\n",
      " 7   pledged           278061 non-null  float64       \n",
      " 8   backers           278061 non-null  int64         \n",
      " 9   country           278061 non-null  object        \n",
      " 10  usd pledged       278061 non-null  float64       \n",
      " 11  usd_pledged_real  278061 non-null  float64       \n",
      " 12  usd_goal_real     278061 non-null  float64       \n",
      " 13  state_successful  278061 non-null  uint8         \n",
      " 14  Days to deadline  278061 non-null  int64         \n",
      "dtypes: datetime64[ns](2), float64(5), int64(2), object(5), uint8(1)\n",
      "memory usage: 32.1+ MB\n"
     ]
    }
   ],
   "source": [
    "df.info()"
   ]
  },
  {
   "cell_type": "code",
   "execution_count": 411,
   "metadata": {},
   "outputs": [],
   "source": [
    "#Reset indexes to prevent some future issues with concatenation:\n",
    "\n",
    "X = df[['main_category','Days to deadline','usd_goal_real','backers','country']].reset_index(drop = True)\n",
    "y = df['state_successful'].reset_index(drop = True)"
   ]
  },
  {
   "cell_type": "code",
   "execution_count": 412,
   "metadata": {},
   "outputs": [],
   "source": [
    "#We use a robust scaler because most of our variables are pretty skewed\n",
    "\n",
    "#Robust scalers use median and IQR instead of the standard mean and S.D.\n",
    "\n",
    "from sklearn.preprocessing import RobustScaler\n",
    "\n",
    "scaler = RobustScaler()\n",
    "\n",
    "X_numerical = X.drop(['main_category','country'], axis = 1)\n",
    "\n",
    "scaler.fit(X_numerical)\n",
    "\n",
    "scaled_X = scaler.transform(X_numerical)\n",
    "\n",
    "scaled_X = pd.DataFrame(scaled_X, columns = X_numerical.columns)"
   ]
  },
  {
   "cell_type": "code",
   "execution_count": 413,
   "metadata": {},
   "outputs": [
    {
     "data": {
      "text/html": [
       "<div>\n",
       "<style scoped>\n",
       "    .dataframe tbody tr th:only-of-type {\n",
       "        vertical-align: middle;\n",
       "    }\n",
       "\n",
       "    .dataframe tbody tr th {\n",
       "        vertical-align: top;\n",
       "    }\n",
       "\n",
       "    .dataframe thead th {\n",
       "        text-align: right;\n",
       "    }\n",
       "</style>\n",
       "<table border=\"1\" class=\"dataframe\">\n",
       "  <thead>\n",
       "    <tr style=\"text-align: right;\">\n",
       "      <th></th>\n",
       "      <th>Days to deadline</th>\n",
       "      <th>usd_goal_real</th>\n",
       "      <th>backers</th>\n",
       "      <th>main_category</th>\n",
       "      <th>country</th>\n",
       "    </tr>\n",
       "  </thead>\n",
       "  <tbody>\n",
       "    <tr>\n",
       "      <th>0</th>\n",
       "      <td>5.000000</td>\n",
       "      <td>2.108054</td>\n",
       "      <td>-0.079365</td>\n",
       "      <td>Film &amp; Video</td>\n",
       "      <td>US</td>\n",
       "    </tr>\n",
       "    <tr>\n",
       "      <th>1</th>\n",
       "      <td>2.500000</td>\n",
       "      <td>3.372886</td>\n",
       "      <td>-0.269841</td>\n",
       "      <td>Film &amp; Video</td>\n",
       "      <td>US</td>\n",
       "    </tr>\n",
       "    <tr>\n",
       "      <th>2</th>\n",
       "      <td>0.000000</td>\n",
       "      <td>0.000000</td>\n",
       "      <td>-0.301587</td>\n",
       "      <td>Music</td>\n",
       "      <td>US</td>\n",
       "    </tr>\n",
       "    <tr>\n",
       "      <th>3</th>\n",
       "      <td>0.833333</td>\n",
       "      <td>3.794497</td>\n",
       "      <td>3.238095</td>\n",
       "      <td>Food</td>\n",
       "      <td>US</td>\n",
       "    </tr>\n",
       "    <tr>\n",
       "      <th>4</th>\n",
       "      <td>-1.666667</td>\n",
       "      <td>-0.337289</td>\n",
       "      <td>-0.063492</td>\n",
       "      <td>Food</td>\n",
       "      <td>US</td>\n",
       "    </tr>\n",
       "  </tbody>\n",
       "</table>\n",
       "</div>"
      ],
      "text/plain": [
       "   Days to deadline  usd_goal_real   backers main_category country\n",
       "0          5.000000       2.108054 -0.079365  Film & Video      US\n",
       "1          2.500000       3.372886 -0.269841  Film & Video      US\n",
       "2          0.000000       0.000000 -0.301587         Music      US\n",
       "3          0.833333       3.794497  3.238095          Food      US\n",
       "4         -1.666667      -0.337289 -0.063492          Food      US"
      ]
     },
     "execution_count": 413,
     "metadata": {},
     "output_type": "execute_result"
    }
   ],
   "source": [
    "#After data scaling, I can concatenate my categorical and numerical variables:\n",
    "\n",
    "X = pd.concat([scaled_X, X[['main_category','country']]],\n",
    "               join = 'outer', \n",
    "               axis = 1\n",
    "             )\n",
    "\n",
    "X.head()"
   ]
  },
  {
   "cell_type": "code",
   "execution_count": 414,
   "metadata": {},
   "outputs": [
    {
     "data": {
      "text/plain": [
       "(278061, 5)"
      ]
     },
     "execution_count": 414,
     "metadata": {},
     "output_type": "execute_result"
    }
   ],
   "source": [
    "#Double check the shape:\n",
    "\n",
    "X.shape"
   ]
  },
  {
   "cell_type": "markdown",
   "metadata": {},
   "source": [
    "# Step 2.5:  Creating clusters and encoding variables"
   ]
  },
  {
   "cell_type": "markdown",
   "metadata": {},
   "source": [
    "### Looking for patterns by creating clusters based on numeric data (K-Means):"
   ]
  },
  {
   "cell_type": "code",
   "execution_count": 415,
   "metadata": {},
   "outputs": [
    {
     "name": "stdout",
     "output_type": "stream",
     "text": [
      "Wall time: 23.4 s\n"
     ]
    }
   ],
   "source": [
    "%%time\n",
    "\n",
    "#Attempting to obtain optimal no. of clusters k:\n",
    "\n",
    "from sklearn.cluster import KMeans\n",
    "\n",
    "inertias = []\n",
    "\n",
    "for k in range(3,10):\n",
    "    kmeans = KMeans(n_clusters = k)\n",
    "    kmeans.fit(scaled_X)\n",
    "    inertias.append(kmeans.inertia_)\n",
    "    "
   ]
  },
  {
   "cell_type": "code",
   "execution_count": 416,
   "metadata": {},
   "outputs": [
    {
     "data": {
      "image/png": "[encoded data removed]",
      "text/plain": [
       "<Figure size 1080x360 with 1 Axes>"
      ]
     },
     "metadata": {
      "needs_background": "light"
     },
     "output_type": "display_data"
    }
   ],
   "source": [
    "#Plot an inertia vs k graph to visualize the 'elbow':\n",
    "\n",
    "plt.figure(figsize = (15,5))\n",
    "\n",
    "sns.lineplot(x = range(3,10),\n",
    "             y = inertias)\n",
    "\n",
    "plt.title('Total variance (inertia) against k')\n",
    "plt.show()"
   ]
  },
  {
   "cell_type": "markdown",
   "metadata": {},
   "source": [
    "The graph seems to have a distinct elbow at k=4, therefore that value will be chosen as the k-value for clustering"
   ]
  },
  {
   "cell_type": "code",
   "execution_count": 417,
   "metadata": {},
   "outputs": [],
   "source": [
    "kmeans = KMeans(n_clusters = 4)\n",
    "\n",
    "kmeans_predictions = kmeans.fit_predict(scaled_X)\n",
    "\n",
    "#Add cluster to features table\n",
    "\n",
    "X['Cluster (k=4)'] = kmeans_predictions"
   ]
  },
  {
   "cell_type": "code",
   "execution_count": 418,
   "metadata": {},
   "outputs": [
    {
     "data": {
      "text/html": [
       "<div>\n",
       "<style scoped>\n",
       "    .dataframe tbody tr th:only-of-type {\n",
       "        vertical-align: middle;\n",
       "    }\n",
       "\n",
       "    .dataframe tbody tr th {\n",
       "        vertical-align: top;\n",
       "    }\n",
       "\n",
       "    .dataframe thead th {\n",
       "        text-align: right;\n",
       "    }\n",
       "</style>\n",
       "<table border=\"1\" class=\"dataframe\">\n",
       "  <thead>\n",
       "    <tr style=\"text-align: right;\">\n",
       "      <th></th>\n",
       "      <th>Days to deadline</th>\n",
       "      <th>usd_goal_real</th>\n",
       "      <th>backers</th>\n",
       "      <th>main_category</th>\n",
       "      <th>country</th>\n",
       "      <th>Cluster (k=4)</th>\n",
       "    </tr>\n",
       "  </thead>\n",
       "  <tbody>\n",
       "    <tr>\n",
       "      <th>0</th>\n",
       "      <td>5.000000</td>\n",
       "      <td>2.108054</td>\n",
       "      <td>-0.079365</td>\n",
       "      <td>Film &amp; Video</td>\n",
       "      <td>US</td>\n",
       "      <td>2</td>\n",
       "    </tr>\n",
       "    <tr>\n",
       "      <th>1</th>\n",
       "      <td>2.500000</td>\n",
       "      <td>3.372886</td>\n",
       "      <td>-0.269841</td>\n",
       "      <td>Film &amp; Video</td>\n",
       "      <td>US</td>\n",
       "      <td>2</td>\n",
       "    </tr>\n",
       "    <tr>\n",
       "      <th>2</th>\n",
       "      <td>0.000000</td>\n",
       "      <td>0.000000</td>\n",
       "      <td>-0.301587</td>\n",
       "      <td>Music</td>\n",
       "      <td>US</td>\n",
       "      <td>0</td>\n",
       "    </tr>\n",
       "    <tr>\n",
       "      <th>3</th>\n",
       "      <td>0.833333</td>\n",
       "      <td>3.794497</td>\n",
       "      <td>3.238095</td>\n",
       "      <td>Food</td>\n",
       "      <td>US</td>\n",
       "      <td>3</td>\n",
       "    </tr>\n",
       "    <tr>\n",
       "      <th>4</th>\n",
       "      <td>-1.666667</td>\n",
       "      <td>-0.337289</td>\n",
       "      <td>-0.063492</td>\n",
       "      <td>Food</td>\n",
       "      <td>US</td>\n",
       "      <td>0</td>\n",
       "    </tr>\n",
       "  </tbody>\n",
       "</table>\n",
       "</div>"
      ],
      "text/plain": [
       "   Days to deadline  usd_goal_real   backers main_category country  \\\n",
       "0          5.000000       2.108054 -0.079365  Film & Video      US   \n",
       "1          2.500000       3.372886 -0.269841  Film & Video      US   \n",
       "2          0.000000       0.000000 -0.301587         Music      US   \n",
       "3          0.833333       3.794497  3.238095          Food      US   \n",
       "4         -1.666667      -0.337289 -0.063492          Food      US   \n",
       "\n",
       "   Cluster (k=4)  \n",
       "0              2  \n",
       "1              2  \n",
       "2              0  \n",
       "3              3  \n",
       "4              0  "
      ]
     },
     "execution_count": 418,
     "metadata": {},
     "output_type": "execute_result"
    }
   ],
   "source": [
    "#Check that clusters are added:\n",
    "\n",
    "X.head()"
   ]
  },
  {
   "cell_type": "code",
   "execution_count": 419,
   "metadata": {},
   "outputs": [],
   "source": [
    "#Chose not to do PCA as there aren't that many variables to start with"
   ]
  },
  {
   "cell_type": "markdown",
   "metadata": {},
   "source": [
    "### Before implementing models, we must first encode the categorical variables:"
   ]
  },
  {
   "cell_type": "code",
   "execution_count": 420,
   "metadata": {},
   "outputs": [
    {
     "name": "stdout",
     "output_type": "stream",
     "text": [
      "For One-hot encoding:\n",
      "\t\n",
      "No. of rows: 278061\n",
      "No. of columns: 39\n"
     ]
    },
    {
     "data": {
      "text/html": [
       "<div>\n",
       "<style scoped>\n",
       "    .dataframe tbody tr th:only-of-type {\n",
       "        vertical-align: middle;\n",
       "    }\n",
       "\n",
       "    .dataframe tbody tr th {\n",
       "        vertical-align: top;\n",
       "    }\n",
       "\n",
       "    .dataframe thead th {\n",
       "        text-align: right;\n",
       "    }\n",
       "</style>\n",
       "<table border=\"1\" class=\"dataframe\">\n",
       "  <thead>\n",
       "    <tr style=\"text-align: right;\">\n",
       "      <th></th>\n",
       "      <th>Days to deadline</th>\n",
       "      <th>usd_goal_real</th>\n",
       "      <th>backers</th>\n",
       "      <th>Cluster (k=4)</th>\n",
       "      <th>main_category_Art</th>\n",
       "      <th>main_category_Comics</th>\n",
       "      <th>main_category_Crafts</th>\n",
       "      <th>main_category_Dance</th>\n",
       "      <th>main_category_Design</th>\n",
       "      <th>main_category_Fashion</th>\n",
       "      <th>...</th>\n",
       "      <th>country_HK</th>\n",
       "      <th>country_IE</th>\n",
       "      <th>country_IT</th>\n",
       "      <th>country_MX</th>\n",
       "      <th>country_NL</th>\n",
       "      <th>country_NO</th>\n",
       "      <th>country_NZ</th>\n",
       "      <th>country_SE</th>\n",
       "      <th>country_SG</th>\n",
       "      <th>country_US</th>\n",
       "    </tr>\n",
       "  </thead>\n",
       "  <tbody>\n",
       "    <tr>\n",
       "      <th>0</th>\n",
       "      <td>5.0</td>\n",
       "      <td>2.108054</td>\n",
       "      <td>-0.079365</td>\n",
       "      <td>2</td>\n",
       "      <td>0</td>\n",
       "      <td>0</td>\n",
       "      <td>0</td>\n",
       "      <td>0</td>\n",
       "      <td>0</td>\n",
       "      <td>0</td>\n",
       "      <td>...</td>\n",
       "      <td>0</td>\n",
       "      <td>0</td>\n",
       "      <td>0</td>\n",
       "      <td>0</td>\n",
       "      <td>0</td>\n",
       "      <td>0</td>\n",
       "      <td>0</td>\n",
       "      <td>0</td>\n",
       "      <td>0</td>\n",
       "      <td>1</td>\n",
       "    </tr>\n",
       "  </tbody>\n",
       "</table>\n",
       "<p>1 rows × 39 columns</p>\n",
       "</div>"
      ],
      "text/plain": [
       "   Days to deadline  usd_goal_real   backers  Cluster (k=4)  \\\n",
       "0               5.0       2.108054 -0.079365              2   \n",
       "\n",
       "   main_category_Art  main_category_Comics  main_category_Crafts  \\\n",
       "0                  0                     0                     0   \n",
       "\n",
       "   main_category_Dance  main_category_Design  main_category_Fashion  ...  \\\n",
       "0                    0                     0                      0  ...   \n",
       "\n",
       "   country_HK  country_IE  country_IT  country_MX  country_NL  country_NO  \\\n",
       "0           0           0           0           0           0           0   \n",
       "\n",
       "   country_NZ  country_SE  country_SG  country_US  \n",
       "0           0           0           0           1  \n",
       "\n",
       "[1 rows x 39 columns]"
      ]
     },
     "execution_count": 420,
     "metadata": {},
     "output_type": "execute_result"
    }
   ],
   "source": [
    "#Using get_dummies would use One-hot encoding, but with high cardinality the data would end up with a high dimension\n",
    "\n",
    "print('For One-hot encoding:')\n",
    "print('\\t')\n",
    "print('No. of rows:', pd.get_dummies(X).shape[0])\n",
    "print('No. of columns:', pd.get_dummies(X).shape[1])\n",
    "\n",
    "pd.get_dummies(X).head(1)"
   ]
  },
  {
   "cell_type": "code",
   "execution_count": 421,
   "metadata": {},
   "outputs": [
    {
     "name": "stdout",
     "output_type": "stream",
     "text": [
      "For binary encoding:\n",
      "\t\n",
      "No. of rows: 278061\n",
      "No. of columns: 17\n"
     ]
    },
    {
     "data": {
      "text/html": [
       "<div>\n",
       "<style scoped>\n",
       "    .dataframe tbody tr th:only-of-type {\n",
       "        vertical-align: middle;\n",
       "    }\n",
       "\n",
       "    .dataframe tbody tr th {\n",
       "        vertical-align: top;\n",
       "    }\n",
       "\n",
       "    .dataframe thead th {\n",
       "        text-align: right;\n",
       "    }\n",
       "</style>\n",
       "<table border=\"1\" class=\"dataframe\">\n",
       "  <thead>\n",
       "    <tr style=\"text-align: right;\">\n",
       "      <th></th>\n",
       "      <th>Days to deadline</th>\n",
       "      <th>usd_goal_real</th>\n",
       "      <th>backers</th>\n",
       "      <th>main_category_0</th>\n",
       "      <th>main_category_1</th>\n",
       "      <th>main_category_2</th>\n",
       "      <th>main_category_3</th>\n",
       "      <th>main_category_4</th>\n",
       "      <th>country_0</th>\n",
       "      <th>country_1</th>\n",
       "      <th>country_2</th>\n",
       "      <th>country_3</th>\n",
       "      <th>country_4</th>\n",
       "      <th>country_5</th>\n",
       "      <th>Cluster (k=4)_0</th>\n",
       "      <th>Cluster (k=4)_1</th>\n",
       "      <th>Cluster (k=4)_2</th>\n",
       "    </tr>\n",
       "  </thead>\n",
       "  <tbody>\n",
       "    <tr>\n",
       "      <th>0</th>\n",
       "      <td>5.0</td>\n",
       "      <td>2.108054</td>\n",
       "      <td>-0.079365</td>\n",
       "      <td>0</td>\n",
       "      <td>0</td>\n",
       "      <td>0</td>\n",
       "      <td>0</td>\n",
       "      <td>1</td>\n",
       "      <td>0</td>\n",
       "      <td>0</td>\n",
       "      <td>0</td>\n",
       "      <td>0</td>\n",
       "      <td>0</td>\n",
       "      <td>1</td>\n",
       "      <td>0</td>\n",
       "      <td>0</td>\n",
       "      <td>1</td>\n",
       "    </tr>\n",
       "  </tbody>\n",
       "</table>\n",
       "</div>"
      ],
      "text/plain": [
       "   Days to deadline  usd_goal_real   backers  main_category_0  \\\n",
       "0               5.0       2.108054 -0.079365                0   \n",
       "\n",
       "   main_category_1  main_category_2  main_category_3  main_category_4  \\\n",
       "0                0                0                0                1   \n",
       "\n",
       "   country_0  country_1  country_2  country_3  country_4  country_5  \\\n",
       "0          0          0          0          0          0          1   \n",
       "\n",
       "   Cluster (k=4)_0  Cluster (k=4)_1  Cluster (k=4)_2  \n",
       "0                0                0                1  "
      ]
     },
     "execution_count": 421,
     "metadata": {},
     "output_type": "execute_result"
    }
   ],
   "source": [
    "#Using a binary encoder instead might help reduce the dimensionality\n",
    "#This involves converting to numerical labels, then converting the numbers into binary form\n",
    "\n",
    "import category_encoders as ce\n",
    "\n",
    "encoder = ce.BinaryEncoder(cols = ['main_category','country','Cluster (k=4)'])\n",
    "\n",
    "print('For binary encoding:')\n",
    "print('\\t')\n",
    "print('No. of rows:', encoder.fit_transform(X).shape[0])\n",
    "print('No. of columns:', encoder.fit_transform(X).shape[1])\n",
    "\n",
    "X = encoder.fit_transform(X)\n",
    "\n",
    "X.head(1)"
   ]
  },
  {
   "cell_type": "markdown",
   "metadata": {},
   "source": [
    "# Step 3: Implementing models"
   ]
  },
  {
   "cell_type": "markdown",
   "metadata": {},
   "source": [
    "Now that the target and explanatory variables are encoded, we can implement our models to predict project success. We first begin by splitting the data into training and test sets."
   ]
  },
  {
   "cell_type": "code",
   "execution_count": 422,
   "metadata": {},
   "outputs": [],
   "source": [
    "# Splitting the data:\n",
    "\n",
    "from sklearn.model_selection import train_test_split\n",
    "\n",
    "X_train, X_test, y_train, y_test = train_test_split(X, \n",
    "                                                    y, \n",
    "                                                    test_size=0.33, \n",
    "                                                    random_state=42)"
   ]
  },
  {
   "cell_type": "markdown",
   "metadata": {},
   "source": [
    "### Establishing a baseline classifier:"
   ]
  },
  {
   "cell_type": "code",
   "execution_count": 423,
   "metadata": {},
   "outputs": [
    {
     "name": "stdout",
     "output_type": "stream",
     "text": [
      "Baseline model accuracy: 0.5062717276402829\n"
     ]
    }
   ],
   "source": [
    "#Establish a baseline dummy model to have a benchmark for model accuracy:\n",
    "\n",
    "from sklearn.dummy import DummyClassifier\n",
    "\n",
    "baseline = DummyClassifier(strategy = 'stratified')\n",
    "\n",
    "baseline.fit(X_train,y_train)\n",
    "\n",
    "baseline_predictions = baseline.predict(X_test)\n",
    "\n",
    "print('Baseline model accuracy:',accuracy_score(y_test,baseline.predict(X_test)))"
   ]
  },
  {
   "cell_type": "markdown",
   "metadata": {},
   "source": [
    "### Logistic regression"
   ]
  },
  {
   "cell_type": "code",
   "execution_count": 424,
   "metadata": {},
   "outputs": [
    {
     "name": "stdout",
     "output_type": "stream",
     "text": [
      "Wall time: 1min 36s\n"
     ]
    }
   ],
   "source": [
    "%%time\n",
    "%%capture\n",
    "\n",
    "#Measure how long the model takes to fit\n",
    "\n",
    "#Try a Logistic Regression model:\n",
    "\n",
    "\n",
    "from sklearn.model_selection import GridSearchCV\n",
    "from sklearn.linear_model import LogisticRegression\n",
    "\n",
    "logmodel = GridSearchCV(estimator = LogisticRegression(),\n",
    "                        param_grid = {'solver':['sag','lbfgs'],\n",
    "                                      'C': [0.01,0.1,0.5,1]# Sag is gradient descent\n",
    "                                     },                    # Lbfgs calculates second derivatives without actually calculating it\n",
    "                        cv = 5 \n",
    "                       )\n",
    "logmodel.fit(X_train,y_train.astype(int))\n"
   ]
  },
  {
   "cell_type": "code",
   "execution_count": 425,
   "metadata": {},
   "outputs": [
    {
     "name": "stdout",
     "output_type": "stream",
     "text": [
      "Best parameters for Logistic Regression: {'C': 0.1, 'solver': 'lbfgs'}\n"
     ]
    }
   ],
   "source": [
    "print('Best parameters for Logistic Regression:', logmodel.best_params_)"
   ]
  },
  {
   "cell_type": "code",
   "execution_count": 426,
   "metadata": {},
   "outputs": [],
   "source": [
    "#Generate predictions:\n",
    "\n",
    "logmodel_predictions = logmodel.predict(X_test)"
   ]
  },
  {
   "cell_type": "markdown",
   "metadata": {},
   "source": [
    "### Support vector machines\n"
   ]
  },
  {
   "cell_type": "code",
   "execution_count": 427,
   "metadata": {},
   "outputs": [
    {
     "name": "stdout",
     "output_type": "stream",
     "text": [
      "Wall time: 1min 25s\n"
     ]
    }
   ],
   "source": [
    "%%time \n",
    "\n",
    "from sklearn.svm import SVC\n",
    "import joblib\n",
    "\n",
    "# svc = SVC().fit(X_train,y_train) #Can't use GridSearchCV, it takes a billion years\n",
    "\n",
    "\n",
    "#Save model so I don't have to re-fit the model every time I restart the notebook\n",
    "\n",
    "# joblib.dump(svc, 'svc_model.joblib')\n",
    "\n",
    "\n",
    "#Opening model from saved file and generate predictions:\n",
    "\n",
    "svc = joblib.load('./Models/svc_model.joblib')\n",
    "\n",
    "svc_predictions = svc.predict(X_test)"
   ]
  },
  {
   "cell_type": "markdown",
   "metadata": {},
   "source": [
    "### Decision Tree"
   ]
  },
  {
   "cell_type": "code",
   "execution_count": 428,
   "metadata": {},
   "outputs": [
    {
     "name": "stdout",
     "output_type": "stream",
     "text": [
      "Wall time: 5.4 s\n"
     ]
    }
   ],
   "source": [
    "%%time\n",
    "%%capture\n",
    "\n",
    "from sklearn.tree import DecisionTreeClassifier\n",
    "\n",
    "tree = GridSearchCV(estimator = DecisionTreeClassifier(),\n",
    "                    param_grid = {'criterion':[\"gini\", \"entropy\"],\n",
    "                                 },\n",
    "                    cv = 5 #Default 5-fold CV\n",
    "                   )\n",
    "tree.fit(X_train,y_train)\n",
    "\n",
    "#Generate predictions:\n",
    "\n",
    "tree_predictions = tree.predict(X_test)"
   ]
  },
  {
   "cell_type": "code",
   "execution_count": 429,
   "metadata": {},
   "outputs": [
    {
     "name": "stdout",
     "output_type": "stream",
     "text": [
      "Criterion choice for decision tree: {'criterion': 'entropy'}\n"
     ]
    }
   ],
   "source": [
    "print('Criterion choice for decision tree:',tree.best_params_)"
   ]
  },
  {
   "cell_type": "markdown",
   "metadata": {},
   "source": [
    "### Random forest (Ensemble of decision trees)"
   ]
  },
  {
   "cell_type": "code",
   "execution_count": 430,
   "metadata": {},
   "outputs": [
    {
     "name": "stdout",
     "output_type": "stream",
     "text": [
      "Wall time: 9.27 s\n"
     ]
    }
   ],
   "source": [
    "%%time\n",
    "\n",
    "from sklearn.ensemble import RandomForestClassifier\n",
    "\n",
    "# forest = GridSearchCV(RandomForestClassifier(),\n",
    "#                    param_grid = {'n_estimators' : [100,200,300],\n",
    "#                                  'max_features' : ['auto'] #Default\n",
    "#                                 }                                               \n",
    "#                     )\n",
    "# forest.fit(X_train,y_train)\n",
    "\n",
    "# joblib.dump(forest, 'forest_model.joblib')\n",
    "\n",
    "forest = joblib.load('./Models/forest_model.joblib')\n",
    "                     \n",
    "#Generate predictions\n",
    "\n",
    "forest_predictions = forest.predict(X_test)"
   ]
  },
  {
   "cell_type": "markdown",
   "metadata": {},
   "source": [
    "### Adaboost classification (Forest of stumps)"
   ]
  },
  {
   "cell_type": "code",
   "execution_count": 431,
   "metadata": {},
   "outputs": [
    {
     "name": "stdout",
     "output_type": "stream",
     "text": [
      "Wall time: 2.78 s\n"
     ]
    }
   ],
   "source": [
    "%%time\n",
    "\n",
    "from sklearn.ensemble import AdaBoostClassifier\n",
    "\n",
    "# adaboost_cv = GridSearchCV(estimator = AdaBoostClassifier(),\n",
    "                               #param_grid = {'n_estimators' : [50,100,200],\n",
    "                                             #'learning_rate' : [0.2,0.5,0.8,1.0]})\n",
    "\n",
    "# adaboost_cv.fit(X_train,y_train)\n",
    "\n",
    "# Save Adaboost classifier object:\n",
    "\n",
    "# joblib.dump(adaboost_cv, 'adaboost_model.joblib')\n",
    "\n",
    "\n",
    "#Load adaboost model:\n",
    "\n",
    "adaboost_cv = joblib.load('./Models/adaboost_model.joblib')\n",
    "\n",
    "#Generate predictions:\n",
    "adaboost_cv_predictions = adaboost_cv.predict(X_test)"
   ]
  },
  {
   "cell_type": "code",
   "execution_count": 432,
   "metadata": {},
   "outputs": [
    {
     "name": "stdout",
     "output_type": "stream",
     "text": [
      "Best parameters for Adaboost Classifier: {'learning_rate': 0.2, 'n_estimators': 200}\n"
     ]
    }
   ],
   "source": [
    "print('Best parameters for Adaboost Classifier:', adaboost_cv.best_params_)"
   ]
  },
  {
   "cell_type": "markdown",
   "metadata": {},
   "source": [
    "# Create table evaluating all models"
   ]
  },
  {
   "cell_type": "markdown",
   "metadata": {},
   "source": [
    "# 4: Evaluating models"
   ]
  },
  {
   "cell_type": "code",
   "execution_count": 433,
   "metadata": {},
   "outputs": [
    {
     "name": "stdout",
     "output_type": "stream",
     "text": [
      "Wall time: 3min 17s\n"
     ]
    }
   ],
   "source": [
    "%%time\n",
    "\n",
    "#Calculate a few metrics for the models and put them in a table:\n",
    "\n",
    "from sklearn.metrics import accuracy_score, precision_score, recall_score, plot_confusion_matrix, plot_roc_curve,classification_report\n",
    "\n",
    "model_names = ['Logistic Regression', 'Support vector machines', 'Decision tree', 'Random forest', 'Adaboost', 'Baseline (Stratified)']\n",
    "\n",
    "models = [logmodel, svc, tree, forest, adaboost_cv, baseline]\n",
    "\n",
    "predictions = [logmodel_predictions, svc_predictions, tree_predictions, forest_predictions, adaboost_cv_predictions, baseline_predictions]\n",
    "\n",
    "training_accuracy_scores = [model.score(X_train,y_train) for model in models]\n",
    "\n",
    "test_accuracy_scores = [accuracy_score(y_test,predictions[i]) for i,model in enumerate(models)]\n",
    "\n",
    "precisions = [precision_score(y_test,predictions[i]) for i,model in enumerate(models)]\n",
    "\n",
    "recalls = [recall_score(y_test, predictions[i]) for i,model in enumerate(models)]\n",
    "\n",
    "cross_validated = ['Yes','No','Yes','Yes','Yes','No']"
   ]
  },
  {
   "cell_type": "code",
   "execution_count": 434,
   "metadata": {},
   "outputs": [
    {
     "data": {
      "text/html": [
       "<div>\n",
       "<style scoped>\n",
       "    .dataframe tbody tr th:only-of-type {\n",
       "        vertical-align: middle;\n",
       "    }\n",
       "\n",
       "    .dataframe tbody tr th {\n",
       "        vertical-align: top;\n",
       "    }\n",
       "\n",
       "    .dataframe thead th {\n",
       "        text-align: right;\n",
       "    }\n",
       "</style>\n",
       "<table border=\"1\" class=\"dataframe\">\n",
       "  <thead>\n",
       "    <tr style=\"text-align: right;\">\n",
       "      <th></th>\n",
       "      <th>Model</th>\n",
       "      <th>Training accuracy</th>\n",
       "      <th>Test accuracy</th>\n",
       "      <th>Precision</th>\n",
       "      <th>Recall</th>\n",
       "      <th>Cross validated?</th>\n",
       "    </tr>\n",
       "  </thead>\n",
       "  <tbody>\n",
       "    <tr>\n",
       "      <th>0</th>\n",
       "      <td>Logistic Regression</td>\n",
       "      <td>0.904675</td>\n",
       "      <td>0.902976</td>\n",
       "      <td>0.916145</td>\n",
       "      <td>0.858214</td>\n",
       "      <td>Yes</td>\n",
       "    </tr>\n",
       "    <tr>\n",
       "      <th>1</th>\n",
       "      <td>Support vector machines</td>\n",
       "      <td>0.879291</td>\n",
       "      <td>0.877214</td>\n",
       "      <td>0.931574</td>\n",
       "      <td>0.778325</td>\n",
       "      <td>No</td>\n",
       "    </tr>\n",
       "    <tr>\n",
       "      <th>2</th>\n",
       "      <td>Decision tree</td>\n",
       "      <td>0.988427</td>\n",
       "      <td>0.889626</td>\n",
       "      <td>0.879861</td>\n",
       "      <td>0.867841</td>\n",
       "      <td>Yes</td>\n",
       "    </tr>\n",
       "    <tr>\n",
       "      <th>3</th>\n",
       "      <td>Random forest</td>\n",
       "      <td>0.853167</td>\n",
       "      <td>0.850906</td>\n",
       "      <td>0.930535</td>\n",
       "      <td>0.714770</td>\n",
       "      <td>Yes</td>\n",
       "    </tr>\n",
       "    <tr>\n",
       "      <th>4</th>\n",
       "      <td>Adaboost</td>\n",
       "      <td>0.899705</td>\n",
       "      <td>0.897298</td>\n",
       "      <td>0.931120</td>\n",
       "      <td>0.828021</td>\n",
       "      <td>Yes</td>\n",
       "    </tr>\n",
       "    <tr>\n",
       "      <th>5</th>\n",
       "      <td>Baseline (Stratified)</td>\n",
       "      <td>0.505802</td>\n",
       "      <td>0.508037</td>\n",
       "      <td>0.441320</td>\n",
       "      <td>0.440850</td>\n",
       "      <td>No</td>\n",
       "    </tr>\n",
       "  </tbody>\n",
       "</table>\n",
       "</div>"
      ],
      "text/plain": [
       "                     Model  Training accuracy  Test accuracy  Precision  \\\n",
       "0      Logistic Regression           0.904675       0.902976   0.916145   \n",
       "1  Support vector machines           0.879291       0.877214   0.931574   \n",
       "2            Decision tree           0.988427       0.889626   0.879861   \n",
       "3            Random forest           0.853167       0.850906   0.930535   \n",
       "4                 Adaboost           0.899705       0.897298   0.931120   \n",
       "5    Baseline (Stratified)           0.505802       0.508037   0.441320   \n",
       "\n",
       "     Recall Cross validated?  \n",
       "0  0.858214              Yes  \n",
       "1  0.778325               No  \n",
       "2  0.867841              Yes  \n",
       "3  0.714770              Yes  \n",
       "4  0.828021              Yes  \n",
       "5  0.440850               No  "
      ]
     },
     "execution_count": 434,
     "metadata": {},
     "output_type": "execute_result"
    }
   ],
   "source": [
    "datapoints = zip(model_names, training_accuracy_scores, test_accuracy_scores, precisions, recalls, cross_validated)\n",
    "\n",
    "pd.DataFrame(data = datapoints,\n",
    "             columns = ['Model','Training accuracy', 'Test accuracy', 'Precision', 'Recall', 'Cross validated?'])"
   ]
  },
  {
   "cell_type": "markdown",
   "metadata": {},
   "source": [
    "Based on the results, the Adaboost model has the highest test accuracy and also has an above average precision and recall performance. Therefore we will use the Adaboost model."
   ]
  },
  {
   "cell_type": "markdown",
   "metadata": {},
   "source": [
    "### Further evaluating the Adaboost model:"
   ]
  },
  {
   "cell_type": "code",
   "execution_count": 435,
   "metadata": {},
   "outputs": [
    {
     "name": "stdout",
     "output_type": "stream",
     "text": [
      "              precision    recall  f1-score   support\n",
      "\n",
      "           0       0.88      0.95      0.91     51355\n",
      "           1       0.93      0.83      0.88     40406\n",
      "\n",
      "    accuracy                           0.90     91761\n",
      "   macro avg       0.90      0.89      0.89     91761\n",
      "weighted avg       0.90      0.90      0.90     91761\n",
      "\n"
     ]
    }
   ],
   "source": [
    "print(classification_report(y_test, adaboost_cv_predictions))"
   ]
  },
  {
   "cell_type": "code",
   "execution_count": 436,
   "metadata": {},
   "outputs": [
    {
     "data": {
      "text/plain": [
       "<sklearn.metrics._plot.confusion_matrix.ConfusionMatrixDisplay at 0x143d254be20>"
      ]
     },
     "execution_count": 436,
     "metadata": {},
     "output_type": "execute_result"
    },
    {
     "data": {
      "image/png": "[encoded data removed]",
      "text/plain": [
       "<Figure size 432x288 with 2 Axes>"
      ]
     },
     "metadata": {
      "needs_background": "light"
     },
     "output_type": "display_data"
    }
   ],
   "source": [
    "#Check confusion matrix:\n",
    "\n",
    "plot_confusion_matrix(estimator = adaboost_cv,\n",
    "                      X = X_test,\n",
    "                      y_true = y_test,\n",
    "                      cmap = 'Reds')\n",
    "\n",
    "#Seems like false negatives are alot more common than false positives!"
   ]
  },
  {
   "cell_type": "code",
   "execution_count": 437,
   "metadata": {},
   "outputs": [
    {
     "data": {
      "image/png": "[encoded data removed]",
      "text/plain": [
       "<Figure size 432x288 with 1 Axes>"
      ]
     },
     "metadata": {
      "needs_background": "light"
     },
     "output_type": "display_data"
    }
   ],
   "source": [
    "#See roc curve of logistic regression model:\n",
    "\n",
    "from sklearn.metrics import plot_roc_curve\n",
    "\n",
    "plot_roc_curve(estimator = adaboost_cv,\n",
    "               X = X_test,\n",
    "               y = y_test)\n",
    "\n",
    "plt.show()\n",
    "\n",
    "#Pretty nice AUC of 0.96, means FPR/TPR are great"
   ]
  },
  {
   "cell_type": "markdown",
   "metadata": {},
   "source": [
    "# 5: Making a tool to estimate how many backers a project would need"
   ]
  },
  {
   "cell_type": "markdown",
   "metadata": {},
   "source": [
    "The aim here is to make a simple tool to provide someone that is planning to launch a project with some idea of how many backers he would need to be successful."
   ]
  },
  {
   "cell_type": "code",
   "execution_count": 438,
   "metadata": {},
   "outputs": [],
   "source": [
    "sample = X.sample(1)"
   ]
  },
  {
   "cell_type": "code",
   "execution_count": 439,
   "metadata": {},
   "outputs": [
    {
     "data": {
      "text/plain": [
       "array([[0.53149393, 0.46850607]])"
      ]
     },
     "execution_count": 439,
     "metadata": {},
     "output_type": "execute_result"
    }
   ],
   "source": [
    "#Predict_proba function returns the probability of 0 and 1 as outcomes\n",
    "\n",
    "adaboost_cv.predict_proba(sample)"
   ]
  },
  {
   "cell_type": "code",
   "execution_count": 440,
   "metadata": {},
   "outputs": [
    {
     "name": "stdout",
     "output_type": "stream",
     "text": [
      "Project probability of success: 0.4685060678153894\n"
     ]
    }
   ],
   "source": [
    "#To access probability that the project is successful:\n",
    "\n",
    "print('Project probability of success:', adaboost_cv.predict_proba(sample)[0][1])"
   ]
  },
  {
   "cell_type": "markdown",
   "metadata": {},
   "source": [
    "### Defining a function to predict outcome"
   ]
  },
  {
   "cell_type": "code",
   "execution_count": 441,
   "metadata": {},
   "outputs": [],
   "source": [
    "#First create a function that returns the success probability (using logistic regression)\n",
    "\n",
    "def predict_project_success(data, model):\n",
    "\n",
    "    #Scale data\n",
    "\n",
    "    X_numerical = data[['Days to deadline','usd_goal_real','backers']]\n",
    "    scaled_X = pd.DataFrame(scaler.transform(X_numerical), columns = X_numerical.columns)\n",
    "\n",
    "    scaled_X\n",
    "\n",
    "    #Cluster data\n",
    "\n",
    "    clusters = pd.DataFrame(kmeans.predict(scaled_X), columns = ['Cluster (k=4)'])\n",
    "\n",
    "    # Concatenate categorical and numerical variables\n",
    "\n",
    "    X = pd.concat([scaled_X, \n",
    "                   clusters, \n",
    "                   data[['main_category','country']].reset_index(drop = True)\n",
    "                  ],\n",
    "                   axis = 1,\n",
    "                    )\n",
    "\n",
    "    #Encode X\n",
    "\n",
    "    encoded_X = encoder.transform(X)\n",
    "\n",
    "    encoded_X\n",
    "\n",
    "    #Generate prediction probability\n",
    "\n",
    "    return (model.predict_proba(encoded_X)[0][1]) #Probability estimate that project is successful"
   ]
  },
  {
   "cell_type": "code",
   "execution_count": 442,
   "metadata": {},
   "outputs": [
    {
     "data": {
      "text/html": [
       "<div>\n",
       "<style scoped>\n",
       "    .dataframe tbody tr th:only-of-type {\n",
       "        vertical-align: middle;\n",
       "    }\n",
       "\n",
       "    .dataframe tbody tr th {\n",
       "        vertical-align: top;\n",
       "    }\n",
       "\n",
       "    .dataframe thead th {\n",
       "        text-align: right;\n",
       "    }\n",
       "</style>\n",
       "<table border=\"1\" class=\"dataframe\">\n",
       "  <thead>\n",
       "    <tr style=\"text-align: right;\">\n",
       "      <th></th>\n",
       "      <th>name</th>\n",
       "      <th>category</th>\n",
       "      <th>main_category</th>\n",
       "      <th>currency</th>\n",
       "      <th>deadline</th>\n",
       "      <th>goal</th>\n",
       "      <th>launched</th>\n",
       "      <th>pledged</th>\n",
       "      <th>backers</th>\n",
       "      <th>country</th>\n",
       "      <th>usd pledged</th>\n",
       "      <th>usd_pledged_real</th>\n",
       "      <th>usd_goal_real</th>\n",
       "      <th>state_successful</th>\n",
       "      <th>Days to deadline</th>\n",
       "    </tr>\n",
       "    <tr>\n",
       "      <th>ID</th>\n",
       "      <th></th>\n",
       "      <th></th>\n",
       "      <th></th>\n",
       "      <th></th>\n",
       "      <th></th>\n",
       "      <th></th>\n",
       "      <th></th>\n",
       "      <th></th>\n",
       "      <th></th>\n",
       "      <th></th>\n",
       "      <th></th>\n",
       "      <th></th>\n",
       "      <th></th>\n",
       "      <th></th>\n",
       "      <th></th>\n",
       "    </tr>\n",
       "  </thead>\n",
       "  <tbody>\n",
       "    <tr>\n",
       "      <th>5451541</th>\n",
       "      <td>Bleed Black - a Patriots' journey to the Rugby...</td>\n",
       "      <td>Documentary</td>\n",
       "      <td>Film &amp; Video</td>\n",
       "      <td>USD</td>\n",
       "      <td>2011-08-01</td>\n",
       "      <td>7500.0</td>\n",
       "      <td>2011-06-17 21:29:14</td>\n",
       "      <td>8767.0</td>\n",
       "      <td>88</td>\n",
       "      <td>US</td>\n",
       "      <td>8767.0</td>\n",
       "      <td>8767.0</td>\n",
       "      <td>7500.0</td>\n",
       "      <td>1</td>\n",
       "      <td>44</td>\n",
       "    </tr>\n",
       "  </tbody>\n",
       "</table>\n",
       "</div>"
      ],
      "text/plain": [
       "                                                      name     category  \\\n",
       "ID                                                                        \n",
       "5451541  Bleed Black - a Patriots' journey to the Rugby...  Documentary   \n",
       "\n",
       "        main_category currency   deadline    goal            launched  \\\n",
       "ID                                                                      \n",
       "5451541  Film & Video      USD 2011-08-01  7500.0 2011-06-17 21:29:14   \n",
       "\n",
       "         pledged  backers country  usd pledged  usd_pledged_real  \\\n",
       "ID                                                                 \n",
       "5451541   8767.0       88      US       8767.0            8767.0   \n",
       "\n",
       "         usd_goal_real  state_successful  Days to deadline  \n",
       "ID                                                          \n",
       "5451541         7500.0                 1                44  "
      ]
     },
     "execution_count": 442,
     "metadata": {},
     "output_type": "execute_result"
    }
   ],
   "source": [
    "#Take a sample of the data:\n",
    "\n",
    "sample = df.sample(1)\n",
    "sample"
   ]
  },
  {
   "cell_type": "code",
   "execution_count": 443,
   "metadata": {},
   "outputs": [
    {
     "name": "stdout",
     "output_type": "stream",
     "text": [
      "Predicted success probability: 0.5043371126081186\n"
     ]
    }
   ],
   "source": [
    "#Predicted success probability of sample:\n",
    "\n",
    "print('Predicted success probability:',predict_project_success(sample,adaboost_cv))"
   ]
  },
  {
   "cell_type": "markdown",
   "metadata": {},
   "source": [
    "### Then define a function that generates a plot of project success probability against no. of backers:"
   ]
  },
  {
   "cell_type": "code",
   "execution_count": 444,
   "metadata": {},
   "outputs": [],
   "source": [
    "#Define function to generate a plot of expected data\n",
    "\n",
    "def plot_success_graph(model,days, goal, category, country, max_backers):\n",
    "    \n",
    "    \n",
    "    '''\n",
    "    This function plots a graph of an estimate of the project's success given an arbitrary amount of backers.\n",
    "    \n",
    "    Arguments:\n",
    "    \n",
    "    days: Total number of days from the project's launch to the deadline of completion.\n",
    "    \n",
    "    goal: The monetary goal of the project in USD.\n",
    "    \n",
    "    category: The category that the project falls under. Must be in: ['Publishing', 'Film & Video', 'Music', 'Food', 'Crafts',\n",
    "    'Games','Design', 'Comics', 'Fashion', 'Theater', 'Art', 'Photography','Technology', 'Dance', 'Journalism']\n",
    "    \n",
    "    country: Country of the project's origin. Must be in: ['GB', 'US', 'CA', 'AU', 'IT', 'DE', 'IE', 'MX', 'ES', 'SE', 'FR',\n",
    "       'NZ', 'CH', 'AT', 'NO', 'BE', 'DK', 'HK', 'NL', 'SG']\n",
    "       \n",
    "    max_backers: Maximum backers limit for model to estimate till (Model starts with 0, step size = 20).\n",
    "    \n",
    "    '''\n",
    "    \n",
    "    \n",
    "    data = pd.DataFrame(columns = ['Days to deadline','usd_goal_real','main_category','country'],\n",
    "                        data = [[days,goal,category,country]])\n",
    "    probabilities = []\n",
    "    for i in np.arange(0,max_backers,5):\n",
    "        data.loc[:,'backers'] = i\n",
    "        probability_success = predict_project_success(data,model)\n",
    "        probabilities.append(probability_success)\n",
    "    \n",
    "    plt.figure(figsize = (20,5))\n",
    "    \n",
    "    sns.set_style('darkgrid')\n",
    "    \n",
    "    sns.lineplot(y = probabilities,\n",
    "                 x = np.arange(0,max_backers,5))\n",
    "    \n",
    "    plt.xlabel('No. of backers', fontdict = {'fontsize':15})\n",
    "    plt.xticks(np.arange(0,max_backers,step = 25))\n",
    "    \n",
    "    plt.ylabel('Probability of success', fontdict = {'fontsize':15})\n",
    "    \n",
    "    plt.title('Probability of project success by backers', fontdict = {'fontsize':15})\n",
    "    \n",
    "    plt.show()\n"
   ]
  },
  {
   "cell_type": "code",
   "execution_count": 445,
   "metadata": {},
   "outputs": [
    {
     "data": {
      "image/png": "[encoded data removed]",
      "text/plain": [
       "<Figure size 1440x360 with 1 Axes>"
      ]
     },
     "metadata": {
      "needs_background": "light"
     },
     "output_type": "display_data"
    }
   ],
   "source": [
    "#Example of the function on some test data:\n",
    "\n",
    "#Using the logistic regression model:\n",
    "\n",
    "plot_success_graph(model = logmodel,\n",
    "                   days = 50, \n",
    "                   goal = 10000, \n",
    "                   category = 'Games', \n",
    "                   country = 'NZ', \n",
    "                   max_backers = 700)"
   ]
  },
  {
   "cell_type": "code",
   "execution_count": 446,
   "metadata": {},
   "outputs": [
    {
     "data": {
      "image/png": "[encoded data removed]",
      "text/plain": [
       "<Figure size 1440x360 with 1 Axes>"
      ]
     },
     "metadata": {},
     "output_type": "display_data"
    }
   ],
   "source": [
    "#Using the AdaBoost model:\n",
    "\n",
    "plot_success_graph(model = adaboost_cv,\n",
    "                   days = 50, \n",
    "                   goal = 10000, \n",
    "                   category = 'Games', \n",
    "                   country = 'NZ', \n",
    "                   max_backers = 700)\n",
    "\n",
    "#Probabilities are alot more constrained below 0.5, is it because Adaboost predict_probas cannot be interpreted as probabilities?"
   ]
  },
  {
   "cell_type": "code",
   "execution_count": 447,
   "metadata": {},
   "outputs": [
    {
     "data": {
      "image/png": "[encoded data removed]",
      "text/plain": [
       "<Figure size 1440x360 with 1 Axes>"
      ]
     },
     "metadata": {},
     "output_type": "display_data"
    }
   ],
   "source": [
    "#Using the decision tree model:\n",
    "\n",
    "plot_success_graph(model = tree,\n",
    "                   days = 50, \n",
    "                   goal = 10000, \n",
    "                   category = 'Games', \n",
    "                   country = 'NZ', \n",
    "                   max_backers = 700)\n",
    "\n",
    "#Even worse! The probabilities make no sense"
   ]
  },
  {
   "cell_type": "markdown",
   "metadata": {},
   "source": [
    "# Conclusion\n"
   ]
  },
  {
   "cell_type": "markdown",
   "metadata": {},
   "source": [
    "All of the models don't seem to provide very believable probabilities with respect to the no. of backers a project might have, producing probabilities of above 0 even when the no. of backers is zero.\n",
    "\n",
    "This could be due to the way predict_proba is calculated in sklearn models. Not all predict_proba scores in the models can be interpreted as true probabilities. Logistic Regression models produce outputs that are reasonable probabilities, but other models like Adaboost do not. We therefore have to calibrate the models to produce more realistic probability estimates."
   ]
  },
  {
   "cell_type": "markdown",
   "metadata": {},
   "source": [
    "### Trying some calibration of predict_proba output:"
   ]
  },
  {
   "cell_type": "code",
   "execution_count": 448,
   "metadata": {},
   "outputs": [
    {
     "name": "stdout",
     "output_type": "stream",
     "text": [
      "Wall time: 0 ns\n"
     ]
    }
   ],
   "source": [
    "from sklearn.calibration import CalibratedClassifierCV\n",
    "\n",
    "\n",
    "#Create model to calculate calibrated probabilities:\n",
    "\n",
    "#calibrated_adaboost = CalibratedClassifierCV(base_estimator = adaboost_cv,\n",
    "#                                             cv = None, #Default is 5-fold\n",
    "#                                             method = 'isotonic', #Isotonic regression\n",
    "#                                            )\n",
    "\n",
    "#Fit calibrated model:\n",
    "\n",
    "# calibrated_adaboost.fit(X_train,y_train) (Took 1 hour 16 min)"
   ]
  },
  {
   "cell_type": "code",
   "execution_count": 449,
   "metadata": {},
   "outputs": [],
   "source": [
    "#Save calibrated model locally:\n",
    "\n",
    "#joblib.dump(calibrated_adaboost, 'calibrated_adaboost_model.joblib')\n",
    "\n",
    "\n",
    "#Load calibrated model:\n",
    "\n",
    "calibrated_adaboost_cv = joblib.load('./Models/calibrated_adaboost_model.joblib')"
   ]
  },
  {
   "cell_type": "code",
   "execution_count": 450,
   "metadata": {},
   "outputs": [
    {
     "data": {
      "image/png": "[encoded data removed]",
      "text/plain": [
       "<Figure size 1440x360 with 1 Axes>"
      ]
     },
     "metadata": {},
     "output_type": "display_data"
    }
   ],
   "source": [
    "#Using the AdaBoost model that has higher accuracy:\n",
    "\n",
    "plot_success_graph(model = calibrated_adaboost_cv,\n",
    "                   days = 50, \n",
    "                   goal = 10000, \n",
    "                   category = 'Games', \n",
    "                   country = 'NZ', \n",
    "                   max_backers = 700)\n",
    "\n",
    "#Probabilities are alot more constrained below 0.5, is it because Adaboost predict_probas cannot be interpreted as probabilities?"
   ]
  },
  {
   "cell_type": "markdown",
   "metadata": {},
   "source": [
    "The calibrated model seems to produce a much more believable graph of probabilities!"
   ]
  },
  {
   "cell_type": "code",
   "execution_count": 451,
   "metadata": {},
   "outputs": [],
   "source": [
    "#Trying a hybrid model of k-means and k-modes for mixed attributes clustering\n",
    "\n",
    "from kmodes.kprototypes import KPrototypes\n",
    "\n",
    "KProt = KPrototypes(n_clusters = 8, #default clusters\n",
    "                    random_state = 42,\n",
    "                    )\n",
    "\n",
    "#Algorithm runs extremely slowly, not sure why\n",
    "\n",
    "#KProt.fit(X.sample(500), categorical = [4])\n",
    "\n",
    "#clusters = KProt.predict(X, categorical = [4])"
   ]
  },
  {
   "cell_type": "markdown",
   "metadata": {},
   "source": [
    "# Some final weaknesses:"
   ]
  },
  {
   "cell_type": "markdown",
   "metadata": {},
   "source": [
    "Model doesn't take into account the backer contribution, eg. different projects can have different contribution amounts for each backer. Would have been nice to have that data.."
   ]
  }
 ],
 "metadata": {
  "kernelspec": {
   "display_name": "Python 3",
   "language": "python",
   "name": "python3"
  },
  "language_info": {
   "codemirror_mode": {
    "name": "ipython",
    "version": 3
   },
   "file_extension": ".py",
   "mimetype": "text/x-python",
   "name": "python",
   "nbconvert_exporter": "python",
   "pygments_lexer": "ipython3",
   "version": "3.8.3"
  }
 },
 "nbformat": 4,
 "nbformat_minor": 4
}
