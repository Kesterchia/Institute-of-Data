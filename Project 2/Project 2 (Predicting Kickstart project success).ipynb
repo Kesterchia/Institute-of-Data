{
 "cells": [
  {
   "cell_type": "markdown",
   "metadata": {},
   "source": [
    "<img src=\"https://github.com/Kesterchia/Institute-of-Data/blob/master/Project%202/Images/Kickstarter-Celebrates-10-Years-of-Funding.jpg?raw=true\" width=\"420\" height=\"420\"> "
   ]
  },
  {
   "cell_type": "markdown",
   "metadata": {},
   "source": [
    "# About the Kickstarter dataset:\n"
   ]
  },
  {
   "cell_type": "markdown",
   "metadata": {},
   "source": [
    "### Source\n",
    "\n",
    "Data obtained from: https://www.kaggle.com/kemical/kickstarter-projects?select=ks-projects-201801.csv\n",
    "\n",
    "\n",
    "### Content\n",
    "\n",
    "This dataset contains about 400,000 rows of data collected on crowdfunding projects hosted on Kickstarter.com.\n",
    "\n",
    "\n",
    "Columns are self explanatory except:\n",
    "\n",
    "usd_pledged: conversion in US dollars of the pledged column (conversion done by kickstarter).\n",
    "\n",
    "usd pledge real: conversion in US dollars of the pledged column (conversion from Fixer.io API).\n",
    "\n",
    "usd goal real: conversion in US dollars of the goal column (conversion from Fixer.io API).\n",
    "\n",
    "### Acknowledgements\n",
    "\n",
    "Data are collected from Kickstarter Platform\n",
    "\n",
    "usd conversion (usdpledgedreal and usdgoalreal columns) were generated from convert ks pledges to usd script done by tonyplaysguitar"
   ]
  },
  {
   "cell_type": "markdown",
   "metadata": {},
   "source": [
    "# Problem statement: "
   ]
  },
  {
   "cell_type": "markdown",
   "metadata": {},
   "source": [
    "## Can i predict how many backers I would need to have a successful project?"
   ]
  },
  {
   "cell_type": "markdown",
   "metadata": {},
   "source": [
    "This project aims to deliver some insights into how much support from backers a kickstarter project would need to have a decent chance of success. \n",
    "\n",
    "Kickstarter.com is a crowdfunding platform that provides entrepreneurs with an alternative to traditional bank loans. "
   ]
  },
  {
   "cell_type": "code",
   "execution_count": 1,
   "metadata": {},
   "outputs": [],
   "source": [
    "#Import libraries\n",
    "\n",
    "import numpy as np\n",
    "import pandas as pd\n",
    "import matplotlib.pyplot as plt\n",
    "import seaborn as sns\n",
    "\n",
    "%matplotlib inline\n",
    "\n"
   ]
  },
  {
   "cell_type": "code",
   "execution_count": 2,
   "metadata": {},
   "outputs": [],
   "source": [
    "#Read in data (CSV)\n",
    "\n",
    "df = pd.read_csv('ks-projects-201801.csv', index_col = 'ID')\n",
    "\n",
    "#Note: Remember to read in ID as the index column!"
   ]
  },
  {
   "cell_type": "code",
   "execution_count": 3,
   "metadata": {},
   "outputs": [],
   "source": [
    "#Note: After taking a million years to run the models, i think i should cut the size of the dataset"
   ]
  },
  {
   "cell_type": "code",
   "execution_count": 4,
   "metadata": {},
   "outputs": [],
   "source": [
    "# df = df.sample(130000, random_state = 42)"
   ]
  },
  {
   "cell_type": "code",
   "execution_count": 5,
   "metadata": {},
   "outputs": [
    {
     "name": "stdout",
     "output_type": "stream",
     "text": [
      "No. of rows: 378661\n",
      "No. of columns: 14\n"
     ]
    }
   ],
   "source": [
    "#Check the size of the dataset:\n",
    "\n",
    "print('No. of rows:', df.shape[0])\n",
    "print('No. of columns:',df.shape[1])"
   ]
  },
  {
   "cell_type": "code",
   "execution_count": 6,
   "metadata": {},
   "outputs": [
    {
     "data": {
      "text/html": [
       "<div>\n",
       "<style scoped>\n",
       "    .dataframe tbody tr th:only-of-type {\n",
       "        vertical-align: middle;\n",
       "    }\n",
       "\n",
       "    .dataframe tbody tr th {\n",
       "        vertical-align: top;\n",
       "    }\n",
       "\n",
       "    .dataframe thead th {\n",
       "        text-align: right;\n",
       "    }\n",
       "</style>\n",
       "<table border=\"1\" class=\"dataframe\">\n",
       "  <thead>\n",
       "    <tr style=\"text-align: right;\">\n",
       "      <th></th>\n",
       "      <th>name</th>\n",
       "      <th>category</th>\n",
       "      <th>main_category</th>\n",
       "      <th>currency</th>\n",
       "      <th>deadline</th>\n",
       "      <th>goal</th>\n",
       "      <th>launched</th>\n",
       "      <th>pledged</th>\n",
       "      <th>state</th>\n",
       "      <th>backers</th>\n",
       "      <th>country</th>\n",
       "      <th>usd pledged</th>\n",
       "      <th>usd_pledged_real</th>\n",
       "      <th>usd_goal_real</th>\n",
       "    </tr>\n",
       "    <tr>\n",
       "      <th>ID</th>\n",
       "      <th></th>\n",
       "      <th></th>\n",
       "      <th></th>\n",
       "      <th></th>\n",
       "      <th></th>\n",
       "      <th></th>\n",
       "      <th></th>\n",
       "      <th></th>\n",
       "      <th></th>\n",
       "      <th></th>\n",
       "      <th></th>\n",
       "      <th></th>\n",
       "      <th></th>\n",
       "      <th></th>\n",
       "    </tr>\n",
       "  </thead>\n",
       "  <tbody>\n",
       "    <tr>\n",
       "      <th>1000002330</th>\n",
       "      <td>The Songs of Adelaide &amp; Abullah</td>\n",
       "      <td>Poetry</td>\n",
       "      <td>Publishing</td>\n",
       "      <td>GBP</td>\n",
       "      <td>2015-10-09</td>\n",
       "      <td>1000.0</td>\n",
       "      <td>2015-08-11 12:12:28</td>\n",
       "      <td>0.0</td>\n",
       "      <td>failed</td>\n",
       "      <td>0</td>\n",
       "      <td>GB</td>\n",
       "      <td>0.0</td>\n",
       "      <td>0.0</td>\n",
       "      <td>1533.95</td>\n",
       "    </tr>\n",
       "    <tr>\n",
       "      <th>1000003930</th>\n",
       "      <td>Greeting From Earth: ZGAC Arts Capsule For ET</td>\n",
       "      <td>Narrative Film</td>\n",
       "      <td>Film &amp; Video</td>\n",
       "      <td>USD</td>\n",
       "      <td>2017-11-01</td>\n",
       "      <td>30000.0</td>\n",
       "      <td>2017-09-02 04:43:57</td>\n",
       "      <td>2421.0</td>\n",
       "      <td>failed</td>\n",
       "      <td>15</td>\n",
       "      <td>US</td>\n",
       "      <td>100.0</td>\n",
       "      <td>2421.0</td>\n",
       "      <td>30000.00</td>\n",
       "    </tr>\n",
       "    <tr>\n",
       "      <th>1000004038</th>\n",
       "      <td>Where is Hank?</td>\n",
       "      <td>Narrative Film</td>\n",
       "      <td>Film &amp; Video</td>\n",
       "      <td>USD</td>\n",
       "      <td>2013-02-26</td>\n",
       "      <td>45000.0</td>\n",
       "      <td>2013-01-12 00:20:50</td>\n",
       "      <td>220.0</td>\n",
       "      <td>failed</td>\n",
       "      <td>3</td>\n",
       "      <td>US</td>\n",
       "      <td>220.0</td>\n",
       "      <td>220.0</td>\n",
       "      <td>45000.00</td>\n",
       "    </tr>\n",
       "    <tr>\n",
       "      <th>1000007540</th>\n",
       "      <td>ToshiCapital Rekordz Needs Help to Complete Album</td>\n",
       "      <td>Music</td>\n",
       "      <td>Music</td>\n",
       "      <td>USD</td>\n",
       "      <td>2012-04-16</td>\n",
       "      <td>5000.0</td>\n",
       "      <td>2012-03-17 03:24:11</td>\n",
       "      <td>1.0</td>\n",
       "      <td>failed</td>\n",
       "      <td>1</td>\n",
       "      <td>US</td>\n",
       "      <td>1.0</td>\n",
       "      <td>1.0</td>\n",
       "      <td>5000.00</td>\n",
       "    </tr>\n",
       "    <tr>\n",
       "      <th>1000011046</th>\n",
       "      <td>Community Film Project: The Art of Neighborhoo...</td>\n",
       "      <td>Film &amp; Video</td>\n",
       "      <td>Film &amp; Video</td>\n",
       "      <td>USD</td>\n",
       "      <td>2015-08-29</td>\n",
       "      <td>19500.0</td>\n",
       "      <td>2015-07-04 08:35:03</td>\n",
       "      <td>1283.0</td>\n",
       "      <td>canceled</td>\n",
       "      <td>14</td>\n",
       "      <td>US</td>\n",
       "      <td>1283.0</td>\n",
       "      <td>1283.0</td>\n",
       "      <td>19500.00</td>\n",
       "    </tr>\n",
       "  </tbody>\n",
       "</table>\n",
       "</div>"
      ],
      "text/plain": [
       "                                                         name        category  \\\n",
       "ID                                                                              \n",
       "1000002330                    The Songs of Adelaide & Abullah          Poetry   \n",
       "1000003930      Greeting From Earth: ZGAC Arts Capsule For ET  Narrative Film   \n",
       "1000004038                                     Where is Hank?  Narrative Film   \n",
       "1000007540  ToshiCapital Rekordz Needs Help to Complete Album           Music   \n",
       "1000011046  Community Film Project: The Art of Neighborhoo...    Film & Video   \n",
       "\n",
       "           main_category currency    deadline     goal             launched  \\\n",
       "ID                                                                            \n",
       "1000002330    Publishing      GBP  2015-10-09   1000.0  2015-08-11 12:12:28   \n",
       "1000003930  Film & Video      USD  2017-11-01  30000.0  2017-09-02 04:43:57   \n",
       "1000004038  Film & Video      USD  2013-02-26  45000.0  2013-01-12 00:20:50   \n",
       "1000007540         Music      USD  2012-04-16   5000.0  2012-03-17 03:24:11   \n",
       "1000011046  Film & Video      USD  2015-08-29  19500.0  2015-07-04 08:35:03   \n",
       "\n",
       "            pledged     state  backers country  usd pledged  usd_pledged_real  \\\n",
       "ID                                                                              \n",
       "1000002330      0.0    failed        0      GB          0.0               0.0   \n",
       "1000003930   2421.0    failed       15      US        100.0            2421.0   \n",
       "1000004038    220.0    failed        3      US        220.0             220.0   \n",
       "1000007540      1.0    failed        1      US          1.0               1.0   \n",
       "1000011046   1283.0  canceled       14      US       1283.0            1283.0   \n",
       "\n",
       "            usd_goal_real  \n",
       "ID                         \n",
       "1000002330        1533.95  \n",
       "1000003930       30000.00  \n",
       "1000004038       45000.00  \n",
       "1000007540        5000.00  \n",
       "1000011046       19500.00  "
      ]
     },
     "execution_count": 6,
     "metadata": {},
     "output_type": "execute_result"
    }
   ],
   "source": [
    "#Check first few rows of data:\n",
    "\n",
    "df.head()"
   ]
  },
  {
   "cell_type": "markdown",
   "metadata": {},
   "source": [
    "# Part 1: Data cleaning"
   ]
  },
  {
   "cell_type": "markdown",
   "metadata": {},
   "source": [
    "### Cleaning the target variable: 'State'"
   ]
  },
  {
   "cell_type": "code",
   "execution_count": 7,
   "metadata": {},
   "outputs": [
    {
     "data": {
      "text/plain": [
       "failed        197719\n",
       "successful    133956\n",
       "canceled       38779\n",
       "undefined       3562\n",
       "live            2799\n",
       "suspended       1846\n",
       "Name: state, dtype: int64"
      ]
     },
     "execution_count": 7,
     "metadata": {},
     "output_type": "execute_result"
    }
   ],
   "source": [
    "#Check the unique values of the target variable\n",
    "\n",
    "df['state'].value_counts()"
   ]
  },
  {
   "cell_type": "code",
   "execution_count": 8,
   "metadata": {},
   "outputs": [],
   "source": [
    "#For this project, i only keep projects that are either failed or successful\n",
    "\n",
    "df = df[df['state'].isin(['failed','successful'])]"
   ]
  },
  {
   "cell_type": "code",
   "execution_count": 9,
   "metadata": {},
   "outputs": [
    {
     "data": {
      "text/plain": [
       "failed        197719\n",
       "successful    133956\n",
       "Name: state, dtype: int64"
      ]
     },
     "execution_count": 9,
     "metadata": {},
     "output_type": "execute_result"
    }
   ],
   "source": [
    "#Checking target variable counts again\n",
    "\n",
    "df['state'].value_counts()"
   ]
  },
  {
   "cell_type": "markdown",
   "metadata": {},
   "source": [
    "### Cleaning null values"
   ]
  },
  {
   "cell_type": "code",
   "execution_count": 10,
   "metadata": {},
   "outputs": [
    {
     "data": {
      "text/plain": [
       "name                  3\n",
       "category              0\n",
       "main_category         0\n",
       "currency              0\n",
       "deadline              0\n",
       "goal                  0\n",
       "launched              0\n",
       "pledged               0\n",
       "state                 0\n",
       "backers               0\n",
       "country               0\n",
       "usd pledged         210\n",
       "usd_pledged_real      0\n",
       "usd_goal_real         0\n",
       "dtype: int64"
      ]
     },
     "execution_count": 10,
     "metadata": {},
     "output_type": "execute_result"
    }
   ],
   "source": [
    "#Check null values\n",
    "df.isnull().sum()"
   ]
  },
  {
   "cell_type": "code",
   "execution_count": 11,
   "metadata": {},
   "outputs": [
    {
     "data": {
      "text/plain": [
       "name                0\n",
       "category            0\n",
       "main_category       0\n",
       "currency            0\n",
       "deadline            0\n",
       "goal                0\n",
       "launched            0\n",
       "pledged             0\n",
       "state               0\n",
       "backers             0\n",
       "country             0\n",
       "usd pledged         0\n",
       "usd_pledged_real    0\n",
       "usd_goal_real       0\n",
       "dtype: int64"
      ]
     },
     "execution_count": 11,
     "metadata": {},
     "output_type": "execute_result"
    }
   ],
   "source": [
    "#Not many null values, so we can just drop them\n",
    "\n",
    "df = df.dropna()\n",
    "\n",
    "#Check null values again:\n",
    "\n",
    "df.isnull().sum()"
   ]
  },
  {
   "cell_type": "markdown",
   "metadata": {},
   "source": [
    "# Part 2: EDA and feature engineering"
   ]
  },
  {
   "cell_type": "markdown",
   "metadata": {},
   "source": [
    "### Target variable:"
   ]
  },
  {
   "cell_type": "code",
   "execution_count": 12,
   "metadata": {},
   "outputs": [
    {
     "data": {
      "text/plain": [
       "Index(['failed', 'successful'], dtype='object')"
      ]
     },
     "execution_count": 12,
     "metadata": {},
     "output_type": "execute_result"
    }
   ],
   "source": [
    "df['state'].value_counts().index"
   ]
  },
  {
   "cell_type": "code",
   "execution_count": 13,
   "metadata": {},
   "outputs": [
    {
     "data": {
      "image/png": "[encoded data removed]",
      "text/plain": [
       "<Figure size 432x288 with 1 Axes>"
      ]
     },
     "metadata": {},
     "output_type": "display_data"
    }
   ],
   "source": [
    "#Show the failure rate of projects\n",
    "\n",
    "plt.pie(x = df['state'].value_counts(),\n",
    "        labels = df['state'].value_counts().index,\n",
    "        autopct='%1.1f%%')\n",
    "\n",
    "plt.show()"
   ]
  },
  {
   "cell_type": "code",
   "execution_count": 14,
   "metadata": {},
   "outputs": [],
   "source": [
    "#Convert to dummy variable:\n",
    "\n",
    "df = pd.get_dummies(data = df,\n",
    "                   columns = ['state'])"
   ]
  },
  {
   "cell_type": "code",
   "execution_count": 15,
   "metadata": {},
   "outputs": [],
   "source": [
    "#We only have to keep one column:\n",
    "\n",
    "df = df.drop('state_failed', axis = 1)"
   ]
  },
  {
   "cell_type": "markdown",
   "metadata": {},
   "source": [
    "## Checking for categories of projects:"
   ]
  },
  {
   "cell_type": "code",
   "execution_count": 16,
   "metadata": {},
   "outputs": [
    {
     "data": {
      "text/plain": [
       "<matplotlib.axes._subplots.AxesSubplot at 0x126c1478910>"
      ]
     },
     "execution_count": 16,
     "metadata": {},
     "output_type": "execute_result"
    },
    {
     "data": {
      "image/png": "[encoded data removed]",
      "text/plain": [
       "<Figure size 1296x360 with 1 Axes>"
      ]
     },
     "metadata": {
      "needs_background": "light"
     },
     "output_type": "display_data"
    }
   ],
   "source": [
    "#Check the typical categories for projects\n",
    "\n",
    "plt.figure(figsize = (18,5))\n",
    "\n",
    "sns.barplot(x =  df['main_category'].value_counts().index,\n",
    "            y =  df['main_category'].value_counts())"
   ]
  },
  {
   "cell_type": "code",
   "execution_count": 17,
   "metadata": {},
   "outputs": [],
   "source": [
    "#Seems like project distribution is pretty balanced, a good variety of all kinds of projects except for the last few"
   ]
  },
  {
   "cell_type": "markdown",
   "metadata": {},
   "source": [
    "## Checking 'currency':"
   ]
  },
  {
   "cell_type": "code",
   "execution_count": 18,
   "metadata": {},
   "outputs": [
    {
     "data": {
      "text/plain": [
       "USD    261358\n",
       "GBP     29453\n",
       "EUR     14357\n",
       "CAD     12370\n",
       "AUD      6616\n",
       "SEK      1509\n",
       "MXN      1411\n",
       "NZD      1274\n",
       "DKK       926\n",
       "CHF       652\n",
       "NOK       582\n",
       "HKD       477\n",
       "SGD       454\n",
       "JPY        23\n",
       "Name: currency, dtype: int64"
      ]
     },
     "execution_count": 18,
     "metadata": {},
     "output_type": "execute_result"
    }
   ],
   "source": [
    "df['currency'].value_counts()"
   ]
  },
  {
   "cell_type": "code",
   "execution_count": 19,
   "metadata": {},
   "outputs": [],
   "source": [
    "#Most of the projects are paid in USD, doesn't seem like an important variable"
   ]
  },
  {
   "cell_type": "markdown",
   "metadata": {},
   "source": [
    "## Checking 'deadline' and 'launched':\n"
   ]
  },
  {
   "cell_type": "code",
   "execution_count": 20,
   "metadata": {},
   "outputs": [
    {
     "name": "stdout",
     "output_type": "stream",
     "text": [
      "<class 'pandas.core.frame.DataFrame'>\n",
      "Int64Index: 331462 entries, 1000002330 to 999988282\n",
      "Data columns (total 2 columns):\n",
      " #   Column    Non-Null Count   Dtype \n",
      "---  ------    --------------   ----- \n",
      " 0   deadline  331462 non-null  object\n",
      " 1   launched  331462 non-null  object\n",
      "dtypes: object(2)\n",
      "memory usage: 7.6+ MB\n"
     ]
    }
   ],
   "source": [
    "df[['deadline','launched']].info()"
   ]
  },
  {
   "cell_type": "code",
   "execution_count": 21,
   "metadata": {},
   "outputs": [],
   "source": [
    "#Datatypes are classified as objects. They should be classified as time data instead"
   ]
  },
  {
   "cell_type": "code",
   "execution_count": 22,
   "metadata": {},
   "outputs": [],
   "source": [
    "#Converting datatypes:\n",
    "\n",
    "df = df.astype({'deadline':'datetime64',\n",
    "                'launched':'datetime64'\n",
    "               }\n",
    "              )"
   ]
  },
  {
   "cell_type": "code",
   "execution_count": 23,
   "metadata": {},
   "outputs": [
    {
     "name": "stdout",
     "output_type": "stream",
     "text": [
      "<class 'pandas.core.frame.DataFrame'>\n",
      "Int64Index: 331462 entries, 1000002330 to 999988282\n",
      "Data columns (total 2 columns):\n",
      " #   Column    Non-Null Count   Dtype         \n",
      "---  ------    --------------   -----         \n",
      " 0   deadline  331462 non-null  datetime64[ns]\n",
      " 1   launched  331462 non-null  datetime64[ns]\n",
      "dtypes: datetime64[ns](2)\n",
      "memory usage: 7.6 MB\n"
     ]
    }
   ],
   "source": [
    "#See if conversion is successful:\n",
    "\n",
    "df[['deadline','launched']].info()"
   ]
  },
  {
   "cell_type": "markdown",
   "metadata": {},
   "source": [
    "### Feature engineering a new column \n",
    "\n",
    "Having less time before the deadline might reasonably affect project success. We will create a new column to depict that:"
   ]
  },
  {
   "cell_type": "code",
   "execution_count": 24,
   "metadata": {},
   "outputs": [
    {
     "data": {
      "text/plain": [
       "ID\n",
       "1000002330   58 days 11:47:32\n",
       "1000003930   59 days 19:16:03\n",
       "1000004038   44 days 23:39:10\n",
       "1000007540   29 days 20:35:49\n",
       "1000014025   34 days 10:21:33\n",
       "dtype: timedelta64[ns]"
      ]
     },
     "execution_count": 24,
     "metadata": {},
     "output_type": "execute_result"
    }
   ],
   "source": [
    "#Create a new column showing time between project launch to deadline\n",
    "\n",
    "time_to_deadline = df['deadline'] - df['launched']\n",
    "time_to_deadline[:5]"
   ]
  },
  {
   "cell_type": "code",
   "execution_count": 25,
   "metadata": {},
   "outputs": [],
   "source": [
    "#Only keep the number of days to make it simpler, also as int dtype:\n",
    "\n",
    "time_to_deadline_days = time_to_deadline.dt.days\n",
    "\n",
    "df['Days to deadline'] = time_to_deadline_days"
   ]
  },
  {
   "cell_type": "code",
   "execution_count": 26,
   "metadata": {},
   "outputs": [
    {
     "data": {
      "text/plain": [
       "ID\n",
       "1000002330    58\n",
       "1000003930    59\n",
       "1000004038    44\n",
       "1000007540    29\n",
       "1000014025    34\n",
       "Name: Days to deadline, dtype: int64"
      ]
     },
     "execution_count": 26,
     "metadata": {},
     "output_type": "execute_result"
    }
   ],
   "source": [
    "df['Days to deadline'][:5]"
   ]
  },
  {
   "cell_type": "code",
   "execution_count": 27,
   "metadata": {},
   "outputs": [],
   "source": [
    "#Note: Time delta information is stored in pandas in nanoseconds (10^-9)."
   ]
  },
  {
   "cell_type": "code",
   "execution_count": 28,
   "metadata": {},
   "outputs": [
    {
     "name": "stdout",
     "output_type": "stream",
     "text": [
      "ID\n",
      "1000003930   59 days 19:16:03\n",
      "dtype: timedelta64[ns]\n",
      "\t\n",
      "[59]\n"
     ]
    }
   ],
   "source": [
    "#Example: \n",
    "print(time_to_deadline[1:2])\n",
    "print('\\t')\n",
    "print(time_to_deadline[1:2].values /1000 /1000 /1000 #Convert to seconds \n",
    "                                              /60 #to Minutes\n",
    "                                              /60 #to Hours\n",
    "                                              /24)#to Days"
   ]
  },
  {
   "cell_type": "code",
   "execution_count": 29,
   "metadata": {},
   "outputs": [
    {
     "data": {
      "image/png": "[encoded data removed]",
      "text/plain": [
       "<Figure size 936x360 with 1 Axes>"
      ]
     },
     "metadata": {
      "needs_background": "light"
     },
     "output_type": "display_data"
    }
   ],
   "source": [
    "plt.figure(figsize = (13,5))\n",
    "\n",
    "sns.distplot(df['Days to deadline'])\n",
    "\n",
    "plt.title('Distribution of time between launch to project deadline')\n",
    "plt.show()"
   ]
  },
  {
   "cell_type": "code",
   "execution_count": 30,
   "metadata": {},
   "outputs": [
    {
     "data": {
      "image/png": "[encoded data removed]",
      "text/plain": [
       "<Figure size 1296x360 with 1 Axes>"
      ]
     },
     "metadata": {
      "needs_background": "light"
     },
     "output_type": "display_data"
    }
   ],
   "source": [
    "plt.figure(figsize=(18,5))\n",
    "\n",
    "sns.boxplot(df['Days to deadline'])\n",
    "\n",
    "plt.show()"
   ]
  },
  {
   "cell_type": "code",
   "execution_count": 31,
   "metadata": {},
   "outputs": [],
   "source": [
    "#Definitely high variation in time to deadline, with most projects falling between 20 to 40 days"
   ]
  },
  {
   "cell_type": "markdown",
   "metadata": {},
   "source": [
    "### Checking 'backers' feature"
   ]
  },
  {
   "cell_type": "code",
   "execution_count": 32,
   "metadata": {},
   "outputs": [
    {
     "data": {
      "text/plain": [
       "count    331462.000000\n",
       "mean        116.456315\n",
       "std         965.732911\n",
       "min           0.000000\n",
       "25%           2.000000\n",
       "50%          15.000000\n",
       "75%          63.000000\n",
       "max      219382.000000\n",
       "Name: backers, dtype: float64"
      ]
     },
     "execution_count": 32,
     "metadata": {},
     "output_type": "execute_result"
    }
   ],
   "source": [
    "df['backers'].describe()"
   ]
  },
  {
   "cell_type": "code",
   "execution_count": 33,
   "metadata": {},
   "outputs": [
    {
     "data": {
      "text/plain": [
       "<matplotlib.axes._subplots.AxesSubplot at 0x126c3c996d0>"
      ]
     },
     "execution_count": 33,
     "metadata": {},
     "output_type": "execute_result"
    },
    {
     "data": {
      "image/png": "[encoded data removed]",
      "text/plain": [
       "<Figure size 432x288 with 1 Axes>"
      ]
     },
     "metadata": {
      "needs_background": "light"
     },
     "output_type": "display_data"
    }
   ],
   "source": [
    "sns.boxplot(df['backers'])"
   ]
  },
  {
   "cell_type": "markdown",
   "metadata": {},
   "source": [
    "Most projects are actually very close to 0 backers - This makes sense since the failure rate is about 40%"
   ]
  },
  {
   "cell_type": "markdown",
   "metadata": {},
   "source": [
    "I will also remove rows with extremely high amounts of backers (above 98th percentile), since its reasonable to assume these projects will almost certainly be successful"
   ]
  },
  {
   "cell_type": "code",
   "execution_count": 34,
   "metadata": {},
   "outputs": [
    {
     "data": {
      "text/html": [
       "<div>\n",
       "<style scoped>\n",
       "    .dataframe tbody tr th:only-of-type {\n",
       "        vertical-align: middle;\n",
       "    }\n",
       "\n",
       "    .dataframe tbody tr th {\n",
       "        vertical-align: top;\n",
       "    }\n",
       "\n",
       "    .dataframe thead th {\n",
       "        text-align: right;\n",
       "    }\n",
       "</style>\n",
       "<table border=\"1\" class=\"dataframe\">\n",
       "  <thead>\n",
       "    <tr style=\"text-align: right;\">\n",
       "      <th></th>\n",
       "      <th>name</th>\n",
       "      <th>category</th>\n",
       "      <th>main_category</th>\n",
       "      <th>currency</th>\n",
       "      <th>deadline</th>\n",
       "      <th>goal</th>\n",
       "      <th>launched</th>\n",
       "      <th>pledged</th>\n",
       "      <th>backers</th>\n",
       "      <th>country</th>\n",
       "      <th>usd pledged</th>\n",
       "      <th>usd_pledged_real</th>\n",
       "      <th>usd_goal_real</th>\n",
       "      <th>state_successful</th>\n",
       "      <th>Days to deadline</th>\n",
       "    </tr>\n",
       "    <tr>\n",
       "      <th>ID</th>\n",
       "      <th></th>\n",
       "      <th></th>\n",
       "      <th></th>\n",
       "      <th></th>\n",
       "      <th></th>\n",
       "      <th></th>\n",
       "      <th></th>\n",
       "      <th></th>\n",
       "      <th></th>\n",
       "      <th></th>\n",
       "      <th></th>\n",
       "      <th></th>\n",
       "      <th></th>\n",
       "      <th></th>\n",
       "      <th></th>\n",
       "    </tr>\n",
       "  </thead>\n",
       "  <tbody>\n",
       "    <tr>\n",
       "      <th>1000002330</th>\n",
       "      <td>The Songs of Adelaide &amp; Abullah</td>\n",
       "      <td>Poetry</td>\n",
       "      <td>Publishing</td>\n",
       "      <td>GBP</td>\n",
       "      <td>2015-10-09</td>\n",
       "      <td>1000.0</td>\n",
       "      <td>2015-08-11 12:12:28</td>\n",
       "      <td>0.0</td>\n",
       "      <td>0</td>\n",
       "      <td>GB</td>\n",
       "      <td>0.0</td>\n",
       "      <td>0.0</td>\n",
       "      <td>1533.95</td>\n",
       "      <td>0</td>\n",
       "      <td>58</td>\n",
       "    </tr>\n",
       "    <tr>\n",
       "      <th>1000003930</th>\n",
       "      <td>Greeting From Earth: ZGAC Arts Capsule For ET</td>\n",
       "      <td>Narrative Film</td>\n",
       "      <td>Film &amp; Video</td>\n",
       "      <td>USD</td>\n",
       "      <td>2017-11-01</td>\n",
       "      <td>30000.0</td>\n",
       "      <td>2017-09-02 04:43:57</td>\n",
       "      <td>2421.0</td>\n",
       "      <td>15</td>\n",
       "      <td>US</td>\n",
       "      <td>100.0</td>\n",
       "      <td>2421.0</td>\n",
       "      <td>30000.00</td>\n",
       "      <td>0</td>\n",
       "      <td>59</td>\n",
       "    </tr>\n",
       "    <tr>\n",
       "      <th>1000004038</th>\n",
       "      <td>Where is Hank?</td>\n",
       "      <td>Narrative Film</td>\n",
       "      <td>Film &amp; Video</td>\n",
       "      <td>USD</td>\n",
       "      <td>2013-02-26</td>\n",
       "      <td>45000.0</td>\n",
       "      <td>2013-01-12 00:20:50</td>\n",
       "      <td>220.0</td>\n",
       "      <td>3</td>\n",
       "      <td>US</td>\n",
       "      <td>220.0</td>\n",
       "      <td>220.0</td>\n",
       "      <td>45000.00</td>\n",
       "      <td>0</td>\n",
       "      <td>44</td>\n",
       "    </tr>\n",
       "    <tr>\n",
       "      <th>1000007540</th>\n",
       "      <td>ToshiCapital Rekordz Needs Help to Complete Album</td>\n",
       "      <td>Music</td>\n",
       "      <td>Music</td>\n",
       "      <td>USD</td>\n",
       "      <td>2012-04-16</td>\n",
       "      <td>5000.0</td>\n",
       "      <td>2012-03-17 03:24:11</td>\n",
       "      <td>1.0</td>\n",
       "      <td>1</td>\n",
       "      <td>US</td>\n",
       "      <td>1.0</td>\n",
       "      <td>1.0</td>\n",
       "      <td>5000.00</td>\n",
       "      <td>0</td>\n",
       "      <td>29</td>\n",
       "    </tr>\n",
       "    <tr>\n",
       "      <th>1000014025</th>\n",
       "      <td>Monarch Espresso Bar</td>\n",
       "      <td>Restaurants</td>\n",
       "      <td>Food</td>\n",
       "      <td>USD</td>\n",
       "      <td>2016-04-01</td>\n",
       "      <td>50000.0</td>\n",
       "      <td>2016-02-26 13:38:27</td>\n",
       "      <td>52375.0</td>\n",
       "      <td>224</td>\n",
       "      <td>US</td>\n",
       "      <td>52375.0</td>\n",
       "      <td>52375.0</td>\n",
       "      <td>50000.00</td>\n",
       "      <td>1</td>\n",
       "      <td>34</td>\n",
       "    </tr>\n",
       "  </tbody>\n",
       "</table>\n",
       "</div>"
      ],
      "text/plain": [
       "                                                         name        category  \\\n",
       "ID                                                                              \n",
       "1000002330                    The Songs of Adelaide & Abullah          Poetry   \n",
       "1000003930      Greeting From Earth: ZGAC Arts Capsule For ET  Narrative Film   \n",
       "1000004038                                     Where is Hank?  Narrative Film   \n",
       "1000007540  ToshiCapital Rekordz Needs Help to Complete Album           Music   \n",
       "1000014025                               Monarch Espresso Bar     Restaurants   \n",
       "\n",
       "           main_category currency   deadline     goal            launched  \\\n",
       "ID                                                                          \n",
       "1000002330    Publishing      GBP 2015-10-09   1000.0 2015-08-11 12:12:28   \n",
       "1000003930  Film & Video      USD 2017-11-01  30000.0 2017-09-02 04:43:57   \n",
       "1000004038  Film & Video      USD 2013-02-26  45000.0 2013-01-12 00:20:50   \n",
       "1000007540         Music      USD 2012-04-16   5000.0 2012-03-17 03:24:11   \n",
       "1000014025          Food      USD 2016-04-01  50000.0 2016-02-26 13:38:27   \n",
       "\n",
       "            pledged  backers country  usd pledged  usd_pledged_real  \\\n",
       "ID                                                                    \n",
       "1000002330      0.0        0      GB          0.0               0.0   \n",
       "1000003930   2421.0       15      US        100.0            2421.0   \n",
       "1000004038    220.0        3      US        220.0             220.0   \n",
       "1000007540      1.0        1      US          1.0               1.0   \n",
       "1000014025  52375.0      224      US      52375.0           52375.0   \n",
       "\n",
       "            usd_goal_real  state_successful  Days to deadline  \n",
       "ID                                                             \n",
       "1000002330        1533.95                 0                58  \n",
       "1000003930       30000.00                 0                59  \n",
       "1000004038       45000.00                 0                44  \n",
       "1000007540        5000.00                 0                29  \n",
       "1000014025       50000.00                 1                34  "
      ]
     },
     "execution_count": 34,
     "metadata": {},
     "output_type": "execute_result"
    }
   ],
   "source": [
    "df.head()"
   ]
  },
  {
   "cell_type": "code",
   "execution_count": 35,
   "metadata": {},
   "outputs": [],
   "source": [
    "df = df[df['backers'] < np.quantile(df['backers'],0.98)]"
   ]
  },
  {
   "cell_type": "code",
   "execution_count": 36,
   "metadata": {},
   "outputs": [
    {
     "data": {
      "text/plain": [
       "count    324831.000000\n",
       "mean         57.207332\n",
       "std         113.427217\n",
       "min           0.000000\n",
       "25%           2.000000\n",
       "50%          14.000000\n",
       "75%          58.000000\n",
       "max         908.000000\n",
       "Name: backers, dtype: float64"
      ]
     },
     "execution_count": 36,
     "metadata": {},
     "output_type": "execute_result"
    }
   ],
   "source": [
    "df['backers'].describe()"
   ]
  },
  {
   "cell_type": "code",
   "execution_count": 37,
   "metadata": {},
   "outputs": [
    {
     "data": {
      "text/plain": [
       "<matplotlib.axes._subplots.AxesSubplot at 0x126c3e2a130>"
      ]
     },
     "execution_count": 37,
     "metadata": {},
     "output_type": "execute_result"
    },
    {
     "data": {
      "image/png": "[encoded data removed]",
      "text/plain": [
       "<Figure size 432x288 with 1 Axes>"
      ]
     },
     "metadata": {
      "needs_background": "light"
     },
     "output_type": "display_data"
    }
   ],
   "source": [
    "sns.distplot(df['backers'])"
   ]
  },
  {
   "cell_type": "code",
   "execution_count": 38,
   "metadata": {},
   "outputs": [
    {
     "data": {
      "text/plain": [
       "<matplotlib.axes._subplots.AxesSubplot at 0x126c40ecc10>"
      ]
     },
     "execution_count": 38,
     "metadata": {},
     "output_type": "execute_result"
    },
    {
     "data": {
      "image/png": "[encoded data removed]",
      "text/plain": [
       "<Figure size 432x288 with 1 Axes>"
      ]
     },
     "metadata": {
      "needs_background": "light"
     },
     "output_type": "display_data"
    }
   ],
   "source": [
    "sns.boxplot(df['backers'])"
   ]
  },
  {
   "cell_type": "code",
   "execution_count": 39,
   "metadata": {},
   "outputs": [],
   "source": [
    "# Distribution still looks very skewed, but at least it's not as extreme as before"
   ]
  },
  {
   "cell_type": "code",
   "execution_count": 40,
   "metadata": {},
   "outputs": [
    {
     "data": {
      "text/plain": [
       "count    3.248310e+05\n",
       "mean     4.110891e+04\n",
       "std      1.119136e+06\n",
       "min      1.000000e-02\n",
       "25%      2.000000e+03\n",
       "50%      5.000000e+03\n",
       "75%      1.500000e+04\n",
       "max      1.663614e+08\n",
       "Name: usd_goal_real, dtype: float64"
      ]
     },
     "execution_count": 40,
     "metadata": {},
     "output_type": "execute_result"
    }
   ],
   "source": [
    "df['usd_goal_real'].describe()"
   ]
  },
  {
   "cell_type": "code",
   "execution_count": 41,
   "metadata": {},
   "outputs": [
    {
     "data": {
      "text/plain": [
       "<matplotlib.axes._subplots.AxesSubplot at 0x126c42f05e0>"
      ]
     },
     "execution_count": 41,
     "metadata": {},
     "output_type": "execute_result"
    },
    {
     "data": {
      "image/png": "[encoded data removed]",
      "text/plain": [
       "<Figure size 432x288 with 1 Axes>"
      ]
     },
     "metadata": {
      "needs_background": "light"
     },
     "output_type": "display_data"
    }
   ],
   "source": [
    "sns.distplot(df['usd_goal_real'])"
   ]
  },
  {
   "cell_type": "code",
   "execution_count": 42,
   "metadata": {},
   "outputs": [],
   "source": [
    "#Remove both top and bottom 1 percentile: \n",
    "\n",
    "df = df[\n",
    "         (df['usd_goal_real'] > np.quantile(df['usd_goal_real'],0.01)) & \n",
    "         (df['usd_goal_real'] < np.quantile(df['usd_goal_real'],0.99))\n",
    "                        ]"
   ]
  },
  {
   "cell_type": "code",
   "execution_count": 43,
   "metadata": {},
   "outputs": [
    {
     "data": {
      "text/plain": [
       "<matplotlib.axes._subplots.AxesSubplot at 0x126c43df880>"
      ]
     },
     "execution_count": 43,
     "metadata": {},
     "output_type": "execute_result"
    },
    {
     "data": {
      "image/png": "[encoded data removed]",
      "text/plain": [
       "<Figure size 432x288 with 1 Axes>"
      ]
     },
     "metadata": {
      "needs_background": "light"
     },
     "output_type": "display_data"
    }
   ],
   "source": [
    "sns.distplot(df['usd_goal_real'])"
   ]
  },
  {
   "cell_type": "code",
   "execution_count": 44,
   "metadata": {},
   "outputs": [
    {
     "data": {
      "text/plain": [
       "Index(['name', 'category', 'main_category', 'currency', 'deadline', 'goal',\n",
       "       'launched', 'pledged', 'backers', 'country', 'usd pledged',\n",
       "       'usd_pledged_real', 'usd_goal_real', 'state_successful',\n",
       "       'Days to deadline'],\n",
       "      dtype='object')"
      ]
     },
     "execution_count": 44,
     "metadata": {},
     "output_type": "execute_result"
    }
   ],
   "source": [
    "df.columns"
   ]
  },
  {
   "cell_type": "code",
   "execution_count": 45,
   "metadata": {},
   "outputs": [
    {
     "name": "stdout",
     "output_type": "stream",
     "text": [
      "<class 'pandas.core.frame.DataFrame'>\n",
      "Int64Index: 318322 entries, 1000002330 to 999988282\n",
      "Data columns (total 15 columns):\n",
      " #   Column            Non-Null Count   Dtype         \n",
      "---  ------            --------------   -----         \n",
      " 0   name              318322 non-null  object        \n",
      " 1   category          318322 non-null  object        \n",
      " 2   main_category     318322 non-null  object        \n",
      " 3   currency          318322 non-null  object        \n",
      " 4   deadline          318322 non-null  datetime64[ns]\n",
      " 5   goal              318322 non-null  float64       \n",
      " 6   launched          318322 non-null  datetime64[ns]\n",
      " 7   pledged           318322 non-null  float64       \n",
      " 8   backers           318322 non-null  int64         \n",
      " 9   country           318322 non-null  object        \n",
      " 10  usd pledged       318322 non-null  float64       \n",
      " 11  usd_pledged_real  318322 non-null  float64       \n",
      " 12  usd_goal_real     318322 non-null  float64       \n",
      " 13  state_successful  318322 non-null  uint8         \n",
      " 14  Days to deadline  318322 non-null  int64         \n",
      "dtypes: datetime64[ns](2), float64(5), int64(2), object(5), uint8(1)\n",
      "memory usage: 36.7+ MB\n"
     ]
    }
   ],
   "source": [
    "df.info()"
   ]
  },
  {
   "cell_type": "markdown",
   "metadata": {},
   "source": [
    "### Checking 'usd_pledged_real':"
   ]
  },
  {
   "cell_type": "code",
   "execution_count": 46,
   "metadata": {},
   "outputs": [
    {
     "data": {
      "image/png": "[encoded data removed]",
      "text/plain": [
       "<Figure size 432x288 with 1 Axes>"
      ]
     },
     "metadata": {
      "needs_background": "light"
     },
     "output_type": "display_data"
    }
   ],
   "source": [
    "sns.distplot(df['usd_pledged_real'])\n",
    "\n",
    "plt.show()"
   ]
  },
  {
   "cell_type": "code",
   "execution_count": 47,
   "metadata": {},
   "outputs": [],
   "source": [
    "#Removing top 2 percentiles again:\n",
    "\n",
    "df = df[df['usd_pledged_real'] < np.quantile(df['usd_pledged_real'], 0.98)]"
   ]
  },
  {
   "cell_type": "code",
   "execution_count": 48,
   "metadata": {},
   "outputs": [
    {
     "data": {
      "image/png": "[encoded data removed]",
      "text/plain": [
       "<Figure size 432x288 with 1 Axes>"
      ]
     },
     "metadata": {
      "needs_background": "light"
     },
     "output_type": "display_data"
    }
   ],
   "source": [
    "#Check again:\n",
    "\n",
    "sns.distplot(df['usd_pledged_real'])\n",
    "\n",
    "plt.show()"
   ]
  },
  {
   "cell_type": "markdown",
   "metadata": {},
   "source": [
    "### Checking 'country':"
   ]
  },
  {
   "cell_type": "code",
   "execution_count": 49,
   "metadata": {},
   "outputs": [
    {
     "data": {
      "text/plain": [
       "<matplotlib.axes._subplots.AxesSubplot at 0x126c43c59a0>"
      ]
     },
     "execution_count": 49,
     "metadata": {},
     "output_type": "execute_result"
    },
    {
     "data": {
      "image/png": "[encoded data removed]",
      "text/plain": [
       "<Figure size 432x288 with 1 Axes>"
      ]
     },
     "metadata": {
      "needs_background": "light"
     },
     "output_type": "display_data"
    }
   ],
   "source": [
    "sns.countplot(df['country'])"
   ]
  },
  {
   "cell_type": "code",
   "execution_count": 50,
   "metadata": {},
   "outputs": [
    {
     "data": {
      "text/plain": [
       "US    246241\n",
       "GB     27811\n",
       "CA     11550\n",
       "AU      6199\n",
       "DE      3187\n",
       "FR      2300\n",
       "IT      2241\n",
       "NL      2237\n",
       "ES      1748\n",
       "SE      1395\n",
       "MX      1380\n",
       "NZ      1203\n",
       "DK       860\n",
       "IE       643\n",
       "CH       569\n",
       "NO       549\n",
       "BE       488\n",
       "AT       448\n",
       "HK       421\n",
       "SG       408\n",
       "LU        54\n",
       "JP        23\n",
       "Name: country, dtype: int64"
      ]
     },
     "execution_count": 50,
     "metadata": {},
     "output_type": "execute_result"
    }
   ],
   "source": [
    "df['country'].value_counts()"
   ]
  },
  {
   "cell_type": "code",
   "execution_count": 51,
   "metadata": {},
   "outputs": [],
   "source": [
    "#It seems like most of the projects come from the US\n",
    "#Still a decent number coming from other countries except JP and LU, so I will drop those"
   ]
  },
  {
   "cell_type": "code",
   "execution_count": 52,
   "metadata": {},
   "outputs": [],
   "source": [
    "df = df[~df['country'].isin(['LU','JP'])]"
   ]
  },
  {
   "cell_type": "markdown",
   "metadata": {},
   "source": [
    "# Step 2.5: Scaling data"
   ]
  },
  {
   "cell_type": "code",
   "execution_count": 53,
   "metadata": {},
   "outputs": [
    {
     "name": "stdout",
     "output_type": "stream",
     "text": [
      "<class 'pandas.core.frame.DataFrame'>\n",
      "Int64Index: 311878 entries, 1000002330 to 999988282\n",
      "Data columns (total 15 columns):\n",
      " #   Column            Non-Null Count   Dtype         \n",
      "---  ------            --------------   -----         \n",
      " 0   name              311878 non-null  object        \n",
      " 1   category          311878 non-null  object        \n",
      " 2   main_category     311878 non-null  object        \n",
      " 3   currency          311878 non-null  object        \n",
      " 4   deadline          311878 non-null  datetime64[ns]\n",
      " 5   goal              311878 non-null  float64       \n",
      " 6   launched          311878 non-null  datetime64[ns]\n",
      " 7   pledged           311878 non-null  float64       \n",
      " 8   backers           311878 non-null  int64         \n",
      " 9   country           311878 non-null  object        \n",
      " 10  usd pledged       311878 non-null  float64       \n",
      " 11  usd_pledged_real  311878 non-null  float64       \n",
      " 12  usd_goal_real     311878 non-null  float64       \n",
      " 13  state_successful  311878 non-null  uint8         \n",
      " 14  Days to deadline  311878 non-null  int64         \n",
      "dtypes: datetime64[ns](2), float64(5), int64(2), object(5), uint8(1)\n",
      "memory usage: 36.0+ MB\n"
     ]
    }
   ],
   "source": [
    "df.info()"
   ]
  },
  {
   "cell_type": "code",
   "execution_count": 54,
   "metadata": {},
   "outputs": [],
   "source": [
    "#Reset indexes to prevent some future issues with concatenation:\n",
    "\n",
    "X = df[['main_category','Days to deadline','usd_goal_real','backers','country']].reset_index(drop = True)\n",
    "y = df['state_successful'].reset_index(drop = True)"
   ]
  },
  {
   "cell_type": "code",
   "execution_count": 55,
   "metadata": {},
   "outputs": [],
   "source": [
    "#We use a robust scaler because most of our variables are pretty skewed\n",
    "\n",
    "from sklearn.preprocessing import RobustScaler\n",
    "\n",
    "scaler = RobustScaler()\n",
    "\n",
    "X_numerical = X.drop(['main_category','country'], axis = 1)\n",
    "\n",
    "scaler.fit(X_numerical)\n",
    "\n",
    "scaled_X = scaler.transform(X_numerical)\n",
    "\n",
    "scaled_X = pd.DataFrame(scaled_X, columns = X_numerical.columns)"
   ]
  },
  {
   "cell_type": "code",
   "execution_count": 56,
   "metadata": {},
   "outputs": [
    {
     "data": {
      "text/html": [
       "<div>\n",
       "<style scoped>\n",
       "    .dataframe tbody tr th:only-of-type {\n",
       "        vertical-align: middle;\n",
       "    }\n",
       "\n",
       "    .dataframe tbody tr th {\n",
       "        vertical-align: top;\n",
       "    }\n",
       "\n",
       "    .dataframe thead th {\n",
       "        text-align: right;\n",
       "    }\n",
       "</style>\n",
       "<table border=\"1\" class=\"dataframe\">\n",
       "  <thead>\n",
       "    <tr style=\"text-align: right;\">\n",
       "      <th></th>\n",
       "      <th>main_category</th>\n",
       "      <th>Days to deadline</th>\n",
       "      <th>usd_goal_real</th>\n",
       "      <th>backers</th>\n",
       "      <th>country</th>\n",
       "    </tr>\n",
       "  </thead>\n",
       "  <tbody>\n",
       "    <tr>\n",
       "      <th>0</th>\n",
       "      <td>Publishing</td>\n",
       "      <td>58</td>\n",
       "      <td>1533.95</td>\n",
       "      <td>0</td>\n",
       "      <td>GB</td>\n",
       "    </tr>\n",
       "    <tr>\n",
       "      <th>1</th>\n",
       "      <td>Film &amp; Video</td>\n",
       "      <td>59</td>\n",
       "      <td>30000.00</td>\n",
       "      <td>15</td>\n",
       "      <td>US</td>\n",
       "    </tr>\n",
       "    <tr>\n",
       "      <th>2</th>\n",
       "      <td>Film &amp; Video</td>\n",
       "      <td>44</td>\n",
       "      <td>45000.00</td>\n",
       "      <td>3</td>\n",
       "      <td>US</td>\n",
       "    </tr>\n",
       "    <tr>\n",
       "      <th>3</th>\n",
       "      <td>Music</td>\n",
       "      <td>29</td>\n",
       "      <td>5000.00</td>\n",
       "      <td>1</td>\n",
       "      <td>US</td>\n",
       "    </tr>\n",
       "    <tr>\n",
       "      <th>4</th>\n",
       "      <td>Food</td>\n",
       "      <td>19</td>\n",
       "      <td>1000.00</td>\n",
       "      <td>16</td>\n",
       "      <td>US</td>\n",
       "    </tr>\n",
       "  </tbody>\n",
       "</table>\n",
       "</div>"
      ],
      "text/plain": [
       "  main_category  Days to deadline  usd_goal_real  backers country\n",
       "0    Publishing                58        1533.95        0      GB\n",
       "1  Film & Video                59       30000.00       15      US\n",
       "2  Film & Video                44       45000.00        3      US\n",
       "3         Music                29        5000.00        1      US\n",
       "4          Food                19        1000.00       16      US"
      ]
     },
     "execution_count": 56,
     "metadata": {},
     "output_type": "execute_result"
    }
   ],
   "source": [
    "X.head()"
   ]
  },
  {
   "cell_type": "code",
   "execution_count": 57,
   "metadata": {},
   "outputs": [
    {
     "data": {
      "text/html": [
       "<div>\n",
       "<style scoped>\n",
       "    .dataframe tbody tr th:only-of-type {\n",
       "        vertical-align: middle;\n",
       "    }\n",
       "\n",
       "    .dataframe tbody tr th {\n",
       "        vertical-align: top;\n",
       "    }\n",
       "\n",
       "    .dataframe thead th {\n",
       "        text-align: right;\n",
       "    }\n",
       "</style>\n",
       "<table border=\"1\" class=\"dataframe\">\n",
       "  <thead>\n",
       "    <tr style=\"text-align: right;\">\n",
       "      <th></th>\n",
       "      <th>main_category</th>\n",
       "      <th>country</th>\n",
       "    </tr>\n",
       "  </thead>\n",
       "  <tbody>\n",
       "    <tr>\n",
       "      <th>0</th>\n",
       "      <td>Publishing</td>\n",
       "      <td>GB</td>\n",
       "    </tr>\n",
       "    <tr>\n",
       "      <th>1</th>\n",
       "      <td>Film &amp; Video</td>\n",
       "      <td>US</td>\n",
       "    </tr>\n",
       "    <tr>\n",
       "      <th>2</th>\n",
       "      <td>Film &amp; Video</td>\n",
       "      <td>US</td>\n",
       "    </tr>\n",
       "    <tr>\n",
       "      <th>3</th>\n",
       "      <td>Music</td>\n",
       "      <td>US</td>\n",
       "    </tr>\n",
       "    <tr>\n",
       "      <th>4</th>\n",
       "      <td>Food</td>\n",
       "      <td>US</td>\n",
       "    </tr>\n",
       "    <tr>\n",
       "      <th>...</th>\n",
       "      <td>...</td>\n",
       "      <td>...</td>\n",
       "    </tr>\n",
       "    <tr>\n",
       "      <th>311873</th>\n",
       "      <td>Food</td>\n",
       "      <td>US</td>\n",
       "    </tr>\n",
       "    <tr>\n",
       "      <th>311874</th>\n",
       "      <td>Film &amp; Video</td>\n",
       "      <td>US</td>\n",
       "    </tr>\n",
       "    <tr>\n",
       "      <th>311875</th>\n",
       "      <td>Film &amp; Video</td>\n",
       "      <td>US</td>\n",
       "    </tr>\n",
       "    <tr>\n",
       "      <th>311876</th>\n",
       "      <td>Technology</td>\n",
       "      <td>US</td>\n",
       "    </tr>\n",
       "    <tr>\n",
       "      <th>311877</th>\n",
       "      <td>Art</td>\n",
       "      <td>US</td>\n",
       "    </tr>\n",
       "  </tbody>\n",
       "</table>\n",
       "<p>311878 rows × 2 columns</p>\n",
       "</div>"
      ],
      "text/plain": [
       "       main_category country\n",
       "0         Publishing      GB\n",
       "1       Film & Video      US\n",
       "2       Film & Video      US\n",
       "3              Music      US\n",
       "4               Food      US\n",
       "...              ...     ...\n",
       "311873          Food      US\n",
       "311874  Film & Video      US\n",
       "311875  Film & Video      US\n",
       "311876    Technology      US\n",
       "311877           Art      US\n",
       "\n",
       "[311878 rows x 2 columns]"
      ]
     },
     "execution_count": 57,
     "metadata": {},
     "output_type": "execute_result"
    }
   ],
   "source": [
    "X[['main_category','country']]"
   ]
  },
  {
   "cell_type": "code",
   "execution_count": 58,
   "metadata": {},
   "outputs": [
    {
     "data": {
      "text/html": [
       "<div>\n",
       "<style scoped>\n",
       "    .dataframe tbody tr th:only-of-type {\n",
       "        vertical-align: middle;\n",
       "    }\n",
       "\n",
       "    .dataframe tbody tr th {\n",
       "        vertical-align: top;\n",
       "    }\n",
       "\n",
       "    .dataframe thead th {\n",
       "        text-align: right;\n",
       "    }\n",
       "</style>\n",
       "<table border=\"1\" class=\"dataframe\">\n",
       "  <thead>\n",
       "    <tr style=\"text-align: right;\">\n",
       "      <th></th>\n",
       "      <th>Days to deadline</th>\n",
       "      <th>usd_goal_real</th>\n",
       "      <th>backers</th>\n",
       "      <th>main_category</th>\n",
       "      <th>country</th>\n",
       "    </tr>\n",
       "  </thead>\n",
       "  <tbody>\n",
       "    <tr>\n",
       "      <th>0</th>\n",
       "      <td>4.833333</td>\n",
       "      <td>-0.296407</td>\n",
       "      <td>-0.264151</td>\n",
       "      <td>Publishing</td>\n",
       "      <td>GB</td>\n",
       "    </tr>\n",
       "    <tr>\n",
       "      <th>1</th>\n",
       "      <td>5.000000</td>\n",
       "      <td>2.137933</td>\n",
       "      <td>0.018868</td>\n",
       "      <td>Film &amp; Video</td>\n",
       "      <td>US</td>\n",
       "    </tr>\n",
       "    <tr>\n",
       "      <th>2</th>\n",
       "      <td>2.500000</td>\n",
       "      <td>3.420694</td>\n",
       "      <td>-0.207547</td>\n",
       "      <td>Film &amp; Video</td>\n",
       "      <td>US</td>\n",
       "    </tr>\n",
       "    <tr>\n",
       "      <th>3</th>\n",
       "      <td>0.000000</td>\n",
       "      <td>0.000000</td>\n",
       "      <td>-0.245283</td>\n",
       "      <td>Music</td>\n",
       "      <td>US</td>\n",
       "    </tr>\n",
       "    <tr>\n",
       "      <th>4</th>\n",
       "      <td>-1.666667</td>\n",
       "      <td>-0.342069</td>\n",
       "      <td>0.037736</td>\n",
       "      <td>Food</td>\n",
       "      <td>US</td>\n",
       "    </tr>\n",
       "  </tbody>\n",
       "</table>\n",
       "</div>"
      ],
      "text/plain": [
       "   Days to deadline  usd_goal_real   backers main_category country\n",
       "0          4.833333      -0.296407 -0.264151    Publishing      GB\n",
       "1          5.000000       2.137933  0.018868  Film & Video      US\n",
       "2          2.500000       3.420694 -0.207547  Film & Video      US\n",
       "3          0.000000       0.000000 -0.245283         Music      US\n",
       "4         -1.666667      -0.342069  0.037736          Food      US"
      ]
     },
     "execution_count": 58,
     "metadata": {},
     "output_type": "execute_result"
    }
   ],
   "source": [
    "#After data scaling:\n",
    "\n",
    "X = pd.concat([scaled_X, X[['main_category','country']]],\n",
    "               join = 'outer', \n",
    "               axis = 1\n",
    "             )\n",
    "\n",
    "X.head()"
   ]
  },
  {
   "cell_type": "code",
   "execution_count": 59,
   "metadata": {},
   "outputs": [
    {
     "data": {
      "text/plain": [
       "(311878, 5)"
      ]
     },
     "execution_count": 59,
     "metadata": {},
     "output_type": "execute_result"
    }
   ],
   "source": [
    "#Double check the shape:\n",
    "\n",
    "X.shape"
   ]
  },
  {
   "cell_type": "markdown",
   "metadata": {},
   "source": [
    "### Variables picked as features so far:\n",
    "\n",
    "Main category of project\n",
    "\n",
    "Country of project origin\n",
    "\n",
    "Combining launch date and deadline into 'Time before deadline'\n",
    "\n",
    "Project goal measured in real USD value\n",
    "\n",
    "No. of backers (Useful to provide an estimate of how many backers is needed to be successful)\n",
    "\n",
    "### Variables not picked:\n",
    "\n",
    "Total amount pledged measured in real USD value will not be used as this information wouldn't be available at project launch, and also estimating it is pointless as estimating a value below the goal would mean the project shouldn't succeed anyway"
   ]
  },
  {
   "cell_type": "markdown",
   "metadata": {},
   "source": [
    "# Step 2.5: PCA and Creating clusters"
   ]
  },
  {
   "cell_type": "markdown",
   "metadata": {},
   "source": [
    "### Looking for patterns by creating clusters based on numeric data (K-Means):"
   ]
  },
  {
   "cell_type": "code",
   "execution_count": 60,
   "metadata": {},
   "outputs": [],
   "source": [
    "#Attempting to obtain optimal no. of clusters k:\n",
    "\n",
    "from sklearn.cluster import KMeans\n",
    "\n",
    "inertias = []\n",
    "\n",
    "for k in range(3,10):\n",
    "    kmeans = KMeans(n_clusters = k)\n",
    "    kmeans.fit(scaled_X)\n",
    "    inertias.append(kmeans.inertia_)\n",
    "    "
   ]
  },
  {
   "cell_type": "code",
   "execution_count": 61,
   "metadata": {},
   "outputs": [
    {
     "data": {
      "image/png": "[encoded data removed]",
      "text/plain": [
       "<Figure size 1080x360 with 1 Axes>"
      ]
     },
     "metadata": {
      "needs_background": "light"
     },
     "output_type": "display_data"
    }
   ],
   "source": [
    "#Plot an inertia vs k graph to visualize the 'elbow':\n",
    "\n",
    "plt.figure(figsize = (15,5))\n",
    "\n",
    "sns.lineplot(x = range(3,10),\n",
    "             y = inertias)\n",
    "\n",
    "plt.title('Total variance (inertia) against k')\n",
    "plt.show()"
   ]
  },
  {
   "cell_type": "code",
   "execution_count": 62,
   "metadata": {},
   "outputs": [],
   "source": [
    "#Graph appears to have elbow at k=4, so I will choose that value for the clustering:\n",
    "\n",
    "kmeans = KMeans(n_clusters = 4)\n",
    "\n",
    "kmeans_predictions = kmeans.fit_predict(scaled_X)\n",
    "\n",
    "#Add cluster to features table\n",
    "\n",
    "X['Cluster (k=4)'] = kmeans_predictions"
   ]
  },
  {
   "cell_type": "code",
   "execution_count": 63,
   "metadata": {},
   "outputs": [
    {
     "data": {
      "text/html": [
       "<div>\n",
       "<style scoped>\n",
       "    .dataframe tbody tr th:only-of-type {\n",
       "        vertical-align: middle;\n",
       "    }\n",
       "\n",
       "    .dataframe tbody tr th {\n",
       "        vertical-align: top;\n",
       "    }\n",
       "\n",
       "    .dataframe thead th {\n",
       "        text-align: right;\n",
       "    }\n",
       "</style>\n",
       "<table border=\"1\" class=\"dataframe\">\n",
       "  <thead>\n",
       "    <tr style=\"text-align: right;\">\n",
       "      <th></th>\n",
       "      <th>Days to deadline</th>\n",
       "      <th>usd_goal_real</th>\n",
       "      <th>backers</th>\n",
       "      <th>main_category</th>\n",
       "      <th>country</th>\n",
       "      <th>Cluster (k=4)</th>\n",
       "    </tr>\n",
       "  </thead>\n",
       "  <tbody>\n",
       "    <tr>\n",
       "      <th>0</th>\n",
       "      <td>4.833333</td>\n",
       "      <td>-0.296407</td>\n",
       "      <td>-0.264151</td>\n",
       "      <td>Publishing</td>\n",
       "      <td>GB</td>\n",
       "      <td>1</td>\n",
       "    </tr>\n",
       "    <tr>\n",
       "      <th>1</th>\n",
       "      <td>5.000000</td>\n",
       "      <td>2.137933</td>\n",
       "      <td>0.018868</td>\n",
       "      <td>Film &amp; Video</td>\n",
       "      <td>US</td>\n",
       "      <td>1</td>\n",
       "    </tr>\n",
       "    <tr>\n",
       "      <th>2</th>\n",
       "      <td>2.500000</td>\n",
       "      <td>3.420694</td>\n",
       "      <td>-0.207547</td>\n",
       "      <td>Film &amp; Video</td>\n",
       "      <td>US</td>\n",
       "      <td>1</td>\n",
       "    </tr>\n",
       "    <tr>\n",
       "      <th>3</th>\n",
       "      <td>0.000000</td>\n",
       "      <td>0.000000</td>\n",
       "      <td>-0.245283</td>\n",
       "      <td>Music</td>\n",
       "      <td>US</td>\n",
       "      <td>0</td>\n",
       "    </tr>\n",
       "    <tr>\n",
       "      <th>4</th>\n",
       "      <td>-1.666667</td>\n",
       "      <td>-0.342069</td>\n",
       "      <td>0.037736</td>\n",
       "      <td>Food</td>\n",
       "      <td>US</td>\n",
       "      <td>0</td>\n",
       "    </tr>\n",
       "  </tbody>\n",
       "</table>\n",
       "</div>"
      ],
      "text/plain": [
       "   Days to deadline  usd_goal_real   backers main_category country  \\\n",
       "0          4.833333      -0.296407 -0.264151    Publishing      GB   \n",
       "1          5.000000       2.137933  0.018868  Film & Video      US   \n",
       "2          2.500000       3.420694 -0.207547  Film & Video      US   \n",
       "3          0.000000       0.000000 -0.245283         Music      US   \n",
       "4         -1.666667      -0.342069  0.037736          Food      US   \n",
       "\n",
       "   Cluster (k=4)  \n",
       "0              1  \n",
       "1              1  \n",
       "2              1  \n",
       "3              0  \n",
       "4              0  "
      ]
     },
     "execution_count": 63,
     "metadata": {},
     "output_type": "execute_result"
    }
   ],
   "source": [
    "#Check that clusters are added:\n",
    "\n",
    "X.head()"
   ]
  },
  {
   "cell_type": "code",
   "execution_count": 64,
   "metadata": {},
   "outputs": [
    {
     "data": {
      "text/plain": [
       "0    226171\n",
       "1     55126\n",
       "2     19032\n",
       "3     11549\n",
       "Name: Cluster (k=4), dtype: int64"
      ]
     },
     "execution_count": 64,
     "metadata": {},
     "output_type": "execute_result"
    }
   ],
   "source": [
    "X['Cluster (k=4)'].value_counts()"
   ]
  },
  {
   "cell_type": "markdown",
   "metadata": {},
   "source": [
    "# Step 3: Implementing models"
   ]
  },
  {
   "cell_type": "markdown",
   "metadata": {},
   "source": [
    "### Before implementing models, we first encode the categorical variables:"
   ]
  },
  {
   "cell_type": "code",
   "execution_count": 65,
   "metadata": {},
   "outputs": [
    {
     "name": "stdout",
     "output_type": "stream",
     "text": [
      "For One-hot encoding:\n",
      "No. of rows: 311878\n",
      "No. of columns: 39\n"
     ]
    },
    {
     "data": {
      "text/html": [
       "<div>\n",
       "<style scoped>\n",
       "    .dataframe tbody tr th:only-of-type {\n",
       "        vertical-align: middle;\n",
       "    }\n",
       "\n",
       "    .dataframe tbody tr th {\n",
       "        vertical-align: top;\n",
       "    }\n",
       "\n",
       "    .dataframe thead th {\n",
       "        text-align: right;\n",
       "    }\n",
       "</style>\n",
       "<table border=\"1\" class=\"dataframe\">\n",
       "  <thead>\n",
       "    <tr style=\"text-align: right;\">\n",
       "      <th></th>\n",
       "      <th>Days to deadline</th>\n",
       "      <th>usd_goal_real</th>\n",
       "      <th>backers</th>\n",
       "      <th>Cluster (k=4)</th>\n",
       "      <th>main_category_Art</th>\n",
       "      <th>main_category_Comics</th>\n",
       "      <th>main_category_Crafts</th>\n",
       "      <th>main_category_Dance</th>\n",
       "      <th>main_category_Design</th>\n",
       "      <th>main_category_Fashion</th>\n",
       "      <th>...</th>\n",
       "      <th>country_HK</th>\n",
       "      <th>country_IE</th>\n",
       "      <th>country_IT</th>\n",
       "      <th>country_MX</th>\n",
       "      <th>country_NL</th>\n",
       "      <th>country_NO</th>\n",
       "      <th>country_NZ</th>\n",
       "      <th>country_SE</th>\n",
       "      <th>country_SG</th>\n",
       "      <th>country_US</th>\n",
       "    </tr>\n",
       "  </thead>\n",
       "  <tbody>\n",
       "    <tr>\n",
       "      <th>0</th>\n",
       "      <td>4.833333</td>\n",
       "      <td>-0.296407</td>\n",
       "      <td>-0.264151</td>\n",
       "      <td>1</td>\n",
       "      <td>0</td>\n",
       "      <td>0</td>\n",
       "      <td>0</td>\n",
       "      <td>0</td>\n",
       "      <td>0</td>\n",
       "      <td>0</td>\n",
       "      <td>...</td>\n",
       "      <td>0</td>\n",
       "      <td>0</td>\n",
       "      <td>0</td>\n",
       "      <td>0</td>\n",
       "      <td>0</td>\n",
       "      <td>0</td>\n",
       "      <td>0</td>\n",
       "      <td>0</td>\n",
       "      <td>0</td>\n",
       "      <td>0</td>\n",
       "    </tr>\n",
       "  </tbody>\n",
       "</table>\n",
       "<p>1 rows × 39 columns</p>\n",
       "</div>"
      ],
      "text/plain": [
       "   Days to deadline  usd_goal_real   backers  Cluster (k=4)  \\\n",
       "0          4.833333      -0.296407 -0.264151              1   \n",
       "\n",
       "   main_category_Art  main_category_Comics  main_category_Crafts  \\\n",
       "0                  0                     0                     0   \n",
       "\n",
       "   main_category_Dance  main_category_Design  main_category_Fashion  ...  \\\n",
       "0                    0                     0                      0  ...   \n",
       "\n",
       "   country_HK  country_IE  country_IT  country_MX  country_NL  country_NO  \\\n",
       "0           0           0           0           0           0           0   \n",
       "\n",
       "   country_NZ  country_SE  country_SG  country_US  \n",
       "0           0           0           0           0  \n",
       "\n",
       "[1 rows x 39 columns]"
      ]
     },
     "execution_count": 65,
     "metadata": {},
     "output_type": "execute_result"
    }
   ],
   "source": [
    "#Using get_dummies would use One-hot encoding, but with high cardinality the data would end up with a high dimension\n",
    "\n",
    "print('For One-hot encoding:')\n",
    "print('No. of rows:', pd.get_dummies(X).shape[0])\n",
    "print('No. of columns:', pd.get_dummies(X).shape[1])\n",
    "\n",
    "pd.get_dummies(X).head(1)"
   ]
  },
  {
   "cell_type": "code",
   "execution_count": 66,
   "metadata": {},
   "outputs": [
    {
     "name": "stdout",
     "output_type": "stream",
     "text": [
      "For binary encoding:\n",
      "No. of rows: 311878\n",
      "No. of columns: 17\n"
     ]
    },
    {
     "data": {
      "text/html": [
       "<div>\n",
       "<style scoped>\n",
       "    .dataframe tbody tr th:only-of-type {\n",
       "        vertical-align: middle;\n",
       "    }\n",
       "\n",
       "    .dataframe tbody tr th {\n",
       "        vertical-align: top;\n",
       "    }\n",
       "\n",
       "    .dataframe thead th {\n",
       "        text-align: right;\n",
       "    }\n",
       "</style>\n",
       "<table border=\"1\" class=\"dataframe\">\n",
       "  <thead>\n",
       "    <tr style=\"text-align: right;\">\n",
       "      <th></th>\n",
       "      <th>Days to deadline</th>\n",
       "      <th>usd_goal_real</th>\n",
       "      <th>backers</th>\n",
       "      <th>main_category_0</th>\n",
       "      <th>main_category_1</th>\n",
       "      <th>main_category_2</th>\n",
       "      <th>main_category_3</th>\n",
       "      <th>main_category_4</th>\n",
       "      <th>country_0</th>\n",
       "      <th>country_1</th>\n",
       "      <th>country_2</th>\n",
       "      <th>country_3</th>\n",
       "      <th>country_4</th>\n",
       "      <th>country_5</th>\n",
       "      <th>Cluster (k=4)_0</th>\n",
       "      <th>Cluster (k=4)_1</th>\n",
       "      <th>Cluster (k=4)_2</th>\n",
       "    </tr>\n",
       "  </thead>\n",
       "  <tbody>\n",
       "    <tr>\n",
       "      <th>0</th>\n",
       "      <td>4.833333</td>\n",
       "      <td>-0.296407</td>\n",
       "      <td>-0.264151</td>\n",
       "      <td>0</td>\n",
       "      <td>0</td>\n",
       "      <td>0</td>\n",
       "      <td>0</td>\n",
       "      <td>1</td>\n",
       "      <td>0</td>\n",
       "      <td>0</td>\n",
       "      <td>0</td>\n",
       "      <td>0</td>\n",
       "      <td>0</td>\n",
       "      <td>1</td>\n",
       "      <td>0</td>\n",
       "      <td>0</td>\n",
       "      <td>1</td>\n",
       "    </tr>\n",
       "  </tbody>\n",
       "</table>\n",
       "</div>"
      ],
      "text/plain": [
       "   Days to deadline  usd_goal_real   backers  main_category_0  \\\n",
       "0          4.833333      -0.296407 -0.264151                0   \n",
       "\n",
       "   main_category_1  main_category_2  main_category_3  main_category_4  \\\n",
       "0                0                0                0                1   \n",
       "\n",
       "   country_0  country_1  country_2  country_3  country_4  country_5  \\\n",
       "0          0          0          0          0          0          1   \n",
       "\n",
       "   Cluster (k=4)_0  Cluster (k=4)_1  Cluster (k=4)_2  \n",
       "0                0                0                1  "
      ]
     },
     "execution_count": 66,
     "metadata": {},
     "output_type": "execute_result"
    }
   ],
   "source": [
    "#Using a binary encoder instead might help reduce the dimensionality\n",
    "#This involves converting to numerical labels, then converting the numbers into binary form\n",
    "\n",
    "import category_encoders as ce\n",
    "\n",
    "encoder = ce.BinaryEncoder(cols = ['main_category','country','Cluster (k=4)'])\n",
    "\n",
    "print('For binary encoding:')\n",
    "print('No. of rows:', encoder.fit_transform(X).shape[0])\n",
    "print('No. of columns:', encoder.fit_transform(X).shape[1])\n",
    "\n",
    "encoder.fit_transform(X).head(1)"
   ]
  },
  {
   "cell_type": "code",
   "execution_count": 67,
   "metadata": {},
   "outputs": [],
   "source": [
    "#Convert categorical variables using binary encoding:\n",
    "\n",
    "X = encoder.fit_transform(X)"
   ]
  },
  {
   "cell_type": "code",
   "execution_count": 68,
   "metadata": {},
   "outputs": [],
   "source": [
    "# Splitting the data:\n",
    "\n",
    "from sklearn.model_selection import train_test_split\n",
    "\n",
    "X_train, X_test, y_train, y_test = train_test_split(X, \n",
    "                                                    y, \n",
    "                                                    test_size=0.33, \n",
    "                                                    random_state=42)"
   ]
  },
  {
   "cell_type": "code",
   "execution_count": 69,
   "metadata": {},
   "outputs": [
    {
     "name": "stderr",
     "output_type": "stream",
     "text": [
      "D:\\Tools\\Anaconda\\lib\\site-packages\\sklearn\\linear_model\\_logistic.py:762: ConvergenceWarning: lbfgs failed to converge (status=1):\n",
      "STOP: TOTAL NO. of ITERATIONS REACHED LIMIT.\n",
      "\n",
      "Increase the number of iterations (max_iter) or scale the data as shown in:\n",
      "    https://scikit-learn.org/stable/modules/preprocessing.html\n",
      "Please also refer to the documentation for alternative solver options:\n",
      "    https://scikit-learn.org/stable/modules/linear_model.html#logistic-regression\n",
      "  n_iter_i = _check_optimize_result(\n",
      "D:\\Tools\\Anaconda\\lib\\site-packages\\sklearn\\linear_model\\_sag.py:329: ConvergenceWarning: The max_iter was reached which means the coef_ did not converge\n",
      "  warnings.warn(\"The max_iter was reached which means \"\n",
      "D:\\Tools\\Anaconda\\lib\\site-packages\\sklearn\\linear_model\\_sag.py:329: ConvergenceWarning: The max_iter was reached which means the coef_ did not converge\n",
      "  warnings.warn(\"The max_iter was reached which means \"\n",
      "D:\\Tools\\Anaconda\\lib\\site-packages\\sklearn\\linear_model\\_sag.py:329: ConvergenceWarning: The max_iter was reached which means the coef_ did not converge\n",
      "  warnings.warn(\"The max_iter was reached which means \"\n",
      "D:\\Tools\\Anaconda\\lib\\site-packages\\sklearn\\linear_model\\_sag.py:329: ConvergenceWarning: The max_iter was reached which means the coef_ did not converge\n",
      "  warnings.warn(\"The max_iter was reached which means \"\n",
      "D:\\Tools\\Anaconda\\lib\\site-packages\\sklearn\\linear_model\\_sag.py:329: ConvergenceWarning: The max_iter was reached which means the coef_ did not converge\n",
      "  warnings.warn(\"The max_iter was reached which means \"\n",
      "D:\\Tools\\Anaconda\\lib\\site-packages\\sklearn\\linear_model\\_logistic.py:762: ConvergenceWarning: lbfgs failed to converge (status=1):\n",
      "STOP: TOTAL NO. of ITERATIONS REACHED LIMIT.\n",
      "\n",
      "Increase the number of iterations (max_iter) or scale the data as shown in:\n",
      "    https://scikit-learn.org/stable/modules/preprocessing.html\n",
      "Please also refer to the documentation for alternative solver options:\n",
      "    https://scikit-learn.org/stable/modules/linear_model.html#logistic-regression\n",
      "  n_iter_i = _check_optimize_result(\n",
      "D:\\Tools\\Anaconda\\lib\\site-packages\\sklearn\\linear_model\\_logistic.py:762: ConvergenceWarning: lbfgs failed to converge (status=1):\n",
      "STOP: TOTAL NO. of ITERATIONS REACHED LIMIT.\n",
      "\n",
      "Increase the number of iterations (max_iter) or scale the data as shown in:\n",
      "    https://scikit-learn.org/stable/modules/preprocessing.html\n",
      "Please also refer to the documentation for alternative solver options:\n",
      "    https://scikit-learn.org/stable/modules/linear_model.html#logistic-regression\n",
      "  n_iter_i = _check_optimize_result(\n",
      "D:\\Tools\\Anaconda\\lib\\site-packages\\sklearn\\linear_model\\_sag.py:329: ConvergenceWarning: The max_iter was reached which means the coef_ did not converge\n",
      "  warnings.warn(\"The max_iter was reached which means \"\n",
      "D:\\Tools\\Anaconda\\lib\\site-packages\\sklearn\\linear_model\\_sag.py:329: ConvergenceWarning: The max_iter was reached which means the coef_ did not converge\n",
      "  warnings.warn(\"The max_iter was reached which means \"\n",
      "D:\\Tools\\Anaconda\\lib\\site-packages\\sklearn\\linear_model\\_sag.py:329: ConvergenceWarning: The max_iter was reached which means the coef_ did not converge\n",
      "  warnings.warn(\"The max_iter was reached which means \"\n",
      "D:\\Tools\\Anaconda\\lib\\site-packages\\sklearn\\linear_model\\_sag.py:329: ConvergenceWarning: The max_iter was reached which means the coef_ did not converge\n",
      "  warnings.warn(\"The max_iter was reached which means \"\n",
      "D:\\Tools\\Anaconda\\lib\\site-packages\\sklearn\\linear_model\\_sag.py:329: ConvergenceWarning: The max_iter was reached which means the coef_ did not converge\n",
      "  warnings.warn(\"The max_iter was reached which means \"\n",
      "D:\\Tools\\Anaconda\\lib\\site-packages\\sklearn\\linear_model\\_logistic.py:762: ConvergenceWarning: lbfgs failed to converge (status=1):\n",
      "STOP: TOTAL NO. of ITERATIONS REACHED LIMIT.\n",
      "\n",
      "Increase the number of iterations (max_iter) or scale the data as shown in:\n",
      "    https://scikit-learn.org/stable/modules/preprocessing.html\n",
      "Please also refer to the documentation for alternative solver options:\n",
      "    https://scikit-learn.org/stable/modules/linear_model.html#logistic-regression\n",
      "  n_iter_i = _check_optimize_result(\n",
      "D:\\Tools\\Anaconda\\lib\\site-packages\\sklearn\\linear_model\\_logistic.py:762: ConvergenceWarning: lbfgs failed to converge (status=1):\n",
      "STOP: TOTAL NO. of ITERATIONS REACHED LIMIT.\n",
      "\n",
      "Increase the number of iterations (max_iter) or scale the data as shown in:\n",
      "    https://scikit-learn.org/stable/modules/preprocessing.html\n",
      "Please also refer to the documentation for alternative solver options:\n",
      "    https://scikit-learn.org/stable/modules/linear_model.html#logistic-regression\n",
      "  n_iter_i = _check_optimize_result(\n",
      "D:\\Tools\\Anaconda\\lib\\site-packages\\sklearn\\linear_model\\_logistic.py:762: ConvergenceWarning: lbfgs failed to converge (status=1):\n",
      "STOP: TOTAL NO. of ITERATIONS REACHED LIMIT.\n",
      "\n",
      "Increase the number of iterations (max_iter) or scale the data as shown in:\n",
      "    https://scikit-learn.org/stable/modules/preprocessing.html\n",
      "Please also refer to the documentation for alternative solver options:\n",
      "    https://scikit-learn.org/stable/modules/linear_model.html#logistic-regression\n",
      "  n_iter_i = _check_optimize_result(\n",
      "D:\\Tools\\Anaconda\\lib\\site-packages\\sklearn\\linear_model\\_logistic.py:762: ConvergenceWarning: lbfgs failed to converge (status=1):\n",
      "STOP: TOTAL NO. of ITERATIONS REACHED LIMIT.\n",
      "\n",
      "Increase the number of iterations (max_iter) or scale the data as shown in:\n",
      "    https://scikit-learn.org/stable/modules/preprocessing.html\n",
      "Please also refer to the documentation for alternative solver options:\n",
      "    https://scikit-learn.org/stable/modules/linear_model.html#logistic-regression\n",
      "  n_iter_i = _check_optimize_result(\n",
      "D:\\Tools\\Anaconda\\lib\\site-packages\\sklearn\\linear_model\\_logistic.py:762: ConvergenceWarning: lbfgs failed to converge (status=1):\n",
      "STOP: TOTAL NO. of ITERATIONS REACHED LIMIT.\n",
      "\n",
      "Increase the number of iterations (max_iter) or scale the data as shown in:\n",
      "    https://scikit-learn.org/stable/modules/preprocessing.html\n",
      "Please also refer to the documentation for alternative solver options:\n",
      "    https://scikit-learn.org/stable/modules/linear_model.html#logistic-regression\n",
      "  n_iter_i = _check_optimize_result(\n"
     ]
    },
    {
     "name": "stdout",
     "output_type": "stream",
     "text": [
      "Wall time: 2min 11s\n"
     ]
    },
    {
     "name": "stderr",
     "output_type": "stream",
     "text": [
      "D:\\Tools\\Anaconda\\lib\\site-packages\\sklearn\\linear_model\\_sag.py:329: ConvergenceWarning: The max_iter was reached which means the coef_ did not converge\n",
      "  warnings.warn(\"The max_iter was reached which means \"\n"
     ]
    },
    {
     "data": {
      "text/plain": [
       "GridSearchCV(cv=5, estimator=LogisticRegression(),\n",
       "             param_grid={'C': [0.01, 0.1, 0.5, 1], 'solver': ['sag', 'lbfgs']})"
      ]
     },
     "execution_count": 69,
     "metadata": {},
     "output_type": "execute_result"
    }
   ],
   "source": [
    "%%time\n",
    "#Measure how long the model takes to fit\n",
    "\n",
    "#Try a Logistic Regression model:\n",
    "\n",
    "\n",
    "from sklearn.model_selection import GridSearchCV\n",
    "from sklearn.linear_model import LogisticRegression\n",
    "\n",
    "logmodel = GridSearchCV(estimator = LogisticRegression(),\n",
    "                        param_grid = {'solver':['sag','lbfgs'],\n",
    "                                      'C': [0.01,0.1,0.5,1]# Sag is gradient descent\n",
    "                                     },                         # Lbfgs calculates second derivatives without actually calculating it\n",
    "                        cv = 5 \n",
    "                       )\n",
    "logmodel.fit(X_train,y_train)\n"
   ]
  },
  {
   "cell_type": "code",
   "execution_count": 70,
   "metadata": {},
   "outputs": [
    {
     "name": "stdout",
     "output_type": "stream",
     "text": [
      "Best parameters for Logistic Regression: {'C': 1, 'solver': 'sag'}\n"
     ]
    }
   ],
   "source": [
    "print('Best parameters for Logistic Regression:', logmodel.best_params_)"
   ]
  },
  {
   "cell_type": "code",
   "execution_count": 71,
   "metadata": {},
   "outputs": [],
   "source": [
    "#Generate predictions:\n",
    "\n",
    "logmodel_predictions = logmodel.predict(X_test)"
   ]
  },
  {
   "cell_type": "code",
   "execution_count": null,
   "metadata": {},
   "outputs": [],
   "source": [
    "%%time\n",
    "#Try Support Vector Machines:\n",
    "\n",
    "from sklearn.svm import SVC\n",
    "\n",
    "svc = SVC().fit(X_train,y_train) #Can't use GridSearchCV, it takes a billion years\n",
    "\n",
    "#Generate predictions:\n",
    "\n",
    "svc_predictions = svc.predict(X_test)"
   ]
  },
  {
   "cell_type": "code",
   "execution_count": null,
   "metadata": {},
   "outputs": [],
   "source": [
    "%%time\n",
    "#Try decision tree:\n",
    "\n",
    "from sklearn.tree import DecisionTreeClassifier\n",
    "\n",
    "tree = GridSearchCV(estimator = DecisionTreeClassifier(),\n",
    "                    param_grid = {'criterion':[\"gini\", \"entropy\"],\n",
    "                                 },\n",
    "                    cv = 5 #Default 5-fold CV\n",
    "                   )\n",
    "tree.fit(X_train,y_train)"
   ]
  },
  {
   "cell_type": "code",
   "execution_count": null,
   "metadata": {},
   "outputs": [],
   "source": [
    "print('Criterion choice for decision tree:',tree.best_params_)"
   ]
  },
  {
   "cell_type": "code",
   "execution_count": null,
   "metadata": {},
   "outputs": [],
   "source": [
    "#Generate predictions:\n",
    "\n",
    "tree_predictions = tree.predict(X_test)"
   ]
  },
  {
   "cell_type": "code",
   "execution_count": null,
   "metadata": {},
   "outputs": [],
   "source": [
    "#Evaluating accuracy scores:\n",
    "\n",
    "from sklearn.metrics import accuracy_score\n",
    "\n",
    "print('Accuracy score for Logistic Regression:', accuracy_score(y_test,logmodel_predictions))\n",
    "print('Accuracy score for Support Vector Machines:', accuracy_score(y_test,svc_predictions))\n",
    "print('Accuracy score for Decision Tree:', accuracy_score(y_test,tree_predictions))"
   ]
  },
  {
   "cell_type": "markdown",
   "metadata": {},
   "source": [
    "### Making a tool to estimate how many backers a project would need"
   ]
  },
  {
   "cell_type": "code",
   "execution_count": null,
   "metadata": {},
   "outputs": [],
   "source": [
    "\n",
    "\n",
    "newlog = LogisticRegression(solver = 'sag')\n",
    "newlog.fit(X_train,y_train)"
   ]
  },
  {
   "cell_type": "code",
   "execution_count": null,
   "metadata": {},
   "outputs": [],
   "source": [
    "X.sample(1)"
   ]
  },
  {
   "cell_type": "code",
   "execution_count": null,
   "metadata": {},
   "outputs": [],
   "source": [
    "newlog.predict_proba(X_test)"
   ]
  },
  {
   "cell_type": "markdown",
   "metadata": {},
   "source": [
    "# 4: Defining a function to predict outcome"
   ]
  },
  {
   "cell_type": "code",
   "execution_count": null,
   "metadata": {},
   "outputs": [],
   "source": [
    "#First create a function that returns the success probability (using logistic regression)\n",
    "\n",
    "def predict_project_success(data):\n",
    "\n",
    "    #Scale data\n",
    "\n",
    "    X_numerical = data[['Days to deadline','usd_goal_real','backers']]\n",
    "    scaled_X = pd.DataFrame(scaler.transform(X_numerical), columns = X_numerical.columns)\n",
    "\n",
    "    scaled_X\n",
    "\n",
    "    #Cluster data\n",
    "\n",
    "    clusters = pd.DataFrame(kmeans.predict(scaled_X), columns = ['Cluster (k=4)'])\n",
    "\n",
    "    # Concatenate categorical and numerical variables\n",
    "\n",
    "    X = pd.concat([scaled_X, \n",
    "                   clusters, \n",
    "                   data[['main_category','country']].reset_index(drop = True)\n",
    "                  ],\n",
    "                   axis = 1,\n",
    "                    )\n",
    "\n",
    "    #Encode X\n",
    "\n",
    "    encoded_X = encoder.transform(X)\n",
    "\n",
    "    encoded_X\n",
    "\n",
    "    #Generate some predictions\n",
    "\n",
    "    return (logmodel.predict_proba(encoded_X)[0][1]) #Probability estimate that project is successful"
   ]
  },
  {
   "cell_type": "code",
   "execution_count": null,
   "metadata": {},
   "outputs": [],
   "source": [
    "#Example of the predict_project_success function:\n",
    "\n",
    "predict_project_success(df.sample(1))"
   ]
  },
  {
   "cell_type": "code",
   "execution_count": null,
   "metadata": {},
   "outputs": [],
   "source": [
    "#Define function to generate a plot of expected data\n",
    "\n",
    "def plot_success_graph(data, max_backers):\n",
    "    probabilities = []\n",
    "    for i in np.arange(0,max_backers,5):\n",
    "        data.loc[:,'backers'] = i\n",
    "        probability_success = predict_project_success(data)\n",
    "        probabilities.append(probability_success)\n",
    "    \n",
    "    plt.figure(figsize = (20,5))\n",
    "    sns.lineplot(y = probabilities,\n",
    "                 x = np.arange(0,max_backers,5))\n",
    "    \n",
    "    plt.show()\n"
   ]
  },
  {
   "cell_type": "code",
   "execution_count": null,
   "metadata": {},
   "outputs": [],
   "source": [
    "#Example of the function on some test data:\n",
    "\n",
    "test_data = df.sample(1)\n",
    "\n",
    "test_input = test_data[['main_category','Days to deadline','usd_goal_real','country']].copy()\n",
    "\n",
    "test_input\n"
   ]
  },
  {
   "cell_type": "code",
   "execution_count": null,
   "metadata": {},
   "outputs": [],
   "source": [
    "#Using the function:\n",
    "\n",
    "plot_success_graph(data = test_input,\n",
    "                   max_backers = 300)"
   ]
  },
  {
   "cell_type": "code",
   "execution_count": null,
   "metadata": {},
   "outputs": [],
   "source": [
    "#Trying a hybrid model of k-means and k-modes for mixed attributes clustering\n",
    "\n",
    "from kmodes.kprototypes import KPrototypes\n",
    "\n",
    "KProt = KPrototypes(n_clusters = 8, #default clusters\n",
    "                    random_state = 42,\n",
    "                    )\n",
    "\n",
    "#Algorithm runs extremely slowly, not sure why\n",
    "\n",
    "#KProt.fit(X.sample(500), categorical = [4])\n",
    "\n",
    "#clusters = KProt.predict(X, categorical = [4])"
   ]
  }
 ],
 "metadata": {
  "kernelspec": {
   "display_name": "Python 3",
   "language": "python",
   "name": "python3"
  },
  "language_info": {
   "codemirror_mode": {
    "name": "ipython",
    "version": 3
   },
   "file_extension": ".py",
   "mimetype": "text/x-python",
   "name": "python",
   "nbconvert_exporter": "python",
   "pygments_lexer": "ipython3",
   "version": "3.8.3"
  }
 },
 "nbformat": 4,
 "nbformat_minor": 4
}
